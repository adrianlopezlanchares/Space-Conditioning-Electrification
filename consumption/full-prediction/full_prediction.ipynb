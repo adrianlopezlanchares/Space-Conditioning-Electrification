{
 "cells": [
  {
   "cell_type": "code",
   "execution_count": 1,
   "metadata": {},
   "outputs": [],
   "source": [
    "import pandas as pd\n",
    "import numpy as np\n",
    "import matplotlib.pyplot as plt\n",
    "import pickle\n",
    "\n",
    "from statsmodels.tsa.arima.model import ARIMA\n",
    "from statsmodels.graphics.tsaplots import plot_acf, plot_pacf\n",
    "\n",
    "import torch\n",
    "import torch.nn as nn\n",
    "from torch.utils.data import Dataset, DataLoader\n",
    "import torch.optim as optim\n",
    "\n",
    "from data_preprocessing import process_resstock_data\n",
    "from models import MLPModel, LinearRegressionModel\n",
    "from pvalues import get_pvalues"
   ]
  },
  {
   "cell_type": "markdown",
   "metadata": {},
   "source": [
    "# Load data"
   ]
  },
  {
   "cell_type": "markdown",
   "metadata": {},
   "source": [
    "### Setpoint timeseries"
   ]
  },
  {
   "cell_type": "code",
   "execution_count": 2,
   "metadata": {},
   "outputs": [],
   "source": [
    "# full_heating_timeseries, full_cooling_timeseries = generate_setpoint_timeseries(\n",
    "#     cooling_start_date = \"2018-06-01\",\n",
    "#     cooling_end_date = \"2018-10-31\",\n",
    "#     combine = False\n",
    "# )"
   ]
  },
  {
   "cell_type": "code",
   "execution_count": 3,
   "metadata": {},
   "outputs": [],
   "source": [
    "# # Save heaitng and cooling timeseries to pickle\n",
    "# with open('/Users/adrian/Documents/ICAI/TFG/Space-Conditioning-Electrification/data/consumption/full_heating_timeseries.pkl', 'wb') as f:\n",
    "#     pickle.dump(full_heating_timeseries, f)\n",
    "# with open('/Users/adrian/Documents/ICAI/TFG/Space-Conditioning-Electrification/data/consumption/full_cooling_timeseries.pkl', 'wb') as f:\n",
    "#     pickle.dump(full_cooling_timeseries, f)"
   ]
  },
  {
   "cell_type": "code",
   "execution_count": 4,
   "metadata": {},
   "outputs": [],
   "source": [
    "# # Load full heating and cooling timeseries\n",
    "# with open('/Users/adrian/Documents/ICAI/TFG/Space-Conditioning-Electrification/data/consumption/full_heating_timeseries.pkl', 'rb') as f:\n",
    "#     full_heating_timeseries = pickle.load(f)\n",
    "# with open('/Users/adrian/Documents/ICAI/TFG/Space-Conditioning-Electrification/data/consumption/full_cooling_timeseries.pkl', 'rb') as f:\n",
    "#     full_cooling_timeseries = pickle.load(f)"
   ]
  },
  {
   "cell_type": "markdown",
   "metadata": {},
   "source": [
    "### Weather data"
   ]
  },
  {
   "cell_type": "code",
   "execution_count": 5,
   "metadata": {},
   "outputs": [],
   "source": [
    "weather_data = pd.read_csv(\"/Users/adrian/Documents/ICAI/TFG/Space-Conditioning-Electrification/data/consumption/G2500170_2018.csv\")"
   ]
  },
  {
   "cell_type": "code",
   "execution_count": 6,
   "metadata": {},
   "outputs": [
    {
     "data": {
      "text/html": [
       "<div>\n",
       "<style scoped>\n",
       "    .dataframe tbody tr th:only-of-type {\n",
       "        vertical-align: middle;\n",
       "    }\n",
       "\n",
       "    .dataframe tbody tr th {\n",
       "        vertical-align: top;\n",
       "    }\n",
       "\n",
       "    .dataframe thead th {\n",
       "        text-align: right;\n",
       "    }\n",
       "</style>\n",
       "<table border=\"1\" class=\"dataframe\">\n",
       "  <thead>\n",
       "    <tr style=\"text-align: right;\">\n",
       "      <th></th>\n",
       "      <th>date_time</th>\n",
       "      <th>Dry Bulb Temperature [°C]</th>\n",
       "      <th>Relative Humidity [%]</th>\n",
       "      <th>Wind Speed [m/s]</th>\n",
       "      <th>Wind Direction [Deg]</th>\n",
       "      <th>Global Horizontal Radiation [W/m2]</th>\n",
       "      <th>Direct Normal Radiation [W/m2]</th>\n",
       "      <th>Diffuse Horizontal Radiation [W/m2]</th>\n",
       "    </tr>\n",
       "  </thead>\n",
       "  <tbody>\n",
       "    <tr>\n",
       "      <th>0</th>\n",
       "      <td>2018-01-01 01:00:00</td>\n",
       "      <td>-17.2</td>\n",
       "      <td>47.00</td>\n",
       "      <td>7.2</td>\n",
       "      <td>310.0</td>\n",
       "      <td>0.0</td>\n",
       "      <td>0.0</td>\n",
       "      <td>0.0</td>\n",
       "    </tr>\n",
       "    <tr>\n",
       "      <th>1</th>\n",
       "      <td>2018-01-01 02:00:00</td>\n",
       "      <td>-17.8</td>\n",
       "      <td>46.83</td>\n",
       "      <td>6.7</td>\n",
       "      <td>300.0</td>\n",
       "      <td>0.0</td>\n",
       "      <td>0.0</td>\n",
       "      <td>0.0</td>\n",
       "    </tr>\n",
       "    <tr>\n",
       "      <th>2</th>\n",
       "      <td>2018-01-01 03:00:00</td>\n",
       "      <td>-18.9</td>\n",
       "      <td>55.19</td>\n",
       "      <td>2.1</td>\n",
       "      <td>260.0</td>\n",
       "      <td>0.0</td>\n",
       "      <td>0.0</td>\n",
       "      <td>0.0</td>\n",
       "    </tr>\n",
       "    <tr>\n",
       "      <th>3</th>\n",
       "      <td>2018-01-01 04:00:00</td>\n",
       "      <td>-18.9</td>\n",
       "      <td>51.97</td>\n",
       "      <td>4.1</td>\n",
       "      <td>280.0</td>\n",
       "      <td>0.0</td>\n",
       "      <td>0.0</td>\n",
       "      <td>0.0</td>\n",
       "    </tr>\n",
       "    <tr>\n",
       "      <th>4</th>\n",
       "      <td>2018-01-01 05:00:00</td>\n",
       "      <td>-19.4</td>\n",
       "      <td>54.51</td>\n",
       "      <td>3.6</td>\n",
       "      <td>280.0</td>\n",
       "      <td>0.0</td>\n",
       "      <td>0.0</td>\n",
       "      <td>0.0</td>\n",
       "    </tr>\n",
       "  </tbody>\n",
       "</table>\n",
       "</div>"
      ],
      "text/plain": [
       "             date_time  Dry Bulb Temperature [°C]  Relative Humidity [%]  \\\n",
       "0  2018-01-01 01:00:00                      -17.2                  47.00   \n",
       "1  2018-01-01 02:00:00                      -17.8                  46.83   \n",
       "2  2018-01-01 03:00:00                      -18.9                  55.19   \n",
       "3  2018-01-01 04:00:00                      -18.9                  51.97   \n",
       "4  2018-01-01 05:00:00                      -19.4                  54.51   \n",
       "\n",
       "   Wind Speed [m/s]  Wind Direction [Deg]  Global Horizontal Radiation [W/m2]  \\\n",
       "0               7.2                 310.0                                 0.0   \n",
       "1               6.7                 300.0                                 0.0   \n",
       "2               2.1                 260.0                                 0.0   \n",
       "3               4.1                 280.0                                 0.0   \n",
       "4               3.6                 280.0                                 0.0   \n",
       "\n",
       "   Direct Normal Radiation [W/m2]  Diffuse Horizontal Radiation [W/m2]  \n",
       "0                             0.0                                  0.0  \n",
       "1                             0.0                                  0.0  \n",
       "2                             0.0                                  0.0  \n",
       "3                             0.0                                  0.0  \n",
       "4                             0.0                                  0.0  "
      ]
     },
     "execution_count": 6,
     "metadata": {},
     "output_type": "execute_result"
    }
   ],
   "source": [
    "weather_data.head()"
   ]
  },
  {
   "cell_type": "markdown",
   "metadata": {},
   "source": [
    "### ResStock"
   ]
  },
  {
   "cell_type": "code",
   "execution_count": 7,
   "metadata": {},
   "outputs": [],
   "source": [
    "resstock = pd.read_parquet(\"/Users/adrian/Documents/ICAI/TFG/Space-Conditioning-Electrification/data/consumption/MA_baseline_metadata_and_annual_results.parquet\")"
   ]
  },
  {
   "cell_type": "markdown",
   "metadata": {},
   "source": [
    "### Building timeseries"
   ]
  },
  {
   "cell_type": "code",
   "execution_count": 8,
   "metadata": {},
   "outputs": [],
   "source": [
    "building_data = pd.read_parquet(\"/Users/adrian/Documents/ICAI/TFG/Space-Conditioning-Electrification/data/consumption/1000-0.parquet\")"
   ]
  },
  {
   "cell_type": "code",
   "execution_count": 9,
   "metadata": {},
   "outputs": [
    {
     "name": "stdout",
     "output_type": "stream",
     "text": [
      "out.outdoor_air_dryblub_temp.c\n",
      "out.zone_mean_air_temp.air_source_heat_pump_airloop_ret_air_zone.c\n",
      "out.zone_mean_air_temp.attic_unvented.c\n",
      "out.zone_mean_air_temp.attic_vented.c\n",
      "out.zone_mean_air_temp.basement_unconditioned.c\n",
      "out.zone_mean_air_temp.central_ac_airloop_ret_air_zone.c\n",
      "out.zone_mean_air_temp.central_ac_and_furnace_airloop_ret_air_zone.c\n",
      "out.zone_mean_air_temp.conditioned_space.c\n",
      "out.zone_mean_air_temp.crawlspace_unvented.c\n",
      "out.zone_mean_air_temp.crawlspace_vented.c\n",
      "out.zone_mean_air_temp.furnace_airloop_ret_air_zone.c\n",
      "out.zone_mean_air_temp.garage.c\n",
      "out.zone_mean_air_temp.ground_source_heat_pump_airloop_ret_air_zone.c\n"
     ]
    }
   ],
   "source": [
    "# loop through each column that containts \"temp\"\n",
    "for col in building_data.columns:\n",
    "    if \"temp\" in col.lower():\n",
    "        print(col)"
   ]
  },
  {
   "cell_type": "code",
   "execution_count": 10,
   "metadata": {},
   "outputs": [
    {
     "data": {
      "text/html": [
       "<div>\n",
       "<style scoped>\n",
       "    .dataframe tbody tr th:only-of-type {\n",
       "        vertical-align: middle;\n",
       "    }\n",
       "\n",
       "    .dataframe tbody tr th {\n",
       "        vertical-align: top;\n",
       "    }\n",
       "\n",
       "    .dataframe thead th {\n",
       "        text-align: right;\n",
       "    }\n",
       "</style>\n",
       "<table border=\"1\" class=\"dataframe\">\n",
       "  <thead>\n",
       "    <tr style=\"text-align: right;\">\n",
       "      <th></th>\n",
       "      <th>out.zone_mean_air_temp.conditioned_space.c</th>\n",
       "      <th>timestamp</th>\n",
       "    </tr>\n",
       "    <tr>\n",
       "      <th>bldg_id</th>\n",
       "      <th></th>\n",
       "      <th></th>\n",
       "    </tr>\n",
       "  </thead>\n",
       "  <tbody>\n",
       "    <tr>\n",
       "      <th>1000</th>\n",
       "      <td>21.662988</td>\n",
       "      <td>2018-01-01 00:15:00</td>\n",
       "    </tr>\n",
       "    <tr>\n",
       "      <th>1000</th>\n",
       "      <td>21.663375</td>\n",
       "      <td>2018-01-01 00:30:00</td>\n",
       "    </tr>\n",
       "    <tr>\n",
       "      <th>1000</th>\n",
       "      <td>21.666023</td>\n",
       "      <td>2018-01-01 00:45:00</td>\n",
       "    </tr>\n",
       "    <tr>\n",
       "      <th>1000</th>\n",
       "      <td>21.662103</td>\n",
       "      <td>2018-01-01 01:00:00</td>\n",
       "    </tr>\n",
       "    <tr>\n",
       "      <th>1000</th>\n",
       "      <td>21.666348</td>\n",
       "      <td>2018-01-01 01:15:00</td>\n",
       "    </tr>\n",
       "  </tbody>\n",
       "</table>\n",
       "</div>"
      ],
      "text/plain": [
       "         out.zone_mean_air_temp.conditioned_space.c           timestamp\n",
       "bldg_id                                                                \n",
       "1000                                      21.662988 2018-01-01 00:15:00\n",
       "1000                                      21.663375 2018-01-01 00:30:00\n",
       "1000                                      21.666023 2018-01-01 00:45:00\n",
       "1000                                      21.662103 2018-01-01 01:00:00\n",
       "1000                                      21.666348 2018-01-01 01:15:00"
      ]
     },
     "execution_count": 10,
     "metadata": {},
     "output_type": "execute_result"
    }
   ],
   "source": [
    "building_data[[\"out.zone_mean_air_temp.conditioned_space.c\", \"timestamp\"]].head()"
   ]
  },
  {
   "cell_type": "code",
   "execution_count": 11,
   "metadata": {},
   "outputs": [
    {
     "data": {
      "image/png": "[encoded data removed]",
      "text/plain": [
       "<Figure size 1000x500 with 1 Axes>"
      ]
     },
     "metadata": {},
     "output_type": "display_data"
    }
   ],
   "source": [
    "plt.figure(figsize=(10, 5))\n",
    "plt.plot(building_data[\"timestamp\"], building_data[\"out.zone_mean_air_temp.conditioned_space.c\"], label='Temperature', color='blue')\n",
    "plt.xlabel('Timestamp')\n",
    "plt.ylabel('Temperature (C)')\n",
    "plt.title(\"out.zone_mean_air_temp.conditioned_space.c\")\n",
    "plt.legend()\n",
    "plt.show()"
   ]
  },
  {
   "cell_type": "code",
   "execution_count": 12,
   "metadata": {},
   "outputs": [
    {
     "data": {
      "text/plain": [
       "'68F'"
      ]
     },
     "execution_count": 12,
     "metadata": {},
     "output_type": "execute_result"
    }
   ],
   "source": [
    "resstock[\"in.cooling_setpoint\"].loc[1000]"
   ]
  },
  {
   "cell_type": "code",
   "execution_count": 13,
   "metadata": {},
   "outputs": [],
   "source": [
    "temp_timeseries = building_data[[\"timestamp\", \"out.zone_mean_air_temp.conditioned_space.c\"]].copy()\n",
    "\n",
    "# Rename columns for clarity\n",
    "temp_timeseries.columns = [\"timestamp\", \"indoor_temp\"]"
   ]
  },
  {
   "cell_type": "markdown",
   "metadata": {},
   "source": [
    "# ResStock transform"
   ]
  },
  {
   "cell_type": "code",
   "execution_count": 14,
   "metadata": {},
   "outputs": [],
   "source": [
    "columns = [\n",
    "    \"in.bedrooms\",              # int\n",
    "    \"in.duct_leakage_and_insulation\",    # Separate into leakage / insulation: X% / (Uniinsulated/R-n)\n",
    "    \"in.duct_location\",         # Places of the house\n",
    "    \"in.geometry_floor_area\",   # 1000-1499, ...\n",
    "    \"in.geometry_stories\",      # int\n",
    "    \"in.geometry_wall_type\",    # Materials\n",
    "    \"in.ground_thermal_conductivity\",   # float\n",
    "    \"in.hvac_has_ducts\",    # Yes / No\n",
    "    \"in.insulation_ceiling\",    # R-n / Uninsulated\n",
    "    \"in.insulation_floor\",      # R-n / Uninsulated\n",
    "    \"in.insulation_foundation_wall\",    # Wall R-n, Exterior\n",
    "    \"in.insulation_roof\",       # Finished / Unfinished, R-n\n",
    "    \"in.insulation_wall\",       # Material, Uninsulated / R-n\n",
    "    \"in.occupants\",         # int\n",
    "    \"in.orientation\",       # North, Northwest...\n",
    "    \"in.roof_material\",     # Material\n",
    "    \"in.sqft\",              # int\n",
    "    \"in.windows\"    # Single/Double/Triple, Low-E/Clear, Metal/Non-metal, Air/Exterior Clear Storm, (L/M-Gain)\n",
    "    \"in.window_areas\",\n",
    "    \"in.vintage\",\n",
    "]"
   ]
  },
  {
   "cell_type": "code",
   "execution_count": 15,
   "metadata": {},
   "outputs": [],
   "source": [
    "columns_processed = [\n",
    "    \"in.bedrooms_processed\",              # int\n",
    "    \"in.duct_leakage_processed\",\n",
    "    \"in.duct_insulation_processed\",    # Separate into leakage / insulation: X% / (Uniinsulated/R-n)\n",
    "    \"in.duct_location_processed\",         # Places of the house\n",
    "    \"in.geometry_floor_area_processed\",   # 1000-1499, ...\n",
    "    \"in.geometry_stories_processed\",      # int\n",
    "    \"in.geometry_wall_type_processed\",    # Materials\n",
    "    \"in.ground_thermal_conductivity_processed\",   # float\n",
    "    \"in.hvac_has_ducts_processed\",    # Yes / No\n",
    "    \"in.insulation_ceiling_processed\",    # R-n / Uninsulated\n",
    "    \"in.insulation_floor_processed\",      # R-n / Uninsulated\n",
    "    \"in.insulation_foundation_wall_processed\",    # Wall R-n, Exterior\n",
    "    \"in.insulation_roof_processed\",       # Finished / Unfinished, R-n\n",
    "    \"in.insulation_wall_processed\",       # Material, Uninsulated / R-n\n",
    "    \"in.occupants_processed\",         # int\n",
    "    \"in.orientation_processed\",       # North, Northwest...\n",
    "    \"in.roof_material_processed\",     # Material\n",
    "    \"in.sqft_processed\",              # int\n",
    "    \"in.windows_processed\", # Single/Double/Triple, Low-E/Clear, Metal/Non-metal, Air/Exterior Clear Storm, (L/M-Gain)\n",
    "    \"in.window_areas_processed\",\n",
    "    \"in.vintage_processed\",\n",
    "    \n",
    "]"
   ]
  },
  {
   "cell_type": "code",
   "execution_count": 16,
   "metadata": {},
   "outputs": [],
   "source": [
    "resstock_processed = process_resstock_data(resstock)"
   ]
  },
  {
   "cell_type": "code",
   "execution_count": 17,
   "metadata": {},
   "outputs": [
    {
     "data": {
      "text/plain": [
       "in.vintage_processed\n",
       "1930    3820\n",
       "1970    1386\n",
       "1950    1312\n",
       "1980    1269\n",
       "1960    1220\n",
       "1990     895\n",
       "2000     825\n",
       "1940     614\n",
       "2010     366\n",
       "Name: count, dtype: int64"
      ]
     },
     "execution_count": 17,
     "metadata": {},
     "output_type": "execute_result"
    }
   ],
   "source": [
    "resstock_processed[\"in.vintage_processed\"].value_counts()"
   ]
  },
  {
   "cell_type": "code",
   "execution_count": 18,
   "metadata": {},
   "outputs": [],
   "source": [
    "usable_resstock = resstock_processed[columns_processed]"
   ]
  },
  {
   "cell_type": "code",
   "execution_count": 19,
   "metadata": {},
   "outputs": [
    {
     "data": {
      "text/html": [
       "<div>\n",
       "<style scoped>\n",
       "    .dataframe tbody tr th:only-of-type {\n",
       "        vertical-align: middle;\n",
       "    }\n",
       "\n",
       "    .dataframe tbody tr th {\n",
       "        vertical-align: top;\n",
       "    }\n",
       "\n",
       "    .dataframe thead th {\n",
       "        text-align: right;\n",
       "    }\n",
       "</style>\n",
       "<table border=\"1\" class=\"dataframe\">\n",
       "  <thead>\n",
       "    <tr style=\"text-align: right;\">\n",
       "      <th></th>\n",
       "      <th>in.bedrooms_processed</th>\n",
       "      <th>in.duct_leakage_processed</th>\n",
       "      <th>in.duct_insulation_processed</th>\n",
       "      <th>in.duct_location_processed</th>\n",
       "      <th>in.geometry_floor_area_processed</th>\n",
       "      <th>in.geometry_stories_processed</th>\n",
       "      <th>in.geometry_wall_type_processed</th>\n",
       "      <th>in.ground_thermal_conductivity_processed</th>\n",
       "      <th>in.hvac_has_ducts_processed</th>\n",
       "      <th>in.insulation_ceiling_processed</th>\n",
       "      <th>...</th>\n",
       "      <th>in.insulation_foundation_wall_processed</th>\n",
       "      <th>in.insulation_roof_processed</th>\n",
       "      <th>in.insulation_wall_processed</th>\n",
       "      <th>in.occupants_processed</th>\n",
       "      <th>in.orientation_processed</th>\n",
       "      <th>in.roof_material_processed</th>\n",
       "      <th>in.sqft_processed</th>\n",
       "      <th>in.windows_processed</th>\n",
       "      <th>in.window_areas_processed</th>\n",
       "      <th>in.vintage_processed</th>\n",
       "    </tr>\n",
       "    <tr>\n",
       "      <th>bldg_id</th>\n",
       "      <th></th>\n",
       "      <th></th>\n",
       "      <th></th>\n",
       "      <th></th>\n",
       "      <th></th>\n",
       "      <th></th>\n",
       "      <th></th>\n",
       "      <th></th>\n",
       "      <th></th>\n",
       "      <th></th>\n",
       "      <th></th>\n",
       "      <th></th>\n",
       "      <th></th>\n",
       "      <th></th>\n",
       "      <th></th>\n",
       "      <th></th>\n",
       "      <th></th>\n",
       "      <th></th>\n",
       "      <th></th>\n",
       "      <th></th>\n",
       "      <th></th>\n",
       "    </tr>\n",
       "  </thead>\n",
       "  <tbody>\n",
       "    <tr>\n",
       "      <th>10</th>\n",
       "      <td>3</td>\n",
       "      <td>10</td>\n",
       "      <td>0</td>\n",
       "      <td>4</td>\n",
       "      <td>1749</td>\n",
       "      <td>1</td>\n",
       "      <td>1</td>\n",
       "      <td>1.4</td>\n",
       "      <td>1</td>\n",
       "      <td>5</td>\n",
       "      <td>...</td>\n",
       "      <td>1</td>\n",
       "      <td>0</td>\n",
       "      <td>0</td>\n",
       "      <td>6</td>\n",
       "      <td>1</td>\n",
       "      <td>3</td>\n",
       "      <td>1228</td>\n",
       "      <td>2</td>\n",
       "      <td>18</td>\n",
       "      <td>1950</td>\n",
       "    </tr>\n",
       "    <tr>\n",
       "      <th>122</th>\n",
       "      <td>1</td>\n",
       "      <td>0</td>\n",
       "      <td>0</td>\n",
       "      <td>0</td>\n",
       "      <td>874</td>\n",
       "      <td>5</td>\n",
       "      <td>1</td>\n",
       "      <td>1.4</td>\n",
       "      <td>0</td>\n",
       "      <td>0</td>\n",
       "      <td>...</td>\n",
       "      <td>1</td>\n",
       "      <td>6</td>\n",
       "      <td>0</td>\n",
       "      <td>1</td>\n",
       "      <td>5</td>\n",
       "      <td>0</td>\n",
       "      <td>623</td>\n",
       "      <td>2</td>\n",
       "      <td>18</td>\n",
       "      <td>1950</td>\n",
       "    </tr>\n",
       "    <tr>\n",
       "      <th>129</th>\n",
       "      <td>1</td>\n",
       "      <td>0</td>\n",
       "      <td>0</td>\n",
       "      <td>0</td>\n",
       "      <td>874</td>\n",
       "      <td>2</td>\n",
       "      <td>2</td>\n",
       "      <td>1.1</td>\n",
       "      <td>0</td>\n",
       "      <td>0</td>\n",
       "      <td>...</td>\n",
       "      <td>1</td>\n",
       "      <td>5</td>\n",
       "      <td>1</td>\n",
       "      <td>1</td>\n",
       "      <td>4</td>\n",
       "      <td>0</td>\n",
       "      <td>623</td>\n",
       "      <td>1</td>\n",
       "      <td>15</td>\n",
       "      <td>1970</td>\n",
       "    </tr>\n",
       "    <tr>\n",
       "      <th>150</th>\n",
       "      <td>2</td>\n",
       "      <td>0</td>\n",
       "      <td>0</td>\n",
       "      <td>0</td>\n",
       "      <td>1749</td>\n",
       "      <td>3</td>\n",
       "      <td>1</td>\n",
       "      <td>1.1</td>\n",
       "      <td>0</td>\n",
       "      <td>0</td>\n",
       "      <td>...</td>\n",
       "      <td>0</td>\n",
       "      <td>3</td>\n",
       "      <td>4</td>\n",
       "      <td>1</td>\n",
       "      <td>3</td>\n",
       "      <td>0</td>\n",
       "      <td>1138</td>\n",
       "      <td>2</td>\n",
       "      <td>15</td>\n",
       "      <td>2000</td>\n",
       "    </tr>\n",
       "    <tr>\n",
       "      <th>183</th>\n",
       "      <td>3</td>\n",
       "      <td>0</td>\n",
       "      <td>0</td>\n",
       "      <td>0</td>\n",
       "      <td>1749</td>\n",
       "      <td>1</td>\n",
       "      <td>1</td>\n",
       "      <td>1.4</td>\n",
       "      <td>0</td>\n",
       "      <td>1</td>\n",
       "      <td>...</td>\n",
       "      <td>1</td>\n",
       "      <td>0</td>\n",
       "      <td>0</td>\n",
       "      <td>2</td>\n",
       "      <td>3</td>\n",
       "      <td>1</td>\n",
       "      <td>1228</td>\n",
       "      <td>2</td>\n",
       "      <td>18</td>\n",
       "      <td>1930</td>\n",
       "    </tr>\n",
       "  </tbody>\n",
       "</table>\n",
       "<p>5 rows × 21 columns</p>\n",
       "</div>"
      ],
      "text/plain": [
       "         in.bedrooms_processed  in.duct_leakage_processed  \\\n",
       "bldg_id                                                     \n",
       "10                           3                         10   \n",
       "122                          1                          0   \n",
       "129                          1                          0   \n",
       "150                          2                          0   \n",
       "183                          3                          0   \n",
       "\n",
       "         in.duct_insulation_processed  in.duct_location_processed  \\\n",
       "bldg_id                                                             \n",
       "10                                  0                           4   \n",
       "122                                 0                           0   \n",
       "129                                 0                           0   \n",
       "150                                 0                           0   \n",
       "183                                 0                           0   \n",
       "\n",
       "         in.geometry_floor_area_processed  in.geometry_stories_processed  \\\n",
       "bldg_id                                                                    \n",
       "10                                   1749                              1   \n",
       "122                                   874                              5   \n",
       "129                                   874                              2   \n",
       "150                                  1749                              3   \n",
       "183                                  1749                              1   \n",
       "\n",
       "         in.geometry_wall_type_processed  \\\n",
       "bldg_id                                    \n",
       "10                                     1   \n",
       "122                                    1   \n",
       "129                                    2   \n",
       "150                                    1   \n",
       "183                                    1   \n",
       "\n",
       "         in.ground_thermal_conductivity_processed  \\\n",
       "bldg_id                                             \n",
       "10                                            1.4   \n",
       "122                                           1.4   \n",
       "129                                           1.1   \n",
       "150                                           1.1   \n",
       "183                                           1.4   \n",
       "\n",
       "         in.hvac_has_ducts_processed  in.insulation_ceiling_processed  ...  \\\n",
       "bldg_id                                                                ...   \n",
       "10                                 1                                5  ...   \n",
       "122                                0                                0  ...   \n",
       "129                                0                                0  ...   \n",
       "150                                0                                0  ...   \n",
       "183                                0                                1  ...   \n",
       "\n",
       "         in.insulation_foundation_wall_processed  \\\n",
       "bldg_id                                            \n",
       "10                                             1   \n",
       "122                                            1   \n",
       "129                                            1   \n",
       "150                                            0   \n",
       "183                                            1   \n",
       "\n",
       "         in.insulation_roof_processed  in.insulation_wall_processed  \\\n",
       "bldg_id                                                               \n",
       "10                                  0                             0   \n",
       "122                                 6                             0   \n",
       "129                                 5                             1   \n",
       "150                                 3                             4   \n",
       "183                                 0                             0   \n",
       "\n",
       "         in.occupants_processed  in.orientation_processed  \\\n",
       "bldg_id                                                     \n",
       "10                            6                         1   \n",
       "122                           1                         5   \n",
       "129                           1                         4   \n",
       "150                           1                         3   \n",
       "183                           2                         3   \n",
       "\n",
       "         in.roof_material_processed  in.sqft_processed  in.windows_processed  \\\n",
       "bldg_id                                                                        \n",
       "10                                3               1228                     2   \n",
       "122                               0                623                     2   \n",
       "129                               0                623                     1   \n",
       "150                               0               1138                     2   \n",
       "183                               1               1228                     2   \n",
       "\n",
       "         in.window_areas_processed  in.vintage_processed  \n",
       "bldg_id                                                   \n",
       "10                              18                  1950  \n",
       "122                             18                  1950  \n",
       "129                             15                  1970  \n",
       "150                             15                  2000  \n",
       "183                             18                  1930  \n",
       "\n",
       "[5 rows x 21 columns]"
      ]
     },
     "execution_count": 19,
     "metadata": {},
     "output_type": "execute_result"
    }
   ],
   "source": [
    "usable_resstock.head()"
   ]
  },
  {
   "cell_type": "code",
   "execution_count": 20,
   "metadata": {},
   "outputs": [],
   "source": [
    "building_resstock = np.array(usable_resstock.loc[1000])"
   ]
  },
  {
   "cell_type": "code",
   "execution_count": 21,
   "metadata": {},
   "outputs": [
    {
     "data": {
      "text/plain": [
       "array([3.000e+00, 0.000e+00, 0.000e+00, 0.000e+00, 2.499e+03, 1.000e+00,\n",
       "       2.000e+00, 1.400e+00, 0.000e+00, 0.000e+00, 1.000e+00, 1.000e+00,\n",
       "       5.000e+00, 0.000e+00, 3.000e+00, 0.000e+00, 0.000e+00, 1.682e+03,\n",
       "       2.000e+00, 1.500e+01, 1.930e+03])"
      ]
     },
     "execution_count": 21,
     "metadata": {},
     "output_type": "execute_result"
    }
   ],
   "source": [
    "building_resstock"
   ]
  },
  {
   "cell_type": "markdown",
   "metadata": {},
   "source": [
    "# Transform data"
   ]
  },
  {
   "cell_type": "code",
   "execution_count": 22,
   "metadata": {},
   "outputs": [],
   "source": [
    "def get_cols(building_data: pd.DataFrame, building_id: int) -> str:\n",
    "\n",
    "    try:\n",
    "        building = building_data.loc[building_id]\n",
    "    except:\n",
    "        raise ValueError(\"Building ID not found in the dataset\")\n",
    "\n",
    "    match building[\"in.heating_fuel\"]:\n",
    "        case  \"Natural Gas\":\n",
    "            return \"out.natural_gas.heating.energy_consumption\"\n",
    "        case \"Electricity\":\n",
    "            return \"out.electricity.heating.energy_consumption\"\n",
    "        case \"Fuel Oil\":\n",
    "            return \"out.fuel_oil.heating.energy_consumption\"\n",
    "        case \"Propane\":\n",
    "            return \"out.propane.heating.energy_consumption\"\n",
    "        case _:\n",
    "            return \"out.electricity.heating.energy_consumption\""
   ]
  },
  {
   "cell_type": "code",
   "execution_count": 23,
   "metadata": {},
   "outputs": [
    {
     "data": {
      "text/plain": [
       "Index(['date_time', 'Dry Bulb Temperature [°C]', 'Relative Humidity [%]',\n",
       "       'Wind Speed [m/s]', 'Wind Direction [Deg]',\n",
       "       'Global Horizontal Radiation [W/m2]', 'Direct Normal Radiation [W/m2]',\n",
       "       'Diffuse Horizontal Radiation [W/m2]'],\n",
       "      dtype='object')"
      ]
     },
     "execution_count": 23,
     "metadata": {},
     "output_type": "execute_result"
    }
   ],
   "source": [
    "weather_data.columns"
   ]
  },
  {
   "cell_type": "code",
   "execution_count": 24,
   "metadata": {},
   "outputs": [
    {
     "data": {
      "text/html": [
       "<div>\n",
       "<style scoped>\n",
       "    .dataframe tbody tr th:only-of-type {\n",
       "        vertical-align: middle;\n",
       "    }\n",
       "\n",
       "    .dataframe tbody tr th {\n",
       "        vertical-align: top;\n",
       "    }\n",
       "\n",
       "    .dataframe thead th {\n",
       "        text-align: right;\n",
       "    }\n",
       "</style>\n",
       "<table border=\"1\" class=\"dataframe\">\n",
       "  <thead>\n",
       "    <tr style=\"text-align: right;\">\n",
       "      <th></th>\n",
       "      <th>date_time</th>\n",
       "      <th>Dry Bulb Temperature [°C]</th>\n",
       "      <th>Relative Humidity [%]</th>\n",
       "      <th>Wind Speed [m/s]</th>\n",
       "      <th>Wind Direction [Deg]</th>\n",
       "      <th>Global Horizontal Radiation [W/m2]</th>\n",
       "      <th>Direct Normal Radiation [W/m2]</th>\n",
       "      <th>Diffuse Horizontal Radiation [W/m2]</th>\n",
       "    </tr>\n",
       "  </thead>\n",
       "  <tbody>\n",
       "    <tr>\n",
       "      <th>0</th>\n",
       "      <td>2018-01-01 01:00:00</td>\n",
       "      <td>-17.2</td>\n",
       "      <td>47.00</td>\n",
       "      <td>7.2</td>\n",
       "      <td>310.0</td>\n",
       "      <td>0.0</td>\n",
       "      <td>0.0</td>\n",
       "      <td>0.0</td>\n",
       "    </tr>\n",
       "    <tr>\n",
       "      <th>1</th>\n",
       "      <td>2018-01-01 02:00:00</td>\n",
       "      <td>-17.8</td>\n",
       "      <td>46.83</td>\n",
       "      <td>6.7</td>\n",
       "      <td>300.0</td>\n",
       "      <td>0.0</td>\n",
       "      <td>0.0</td>\n",
       "      <td>0.0</td>\n",
       "    </tr>\n",
       "    <tr>\n",
       "      <th>2</th>\n",
       "      <td>2018-01-01 03:00:00</td>\n",
       "      <td>-18.9</td>\n",
       "      <td>55.19</td>\n",
       "      <td>2.1</td>\n",
       "      <td>260.0</td>\n",
       "      <td>0.0</td>\n",
       "      <td>0.0</td>\n",
       "      <td>0.0</td>\n",
       "    </tr>\n",
       "    <tr>\n",
       "      <th>3</th>\n",
       "      <td>2018-01-01 04:00:00</td>\n",
       "      <td>-18.9</td>\n",
       "      <td>51.97</td>\n",
       "      <td>4.1</td>\n",
       "      <td>280.0</td>\n",
       "      <td>0.0</td>\n",
       "      <td>0.0</td>\n",
       "      <td>0.0</td>\n",
       "    </tr>\n",
       "    <tr>\n",
       "      <th>4</th>\n",
       "      <td>2018-01-01 05:00:00</td>\n",
       "      <td>-19.4</td>\n",
       "      <td>54.51</td>\n",
       "      <td>3.6</td>\n",
       "      <td>280.0</td>\n",
       "      <td>0.0</td>\n",
       "      <td>0.0</td>\n",
       "      <td>0.0</td>\n",
       "    </tr>\n",
       "  </tbody>\n",
       "</table>\n",
       "</div>"
      ],
      "text/plain": [
       "             date_time  Dry Bulb Temperature [°C]  Relative Humidity [%]  \\\n",
       "0  2018-01-01 01:00:00                      -17.2                  47.00   \n",
       "1  2018-01-01 02:00:00                      -17.8                  46.83   \n",
       "2  2018-01-01 03:00:00                      -18.9                  55.19   \n",
       "3  2018-01-01 04:00:00                      -18.9                  51.97   \n",
       "4  2018-01-01 05:00:00                      -19.4                  54.51   \n",
       "\n",
       "   Wind Speed [m/s]  Wind Direction [Deg]  Global Horizontal Radiation [W/m2]  \\\n",
       "0               7.2                 310.0                                 0.0   \n",
       "1               6.7                 300.0                                 0.0   \n",
       "2               2.1                 260.0                                 0.0   \n",
       "3               4.1                 280.0                                 0.0   \n",
       "4               3.6                 280.0                                 0.0   \n",
       "\n",
       "   Direct Normal Radiation [W/m2]  Diffuse Horizontal Radiation [W/m2]  \n",
       "0                             0.0                                  0.0  \n",
       "1                             0.0                                  0.0  \n",
       "2                             0.0                                  0.0  \n",
       "3                             0.0                                  0.0  \n",
       "4                             0.0                                  0.0  "
      ]
     },
     "execution_count": 24,
     "metadata": {},
     "output_type": "execute_result"
    }
   ],
   "source": [
    "weather_data.head()"
   ]
  },
  {
   "cell_type": "code",
   "execution_count": 25,
   "metadata": {},
   "outputs": [],
   "source": [
    "# Change date time column name to timestamp\n",
    "weather_data.rename(columns={'date_time': \"timestamp\"}, inplace=True)\n",
    "weather_data.set_index('timestamp', inplace=True)\n",
    "weather_data.index = pd.to_datetime(weather_data.index)\n",
    "\n",
    "# Delete all columns except dry bulb temperature\n",
    "weather_data = weather_data[[\"Dry Bulb Temperature [°C]\", \"Direct Normal Radiation [W/m2]\"]]\n",
    "weather_data.rename(columns={\"Dry Bulb Temperature [°C]\": \"temperature\"}, inplace=True)\n",
    "\n",
    "# Create an entry for 2018-01-01 00:00:00\n",
    "new_row = pd.DataFrame({'temperature': weather_data.iloc[0]['temperature']}, index=[pd.to_datetime('2018-01-01 00:00:00')])\n",
    "weather_data = pd.concat([new_row, weather_data])\n",
    "\n",
    "# Remove last 19 rows\n",
    "weather_data = weather_data[:-24]"
   ]
  },
  {
   "cell_type": "code",
   "execution_count": 26,
   "metadata": {},
   "outputs": [],
   "source": [
    "weather_data.bfill(inplace=True)\n",
    "weather_data.ffill(inplace=True)"
   ]
  },
  {
   "cell_type": "code",
   "execution_count": 27,
   "metadata": {},
   "outputs": [],
   "source": [
    "building_id = 1000"
   ]
  },
  {
   "cell_type": "code",
   "execution_count": 28,
   "metadata": {},
   "outputs": [
    {
     "name": "stderr",
     "output_type": "stream",
     "text": [
      "/var/folders/bw/4qyc6pj92bdb1bv22yhll2zw0000gn/T/ipykernel_5148/3969840236.py:5: SettingWithCopyWarning: \n",
      "A value is trying to be set on a copy of a slice from a DataFrame.\n",
      "Try using .loc[row_indexer,col_indexer] = value instead\n",
      "\n",
      "See the caveats in the documentation: https://pandas.pydata.org/pandas-docs/stable/user_guide/indexing.html#returning-a-view-versus-a-copy\n",
      "  consumption_timeseries[\"timestamp\"] = pd.to_datetime(consumption_timeseries[\"timestamp\"])\n",
      "/var/folders/bw/4qyc6pj92bdb1bv22yhll2zw0000gn/T/ipykernel_5148/3969840236.py:7: FutureWarning: 'H' is deprecated and will be removed in a future version, please use 'h' instead.\n",
      "  consumption_timeseries = consumption_timeseries.resample(\"H\").mean()\n"
     ]
    }
   ],
   "source": [
    "col_to_use = get_cols(resstock, building_id)\n",
    "consumption_timeseries = building_data[[\"timestamp\", col_to_use]]\n",
    "\n",
    "# Resample to hourly data\n",
    "consumption_timeseries[\"timestamp\"] = pd.to_datetime(consumption_timeseries[\"timestamp\"])\n",
    "consumption_timeseries.set_index(\"timestamp\", inplace=True)\n",
    "consumption_timeseries = consumption_timeseries.resample(\"H\").mean()\n",
    "consumption_timeseries = consumption_timeseries[col_to_use]\n",
    "\n",
    "consumption_timeseries = consumption_timeseries[:-24]\n",
    "\n",
    "# Turn into dataframe\n",
    "consumption_timeseries = pd.DataFrame(consumption_timeseries)\n",
    "consumption_timeseries.rename(columns={col_to_use: \"consumption\"}, inplace=True)"
   ]
  },
  {
   "cell_type": "code",
   "execution_count": 29,
   "metadata": {},
   "outputs": [],
   "source": [
    "exog_variables = pd.merge(\n",
    "    consumption_timeseries,\n",
    "    weather_data,\n",
    "    left_index=True,\n",
    "    right_index=True,\n",
    ")"
   ]
  },
  {
   "cell_type": "code",
   "execution_count": 30,
   "metadata": {},
   "outputs": [
    {
     "data": {
      "text/html": [
       "<div>\n",
       "<style scoped>\n",
       "    .dataframe tbody tr th:only-of-type {\n",
       "        vertical-align: middle;\n",
       "    }\n",
       "\n",
       "    .dataframe tbody tr th {\n",
       "        vertical-align: top;\n",
       "    }\n",
       "\n",
       "    .dataframe thead th {\n",
       "        text-align: right;\n",
       "    }\n",
       "</style>\n",
       "<table border=\"1\" class=\"dataframe\">\n",
       "  <thead>\n",
       "    <tr style=\"text-align: right;\">\n",
       "      <th></th>\n",
       "      <th>consumption</th>\n",
       "      <th>temperature</th>\n",
       "      <th>Direct Normal Radiation [W/m2]</th>\n",
       "    </tr>\n",
       "    <tr>\n",
       "      <th>timestamp</th>\n",
       "      <th></th>\n",
       "      <th></th>\n",
       "      <th></th>\n",
       "    </tr>\n",
       "  </thead>\n",
       "  <tbody>\n",
       "    <tr>\n",
       "      <th>2018-01-01 00:00:00</th>\n",
       "      <td>4.691970</td>\n",
       "      <td>-17.2</td>\n",
       "      <td>0.0</td>\n",
       "    </tr>\n",
       "    <tr>\n",
       "      <th>2018-01-01 01:00:00</th>\n",
       "      <td>5.008804</td>\n",
       "      <td>-17.2</td>\n",
       "      <td>0.0</td>\n",
       "    </tr>\n",
       "    <tr>\n",
       "      <th>2018-01-01 02:00:00</th>\n",
       "      <td>4.799112</td>\n",
       "      <td>-17.8</td>\n",
       "      <td>0.0</td>\n",
       "    </tr>\n",
       "    <tr>\n",
       "      <th>2018-01-01 03:00:00</th>\n",
       "      <td>4.963452</td>\n",
       "      <td>-18.9</td>\n",
       "      <td>0.0</td>\n",
       "    </tr>\n",
       "    <tr>\n",
       "      <th>2018-01-01 04:00:00</th>\n",
       "      <td>5.047929</td>\n",
       "      <td>-18.9</td>\n",
       "      <td>0.0</td>\n",
       "    </tr>\n",
       "  </tbody>\n",
       "</table>\n",
       "</div>"
      ],
      "text/plain": [
       "                     consumption  temperature  Direct Normal Radiation [W/m2]\n",
       "timestamp                                                                    \n",
       "2018-01-01 00:00:00     4.691970        -17.2                             0.0\n",
       "2018-01-01 01:00:00     5.008804        -17.2                             0.0\n",
       "2018-01-01 02:00:00     4.799112        -17.8                             0.0\n",
       "2018-01-01 03:00:00     4.963452        -18.9                             0.0\n",
       "2018-01-01 04:00:00     5.047929        -18.9                             0.0"
      ]
     },
     "execution_count": 30,
     "metadata": {},
     "output_type": "execute_result"
    }
   ],
   "source": [
    "exog_variables.head()"
   ]
  },
  {
   "cell_type": "markdown",
   "metadata": {},
   "source": [
    "# Data Plot"
   ]
  },
  {
   "cell_type": "code",
   "execution_count": 31,
   "metadata": {},
   "outputs": [],
   "source": [
    "train_size = 0.8\n",
    "endog_train = temp_timeseries[:int(train_size * len(temp_timeseries))]\n",
    "endog_test = temp_timeseries[int(train_size * len(temp_timeseries)):]\n",
    "\n",
    "exog_train = exog_variables[:int(train_size * len(exog_variables))]\n",
    "exog_test = exog_variables[int(train_size * len(exog_variables)):]\n",
    "\n",
    "endog_train.set_index(\"timestamp\", inplace=True)\n",
    "endog_test.set_index(\"timestamp\", inplace=True)"
   ]
  },
  {
   "cell_type": "code",
   "execution_count": 32,
   "metadata": {},
   "outputs": [
    {
     "data": {
      "text/html": [
       "<div>\n",
       "<style scoped>\n",
       "    .dataframe tbody tr th:only-of-type {\n",
       "        vertical-align: middle;\n",
       "    }\n",
       "\n",
       "    .dataframe tbody tr th {\n",
       "        vertical-align: top;\n",
       "    }\n",
       "\n",
       "    .dataframe thead th {\n",
       "        text-align: right;\n",
       "    }\n",
       "</style>\n",
       "<table border=\"1\" class=\"dataframe\">\n",
       "  <thead>\n",
       "    <tr style=\"text-align: right;\">\n",
       "      <th></th>\n",
       "      <th>consumption</th>\n",
       "      <th>temperature</th>\n",
       "      <th>Direct Normal Radiation [W/m2]</th>\n",
       "    </tr>\n",
       "    <tr>\n",
       "      <th>timestamp</th>\n",
       "      <th></th>\n",
       "      <th></th>\n",
       "      <th></th>\n",
       "    </tr>\n",
       "  </thead>\n",
       "  <tbody>\n",
       "    <tr>\n",
       "      <th>2018-01-01 00:00:00</th>\n",
       "      <td>4.691970</td>\n",
       "      <td>-17.2</td>\n",
       "      <td>0.0</td>\n",
       "    </tr>\n",
       "    <tr>\n",
       "      <th>2018-01-01 01:00:00</th>\n",
       "      <td>5.008804</td>\n",
       "      <td>-17.2</td>\n",
       "      <td>0.0</td>\n",
       "    </tr>\n",
       "    <tr>\n",
       "      <th>2018-01-01 02:00:00</th>\n",
       "      <td>4.799112</td>\n",
       "      <td>-17.8</td>\n",
       "      <td>0.0</td>\n",
       "    </tr>\n",
       "    <tr>\n",
       "      <th>2018-01-01 03:00:00</th>\n",
       "      <td>4.963452</td>\n",
       "      <td>-18.9</td>\n",
       "      <td>0.0</td>\n",
       "    </tr>\n",
       "    <tr>\n",
       "      <th>2018-01-01 04:00:00</th>\n",
       "      <td>5.047929</td>\n",
       "      <td>-18.9</td>\n",
       "      <td>0.0</td>\n",
       "    </tr>\n",
       "  </tbody>\n",
       "</table>\n",
       "</div>"
      ],
      "text/plain": [
       "                     consumption  temperature  Direct Normal Radiation [W/m2]\n",
       "timestamp                                                                    \n",
       "2018-01-01 00:00:00     4.691970        -17.2                             0.0\n",
       "2018-01-01 01:00:00     5.008804        -17.2                             0.0\n",
       "2018-01-01 02:00:00     4.799112        -17.8                             0.0\n",
       "2018-01-01 03:00:00     4.963452        -18.9                             0.0\n",
       "2018-01-01 04:00:00     5.047929        -18.9                             0.0"
      ]
     },
     "execution_count": 32,
     "metadata": {},
     "output_type": "execute_result"
    }
   ],
   "source": [
    "exog_train.head()"
   ]
  },
  {
   "cell_type": "code",
   "execution_count": 33,
   "metadata": {},
   "outputs": [
    {
     "data": {
      "text/html": [
       "<div>\n",
       "<style scoped>\n",
       "    .dataframe tbody tr th:only-of-type {\n",
       "        vertical-align: middle;\n",
       "    }\n",
       "\n",
       "    .dataframe tbody tr th {\n",
       "        vertical-align: top;\n",
       "    }\n",
       "\n",
       "    .dataframe thead th {\n",
       "        text-align: right;\n",
       "    }\n",
       "</style>\n",
       "<table border=\"1\" class=\"dataframe\">\n",
       "  <thead>\n",
       "    <tr style=\"text-align: right;\">\n",
       "      <th></th>\n",
       "      <th>indoor_temp</th>\n",
       "    </tr>\n",
       "    <tr>\n",
       "      <th>timestamp</th>\n",
       "      <th></th>\n",
       "    </tr>\n",
       "  </thead>\n",
       "  <tbody>\n",
       "    <tr>\n",
       "      <th>2018-01-01 00:15:00</th>\n",
       "      <td>21.662988</td>\n",
       "    </tr>\n",
       "    <tr>\n",
       "      <th>2018-01-01 00:30:00</th>\n",
       "      <td>21.663375</td>\n",
       "    </tr>\n",
       "    <tr>\n",
       "      <th>2018-01-01 00:45:00</th>\n",
       "      <td>21.666023</td>\n",
       "    </tr>\n",
       "    <tr>\n",
       "      <th>2018-01-01 01:00:00</th>\n",
       "      <td>21.662103</td>\n",
       "    </tr>\n",
       "    <tr>\n",
       "      <th>2018-01-01 01:15:00</th>\n",
       "      <td>21.666348</td>\n",
       "    </tr>\n",
       "    <tr>\n",
       "      <th>2018-01-01 01:30:00</th>\n",
       "      <td>21.663899</td>\n",
       "    </tr>\n",
       "    <tr>\n",
       "      <th>2018-01-01 01:45:00</th>\n",
       "      <td>21.664022</td>\n",
       "    </tr>\n",
       "    <tr>\n",
       "      <th>2018-01-01 02:00:00</th>\n",
       "      <td>21.667390</td>\n",
       "    </tr>\n",
       "    <tr>\n",
       "      <th>2018-01-01 02:15:00</th>\n",
       "      <td>21.669242</td>\n",
       "    </tr>\n",
       "    <tr>\n",
       "      <th>2018-01-01 02:30:00</th>\n",
       "      <td>21.663300</td>\n",
       "    </tr>\n",
       "  </tbody>\n",
       "</table>\n",
       "</div>"
      ],
      "text/plain": [
       "                     indoor_temp\n",
       "timestamp                       \n",
       "2018-01-01 00:15:00    21.662988\n",
       "2018-01-01 00:30:00    21.663375\n",
       "2018-01-01 00:45:00    21.666023\n",
       "2018-01-01 01:00:00    21.662103\n",
       "2018-01-01 01:15:00    21.666348\n",
       "2018-01-01 01:30:00    21.663899\n",
       "2018-01-01 01:45:00    21.664022\n",
       "2018-01-01 02:00:00    21.667390\n",
       "2018-01-01 02:15:00    21.669242\n",
       "2018-01-01 02:30:00    21.663300"
      ]
     },
     "execution_count": 33,
     "metadata": {},
     "output_type": "execute_result"
    }
   ],
   "source": [
    "endog_train.head(10)"
   ]
  },
  {
   "cell_type": "code",
   "execution_count": 34,
   "metadata": {},
   "outputs": [
    {
     "data": {
      "image/png": "[encoded data removed]",
      "text/plain": [
       "<Figure size 1000x500 with 1 Axes>"
      ]
     },
     "metadata": {},
     "output_type": "display_data"
    }
   ],
   "source": [
    "# Plot the training and test sets\n",
    "plt.figure(figsize=(10, 5))\n",
    "plt.plot(endog_train.index, endog_train[\"indoor_temp\"], label=\"Train\")\n",
    "plt.plot(endog_test.index, endog_test[\"indoor_temp\"], label=\"Test\")\n",
    "plt.title(\"Train and Test Sets\")\n",
    "plt.xlabel(\"Date\")\n",
    "plt.ylabel(\"Setpoint Value\")\n",
    "plt.legend()\n",
    "plt.xticks(rotation=45)\n",
    "plt.tight_layout()\n",
    "plt.show()"
   ]
  },
  {
   "cell_type": "markdown",
   "metadata": {},
   "source": [
    "# Train and evaluate fns"
   ]
  },
  {
   "cell_type": "code",
   "execution_count": 35,
   "metadata": {},
   "outputs": [],
   "source": [
    "# Training function\n",
    "def train(model, train_loader, criterion, optimizer, num_epochs):\n",
    "    model.train()\n",
    "    for epoch in range(num_epochs):\n",
    "        running_loss = 0.0\n",
    "        for sequences, labels in train_loader:\n",
    "            # Zero gradients\n",
    "            optimizer.zero_grad()\n",
    "            \n",
    "            # Forward pass\n",
    "            outputs = model(sequences)\n",
    "            loss = criterion(outputs, labels)  # Unsqueeze labels to match output dim\n",
    "            \n",
    "            # Backward pass and optimization\n",
    "            loss.backward()\n",
    "            optimizer.step()\n",
    "            \n",
    "            running_loss += loss.item()\n",
    "        \n",
    "        print(f'Epoch {epoch+1}/{num_epochs}, Loss: {running_loss/len(train_loader):.4f}')"
   ]
  },
  {
   "cell_type": "code",
   "execution_count": 36,
   "metadata": {},
   "outputs": [],
   "source": [
    "# Predict\n",
    "def evaluate(model, test_loader):\n",
    "    model.eval()\n",
    "    predictions = []\n",
    "    actuals = []\n",
    "    with torch.no_grad():\n",
    "        for sequences, labels in test_loader:\n",
    "            outputs = model(sequences)\n",
    "            predictions.append(outputs.numpy())\n",
    "            actuals.append(labels.numpy())\n",
    "    return np.concatenate(predictions), np.concatenate(actuals)"
   ]
  },
  {
   "cell_type": "markdown",
   "metadata": {},
   "source": [
    "# MLP"
   ]
  },
  {
   "cell_type": "code",
   "execution_count": 37,
   "metadata": {},
   "outputs": [],
   "source": [
    "# input_size = 69\n",
    "# hidden_size_1 = 64\n",
    "# hidden_size_2 = 32\n",
    "# output_size = 1"
   ]
  },
  {
   "cell_type": "code",
   "execution_count": 38,
   "metadata": {},
   "outputs": [],
   "source": [
    "# heating_model = MLPModel(\n",
    "#     input_size, \n",
    "#     hidden_size_1=hidden_size_1, \n",
    "#     hidden_size_2=hidden_size_2,\n",
    "#     output_size=output_size)"
   ]
  },
  {
   "cell_type": "code",
   "execution_count": 39,
   "metadata": {},
   "outputs": [],
   "source": [
    "# # Loss and optimizer\n",
    "# heating_criterion = nn.MSELoss()\n",
    "# heating_optimizer = optim.Adam(heating_model.parameters(), lr=0.0001)"
   ]
  },
  {
   "cell_type": "markdown",
   "metadata": {},
   "source": [
    "## Heating"
   ]
  },
  {
   "cell_type": "code",
   "execution_count": 40,
   "metadata": {},
   "outputs": [],
   "source": [
    "# num_epochs = 100\n",
    "# train(heating_model, heating_train_loader, heating_criterion, heating_optimizer, num_epochs)"
   ]
  },
  {
   "cell_type": "code",
   "execution_count": 41,
   "metadata": {},
   "outputs": [],
   "source": [
    "# # Predict\n",
    "# heating_predictions, heating_actuals = evaluate(heating_model, heating_test_loader)"
   ]
  },
  {
   "cell_type": "code",
   "execution_count": 42,
   "metadata": {},
   "outputs": [],
   "source": [
    "# # Plot train, test and predictions\n",
    "# plt.figure(figsize=(10, 5))\n",
    "# plt.plot(heating_train_timeseries.index, heating_train_timeseries[\"setpoint\"], label=\"Train\")\n",
    "# plt.plot(heating_test_timeseries.index, heating_test_timeseries[\"setpoint\"], label=\"Test\")\n",
    "# plt.plot(heating_test_timeseries.index[13:], heating_predictions, label=\"Predicted\")\n",
    "# plt.title(\"Linear Regression Predictions\")\n",
    "# plt.xlabel(\"Time Step\")\n",
    "# plt.ylabel(\"Setpoint Value\")\n",
    "# plt.legend()\n",
    "# plt.xticks(rotation=45)\n",
    "# plt.tight_layout()\n",
    "# plt.show()"
   ]
  },
  {
   "cell_type": "markdown",
   "metadata": {},
   "source": [
    "## Cooling"
   ]
  },
  {
   "cell_type": "code",
   "execution_count": 43,
   "metadata": {},
   "outputs": [],
   "source": [
    "# input_size = 69\n",
    "# hidden_size_1 = 64\n",
    "# hidden_size_2 = 32\n",
    "# output_size = 1"
   ]
  },
  {
   "cell_type": "code",
   "execution_count": 44,
   "metadata": {},
   "outputs": [],
   "source": [
    "# cooling_model = MLPModel(\n",
    "#     input_size, \n",
    "#     hidden_size_1=hidden_size_1, \n",
    "#     hidden_size_2=hidden_size_2,\n",
    "#     output_size=output_size)"
   ]
  },
  {
   "cell_type": "code",
   "execution_count": 45,
   "metadata": {},
   "outputs": [],
   "source": [
    "# # Loss and optimizer\n",
    "# cooling_criterion = nn.MSELoss()\n",
    "# cooling_optimizer = optim.Adam(cooling_model.parameters(), lr=0.0001)"
   ]
  },
  {
   "cell_type": "code",
   "execution_count": 46,
   "metadata": {},
   "outputs": [],
   "source": [
    "# num_epochs = 100\n",
    "# train(cooling_model, cooling_train_loader, cooling_criterion, cooling_optimizer, num_epochs)"
   ]
  },
  {
   "cell_type": "code",
   "execution_count": 47,
   "metadata": {},
   "outputs": [],
   "source": [
    "# # Predict\n",
    "# cooling_predictions, cooling_actuals = evaluate(cooling_model, cooling_test_loader)"
   ]
  },
  {
   "cell_type": "code",
   "execution_count": 48,
   "metadata": {},
   "outputs": [],
   "source": [
    "# # Plot train, test and predictions\n",
    "# plt.figure(figsize=(10, 5))\n",
    "# plt.plot(cooling_train_timeseries.index, cooling_train_timeseries[\"setpoint\"], label=\"Train\")\n",
    "# plt.plot(cooling_test_timeseries.index, cooling_test_timeseries[\"setpoint\"], label=\"Test\")\n",
    "# plt.plot(cooling_test_timeseries.index[13:], cooling_predictions, label=\"Predicted\")\n",
    "# plt.title(\"Linear Regression Predictions\")\n",
    "# plt.xlabel(\"Time Step\")\n",
    "# plt.ylabel(\"Setpoint Value\")\n",
    "# plt.legend()\n",
    "# plt.xticks(rotation=45)\n",
    "# plt.tight_layout()\n",
    "# plt.show()"
   ]
  },
  {
   "cell_type": "markdown",
   "metadata": {},
   "source": [
    "## Akaike"
   ]
  },
  {
   "cell_type": "code",
   "execution_count": 49,
   "metadata": {},
   "outputs": [],
   "source": [
    "# def compute_aic(y_true, y_pred, num_params):\n",
    "#     n = y_true.numel()\n",
    "#     residuals = y_true - y_pred\n",
    "#     rss = torch.sum(residuals ** 2).item()\n",
    "#     sigma2 = rss / n\n",
    "#     log_likelihood = -n/2 * (np.log(2 * np.pi * sigma2) + 1)\n",
    "#     aic = 2 * num_params - 2 * log_likelihood\n",
    "#     return aic"
   ]
  },
  {
   "cell_type": "code",
   "execution_count": 50,
   "metadata": {},
   "outputs": [],
   "source": [
    "# heating_num_params = sum(p.numel() for p in heating_model.parameters() if p.requires_grad)"
   ]
  },
  {
   "cell_type": "code",
   "execution_count": 51,
   "metadata": {},
   "outputs": [],
   "source": [
    "# heating_aic = compute_aic(\n",
    "#     torch.tensor(heating_actuals), \n",
    "#     torch.tensor(heating_predictions), \n",
    "#     heating_num_params\n",
    "# )"
   ]
  },
  {
   "cell_type": "code",
   "execution_count": 52,
   "metadata": {},
   "outputs": [],
   "source": [
    "# heating_aic"
   ]
  },
  {
   "cell_type": "code",
   "execution_count": 53,
   "metadata": {},
   "outputs": [],
   "source": [
    "# cooling_num_params = sum(p.numel() for p in cooling_model.parameters() if p.requires_grad)\n",
    "# cooling_aic = compute_aic(\n",
    "#     torch.tensor(cooling_actuals), \n",
    "#     torch.tensor(cooling_predictions), \n",
    "#     cooling_num_params\n",
    "# )\n",
    "# cooling_aic"
   ]
  },
  {
   "cell_type": "markdown",
   "metadata": {},
   "source": [
    "# ARIMA"
   ]
  },
  {
   "cell_type": "markdown",
   "metadata": {},
   "source": [
    "## Add lag to variables"
   ]
  },
  {
   "cell_type": "code",
   "execution_count": 54,
   "metadata": {},
   "outputs": [],
   "source": [
    "# import warnings\n",
    "# warnings.filterwarnings(\"ignore\")\n",
    "\n",
    "# # Add lag of 1 to consumption, and create new temperature column with lag 1\n",
    "# heating_exog_train[\"temperature_lag_1\"] = heating_exog_train[\"temperature\"].shift(1)\n",
    "# heating_exog_train[\"consumption_lag_1\"] = heating_exog_train[\"consumption\"].shift(1)\n",
    "# heating_exog_train.drop(columns=[\"consumption\"], inplace=True)\n",
    "# heating_exog_train.bfill(inplace=True)\n",
    "\n",
    "# heating_exog_test[\"temperature_lag_1\"] = heating_exog_test[\"temperature\"].shift(1)\n",
    "# heating_exog_test[\"consumption_lag_1\"] = heating_exog_test[\"consumption\"].shift(1)\n",
    "# heating_exog_test.drop(columns=[\"consumption\"], inplace=True)\n",
    "# heating_exog_test.bfill(inplace=True)\n",
    "\n",
    "# cooling_exog_train[\"temperature_lag_1\"] = cooling_exog_train[\"temperature\"].shift(1)\n",
    "# cooling_exog_train[\"consumption_lag_1\"] = cooling_exog_train[\"consumption\"].shift(1)\n",
    "# cooling_exog_train.drop(columns=[\"consumption\"], inplace=True)\n",
    "# cooling_exog_train.bfill(inplace=True)\n",
    "\n",
    "# cooling_exog_test[\"temperature_lag_1\"] = cooling_exog_test[\"temperature\"].shift(1)\n",
    "# cooling_exog_test[\"consumption_lag_1\"] = cooling_exog_test[\"consumption\"].shift(1)\n",
    "# cooling_exog_test.drop(columns=[\"consumption\"], inplace=True)\n",
    "# cooling_exog_test.bfill(inplace=True)"
   ]
  },
  {
   "cell_type": "code",
   "execution_count": 55,
   "metadata": {},
   "outputs": [],
   "source": [
    "# heating_exog_train.head()"
   ]
  },
  {
   "cell_type": "markdown",
   "metadata": {},
   "source": [
    "## Heating"
   ]
  },
  {
   "cell_type": "code",
   "execution_count": 56,
   "metadata": {},
   "outputs": [],
   "source": [
    "# # Make sure heating_endog_train and heating_exog_train have hourly frequency\n",
    "# heating_endog_train = heating_endog_train.asfreq('h')\n",
    "# heating_exog_train = heating_exog_train.asfreq('h')\n",
    "\n",
    "# heating_endog_train.ffill(inplace=True)\n",
    "# heating_exog_train.ffill(inplace=True)\n",
    "# heating_endog_train.bfill(inplace=True)\n",
    "# heating_exog_train.bfill(inplace=True)"
   ]
  },
  {
   "cell_type": "code",
   "execution_count": 57,
   "metadata": {},
   "outputs": [],
   "source": [
    "# heating_arima_model = ARIMA(\n",
    "#     endog=heating_endog_train,\n",
    "#     exog=heating_exog_train,\n",
    "#     order=(0, 0, 0),\n",
    "#     freq=\"h\",\n",
    "# )"
   ]
  },
  {
   "cell_type": "code",
   "execution_count": 58,
   "metadata": {},
   "outputs": [],
   "source": [
    "# heating_arima_model_fit = heating_arima_model.fit()"
   ]
  },
  {
   "cell_type": "code",
   "execution_count": 59,
   "metadata": {},
   "outputs": [],
   "source": [
    "# print(heating_arima_model_fit.summary())"
   ]
  },
  {
   "cell_type": "code",
   "execution_count": 60,
   "metadata": {},
   "outputs": [],
   "source": [
    "# # Plot ACF and PACF\n",
    "\n",
    "# fig, ax = plt.subplots(2, 1, figsize=(10, 8))\n",
    "# plot_acf(heating_arima_model_fit.resid, lags=50, ax=ax[0])\n",
    "# plot_pacf(heating_arima_model_fit.resid, lags=50, ax=ax[1])\n",
    "# plt.title(\"ACF and PACF\")\n",
    "# plt.tight_layout()\n",
    "# plt.show()"
   ]
  },
  {
   "cell_type": "code",
   "execution_count": 61,
   "metadata": {},
   "outputs": [],
   "source": [
    "# # Predict\n",
    "# predictions = heating_arima_model_fit.get_forecast(steps=len(heating_endog_test), exog=heating_exog_test)\n",
    "# predicted_mean = predictions.predicted_mean\n",
    "# predicted_conf_int = predictions.conf_int()\n",
    "# lower_limits = predicted_conf_int.iloc[:, 0]\n",
    "# upper_limits = predicted_conf_int.iloc[:, 1]\n",
    "# predicted_mean = pd.Series(predicted_mean, index=heating_endog_test.index)"
   ]
  },
  {
   "cell_type": "code",
   "execution_count": 62,
   "metadata": {},
   "outputs": [],
   "source": [
    "# # Plot predictions\n",
    "# plt.figure(figsize=(10, 5))\n",
    "# plt.plot(heating_endog_train.index, heating_endog_train[\"setpoint\"], label=\"Train\")\n",
    "# plt.plot(heating_endog_test.index, heating_endog_test[\"setpoint\"], label=\"Test\")\n",
    "# plt.plot(predicted_mean.index, predicted_mean, label=\"Predicted\")\n",
    "# plt.title(\"ARIMA Predictions\")\n",
    "# plt.xlabel(\"Date\")\n",
    "# plt.ylabel(\"Setpoint Value\")\n",
    "# plt.legend()\n",
    "# plt.xticks(rotation=45)\n",
    "# plt.tight_layout()\n",
    "# plt.show()"
   ]
  },
  {
   "cell_type": "code",
   "execution_count": 63,
   "metadata": {},
   "outputs": [],
   "source": [
    "# heating_arima_model_fit.params"
   ]
  },
  {
   "cell_type": "markdown",
   "metadata": {},
   "source": [
    "## Cooling"
   ]
  },
  {
   "cell_type": "code",
   "execution_count": 64,
   "metadata": {},
   "outputs": [],
   "source": [
    "# # Make sure heating_endog_train and heating_exog_train have hourly frequency\n",
    "# cooling_endog_train = cooling_endog_train.asfreq('h')\n",
    "# cooling_exog_train = cooling_exog_train.asfreq('h')\n",
    "\n",
    "# cooling_endog_train.ffill(inplace=True)\n",
    "# cooling_exog_train.ffill(inplace=True)\n",
    "# cooling_endog_train.bfill(inplace=True)\n",
    "# cooling_exog_train.bfill(inplace=True)"
   ]
  },
  {
   "cell_type": "code",
   "execution_count": 65,
   "metadata": {},
   "outputs": [],
   "source": [
    "# cooling_arima_model = ARIMA(\n",
    "#     endog=cooling_endog_train,\n",
    "#     exog=cooling_exog_train,\n",
    "#     order=(1, 0, 0),\n",
    "#     seasonal_order=(1, 0, 0, 24),\n",
    "#     freq=\"h\",\n",
    "# )"
   ]
  },
  {
   "cell_type": "code",
   "execution_count": 66,
   "metadata": {},
   "outputs": [],
   "source": [
    "# cooling_arima_model_fit = cooling_arima_model.fit()"
   ]
  },
  {
   "cell_type": "code",
   "execution_count": 67,
   "metadata": {},
   "outputs": [],
   "source": [
    "# print(cooling_arima_model_fit.summary())"
   ]
  },
  {
   "cell_type": "code",
   "execution_count": 68,
   "metadata": {},
   "outputs": [],
   "source": [
    "# # Plot ACF and PACF\n",
    "\n",
    "# fig, ax = plt.subplots(2, 1, figsize=(10, 8))\n",
    "# plot_acf(cooling_arima_model_fit.resid, lags=50, ax=ax[0])\n",
    "# plot_pacf(cooling_arima_model_fit.resid, lags=50, ax=ax[1])\n",
    "# plt.title(\"ACF and PACF\")\n",
    "# plt.tight_layout()\n",
    "# plt.show()"
   ]
  },
  {
   "cell_type": "code",
   "execution_count": 69,
   "metadata": {},
   "outputs": [],
   "source": [
    "# # Predict\n",
    "# predictions = cooling_arima_model_fit.get_forecast(steps=len(cooling_endog_test), exog=cooling_exog_test)\n",
    "# predicted_mean = predictions.predicted_mean\n",
    "# predicted_conf_int = predictions.conf_int()\n",
    "# lower_limits = predicted_conf_int.iloc[:, 0]\n",
    "# upper_limits = predicted_conf_int.iloc[:, 1]\n",
    "# predicted_mean = pd.Series(predicted_mean, index=cooling_endog_test.index)"
   ]
  },
  {
   "cell_type": "code",
   "execution_count": 70,
   "metadata": {},
   "outputs": [],
   "source": [
    "# # Plot predictions\n",
    "# plt.figure(figsize=(10, 5))\n",
    "# plt.plot(cooling_endog_train.index, cooling_endog_train[\"setpoint\"], label=\"Train\")\n",
    "# plt.plot(cooling_endog_test.index, cooling_endog_test[\"setpoint\"], label=\"Test\")\n",
    "# plt.plot(predicted_mean.index, predicted_mean, label=\"Predicted\")\n",
    "# plt.title(\"ARIMA Predictions\")\n",
    "# plt.xlabel(\"Date\")\n",
    "# plt.ylabel(\"Setpoint Value\")\n",
    "# plt.legend()\n",
    "# plt.xticks(rotation=45)\n",
    "# plt.tight_layout()\n",
    "# plt.show()"
   ]
  },
  {
   "cell_type": "code",
   "execution_count": 71,
   "metadata": {},
   "outputs": [],
   "source": [
    "# # Print arima parameters\n",
    "# print(cooling_arima_model_fit.params)"
   ]
  },
  {
   "cell_type": "markdown",
   "metadata": {},
   "source": [
    "# Linear Regression"
   ]
  },
  {
   "cell_type": "code",
   "execution_count": 72,
   "metadata": {},
   "outputs": [],
   "source": [
    "train_data = pd.merge(endog_train, exog_train, left_index=True, right_index=True)\n",
    "test_data = pd.merge(endog_test, exog_test, left_index=True, right_index=True)"
   ]
  },
  {
   "cell_type": "code",
   "execution_count": 73,
   "metadata": {},
   "outputs": [
    {
     "data": {
      "text/html": [
       "<div>\n",
       "<style scoped>\n",
       "    .dataframe tbody tr th:only-of-type {\n",
       "        vertical-align: middle;\n",
       "    }\n",
       "\n",
       "    .dataframe tbody tr th {\n",
       "        vertical-align: top;\n",
       "    }\n",
       "\n",
       "    .dataframe thead th {\n",
       "        text-align: right;\n",
       "    }\n",
       "</style>\n",
       "<table border=\"1\" class=\"dataframe\">\n",
       "  <thead>\n",
       "    <tr style=\"text-align: right;\">\n",
       "      <th></th>\n",
       "      <th>indoor_temp</th>\n",
       "      <th>consumption</th>\n",
       "      <th>temperature</th>\n",
       "      <th>Direct Normal Radiation [W/m2]</th>\n",
       "    </tr>\n",
       "    <tr>\n",
       "      <th>timestamp</th>\n",
       "      <th></th>\n",
       "      <th></th>\n",
       "      <th></th>\n",
       "      <th></th>\n",
       "    </tr>\n",
       "  </thead>\n",
       "  <tbody>\n",
       "    <tr>\n",
       "      <th>2018-01-01 01:00:00</th>\n",
       "      <td>21.662103</td>\n",
       "      <td>5.008804</td>\n",
       "      <td>-17.2</td>\n",
       "      <td>0.0</td>\n",
       "    </tr>\n",
       "    <tr>\n",
       "      <th>2018-01-01 02:00:00</th>\n",
       "      <td>21.667390</td>\n",
       "      <td>4.799112</td>\n",
       "      <td>-17.8</td>\n",
       "      <td>0.0</td>\n",
       "    </tr>\n",
       "    <tr>\n",
       "      <th>2018-01-01 03:00:00</th>\n",
       "      <td>21.661066</td>\n",
       "      <td>4.963452</td>\n",
       "      <td>-18.9</td>\n",
       "      <td>0.0</td>\n",
       "    </tr>\n",
       "    <tr>\n",
       "      <th>2018-01-01 04:00:00</th>\n",
       "      <td>22.224965</td>\n",
       "      <td>5.047929</td>\n",
       "      <td>-18.9</td>\n",
       "      <td>0.0</td>\n",
       "    </tr>\n",
       "    <tr>\n",
       "      <th>2018-01-01 05:00:00</th>\n",
       "      <td>22.222402</td>\n",
       "      <td>5.049908</td>\n",
       "      <td>-19.4</td>\n",
       "      <td>0.0</td>\n",
       "    </tr>\n",
       "  </tbody>\n",
       "</table>\n",
       "</div>"
      ],
      "text/plain": [
       "                     indoor_temp  consumption  temperature  \\\n",
       "timestamp                                                    \n",
       "2018-01-01 01:00:00    21.662103     5.008804        -17.2   \n",
       "2018-01-01 02:00:00    21.667390     4.799112        -17.8   \n",
       "2018-01-01 03:00:00    21.661066     4.963452        -18.9   \n",
       "2018-01-01 04:00:00    22.224965     5.047929        -18.9   \n",
       "2018-01-01 05:00:00    22.222402     5.049908        -19.4   \n",
       "\n",
       "                     Direct Normal Radiation [W/m2]  \n",
       "timestamp                                            \n",
       "2018-01-01 01:00:00                             0.0  \n",
       "2018-01-01 02:00:00                             0.0  \n",
       "2018-01-01 03:00:00                             0.0  \n",
       "2018-01-01 04:00:00                             0.0  \n",
       "2018-01-01 05:00:00                             0.0  "
      ]
     },
     "execution_count": 73,
     "metadata": {},
     "output_type": "execute_result"
    }
   ],
   "source": [
    "train_data.head()"
   ]
  },
  {
   "cell_type": "code",
   "execution_count": 74,
   "metadata": {},
   "outputs": [],
   "source": [
    "# Set heating labels to the setpoint column\n",
    "train_labels = train_data[\"indoor_temp\"].values\n",
    "test_labels = test_data[\"indoor_temp\"].values"
   ]
  },
  {
   "cell_type": "code",
   "execution_count": 75,
   "metadata": {},
   "outputs": [],
   "source": [
    "# Shift setpoint so that each column has the value of the previous hour\n",
    "train_data[\"indoor_temp\"] = train_data[\"indoor_temp\"].shift(1)\n",
    "test_data[\"indoor_temp\"] = test_data[\"indoor_temp\"].shift(1)\n",
    "\n",
    "train_data.ffill(inplace=True)\n",
    "test_data.ffill(inplace=True)\n",
    "train_data.bfill(inplace=True)\n",
    "test_data.bfill(inplace=True)"
   ]
  },
  {
   "cell_type": "code",
   "execution_count": 76,
   "metadata": {},
   "outputs": [],
   "source": [
    "# Create new lag_temperature column with lag 1\n",
    "train_data[\"lag_temperature\"] = train_data[\"temperature\"].shift(1)\n",
    "test_data[\"lag_temperature\"] = test_data[\"temperature\"].shift(1)\n",
    "\n",
    "train_data.ffill(inplace=True)\n",
    "test_data.ffill(inplace=True)\n",
    "train_data.bfill(inplace=True)\n",
    "test_data.bfill(inplace=True)"
   ]
  },
  {
   "cell_type": "code",
   "execution_count": 77,
   "metadata": {},
   "outputs": [],
   "source": [
    "class LinearRegressionDataset(Dataset):\n",
    "    def __init__(self, data, labels):\n",
    "        self.data = data\n",
    "        self.labels = labels\n",
    "    \n",
    "    def __len__(self):\n",
    "        return len(self.data)\n",
    "    \n",
    "    def __getitem__(self, idx):\n",
    "        return torch.tensor(self.data[idx], dtype=torch.float32), torch.tensor(self.labels[idx], dtype=torch.float32)\n",
    "    \n",
    "    def convert_to_numpy(self):\n",
    "        return self.data"
   ]
  },
  {
   "cell_type": "code",
   "execution_count": 78,
   "metadata": {},
   "outputs": [],
   "source": [
    "lr_dataset_train = LinearRegressionDataset(train_data.values, train_labels)\n",
    "lr_dataset_test = LinearRegressionDataset(test_data.values, test_labels)"
   ]
  },
  {
   "cell_type": "code",
   "execution_count": 79,
   "metadata": {},
   "outputs": [],
   "source": [
    "batch_size = 32\n",
    "\n",
    "lr_dataloader_train = DataLoader(lr_dataset_train, batch_size=batch_size, shuffle=True)\n",
    "lr_dataloader_test = DataLoader(lr_dataset_test, batch_size=batch_size, shuffle=False)"
   ]
  },
  {
   "cell_type": "code",
   "execution_count": 80,
   "metadata": {},
   "outputs": [
    {
     "data": {
      "text/html": [
       "<div>\n",
       "<style scoped>\n",
       "    .dataframe tbody tr th:only-of-type {\n",
       "        vertical-align: middle;\n",
       "    }\n",
       "\n",
       "    .dataframe tbody tr th {\n",
       "        vertical-align: top;\n",
       "    }\n",
       "\n",
       "    .dataframe thead th {\n",
       "        text-align: right;\n",
       "    }\n",
       "</style>\n",
       "<table border=\"1\" class=\"dataframe\">\n",
       "  <thead>\n",
       "    <tr style=\"text-align: right;\">\n",
       "      <th></th>\n",
       "      <th>indoor_temp</th>\n",
       "      <th>consumption</th>\n",
       "      <th>temperature</th>\n",
       "      <th>Direct Normal Radiation [W/m2]</th>\n",
       "      <th>lag_temperature</th>\n",
       "    </tr>\n",
       "    <tr>\n",
       "      <th>timestamp</th>\n",
       "      <th></th>\n",
       "      <th></th>\n",
       "      <th></th>\n",
       "      <th></th>\n",
       "      <th></th>\n",
       "    </tr>\n",
       "  </thead>\n",
       "  <tbody>\n",
       "    <tr>\n",
       "      <th>2018-01-01 01:00:00</th>\n",
       "      <td>21.662103</td>\n",
       "      <td>5.008804</td>\n",
       "      <td>-17.2</td>\n",
       "      <td>0.0</td>\n",
       "      <td>-17.2</td>\n",
       "    </tr>\n",
       "    <tr>\n",
       "      <th>2018-01-01 02:00:00</th>\n",
       "      <td>21.662103</td>\n",
       "      <td>4.799112</td>\n",
       "      <td>-17.8</td>\n",
       "      <td>0.0</td>\n",
       "      <td>-17.2</td>\n",
       "    </tr>\n",
       "    <tr>\n",
       "      <th>2018-01-01 03:00:00</th>\n",
       "      <td>21.667390</td>\n",
       "      <td>4.963452</td>\n",
       "      <td>-18.9</td>\n",
       "      <td>0.0</td>\n",
       "      <td>-17.8</td>\n",
       "    </tr>\n",
       "    <tr>\n",
       "      <th>2018-01-01 04:00:00</th>\n",
       "      <td>21.661066</td>\n",
       "      <td>5.047929</td>\n",
       "      <td>-18.9</td>\n",
       "      <td>0.0</td>\n",
       "      <td>-18.9</td>\n",
       "    </tr>\n",
       "    <tr>\n",
       "      <th>2018-01-01 05:00:00</th>\n",
       "      <td>22.224965</td>\n",
       "      <td>5.049908</td>\n",
       "      <td>-19.4</td>\n",
       "      <td>0.0</td>\n",
       "      <td>-18.9</td>\n",
       "    </tr>\n",
       "  </tbody>\n",
       "</table>\n",
       "</div>"
      ],
      "text/plain": [
       "                     indoor_temp  consumption  temperature  \\\n",
       "timestamp                                                    \n",
       "2018-01-01 01:00:00    21.662103     5.008804        -17.2   \n",
       "2018-01-01 02:00:00    21.662103     4.799112        -17.8   \n",
       "2018-01-01 03:00:00    21.667390     4.963452        -18.9   \n",
       "2018-01-01 04:00:00    21.661066     5.047929        -18.9   \n",
       "2018-01-01 05:00:00    22.224965     5.049908        -19.4   \n",
       "\n",
       "                     Direct Normal Radiation [W/m2]  lag_temperature  \n",
       "timestamp                                                             \n",
       "2018-01-01 01:00:00                             0.0            -17.2  \n",
       "2018-01-01 02:00:00                             0.0            -17.2  \n",
       "2018-01-01 03:00:00                             0.0            -17.8  \n",
       "2018-01-01 04:00:00                             0.0            -18.9  \n",
       "2018-01-01 05:00:00                             0.0            -18.9  "
      ]
     },
     "execution_count": 80,
     "metadata": {},
     "output_type": "execute_result"
    }
   ],
   "source": [
    "train_data.head()"
   ]
  },
  {
   "cell_type": "code",
   "execution_count": 111,
   "metadata": {},
   "outputs": [],
   "source": [
    "lr_model = LinearRegressionModel(input_size=train_data.shape[1], output_size=1, bias=False)"
   ]
  },
  {
   "cell_type": "code",
   "execution_count": 112,
   "metadata": {},
   "outputs": [],
   "source": [
    "# Loss and optimizer\n",
    "lr_criterion = nn.MSELoss()\n",
    "lr_optimizer = optim.Adam(lr_model.parameters(), lr=0.0001)"
   ]
  },
  {
   "cell_type": "code",
   "execution_count": 113,
   "metadata": {},
   "outputs": [
    {
     "name": "stdout",
     "output_type": "stream",
     "text": [
      "Epoch 1/100, Loss: 13055.2862\n",
      "Epoch 2/100, Loss: 11363.8737\n",
      "Epoch 3/100, Loss: 9905.8462\n",
      "Epoch 4/100, Loss: 8535.6235\n",
      "Epoch 5/100, Loss: 7363.0676\n",
      "Epoch 6/100, Loss: 6323.0429\n",
      "Epoch 7/100, Loss: 5384.1491\n",
      "Epoch 8/100, Loss: 4583.5367\n",
      "Epoch 9/100, Loss: 3874.7366\n",
      "Epoch 10/100, Loss: 3270.6944\n",
      "Epoch 11/100, Loss: 2742.1046\n",
      "Epoch 12/100, Loss: 2304.3308\n",
      "Epoch 13/100, Loss: 1925.7777\n",
      "Epoch 14/100, Loss: 1611.7901\n",
      "Epoch 15/100, Loss: 1353.1510\n",
      "Epoch 16/100, Loss: 1143.7839\n",
      "Epoch 17/100, Loss: 965.0085\n",
      "Epoch 18/100, Loss: 823.9314\n",
      "Epoch 19/100, Loss: 705.3641\n",
      "Epoch 20/100, Loss: 609.4403\n",
      "Epoch 21/100, Loss: 528.2727\n",
      "Epoch 22/100, Loss: 461.1851\n",
      "Epoch 23/100, Loss: 405.0048\n",
      "Epoch 24/100, Loss: 356.8967\n",
      "Epoch 25/100, Loss: 315.1354\n",
      "Epoch 26/100, Loss: 279.3055\n",
      "Epoch 27/100, Loss: 248.0286\n",
      "Epoch 28/100, Loss: 219.8502\n",
      "Epoch 29/100, Loss: 194.7023\n",
      "Epoch 30/100, Loss: 172.1489\n",
      "Epoch 31/100, Loss: 151.9258\n",
      "Epoch 32/100, Loss: 133.3845\n",
      "Epoch 33/100, Loss: 116.6981\n",
      "Epoch 34/100, Loss: 101.5985\n",
      "Epoch 35/100, Loss: 87.9101\n",
      "Epoch 36/100, Loss: 75.6004\n",
      "Epoch 37/100, Loss: 64.6206\n",
      "Epoch 38/100, Loss: 54.8629\n",
      "Epoch 39/100, Loss: 46.1233\n",
      "Epoch 40/100, Loss: 38.4984\n",
      "Epoch 41/100, Loss: 31.8837\n",
      "Epoch 42/100, Loss: 26.1581\n",
      "Epoch 43/100, Loss: 21.2553\n",
      "Epoch 44/100, Loss: 17.1199\n",
      "Epoch 45/100, Loss: 13.6692\n",
      "Epoch 46/100, Loss: 10.8538\n",
      "Epoch 47/100, Loss: 8.5750\n",
      "Epoch 48/100, Loss: 6.7797\n",
      "Epoch 49/100, Loss: 5.3746\n",
      "Epoch 50/100, Loss: 4.2788\n",
      "Epoch 51/100, Loss: 3.4484\n",
      "Epoch 52/100, Loss: 2.8235\n",
      "Epoch 53/100, Loss: 2.3322\n",
      "Epoch 54/100, Loss: 1.9517\n",
      "Epoch 55/100, Loss: 1.6448\n",
      "Epoch 56/100, Loss: 1.3859\n",
      "Epoch 57/100, Loss: 1.1696\n",
      "Epoch 58/100, Loss: 0.9797\n",
      "Epoch 59/100, Loss: 0.8172\n",
      "Epoch 60/100, Loss: 0.6812\n",
      "Epoch 61/100, Loss: 0.5682\n",
      "Epoch 62/100, Loss: 0.4779\n",
      "Epoch 63/100, Loss: 0.4053\n",
      "Epoch 64/100, Loss: 0.3528\n",
      "Epoch 65/100, Loss: 0.3131\n",
      "Epoch 66/100, Loss: 0.2860\n",
      "Epoch 67/100, Loss: 0.2689\n",
      "Epoch 68/100, Loss: 0.2571\n",
      "Epoch 69/100, Loss: 0.2510\n",
      "Epoch 70/100, Loss: 0.2455\n",
      "Epoch 71/100, Loss: 0.2426\n",
      "Epoch 72/100, Loss: 0.2408\n",
      "Epoch 73/100, Loss: 0.2403\n",
      "Epoch 74/100, Loss: 0.2375\n",
      "Epoch 75/100, Loss: 0.2366\n",
      "Epoch 76/100, Loss: 0.2350\n",
      "Epoch 77/100, Loss: 0.2321\n",
      "Epoch 78/100, Loss: 0.2306\n",
      "Epoch 79/100, Loss: 0.2279\n",
      "Epoch 80/100, Loss: 0.2266\n",
      "Epoch 81/100, Loss: 0.2240\n",
      "Epoch 82/100, Loss: 0.2204\n",
      "Epoch 83/100, Loss: 0.2189\n",
      "Epoch 84/100, Loss: 0.2160\n",
      "Epoch 85/100, Loss: 0.2128\n",
      "Epoch 86/100, Loss: 0.2114\n",
      "Epoch 87/100, Loss: 0.2073\n",
      "Epoch 88/100, Loss: 0.2050\n",
      "Epoch 89/100, Loss: 0.2026\n",
      "Epoch 90/100, Loss: 0.2007\n",
      "Epoch 91/100, Loss: 0.1976\n",
      "Epoch 92/100, Loss: 0.1938\n",
      "Epoch 93/100, Loss: 0.1908\n",
      "Epoch 94/100, Loss: 0.1881\n",
      "Epoch 95/100, Loss: 0.1864\n",
      "Epoch 96/100, Loss: 0.1844\n",
      "Epoch 97/100, Loss: 0.1809\n",
      "Epoch 98/100, Loss: 0.1793\n",
      "Epoch 99/100, Loss: 0.1768\n",
      "Epoch 100/100, Loss: 0.1754\n"
     ]
    }
   ],
   "source": [
    "num_epochs = 100\n",
    "train(lr_model, lr_dataloader_train, lr_criterion, lr_optimizer, num_epochs)"
   ]
  },
  {
   "cell_type": "code",
   "execution_count": 114,
   "metadata": {},
   "outputs": [],
   "source": [
    "# predict\n",
    "lr_predictions, lr_actuals = evaluate(lr_model, lr_dataloader_test)"
   ]
  },
  {
   "cell_type": "code",
   "execution_count": 115,
   "metadata": {},
   "outputs": [
    {
     "data": {
      "image/png": "[encoded data removed]",
      "text/plain": [
       "<Figure size 1000x500 with 1 Axes>"
      ]
     },
     "metadata": {},
     "output_type": "display_data"
    }
   ],
   "source": [
    "# plot predictions\n",
    "plt.figure(figsize=(10, 5))\n",
    "plt.plot(test_data.index, test_data[\"indoor_temp\"], label=\"Test\")\n",
    "plt.plot(test_data.index, lr_predictions, label=\"Predicted\")\n",
    "plt.title(\"Linear Regression Predictions\")\n",
    "plt.xlabel(\"Date\")\n",
    "plt.ylabel(\"Setpoint Value\")\n",
    "plt.legend()\n",
    "plt.xticks(rotation=45)\n",
    "plt.tight_layout()\n",
    "plt.show()"
   ]
  },
  {
   "cell_type": "code",
   "execution_count": 116,
   "metadata": {},
   "outputs": [
    {
     "name": "stdout",
     "output_type": "stream",
     "text": [
      "0.9633010029792786\n",
      "0.4749230146408081\n",
      "0.0662851557135582\n",
      "-0.0006489827646873891\n",
      "-0.022714387625455856\n"
     ]
    }
   ],
   "source": [
    "for param in lr_model.parameters():\n",
    "    for num in param:\n",
    "        try:\n",
    "            for p in num:\n",
    "                print(p.item())\n",
    "        except:\n",
    "            print(num.item())"
   ]
  },
  {
   "cell_type": "code",
   "execution_count": 121,
   "metadata": {},
   "outputs": [
    {
     "data": {
      "text/html": [
       "<div>\n",
       "<style scoped>\n",
       "    .dataframe tbody tr th:only-of-type {\n",
       "        vertical-align: middle;\n",
       "    }\n",
       "\n",
       "    .dataframe tbody tr th {\n",
       "        vertical-align: top;\n",
       "    }\n",
       "\n",
       "    .dataframe thead th {\n",
       "        text-align: right;\n",
       "    }\n",
       "</style>\n",
       "<table border=\"1\" class=\"dataframe\">\n",
       "  <thead>\n",
       "    <tr style=\"text-align: right;\">\n",
       "      <th></th>\n",
       "      <th>indoor_temp</th>\n",
       "      <th>consumption</th>\n",
       "      <th>temperature</th>\n",
       "      <th>Direct Normal Radiation [W/m2]</th>\n",
       "      <th>lag_temperature</th>\n",
       "    </tr>\n",
       "    <tr>\n",
       "      <th>timestamp</th>\n",
       "      <th></th>\n",
       "      <th></th>\n",
       "      <th></th>\n",
       "      <th></th>\n",
       "      <th></th>\n",
       "    </tr>\n",
       "  </thead>\n",
       "  <tbody>\n",
       "    <tr>\n",
       "      <th>2018-01-01 01:00:00</th>\n",
       "      <td>21.662103</td>\n",
       "      <td>5.008804</td>\n",
       "      <td>-17.2</td>\n",
       "      <td>0.0</td>\n",
       "      <td>-17.2</td>\n",
       "    </tr>\n",
       "    <tr>\n",
       "      <th>2018-01-01 02:00:00</th>\n",
       "      <td>21.662103</td>\n",
       "      <td>4.799112</td>\n",
       "      <td>-17.8</td>\n",
       "      <td>0.0</td>\n",
       "      <td>-17.2</td>\n",
       "    </tr>\n",
       "    <tr>\n",
       "      <th>2018-01-01 03:00:00</th>\n",
       "      <td>21.667390</td>\n",
       "      <td>4.963452</td>\n",
       "      <td>-18.9</td>\n",
       "      <td>0.0</td>\n",
       "      <td>-17.8</td>\n",
       "    </tr>\n",
       "    <tr>\n",
       "      <th>2018-01-01 04:00:00</th>\n",
       "      <td>21.661066</td>\n",
       "      <td>5.047929</td>\n",
       "      <td>-18.9</td>\n",
       "      <td>0.0</td>\n",
       "      <td>-18.9</td>\n",
       "    </tr>\n",
       "    <tr>\n",
       "      <th>2018-01-01 05:00:00</th>\n",
       "      <td>22.224965</td>\n",
       "      <td>5.049908</td>\n",
       "      <td>-19.4</td>\n",
       "      <td>0.0</td>\n",
       "      <td>-18.9</td>\n",
       "    </tr>\n",
       "  </tbody>\n",
       "</table>\n",
       "</div>"
      ],
      "text/plain": [
       "                     indoor_temp  consumption  temperature  \\\n",
       "timestamp                                                    \n",
       "2018-01-01 01:00:00    21.662103     5.008804        -17.2   \n",
       "2018-01-01 02:00:00    21.662103     4.799112        -17.8   \n",
       "2018-01-01 03:00:00    21.667390     4.963452        -18.9   \n",
       "2018-01-01 04:00:00    21.661066     5.047929        -18.9   \n",
       "2018-01-01 05:00:00    22.224965     5.049908        -19.4   \n",
       "\n",
       "                     Direct Normal Radiation [W/m2]  lag_temperature  \n",
       "timestamp                                                             \n",
       "2018-01-01 01:00:00                             0.0            -17.2  \n",
       "2018-01-01 02:00:00                             0.0            -17.2  \n",
       "2018-01-01 03:00:00                             0.0            -17.8  \n",
       "2018-01-01 04:00:00                             0.0            -18.9  \n",
       "2018-01-01 05:00:00                             0.0            -18.9  "
      ]
     },
     "execution_count": 121,
     "metadata": {},
     "output_type": "execute_result"
    }
   ],
   "source": [
    "train_data.head()"
   ]
  },
  {
   "cell_type": "markdown",
   "metadata": {},
   "source": [
    "### P-values"
   ]
  },
  {
   "cell_type": "code",
   "execution_count": 117,
   "metadata": {},
   "outputs": [],
   "source": [
    "# Get predictions on train set\n",
    "lr_train_predictions, lr_train_actuals = evaluate(lr_model, lr_dataloader_train)"
   ]
  },
  {
   "cell_type": "code",
   "execution_count": 118,
   "metadata": {},
   "outputs": [
    {
     "data": {
      "image/png": "[encoded data removed]",
      "text/plain": [
       "<Figure size 1000x500 with 1 Axes>"
      ]
     },
     "metadata": {},
     "output_type": "display_data"
    }
   ],
   "source": [
    "# plot predictions\n",
    "plt.figure(figsize=(10, 5))\n",
    "plt.plot(train_data.index, train_data[\"indoor_temp\"], label=\"Train\")\n",
    "plt.plot(test_data.index, test_data[\"indoor_temp\"], label=\"Test\")\n",
    "plt.plot(train_data.index, lr_train_predictions, label=\"Train Predicted\")\n",
    "plt.plot(test_data.index, lr_predictions, label=\"Test Predicted\")\n",
    "plt.title(\"Linear Regression Predictions\")\n",
    "plt.xlabel(\"Date\")\n",
    "plt.ylabel(\"Setpoint Value\")\n",
    "plt.legend()\n",
    "plt.xticks(rotation=45)\n",
    "plt.tight_layout()\n",
    "plt.show()"
   ]
  },
  {
   "cell_type": "code",
   "execution_count": 119,
   "metadata": {},
   "outputs": [],
   "source": [
    "p_values = get_pvalues(\n",
    "    lr_model, \n",
    "    lr_dataset_train, \n",
    "    lr_train_actuals, \n",
    "    lr_train_predictions\n",
    ")"
   ]
  },
  {
   "cell_type": "code",
   "execution_count": 120,
   "metadata": {},
   "outputs": [
    {
     "name": "stdout",
     "output_type": "stream",
     "text": [
      "indoor_temp:\n",
      "\t-   0.0\n",
      "consumption:\n",
      "\t-   0.6547448673911398\n",
      "temperature:\n",
      "\t-   0.8616911613103377\n",
      "Direct Normal Radiation [W/m2]:\n",
      "\t-   0.6863913074929511\n",
      "lag_temperature:\n",
      "\t-   0.9505606575935701\n"
     ]
    }
   ],
   "source": [
    "for i, col in enumerate(train_data.columns):\n",
    "    print(col + \":\")\n",
    "    print(\"\\t-  \", p_values[i])"
   ]
  },
  {
   "cell_type": "markdown",
   "metadata": {},
   "source": [
    "## Save model"
   ]
  },
  {
   "cell_type": "code",
   "execution_count": 122,
   "metadata": {},
   "outputs": [],
   "source": [
    "models_folder_path = \"/Users/adrian/Documents/ICAI/TFG/Space-Conditioning-Electrification/consumption/models\""
   ]
  },
  {
   "cell_type": "code",
   "execution_count": 123,
   "metadata": {},
   "outputs": [],
   "source": [
    "# Save model\n",
    "torch.save(lr_model.state_dict(), f\"{models_folder_path}/linear_regression_model.pth\")"
   ]
  },
  {
   "cell_type": "markdown",
   "metadata": {},
   "source": [
    "## Load model and predict"
   ]
  },
  {
   "cell_type": "code",
   "execution_count": 124,
   "metadata": {},
   "outputs": [
    {
     "data": {
      "text/plain": [
       "<All keys matched successfully>"
      ]
     },
     "execution_count": 124,
     "metadata": {},
     "output_type": "execute_result"
    }
   ],
   "source": [
    "# load model\n",
    "loaded_lr_model = LinearRegressionModel(input_size=train_data.shape[1], output_size=1, bias=False)\n",
    "loaded_lr_model.load_state_dict(torch.load(f\"{models_folder_path}/linear_regression_model.pth\"))"
   ]
  },
  {
   "cell_type": "code",
   "execution_count": 125,
   "metadata": {},
   "outputs": [],
   "source": [
    "# Predict\n",
    "loaded_lr_predictions, loaded_lr_actuals = evaluate(loaded_lr_model, lr_dataloader_test)"
   ]
  },
  {
   "cell_type": "code",
   "execution_count": 126,
   "metadata": {},
   "outputs": [
    {
     "data": {
      "image/png": "[encoded data removed]",
      "text/plain": [
       "<Figure size 1000x500 with 1 Axes>"
      ]
     },
     "metadata": {},
     "output_type": "display_data"
    }
   ],
   "source": [
    "# Plot predictions\n",
    "plt.figure(figsize=(10, 5))\n",
    "plt.plot(test_data.index, test_data[\"indoor_temp\"], label=\"Test\")\n",
    "plt.plot(test_data.index, loaded_lr_predictions, label=\"Predicted\")\n",
    "plt.title(\"Loaded Linear Regression Predictions\")\n",
    "plt.xlabel(\"Date\")\n",
    "plt.ylabel(\"Setpoint Value\")\n",
    "plt.legend()\n",
    "plt.xticks(rotation=45)\n",
    "plt.tight_layout()\n",
    "plt.show()"
   ]
  }
 ],
 "metadata": {
  "kernelspec": {
   "display_name": ".env",
   "language": "python",
   "name": "python3"
  },
  "language_info": {
   "codemirror_mode": {
    "name": "ipython",
    "version": 3
   },
   "file_extension": ".py",
   "mimetype": "text/x-python",
   "name": "python",
   "nbconvert_exporter": "python",
   "pygments_lexer": "ipython3",
   "version": "3.10.11"
  }
 },
 "nbformat": 4,
 "nbformat_minor": 2
}
