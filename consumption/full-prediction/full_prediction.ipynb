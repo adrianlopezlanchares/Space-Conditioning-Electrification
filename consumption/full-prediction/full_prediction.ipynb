{
 "cells": [
  {
   "cell_type": "code",
   "execution_count": 1,
   "metadata": {},
   "outputs": [],
   "source": [
    "import pandas as pd\n",
    "import numpy as np\n",
    "import matplotlib.pyplot as plt\n",
    "import pickle\n",
    "\n",
    "from statsmodels.tsa.arima.model import ARIMA\n",
    "from statsmodels.graphics.tsaplots import plot_acf, plot_pacf\n",
    "\n",
    "import torch\n",
    "import torch.nn as nn\n",
    "from torch.utils.data import Dataset, DataLoader\n",
    "import torch.optim as optim\n",
    "\n",
    "from data_preprocessing import process_resstock_data\n",
    "from models import MLPModel, LinearRegressionModel\n",
    "from pvalues import get_pvalues"
   ]
  },
  {
   "cell_type": "markdown",
   "metadata": {},
   "source": [
    "# Load data"
   ]
  },
  {
   "cell_type": "markdown",
   "metadata": {},
   "source": [
    "### Setpoint timeseries"
   ]
  },
  {
   "cell_type": "code",
   "execution_count": 2,
   "metadata": {},
   "outputs": [],
   "source": [
    "# full_heating_timeseries, full_cooling_timeseries = generate_setpoint_timeseries(\n",
    "#     cooling_start_date = \"2018-06-01\",\n",
    "#     cooling_end_date = \"2018-10-31\",\n",
    "#     combine = False\n",
    "# )"
   ]
  },
  {
   "cell_type": "code",
   "execution_count": 3,
   "metadata": {},
   "outputs": [],
   "source": [
    "# # Save heaitng and cooling timeseries to pickle\n",
    "# with open('/Users/adrian/Documents/ICAI/TFG/Space-Conditioning-Electrification/data/consumption/full_heating_timeseries.pkl', 'wb') as f:\n",
    "#     pickle.dump(full_heating_timeseries, f)\n",
    "# with open('/Users/adrian/Documents/ICAI/TFG/Space-Conditioning-Electrification/data/consumption/full_cooling_timeseries.pkl', 'wb') as f:\n",
    "#     pickle.dump(full_cooling_timeseries, f)"
   ]
  },
  {
   "cell_type": "code",
   "execution_count": 4,
   "metadata": {},
   "outputs": [],
   "source": [
    "# Load full heating and cooling timeseries\n",
    "with open('/Users/adrian/Documents/ICAI/TFG/Space-Conditioning-Electrification/data/consumption/full_heating_timeseries.pkl', 'rb') as f:\n",
    "    full_heating_timeseries = pickle.load(f)\n",
    "with open('/Users/adrian/Documents/ICAI/TFG/Space-Conditioning-Electrification/data/consumption/full_cooling_timeseries.pkl', 'rb') as f:\n",
    "    full_cooling_timeseries = pickle.load(f)"
   ]
  },
  {
   "cell_type": "markdown",
   "metadata": {},
   "source": [
    "### Weather data"
   ]
  },
  {
   "cell_type": "code",
   "execution_count": 5,
   "metadata": {},
   "outputs": [],
   "source": [
    "weather_data = pd.read_csv(\"/Users/adrian/Documents/ICAI/TFG/Space-Conditioning-Electrification/data/consumption/G2500170_2018.csv\")"
   ]
  },
  {
   "cell_type": "code",
   "execution_count": 6,
   "metadata": {},
   "outputs": [
    {
     "data": {
      "text/html": [
       "<div>\n",
       "<style scoped>\n",
       "    .dataframe tbody tr th:only-of-type {\n",
       "        vertical-align: middle;\n",
       "    }\n",
       "\n",
       "    .dataframe tbody tr th {\n",
       "        vertical-align: top;\n",
       "    }\n",
       "\n",
       "    .dataframe thead th {\n",
       "        text-align: right;\n",
       "    }\n",
       "</style>\n",
       "<table border=\"1\" class=\"dataframe\">\n",
       "  <thead>\n",
       "    <tr style=\"text-align: right;\">\n",
       "      <th></th>\n",
       "      <th>date_time</th>\n",
       "      <th>Dry Bulb Temperature [°C]</th>\n",
       "      <th>Relative Humidity [%]</th>\n",
       "      <th>Wind Speed [m/s]</th>\n",
       "      <th>Wind Direction [Deg]</th>\n",
       "      <th>Global Horizontal Radiation [W/m2]</th>\n",
       "      <th>Direct Normal Radiation [W/m2]</th>\n",
       "      <th>Diffuse Horizontal Radiation [W/m2]</th>\n",
       "    </tr>\n",
       "  </thead>\n",
       "  <tbody>\n",
       "    <tr>\n",
       "      <th>0</th>\n",
       "      <td>2018-01-01 01:00:00</td>\n",
       "      <td>-17.2</td>\n",
       "      <td>47.00</td>\n",
       "      <td>7.2</td>\n",
       "      <td>310.0</td>\n",
       "      <td>0.0</td>\n",
       "      <td>0.0</td>\n",
       "      <td>0.0</td>\n",
       "    </tr>\n",
       "    <tr>\n",
       "      <th>1</th>\n",
       "      <td>2018-01-01 02:00:00</td>\n",
       "      <td>-17.8</td>\n",
       "      <td>46.83</td>\n",
       "      <td>6.7</td>\n",
       "      <td>300.0</td>\n",
       "      <td>0.0</td>\n",
       "      <td>0.0</td>\n",
       "      <td>0.0</td>\n",
       "    </tr>\n",
       "    <tr>\n",
       "      <th>2</th>\n",
       "      <td>2018-01-01 03:00:00</td>\n",
       "      <td>-18.9</td>\n",
       "      <td>55.19</td>\n",
       "      <td>2.1</td>\n",
       "      <td>260.0</td>\n",
       "      <td>0.0</td>\n",
       "      <td>0.0</td>\n",
       "      <td>0.0</td>\n",
       "    </tr>\n",
       "    <tr>\n",
       "      <th>3</th>\n",
       "      <td>2018-01-01 04:00:00</td>\n",
       "      <td>-18.9</td>\n",
       "      <td>51.97</td>\n",
       "      <td>4.1</td>\n",
       "      <td>280.0</td>\n",
       "      <td>0.0</td>\n",
       "      <td>0.0</td>\n",
       "      <td>0.0</td>\n",
       "    </tr>\n",
       "    <tr>\n",
       "      <th>4</th>\n",
       "      <td>2018-01-01 05:00:00</td>\n",
       "      <td>-19.4</td>\n",
       "      <td>54.51</td>\n",
       "      <td>3.6</td>\n",
       "      <td>280.0</td>\n",
       "      <td>0.0</td>\n",
       "      <td>0.0</td>\n",
       "      <td>0.0</td>\n",
       "    </tr>\n",
       "  </tbody>\n",
       "</table>\n",
       "</div>"
      ],
      "text/plain": [
       "             date_time  Dry Bulb Temperature [°C]  Relative Humidity [%]  \\\n",
       "0  2018-01-01 01:00:00                      -17.2                  47.00   \n",
       "1  2018-01-01 02:00:00                      -17.8                  46.83   \n",
       "2  2018-01-01 03:00:00                      -18.9                  55.19   \n",
       "3  2018-01-01 04:00:00                      -18.9                  51.97   \n",
       "4  2018-01-01 05:00:00                      -19.4                  54.51   \n",
       "\n",
       "   Wind Speed [m/s]  Wind Direction [Deg]  Global Horizontal Radiation [W/m2]  \\\n",
       "0               7.2                 310.0                                 0.0   \n",
       "1               6.7                 300.0                                 0.0   \n",
       "2               2.1                 260.0                                 0.0   \n",
       "3               4.1                 280.0                                 0.0   \n",
       "4               3.6                 280.0                                 0.0   \n",
       "\n",
       "   Direct Normal Radiation [W/m2]  Diffuse Horizontal Radiation [W/m2]  \n",
       "0                             0.0                                  0.0  \n",
       "1                             0.0                                  0.0  \n",
       "2                             0.0                                  0.0  \n",
       "3                             0.0                                  0.0  \n",
       "4                             0.0                                  0.0  "
      ]
     },
     "execution_count": 6,
     "metadata": {},
     "output_type": "execute_result"
    }
   ],
   "source": [
    "weather_data.head()"
   ]
  },
  {
   "cell_type": "markdown",
   "metadata": {},
   "source": [
    "### ResStock"
   ]
  },
  {
   "cell_type": "code",
   "execution_count": 7,
   "metadata": {},
   "outputs": [],
   "source": [
    "resstock = pd.read_parquet(\"/Users/adrian/Documents/ICAI/TFG/Space-Conditioning-Electrification/data/consumption/MA_baseline_metadata_and_annual_results.parquet\")"
   ]
  },
  {
   "cell_type": "markdown",
   "metadata": {},
   "source": [
    "### Building timeseries"
   ]
  },
  {
   "cell_type": "code",
   "execution_count": 8,
   "metadata": {},
   "outputs": [],
   "source": [
    "building_data = pd.read_parquet(\"/Users/adrian/Documents/ICAI/TFG/Space-Conditioning-Electrification/data/consumption/1000-0.parquet\")"
   ]
  },
  {
   "cell_type": "code",
   "execution_count": null,
   "metadata": {},
   "outputs": [],
   "source": [
    "# loop through each column that containts \"temp\"\n",
    "for col in building_data.columns:\n",
    "    if \"temp\" in col.lower():\n",
    "        print(col)"
   ]
  },
  {
   "cell_type": "code",
   "execution_count": 133,
   "metadata": {},
   "outputs": [
    {
     "data": {
      "text/html": [
       "<div>\n",
       "<style scoped>\n",
       "    .dataframe tbody tr th:only-of-type {\n",
       "        vertical-align: middle;\n",
       "    }\n",
       "\n",
       "    .dataframe tbody tr th {\n",
       "        vertical-align: top;\n",
       "    }\n",
       "\n",
       "    .dataframe thead th {\n",
       "        text-align: right;\n",
       "    }\n",
       "</style>\n",
       "<table border=\"1\" class=\"dataframe\">\n",
       "  <thead>\n",
       "    <tr style=\"text-align: right;\">\n",
       "      <th></th>\n",
       "      <th>out.zone_mean_air_temp.conditioned_space.c</th>\n",
       "      <th>timestamp</th>\n",
       "    </tr>\n",
       "    <tr>\n",
       "      <th>bldg_id</th>\n",
       "      <th></th>\n",
       "      <th></th>\n",
       "    </tr>\n",
       "  </thead>\n",
       "  <tbody>\n",
       "    <tr>\n",
       "      <th>1000</th>\n",
       "      <td>21.662988</td>\n",
       "      <td>2018-01-01 00:15:00</td>\n",
       "    </tr>\n",
       "    <tr>\n",
       "      <th>1000</th>\n",
       "      <td>21.663375</td>\n",
       "      <td>2018-01-01 00:30:00</td>\n",
       "    </tr>\n",
       "    <tr>\n",
       "      <th>1000</th>\n",
       "      <td>21.666023</td>\n",
       "      <td>2018-01-01 00:45:00</td>\n",
       "    </tr>\n",
       "    <tr>\n",
       "      <th>1000</th>\n",
       "      <td>21.662103</td>\n",
       "      <td>2018-01-01 01:00:00</td>\n",
       "    </tr>\n",
       "    <tr>\n",
       "      <th>1000</th>\n",
       "      <td>21.666348</td>\n",
       "      <td>2018-01-01 01:15:00</td>\n",
       "    </tr>\n",
       "  </tbody>\n",
       "</table>\n",
       "</div>"
      ],
      "text/plain": [
       "         out.zone_mean_air_temp.conditioned_space.c           timestamp\n",
       "bldg_id                                                                \n",
       "1000                                      21.662988 2018-01-01 00:15:00\n",
       "1000                                      21.663375 2018-01-01 00:30:00\n",
       "1000                                      21.666023 2018-01-01 00:45:00\n",
       "1000                                      21.662103 2018-01-01 01:00:00\n",
       "1000                                      21.666348 2018-01-01 01:15:00"
      ]
     },
     "execution_count": 133,
     "metadata": {},
     "output_type": "execute_result"
    }
   ],
   "source": [
    "building_data[[\"out.zone_mean_air_temp.conditioned_space.c\", \"timestamp\"]].head()"
   ]
  },
  {
   "cell_type": "code",
   "execution_count": 140,
   "metadata": {},
   "outputs": [
    {
     "data": {
      "image/png": "[encoded data removed]",
      "text/plain": [
       "<Figure size 1000x500 with 1 Axes>"
      ]
     },
     "metadata": {},
     "output_type": "display_data"
    }
   ],
   "source": [
    "plt.figure(figsize=(10, 5))\n",
    "plt.plot(building_data[\"timestamp\"], building_data[\"out.zone_mean_air_temp.conditioned_space.c\"], label='Temperature', color='blue')\n",
    "plt.xlabel('Timestamp')\n",
    "plt.ylabel('Temperature (C)')\n",
    "plt.title(\"out.zone_mean_air_temp.conditioned_space.c\")\n",
    "plt.legend()\n",
    "plt.show()"
   ]
  },
  {
   "cell_type": "code",
   "execution_count": 130,
   "metadata": {},
   "outputs": [
    {
     "data": {
      "text/plain": [
       "'68F'"
      ]
     },
     "execution_count": 130,
     "metadata": {},
     "output_type": "execute_result"
    }
   ],
   "source": [
    "resstock[\"in.cooling_setpoint\"].loc[1000]"
   ]
  },
  {
   "cell_type": "markdown",
   "metadata": {},
   "source": [
    "### Setpoint timeseries plot"
   ]
  },
  {
   "cell_type": "code",
   "execution_count": 9,
   "metadata": {},
   "outputs": [],
   "source": [
    "heating_timeseries = full_heating_timeseries[1000]\n",
    "cooling_timeseries = full_cooling_timeseries[1000]\n",
    "\n",
    "heating_timeseries = pd.concat([heating_timeseries.loc[\"2018-01-01\":\"2018-05-31\"], heating_timeseries.loc[\"2018-11-01\":\"2018-12-31\"]])\n",
    "cooling_timeseries = cooling_timeseries.loc[\"2018-06-01\":\"2018-10-31\"]"
   ]
  },
  {
   "cell_type": "code",
   "execution_count": 10,
   "metadata": {},
   "outputs": [
    {
     "data": {
      "image/png": "[encoded data removed]",
      "text/plain": [
       "<Figure size 1000x500 with 1 Axes>"
      ]
     },
     "metadata": {},
     "output_type": "display_data"
    }
   ],
   "source": [
    "# Plot the timeseries\n",
    "plt.figure(figsize=(10, 5))\n",
    "plt.plot(heating_timeseries.index, heating_timeseries[\"setpoint\"])\n",
    "plt.plot(cooling_timeseries.index, cooling_timeseries[\"setpoint\"])\n",
    "plt.title(\"Setpoint Timeseries\")\n",
    "plt.xlabel(\"Date\")\n",
    "plt.ylabel(\"Setpoint Value\")\n",
    "plt.xticks(rotation=45)\n",
    "plt.tight_layout()\n",
    "plt.show()"
   ]
  },
  {
   "cell_type": "markdown",
   "metadata": {},
   "source": [
    "# ResStock transform"
   ]
  },
  {
   "cell_type": "code",
   "execution_count": 11,
   "metadata": {},
   "outputs": [],
   "source": [
    "columns = [\n",
    "    \"in.bedrooms\",              # int\n",
    "    \"in.duct_leakage_and_insulation\",    # Separate into leakage / insulation: X% / (Uniinsulated/R-n)\n",
    "    \"in.duct_location\",         # Places of the house\n",
    "    \"in.geometry_floor_area\",   # 1000-1499, ...\n",
    "    \"in.geometry_stories\",      # int\n",
    "    \"in.geometry_wall_type\",    # Materials\n",
    "    \"in.ground_thermal_conductivity\",   # float\n",
    "    \"in.hvac_has_ducts\",    # Yes / No\n",
    "    \"in.insulation_ceiling\",    # R-n / Uninsulated\n",
    "    \"in.insulation_floor\",      # R-n / Uninsulated\n",
    "    \"in.insulation_foundation_wall\",    # Wall R-n, Exterior\n",
    "    \"in.insulation_roof\",       # Finished / Unfinished, R-n\n",
    "    \"in.insulation_wall\",       # Material, Uninsulated / R-n\n",
    "    \"in.occupants\",         # int\n",
    "    \"in.orientation\",       # North, Northwest...\n",
    "    \"in.roof_material\",     # Material\n",
    "    \"in.sqft\",              # int\n",
    "    \"in.windows\"    # Single/Double/Triple, Low-E/Clear, Metal/Non-metal, Air/Exterior Clear Storm, (L/M-Gain)\n",
    "    \"in.window_areas\",\n",
    "    \"in.vintage\",\n",
    "]"
   ]
  },
  {
   "cell_type": "code",
   "execution_count": 12,
   "metadata": {},
   "outputs": [],
   "source": [
    "columns_processed = [\n",
    "    \"in.bedrooms_processed\",              # int\n",
    "    \"in.duct_leakage_processed\",\n",
    "    \"in.duct_insulation_processed\",    # Separate into leakage / insulation: X% / (Uniinsulated/R-n)\n",
    "    \"in.duct_location_processed\",         # Places of the house\n",
    "    \"in.geometry_floor_area_processed\",   # 1000-1499, ...\n",
    "    \"in.geometry_stories_processed\",      # int\n",
    "    \"in.geometry_wall_type_processed\",    # Materials\n",
    "    \"in.ground_thermal_conductivity_processed\",   # float\n",
    "    \"in.hvac_has_ducts_processed\",    # Yes / No\n",
    "    \"in.insulation_ceiling_processed\",    # R-n / Uninsulated\n",
    "    \"in.insulation_floor_processed\",      # R-n / Uninsulated\n",
    "    \"in.insulation_foundation_wall_processed\",    # Wall R-n, Exterior\n",
    "    \"in.insulation_roof_processed\",       # Finished / Unfinished, R-n\n",
    "    \"in.insulation_wall_processed\",       # Material, Uninsulated / R-n\n",
    "    \"in.occupants_processed\",         # int\n",
    "    \"in.orientation_processed\",       # North, Northwest...\n",
    "    \"in.roof_material_processed\",     # Material\n",
    "    \"in.sqft_processed\",              # int\n",
    "    \"in.windows_processed\", # Single/Double/Triple, Low-E/Clear, Metal/Non-metal, Air/Exterior Clear Storm, (L/M-Gain)\n",
    "    \"in.window_areas_processed\",\n",
    "    \"in.vintage_processed\",\n",
    "    \n",
    "]"
   ]
  },
  {
   "cell_type": "code",
   "execution_count": 13,
   "metadata": {},
   "outputs": [],
   "source": [
    "resstock_processed = process_resstock_data(resstock)"
   ]
  },
  {
   "cell_type": "code",
   "execution_count": 14,
   "metadata": {},
   "outputs": [
    {
     "data": {
      "text/plain": [
       "in.vintage_processed\n",
       "1930    3820\n",
       "1970    1386\n",
       "1950    1312\n",
       "1980    1269\n",
       "1960    1220\n",
       "1990     895\n",
       "2000     825\n",
       "1940     614\n",
       "2010     366\n",
       "Name: count, dtype: int64"
      ]
     },
     "execution_count": 14,
     "metadata": {},
     "output_type": "execute_result"
    }
   ],
   "source": [
    "resstock_processed[\"in.vintage_processed\"].value_counts()"
   ]
  },
  {
   "cell_type": "code",
   "execution_count": 15,
   "metadata": {},
   "outputs": [],
   "source": [
    "usable_resstock = resstock_processed[columns_processed]"
   ]
  },
  {
   "cell_type": "code",
   "execution_count": 16,
   "metadata": {},
   "outputs": [
    {
     "data": {
      "text/html": [
       "<div>\n",
       "<style scoped>\n",
       "    .dataframe tbody tr th:only-of-type {\n",
       "        vertical-align: middle;\n",
       "    }\n",
       "\n",
       "    .dataframe tbody tr th {\n",
       "        vertical-align: top;\n",
       "    }\n",
       "\n",
       "    .dataframe thead th {\n",
       "        text-align: right;\n",
       "    }\n",
       "</style>\n",
       "<table border=\"1\" class=\"dataframe\">\n",
       "  <thead>\n",
       "    <tr style=\"text-align: right;\">\n",
       "      <th></th>\n",
       "      <th>in.bedrooms_processed</th>\n",
       "      <th>in.duct_leakage_processed</th>\n",
       "      <th>in.duct_insulation_processed</th>\n",
       "      <th>in.duct_location_processed</th>\n",
       "      <th>in.geometry_floor_area_processed</th>\n",
       "      <th>in.geometry_stories_processed</th>\n",
       "      <th>in.geometry_wall_type_processed</th>\n",
       "      <th>in.ground_thermal_conductivity_processed</th>\n",
       "      <th>in.hvac_has_ducts_processed</th>\n",
       "      <th>in.insulation_ceiling_processed</th>\n",
       "      <th>...</th>\n",
       "      <th>in.insulation_foundation_wall_processed</th>\n",
       "      <th>in.insulation_roof_processed</th>\n",
       "      <th>in.insulation_wall_processed</th>\n",
       "      <th>in.occupants_processed</th>\n",
       "      <th>in.orientation_processed</th>\n",
       "      <th>in.roof_material_processed</th>\n",
       "      <th>in.sqft_processed</th>\n",
       "      <th>in.windows_processed</th>\n",
       "      <th>in.window_areas_processed</th>\n",
       "      <th>in.vintage_processed</th>\n",
       "    </tr>\n",
       "    <tr>\n",
       "      <th>bldg_id</th>\n",
       "      <th></th>\n",
       "      <th></th>\n",
       "      <th></th>\n",
       "      <th></th>\n",
       "      <th></th>\n",
       "      <th></th>\n",
       "      <th></th>\n",
       "      <th></th>\n",
       "      <th></th>\n",
       "      <th></th>\n",
       "      <th></th>\n",
       "      <th></th>\n",
       "      <th></th>\n",
       "      <th></th>\n",
       "      <th></th>\n",
       "      <th></th>\n",
       "      <th></th>\n",
       "      <th></th>\n",
       "      <th></th>\n",
       "      <th></th>\n",
       "      <th></th>\n",
       "    </tr>\n",
       "  </thead>\n",
       "  <tbody>\n",
       "    <tr>\n",
       "      <th>10</th>\n",
       "      <td>3</td>\n",
       "      <td>10</td>\n",
       "      <td>0</td>\n",
       "      <td>4</td>\n",
       "      <td>1749</td>\n",
       "      <td>1</td>\n",
       "      <td>1</td>\n",
       "      <td>1.4</td>\n",
       "      <td>1</td>\n",
       "      <td>5</td>\n",
       "      <td>...</td>\n",
       "      <td>1</td>\n",
       "      <td>0</td>\n",
       "      <td>0</td>\n",
       "      <td>6</td>\n",
       "      <td>1</td>\n",
       "      <td>3</td>\n",
       "      <td>1228</td>\n",
       "      <td>2</td>\n",
       "      <td>18</td>\n",
       "      <td>1950</td>\n",
       "    </tr>\n",
       "    <tr>\n",
       "      <th>122</th>\n",
       "      <td>1</td>\n",
       "      <td>0</td>\n",
       "      <td>0</td>\n",
       "      <td>0</td>\n",
       "      <td>874</td>\n",
       "      <td>5</td>\n",
       "      <td>1</td>\n",
       "      <td>1.4</td>\n",
       "      <td>0</td>\n",
       "      <td>0</td>\n",
       "      <td>...</td>\n",
       "      <td>1</td>\n",
       "      <td>6</td>\n",
       "      <td>0</td>\n",
       "      <td>1</td>\n",
       "      <td>5</td>\n",
       "      <td>0</td>\n",
       "      <td>623</td>\n",
       "      <td>2</td>\n",
       "      <td>18</td>\n",
       "      <td>1950</td>\n",
       "    </tr>\n",
       "    <tr>\n",
       "      <th>129</th>\n",
       "      <td>1</td>\n",
       "      <td>0</td>\n",
       "      <td>0</td>\n",
       "      <td>0</td>\n",
       "      <td>874</td>\n",
       "      <td>2</td>\n",
       "      <td>2</td>\n",
       "      <td>1.1</td>\n",
       "      <td>0</td>\n",
       "      <td>0</td>\n",
       "      <td>...</td>\n",
       "      <td>1</td>\n",
       "      <td>5</td>\n",
       "      <td>1</td>\n",
       "      <td>1</td>\n",
       "      <td>4</td>\n",
       "      <td>0</td>\n",
       "      <td>623</td>\n",
       "      <td>1</td>\n",
       "      <td>15</td>\n",
       "      <td>1970</td>\n",
       "    </tr>\n",
       "    <tr>\n",
       "      <th>150</th>\n",
       "      <td>2</td>\n",
       "      <td>0</td>\n",
       "      <td>0</td>\n",
       "      <td>0</td>\n",
       "      <td>1749</td>\n",
       "      <td>3</td>\n",
       "      <td>1</td>\n",
       "      <td>1.1</td>\n",
       "      <td>0</td>\n",
       "      <td>0</td>\n",
       "      <td>...</td>\n",
       "      <td>0</td>\n",
       "      <td>3</td>\n",
       "      <td>4</td>\n",
       "      <td>1</td>\n",
       "      <td>3</td>\n",
       "      <td>0</td>\n",
       "      <td>1138</td>\n",
       "      <td>2</td>\n",
       "      <td>15</td>\n",
       "      <td>2000</td>\n",
       "    </tr>\n",
       "    <tr>\n",
       "      <th>183</th>\n",
       "      <td>3</td>\n",
       "      <td>0</td>\n",
       "      <td>0</td>\n",
       "      <td>0</td>\n",
       "      <td>1749</td>\n",
       "      <td>1</td>\n",
       "      <td>1</td>\n",
       "      <td>1.4</td>\n",
       "      <td>0</td>\n",
       "      <td>1</td>\n",
       "      <td>...</td>\n",
       "      <td>1</td>\n",
       "      <td>0</td>\n",
       "      <td>0</td>\n",
       "      <td>2</td>\n",
       "      <td>3</td>\n",
       "      <td>1</td>\n",
       "      <td>1228</td>\n",
       "      <td>2</td>\n",
       "      <td>18</td>\n",
       "      <td>1930</td>\n",
       "    </tr>\n",
       "  </tbody>\n",
       "</table>\n",
       "<p>5 rows × 21 columns</p>\n",
       "</div>"
      ],
      "text/plain": [
       "         in.bedrooms_processed  in.duct_leakage_processed  \\\n",
       "bldg_id                                                     \n",
       "10                           3                         10   \n",
       "122                          1                          0   \n",
       "129                          1                          0   \n",
       "150                          2                          0   \n",
       "183                          3                          0   \n",
       "\n",
       "         in.duct_insulation_processed  in.duct_location_processed  \\\n",
       "bldg_id                                                             \n",
       "10                                  0                           4   \n",
       "122                                 0                           0   \n",
       "129                                 0                           0   \n",
       "150                                 0                           0   \n",
       "183                                 0                           0   \n",
       "\n",
       "         in.geometry_floor_area_processed  in.geometry_stories_processed  \\\n",
       "bldg_id                                                                    \n",
       "10                                   1749                              1   \n",
       "122                                   874                              5   \n",
       "129                                   874                              2   \n",
       "150                                  1749                              3   \n",
       "183                                  1749                              1   \n",
       "\n",
       "         in.geometry_wall_type_processed  \\\n",
       "bldg_id                                    \n",
       "10                                     1   \n",
       "122                                    1   \n",
       "129                                    2   \n",
       "150                                    1   \n",
       "183                                    1   \n",
       "\n",
       "         in.ground_thermal_conductivity_processed  \\\n",
       "bldg_id                                             \n",
       "10                                            1.4   \n",
       "122                                           1.4   \n",
       "129                                           1.1   \n",
       "150                                           1.1   \n",
       "183                                           1.4   \n",
       "\n",
       "         in.hvac_has_ducts_processed  in.insulation_ceiling_processed  ...  \\\n",
       "bldg_id                                                                ...   \n",
       "10                                 1                                5  ...   \n",
       "122                                0                                0  ...   \n",
       "129                                0                                0  ...   \n",
       "150                                0                                0  ...   \n",
       "183                                0                                1  ...   \n",
       "\n",
       "         in.insulation_foundation_wall_processed  \\\n",
       "bldg_id                                            \n",
       "10                                             1   \n",
       "122                                            1   \n",
       "129                                            1   \n",
       "150                                            0   \n",
       "183                                            1   \n",
       "\n",
       "         in.insulation_roof_processed  in.insulation_wall_processed  \\\n",
       "bldg_id                                                               \n",
       "10                                  0                             0   \n",
       "122                                 6                             0   \n",
       "129                                 5                             1   \n",
       "150                                 3                             4   \n",
       "183                                 0                             0   \n",
       "\n",
       "         in.occupants_processed  in.orientation_processed  \\\n",
       "bldg_id                                                     \n",
       "10                            6                         1   \n",
       "122                           1                         5   \n",
       "129                           1                         4   \n",
       "150                           1                         3   \n",
       "183                           2                         3   \n",
       "\n",
       "         in.roof_material_processed  in.sqft_processed  in.windows_processed  \\\n",
       "bldg_id                                                                        \n",
       "10                                3               1228                     2   \n",
       "122                               0                623                     2   \n",
       "129                               0                623                     1   \n",
       "150                               0               1138                     2   \n",
       "183                               1               1228                     2   \n",
       "\n",
       "         in.window_areas_processed  in.vintage_processed  \n",
       "bldg_id                                                   \n",
       "10                              18                  1950  \n",
       "122                             18                  1950  \n",
       "129                             15                  1970  \n",
       "150                             15                  2000  \n",
       "183                             18                  1930  \n",
       "\n",
       "[5 rows x 21 columns]"
      ]
     },
     "execution_count": 16,
     "metadata": {},
     "output_type": "execute_result"
    }
   ],
   "source": [
    "usable_resstock.head()"
   ]
  },
  {
   "cell_type": "code",
   "execution_count": 17,
   "metadata": {},
   "outputs": [],
   "source": [
    "building_resstock = np.array(usable_resstock.loc[1000])"
   ]
  },
  {
   "cell_type": "code",
   "execution_count": 18,
   "metadata": {},
   "outputs": [
    {
     "data": {
      "text/plain": [
       "array([3.000e+00, 0.000e+00, 0.000e+00, 0.000e+00, 2.499e+03, 1.000e+00,\n",
       "       2.000e+00, 1.400e+00, 0.000e+00, 0.000e+00, 1.000e+00, 1.000e+00,\n",
       "       5.000e+00, 0.000e+00, 3.000e+00, 0.000e+00, 0.000e+00, 1.682e+03,\n",
       "       2.000e+00, 1.500e+01, 1.930e+03])"
      ]
     },
     "execution_count": 18,
     "metadata": {},
     "output_type": "execute_result"
    }
   ],
   "source": [
    "building_resstock"
   ]
  },
  {
   "cell_type": "markdown",
   "metadata": {},
   "source": [
    "# Transform data"
   ]
  },
  {
   "cell_type": "code",
   "execution_count": 19,
   "metadata": {},
   "outputs": [],
   "source": [
    "def get_cols(building_data: pd.DataFrame, building_id: int) -> str:\n",
    "\n",
    "    try:\n",
    "        building = building_data.loc[building_id]\n",
    "    except:\n",
    "        raise ValueError(\"Building ID not found in the dataset\")\n",
    "\n",
    "    match building[\"in.heating_fuel\"]:\n",
    "        case  \"Natural Gas\":\n",
    "            return \"out.natural_gas.heating.energy_consumption\"\n",
    "        case \"Electricity\":\n",
    "            return \"out.electricity.heating.energy_consumption\"\n",
    "        case \"Fuel Oil\":\n",
    "            return \"out.fuel_oil.heating.energy_consumption\"\n",
    "        case \"Propane\":\n",
    "            return \"out.propane.heating.energy_consumption\"\n",
    "        case _:\n",
    "            return \"out.electricity.heating.energy_consumption\""
   ]
  },
  {
   "cell_type": "code",
   "execution_count": 20,
   "metadata": {},
   "outputs": [
    {
     "data": {
      "text/plain": [
       "Index(['date_time', 'Dry Bulb Temperature [°C]', 'Relative Humidity [%]',\n",
       "       'Wind Speed [m/s]', 'Wind Direction [Deg]',\n",
       "       'Global Horizontal Radiation [W/m2]', 'Direct Normal Radiation [W/m2]',\n",
       "       'Diffuse Horizontal Radiation [W/m2]'],\n",
       "      dtype='object')"
      ]
     },
     "execution_count": 20,
     "metadata": {},
     "output_type": "execute_result"
    }
   ],
   "source": [
    "weather_data.columns"
   ]
  },
  {
   "cell_type": "code",
   "execution_count": 21,
   "metadata": {},
   "outputs": [
    {
     "data": {
      "text/html": [
       "<div>\n",
       "<style scoped>\n",
       "    .dataframe tbody tr th:only-of-type {\n",
       "        vertical-align: middle;\n",
       "    }\n",
       "\n",
       "    .dataframe tbody tr th {\n",
       "        vertical-align: top;\n",
       "    }\n",
       "\n",
       "    .dataframe thead th {\n",
       "        text-align: right;\n",
       "    }\n",
       "</style>\n",
       "<table border=\"1\" class=\"dataframe\">\n",
       "  <thead>\n",
       "    <tr style=\"text-align: right;\">\n",
       "      <th></th>\n",
       "      <th>date_time</th>\n",
       "      <th>Dry Bulb Temperature [°C]</th>\n",
       "      <th>Relative Humidity [%]</th>\n",
       "      <th>Wind Speed [m/s]</th>\n",
       "      <th>Wind Direction [Deg]</th>\n",
       "      <th>Global Horizontal Radiation [W/m2]</th>\n",
       "      <th>Direct Normal Radiation [W/m2]</th>\n",
       "      <th>Diffuse Horizontal Radiation [W/m2]</th>\n",
       "    </tr>\n",
       "  </thead>\n",
       "  <tbody>\n",
       "    <tr>\n",
       "      <th>0</th>\n",
       "      <td>2018-01-01 01:00:00</td>\n",
       "      <td>-17.2</td>\n",
       "      <td>47.00</td>\n",
       "      <td>7.2</td>\n",
       "      <td>310.0</td>\n",
       "      <td>0.0</td>\n",
       "      <td>0.0</td>\n",
       "      <td>0.0</td>\n",
       "    </tr>\n",
       "    <tr>\n",
       "      <th>1</th>\n",
       "      <td>2018-01-01 02:00:00</td>\n",
       "      <td>-17.8</td>\n",
       "      <td>46.83</td>\n",
       "      <td>6.7</td>\n",
       "      <td>300.0</td>\n",
       "      <td>0.0</td>\n",
       "      <td>0.0</td>\n",
       "      <td>0.0</td>\n",
       "    </tr>\n",
       "    <tr>\n",
       "      <th>2</th>\n",
       "      <td>2018-01-01 03:00:00</td>\n",
       "      <td>-18.9</td>\n",
       "      <td>55.19</td>\n",
       "      <td>2.1</td>\n",
       "      <td>260.0</td>\n",
       "      <td>0.0</td>\n",
       "      <td>0.0</td>\n",
       "      <td>0.0</td>\n",
       "    </tr>\n",
       "    <tr>\n",
       "      <th>3</th>\n",
       "      <td>2018-01-01 04:00:00</td>\n",
       "      <td>-18.9</td>\n",
       "      <td>51.97</td>\n",
       "      <td>4.1</td>\n",
       "      <td>280.0</td>\n",
       "      <td>0.0</td>\n",
       "      <td>0.0</td>\n",
       "      <td>0.0</td>\n",
       "    </tr>\n",
       "    <tr>\n",
       "      <th>4</th>\n",
       "      <td>2018-01-01 05:00:00</td>\n",
       "      <td>-19.4</td>\n",
       "      <td>54.51</td>\n",
       "      <td>3.6</td>\n",
       "      <td>280.0</td>\n",
       "      <td>0.0</td>\n",
       "      <td>0.0</td>\n",
       "      <td>0.0</td>\n",
       "    </tr>\n",
       "  </tbody>\n",
       "</table>\n",
       "</div>"
      ],
      "text/plain": [
       "             date_time  Dry Bulb Temperature [°C]  Relative Humidity [%]  \\\n",
       "0  2018-01-01 01:00:00                      -17.2                  47.00   \n",
       "1  2018-01-01 02:00:00                      -17.8                  46.83   \n",
       "2  2018-01-01 03:00:00                      -18.9                  55.19   \n",
       "3  2018-01-01 04:00:00                      -18.9                  51.97   \n",
       "4  2018-01-01 05:00:00                      -19.4                  54.51   \n",
       "\n",
       "   Wind Speed [m/s]  Wind Direction [Deg]  Global Horizontal Radiation [W/m2]  \\\n",
       "0               7.2                 310.0                                 0.0   \n",
       "1               6.7                 300.0                                 0.0   \n",
       "2               2.1                 260.0                                 0.0   \n",
       "3               4.1                 280.0                                 0.0   \n",
       "4               3.6                 280.0                                 0.0   \n",
       "\n",
       "   Direct Normal Radiation [W/m2]  Diffuse Horizontal Radiation [W/m2]  \n",
       "0                             0.0                                  0.0  \n",
       "1                             0.0                                  0.0  \n",
       "2                             0.0                                  0.0  \n",
       "3                             0.0                                  0.0  \n",
       "4                             0.0                                  0.0  "
      ]
     },
     "execution_count": 21,
     "metadata": {},
     "output_type": "execute_result"
    }
   ],
   "source": [
    "weather_data.head()"
   ]
  },
  {
   "cell_type": "code",
   "execution_count": 22,
   "metadata": {},
   "outputs": [],
   "source": [
    "# Change date time column name to timestamp\n",
    "weather_data.rename(columns={'date_time': \"timestamp\"}, inplace=True)\n",
    "weather_data.set_index('timestamp', inplace=True)\n",
    "weather_data.index = pd.to_datetime(weather_data.index)\n",
    "\n",
    "# Delete all columns except dry bulb temperature\n",
    "weather_data = weather_data[[\"Dry Bulb Temperature [°C]\", \"Direct Normal Radiation [W/m2]\"]]\n",
    "weather_data.rename(columns={\"Dry Bulb Temperature [°C]\": \"temperature\"}, inplace=True)\n",
    "\n",
    "# Create an entry for 2018-01-01 00:00:00\n",
    "new_row = pd.DataFrame({'temperature': weather_data.iloc[0]['temperature']}, index=[pd.to_datetime('2018-01-01 00:00:00')])\n",
    "weather_data = pd.concat([new_row, weather_data])\n",
    "\n",
    "# Remove last 19 rows\n",
    "weather_data = weather_data[:-24]"
   ]
  },
  {
   "cell_type": "code",
   "execution_count": 23,
   "metadata": {},
   "outputs": [],
   "source": [
    "weather_data.bfill(inplace=True)\n",
    "weather_data.ffill(inplace=True)"
   ]
  },
  {
   "cell_type": "code",
   "execution_count": 24,
   "metadata": {},
   "outputs": [],
   "source": [
    "building_id = 1000"
   ]
  },
  {
   "cell_type": "code",
   "execution_count": 25,
   "metadata": {},
   "outputs": [
    {
     "name": "stderr",
     "output_type": "stream",
     "text": [
      "/var/folders/bw/4qyc6pj92bdb1bv22yhll2zw0000gn/T/ipykernel_1776/3969840236.py:5: SettingWithCopyWarning: \n",
      "A value is trying to be set on a copy of a slice from a DataFrame.\n",
      "Try using .loc[row_indexer,col_indexer] = value instead\n",
      "\n",
      "See the caveats in the documentation: https://pandas.pydata.org/pandas-docs/stable/user_guide/indexing.html#returning-a-view-versus-a-copy\n",
      "  consumption_timeseries[\"timestamp\"] = pd.to_datetime(consumption_timeseries[\"timestamp\"])\n",
      "/var/folders/bw/4qyc6pj92bdb1bv22yhll2zw0000gn/T/ipykernel_1776/3969840236.py:7: FutureWarning: 'H' is deprecated and will be removed in a future version, please use 'h' instead.\n",
      "  consumption_timeseries = consumption_timeseries.resample(\"H\").mean()\n"
     ]
    }
   ],
   "source": [
    "col_to_use = get_cols(resstock, building_id)\n",
    "consumption_timeseries = building_data[[\"timestamp\", col_to_use]]\n",
    "\n",
    "# Resample to hourly data\n",
    "consumption_timeseries[\"timestamp\"] = pd.to_datetime(consumption_timeseries[\"timestamp\"])\n",
    "consumption_timeseries.set_index(\"timestamp\", inplace=True)\n",
    "consumption_timeseries = consumption_timeseries.resample(\"H\").mean()\n",
    "consumption_timeseries = consumption_timeseries[col_to_use]\n",
    "\n",
    "consumption_timeseries = consumption_timeseries[:-24]\n",
    "\n",
    "# Turn into dataframe\n",
    "consumption_timeseries = pd.DataFrame(consumption_timeseries)\n",
    "consumption_timeseries.rename(columns={col_to_use: \"consumption\"}, inplace=True)"
   ]
  },
  {
   "cell_type": "code",
   "execution_count": 26,
   "metadata": {},
   "outputs": [],
   "source": [
    "exog_variables = pd.merge(\n",
    "    consumption_timeseries,\n",
    "    weather_data,\n",
    "    left_index=True,\n",
    "    right_index=True,\n",
    ")"
   ]
  },
  {
   "cell_type": "code",
   "execution_count": 27,
   "metadata": {},
   "outputs": [],
   "source": [
    "def celsius_to_fahrenheit(celsius):\n",
    "    return (celsius * 9/5) + 32"
   ]
  },
  {
   "cell_type": "code",
   "execution_count": 28,
   "metadata": {},
   "outputs": [],
   "source": [
    "# Change temperature column to fahrenheit\n",
    "exog_variables[\"temperature\"] = exog_variables[\"temperature\"].apply(celsius_to_fahrenheit)"
   ]
  },
  {
   "cell_type": "code",
   "execution_count": 29,
   "metadata": {},
   "outputs": [],
   "source": [
    "heating_exog = exog_variables.loc[heating_timeseries.index]\n",
    "cooling_exog = exog_variables.loc[cooling_timeseries.index]"
   ]
  },
  {
   "cell_type": "code",
   "execution_count": 30,
   "metadata": {},
   "outputs": [
    {
     "data": {
      "text/plain": [
       "temperature\n",
       "66.920    109\n",
       "69.080    105\n",
       "69.980     99\n",
       "68.000     97\n",
       "71.960     96\n",
       "         ... \n",
       "84.380      1\n",
       "73.886      1\n",
       "69.764      1\n",
       "70.970      1\n",
       "52.430      1\n",
       "Name: count, Length: 397, dtype: int64"
      ]
     },
     "execution_count": 30,
     "metadata": {},
     "output_type": "execute_result"
    }
   ],
   "source": [
    "cooling_exog[\"temperature\"].value_counts()"
   ]
  },
  {
   "cell_type": "markdown",
   "metadata": {},
   "source": [
    "# Data Plot"
   ]
  },
  {
   "cell_type": "code",
   "execution_count": 31,
   "metadata": {},
   "outputs": [],
   "source": [
    "train_size = 0.8\n",
    "heating_endog_train = heating_timeseries[:int(train_size * len(heating_timeseries))]\n",
    "heating_endog_test = heating_timeseries[int(train_size * len(heating_timeseries)):]\n",
    "\n",
    "heating_exog_train = heating_exog[:int(train_size * len(heating_exog))]\n",
    "heating_exog_test = heating_exog[int(train_size * len(heating_exog)):]\n",
    "\n",
    "cooling_endog_train = cooling_timeseries[:int(train_size * len(cooling_timeseries))]\n",
    "cooling_endog_test = cooling_timeseries[int(train_size * len(cooling_timeseries)):]\n",
    "\n",
    "cooling_exog_train = cooling_exog[:int(train_size * len(cooling_exog))]\n",
    "cooling_exog_test = cooling_exog[int(train_size * len(cooling_exog)):]"
   ]
  },
  {
   "cell_type": "code",
   "execution_count": 32,
   "metadata": {},
   "outputs": [
    {
     "data": {
      "image/png": "[encoded data removed]",
      "text/plain": [
       "<Figure size 1000x500 with 1 Axes>"
      ]
     },
     "metadata": {},
     "output_type": "display_data"
    }
   ],
   "source": [
    "# Plot the training and test sets\n",
    "plt.figure(figsize=(10, 5))\n",
    "plt.plot(heating_endog_train.index, heating_endog_train[\"setpoint\"], label=\"heating Train\")\n",
    "plt.plot(heating_endog_test.index, heating_endog_test[\"setpoint\"], label=\"heating Test\")\n",
    "plt.plot(cooling_endog_train.index, cooling_endog_train[\"setpoint\"], label=\"cooling Train\")\n",
    "plt.plot(cooling_endog_test.index, cooling_endog_test[\"setpoint\"], label=\"cooling Test\")\n",
    "plt.title(\"Train and Test Sets\")\n",
    "plt.xlabel(\"Date\")\n",
    "plt.ylabel(\"Setpoint Value\")\n",
    "plt.legend()\n",
    "plt.xticks(rotation=45)\n",
    "plt.tight_layout()\n",
    "plt.show()"
   ]
  },
  {
   "cell_type": "markdown",
   "metadata": {},
   "source": [
    "# Datasets and Dataloaders"
   ]
  },
  {
   "cell_type": "code",
   "execution_count": 33,
   "metadata": {},
   "outputs": [],
   "source": [
    "heating_train_timeseries = pd.merge(heating_endog_train, heating_exog_train, left_index=True, right_index=True)\n",
    "heating_test_timeseries = pd.merge(heating_endog_test, heating_exog_test, left_index=True, right_index=True)\n",
    "\n",
    "cooling_train_timeseries = pd.merge(cooling_endog_train, cooling_exog_train, left_index=True, right_index=True)\n",
    "cooling_test_timeseries = pd.merge(cooling_endog_test, cooling_exog_test, left_index=True, right_index=True)"
   ]
  },
  {
   "cell_type": "code",
   "execution_count": 34,
   "metadata": {},
   "outputs": [
    {
     "data": {
      "text/html": [
       "<div>\n",
       "<style scoped>\n",
       "    .dataframe tbody tr th:only-of-type {\n",
       "        vertical-align: middle;\n",
       "    }\n",
       "\n",
       "    .dataframe tbody tr th {\n",
       "        vertical-align: top;\n",
       "    }\n",
       "\n",
       "    .dataframe thead th {\n",
       "        text-align: right;\n",
       "    }\n",
       "</style>\n",
       "<table border=\"1\" class=\"dataframe\">\n",
       "  <thead>\n",
       "    <tr style=\"text-align: right;\">\n",
       "      <th></th>\n",
       "      <th>setpoint</th>\n",
       "      <th>consumption</th>\n",
       "      <th>temperature</th>\n",
       "      <th>Direct Normal Radiation [W/m2]</th>\n",
       "    </tr>\n",
       "    <tr>\n",
       "      <th>timestamp</th>\n",
       "      <th></th>\n",
       "      <th></th>\n",
       "      <th></th>\n",
       "      <th></th>\n",
       "    </tr>\n",
       "  </thead>\n",
       "  <tbody>\n",
       "    <tr>\n",
       "      <th>2018-01-01 00:00:00</th>\n",
       "      <td>76.0</td>\n",
       "      <td>4.691970</td>\n",
       "      <td>1.04</td>\n",
       "      <td>0.0</td>\n",
       "    </tr>\n",
       "    <tr>\n",
       "      <th>2018-01-01 01:00:00</th>\n",
       "      <td>76.0</td>\n",
       "      <td>5.008804</td>\n",
       "      <td>1.04</td>\n",
       "      <td>0.0</td>\n",
       "    </tr>\n",
       "    <tr>\n",
       "      <th>2018-01-01 02:00:00</th>\n",
       "      <td>76.0</td>\n",
       "      <td>4.799112</td>\n",
       "      <td>-0.04</td>\n",
       "      <td>0.0</td>\n",
       "    </tr>\n",
       "    <tr>\n",
       "      <th>2018-01-01 03:00:00</th>\n",
       "      <td>76.0</td>\n",
       "      <td>4.963452</td>\n",
       "      <td>-2.02</td>\n",
       "      <td>0.0</td>\n",
       "    </tr>\n",
       "    <tr>\n",
       "      <th>2018-01-01 04:00:00</th>\n",
       "      <td>76.0</td>\n",
       "      <td>5.047929</td>\n",
       "      <td>-2.02</td>\n",
       "      <td>0.0</td>\n",
       "    </tr>\n",
       "  </tbody>\n",
       "</table>\n",
       "</div>"
      ],
      "text/plain": [
       "                     setpoint  consumption  temperature  \\\n",
       "timestamp                                                 \n",
       "2018-01-01 00:00:00      76.0     4.691970         1.04   \n",
       "2018-01-01 01:00:00      76.0     5.008804         1.04   \n",
       "2018-01-01 02:00:00      76.0     4.799112        -0.04   \n",
       "2018-01-01 03:00:00      76.0     4.963452        -2.02   \n",
       "2018-01-01 04:00:00      76.0     5.047929        -2.02   \n",
       "\n",
       "                     Direct Normal Radiation [W/m2]  \n",
       "timestamp                                            \n",
       "2018-01-01 00:00:00                             0.0  \n",
       "2018-01-01 01:00:00                             0.0  \n",
       "2018-01-01 02:00:00                             0.0  \n",
       "2018-01-01 03:00:00                             0.0  \n",
       "2018-01-01 04:00:00                             0.0  "
      ]
     },
     "execution_count": 34,
     "metadata": {},
     "output_type": "execute_result"
    }
   ],
   "source": [
    "heating_train_timeseries.head()"
   ]
  },
  {
   "cell_type": "code",
   "execution_count": 35,
   "metadata": {},
   "outputs": [],
   "source": [
    "def create_lr_sequences(data, sequence_length, building_resstock):\n",
    "    sequences = []\n",
    "    labels = []\n",
    "\n",
    "    for i in range(len(data) - sequence_length - 1):\n",
    "        sequence = np.array(data.iloc[i:i+sequence_length])\n",
    "        label = data.iloc[i+sequence_length].iloc[0]\n",
    "        sequences.append(sequence)\n",
    "        labels.append(label)\n",
    "    return np.array(sequences), labels"
   ]
  },
  {
   "cell_type": "code",
   "execution_count": 36,
   "metadata": {},
   "outputs": [],
   "source": [
    "sequence_length = 12\n",
    "batch_size = 64\n",
    "\n",
    "heating_train_sequences, heating_train_labels = create_lr_sequences(heating_train_timeseries, sequence_length, building_resstock)\n",
    "heating_test_sequences, heating_test_labels = create_lr_sequences(heating_test_timeseries, sequence_length, building_resstock)\n",
    "\n",
    "cooling_train_sequences, cooling_train_labels = create_lr_sequences(cooling_train_timeseries, sequence_length, building_resstock)\n",
    "cooling_test_sequences, cooling_test_labels = create_lr_sequences(cooling_test_timeseries, sequence_length, building_resstock)"
   ]
  },
  {
   "cell_type": "code",
   "execution_count": 37,
   "metadata": {},
   "outputs": [],
   "source": [
    "heating_train_sequences = heating_train_sequences.reshape(heating_train_sequences.shape[0], -1)\n",
    "heating_test_sequences = heating_test_sequences.reshape(heating_test_sequences.shape[0], -1)\n",
    "\n",
    "cooling_train_sequences = cooling_train_sequences.reshape(cooling_train_sequences.shape[0], -1)\n",
    "cooling_test_sequences = cooling_test_sequences.reshape(cooling_test_sequences.shape[0], -1)"
   ]
  },
  {
   "cell_type": "code",
   "execution_count": 38,
   "metadata": {},
   "outputs": [],
   "source": [
    "building_resstock_repeated_heating_train = np.tile(building_resstock, (heating_train_sequences.shape[0], 1))\n",
    "building_resstock_repeated_heating_test = np.tile(building_resstock, (heating_test_sequences.shape[0], 1))\n",
    "\n",
    "building_resstock_repeated_cooling_train = np.tile(building_resstock, (cooling_train_sequences.shape[0], 1))\n",
    "building_resstock_repeated_cooling_test = np.tile(building_resstock, (cooling_test_sequences.shape[0], 1))"
   ]
  },
  {
   "cell_type": "code",
   "execution_count": 39,
   "metadata": {},
   "outputs": [],
   "source": [
    "heating_train_sequences = np.concatenate((heating_train_sequences, building_resstock_repeated_heating_train), axis=1)\n",
    "heating_test_sequences = np.concatenate((heating_test_sequences, building_resstock_repeated_heating_test), axis=1)\n",
    "\n",
    "cooling_train_sequences = np.concatenate((cooling_train_sequences, building_resstock_repeated_cooling_train), axis=1)\n",
    "cooling_test_sequences = np.concatenate((cooling_test_sequences, building_resstock_repeated_cooling_test), axis=1)"
   ]
  },
  {
   "cell_type": "code",
   "execution_count": 40,
   "metadata": {},
   "outputs": [],
   "source": [
    "class TimeSeriesDataset(Dataset):\n",
    "    def __init__(self, sequences, labels):\n",
    "        self.sequences = sequences\n",
    "        self.labels = labels\n",
    "    \n",
    "    def __len__(self):\n",
    "        return len(self.sequences)\n",
    "    \n",
    "    def __getitem__(self, idx):\n",
    "        return torch.tensor(self.sequences[idx], dtype=torch.float32), torch.tensor(self.labels[idx], dtype=torch.float32)\n"
   ]
  },
  {
   "cell_type": "code",
   "execution_count": 41,
   "metadata": {},
   "outputs": [],
   "source": [
    "heating_train_dataset = TimeSeriesDataset(heating_train_sequences, heating_train_labels)\n",
    "heating_test_dataset = TimeSeriesDataset(heating_test_sequences, heating_test_labels)\n",
    "heating_train_loader = DataLoader(heating_train_dataset, batch_size=batch_size, shuffle=True)\n",
    "heating_test_loader = DataLoader(heating_test_dataset, batch_size=batch_size, shuffle=False)\n",
    "\n",
    "cooling_train_dataset = TimeSeriesDataset(cooling_train_sequences, cooling_train_labels)\n",
    "cooling_test_dataset = TimeSeriesDataset(cooling_test_sequences, cooling_test_labels)\n",
    "cooling_train_loader = DataLoader(cooling_train_dataset, batch_size=batch_size, shuffle=True)\n",
    "cooling_test_loader = DataLoader(cooling_test_dataset, batch_size=batch_size, shuffle=False)"
   ]
  },
  {
   "cell_type": "markdown",
   "metadata": {},
   "source": [
    "# Train and evaluate fns"
   ]
  },
  {
   "cell_type": "code",
   "execution_count": 42,
   "metadata": {},
   "outputs": [],
   "source": [
    "# Training function\n",
    "def train(model, train_loader, criterion, optimizer, num_epochs):\n",
    "    model.train()\n",
    "    for epoch in range(num_epochs):\n",
    "        running_loss = 0.0\n",
    "        for sequences, labels in train_loader:\n",
    "            # Zero gradients\n",
    "            optimizer.zero_grad()\n",
    "            \n",
    "            # Forward pass\n",
    "            outputs = model(sequences)\n",
    "            loss = criterion(outputs, labels)  # Unsqueeze labels to match output dim\n",
    "            \n",
    "            # Backward pass and optimization\n",
    "            loss.backward()\n",
    "            optimizer.step()\n",
    "            \n",
    "            running_loss += loss.item()\n",
    "        \n",
    "        print(f'Epoch {epoch+1}/{num_epochs}, Loss: {running_loss/len(train_loader):.4f}')"
   ]
  },
  {
   "cell_type": "code",
   "execution_count": 43,
   "metadata": {},
   "outputs": [],
   "source": [
    "# Predict\n",
    "def evaluate(model, test_loader):\n",
    "    model.eval()\n",
    "    predictions = []\n",
    "    actuals = []\n",
    "    with torch.no_grad():\n",
    "        for sequences, labels in test_loader:\n",
    "            outputs = model(sequences)\n",
    "            predictions.append(outputs.numpy())\n",
    "            actuals.append(labels.numpy())\n",
    "    return np.concatenate(predictions), np.concatenate(actuals)"
   ]
  },
  {
   "cell_type": "code",
   "execution_count": 44,
   "metadata": {},
   "outputs": [
    {
     "data": {
      "text/plain": [
       "69"
      ]
     },
     "execution_count": 44,
     "metadata": {},
     "output_type": "execute_result"
    }
   ],
   "source": [
    "len(heating_train_dataset[0][0])"
   ]
  },
  {
   "cell_type": "markdown",
   "metadata": {},
   "source": [
    "# MLP"
   ]
  },
  {
   "cell_type": "code",
   "execution_count": 45,
   "metadata": {},
   "outputs": [],
   "source": [
    "input_size = 69\n",
    "hidden_size_1 = 64\n",
    "hidden_size_2 = 32\n",
    "output_size = 1"
   ]
  },
  {
   "cell_type": "code",
   "execution_count": 46,
   "metadata": {},
   "outputs": [],
   "source": [
    "heating_model = MLPModel(\n",
    "    input_size, \n",
    "    hidden_size_1=hidden_size_1, \n",
    "    hidden_size_2=hidden_size_2,\n",
    "    output_size=output_size)"
   ]
  },
  {
   "cell_type": "code",
   "execution_count": 47,
   "metadata": {},
   "outputs": [],
   "source": [
    "# Loss and optimizer\n",
    "heating_criterion = nn.MSELoss()\n",
    "heating_optimizer = optim.Adam(heating_model.parameters(), lr=0.0001)"
   ]
  },
  {
   "cell_type": "markdown",
   "metadata": {},
   "source": [
    "## Heating"
   ]
  },
  {
   "cell_type": "code",
   "execution_count": 48,
   "metadata": {},
   "outputs": [
    {
     "name": "stderr",
     "output_type": "stream",
     "text": [
      "/Users/adrian/Documents/ICAI/TFG/Space-Conditioning-Electrification/.env/lib/python3.10/site-packages/torch/nn/modules/loss.py:610: UserWarning: Using a target size (torch.Size([64])) that is different to the input size (torch.Size([64, 1])). This will likely lead to incorrect results due to broadcasting. Please ensure they have the same size.\n",
      "  return F.mse_loss(input, target, reduction=self.reduction)\n",
      "/Users/adrian/Documents/ICAI/TFG/Space-Conditioning-Electrification/.env/lib/python3.10/site-packages/torch/nn/modules/loss.py:610: UserWarning: Using a target size (torch.Size([7])) that is different to the input size (torch.Size([7, 1])). This will likely lead to incorrect results due to broadcasting. Please ensure they have the same size.\n",
      "  return F.mse_loss(input, target, reduction=self.reduction)\n"
     ]
    },
    {
     "name": "stdout",
     "output_type": "stream",
     "text": [
      "Epoch 1/100, Loss: 4801.1203\n",
      "Epoch 2/100, Loss: 215.4035\n",
      "Epoch 3/100, Loss: 31.5645\n",
      "Epoch 4/100, Loss: 16.0249\n",
      "Epoch 5/100, Loss: 11.8374\n",
      "Epoch 6/100, Loss: 9.5442\n",
      "Epoch 7/100, Loss: 8.2767\n",
      "Epoch 8/100, Loss: 7.4566\n",
      "Epoch 9/100, Loss: 6.5296\n",
      "Epoch 10/100, Loss: 5.9301\n",
      "Epoch 11/100, Loss: 5.2186\n",
      "Epoch 12/100, Loss: 4.6851\n",
      "Epoch 13/100, Loss: 4.1643\n",
      "Epoch 14/100, Loss: 3.8010\n",
      "Epoch 15/100, Loss: 3.4693\n",
      "Epoch 16/100, Loss: 3.1927\n",
      "Epoch 17/100, Loss: 2.9489\n",
      "Epoch 18/100, Loss: 2.6591\n",
      "Epoch 19/100, Loss: 2.4857\n",
      "Epoch 20/100, Loss: 2.2481\n",
      "Epoch 21/100, Loss: 2.0810\n",
      "Epoch 22/100, Loss: 1.9396\n",
      "Epoch 23/100, Loss: 1.7411\n",
      "Epoch 24/100, Loss: 1.6521\n",
      "Epoch 25/100, Loss: 1.4330\n",
      "Epoch 26/100, Loss: 1.3046\n",
      "Epoch 27/100, Loss: 1.1884\n",
      "Epoch 28/100, Loss: 1.0690\n",
      "Epoch 29/100, Loss: 1.0240\n",
      "Epoch 30/100, Loss: 0.9283\n",
      "Epoch 31/100, Loss: 0.8821\n",
      "Epoch 32/100, Loss: 0.8386\n",
      "Epoch 33/100, Loss: 0.7861\n",
      "Epoch 34/100, Loss: 0.7708\n",
      "Epoch 35/100, Loss: 0.7191\n",
      "Epoch 36/100, Loss: 0.6706\n",
      "Epoch 37/100, Loss: 0.6368\n",
      "Epoch 38/100, Loss: 0.6103\n",
      "Epoch 39/100, Loss: 0.6197\n",
      "Epoch 40/100, Loss: 0.5671\n",
      "Epoch 41/100, Loss: 0.5411\n",
      "Epoch 42/100, Loss: 0.5294\n",
      "Epoch 43/100, Loss: 0.4978\n",
      "Epoch 44/100, Loss: 0.4806\n",
      "Epoch 45/100, Loss: 0.4643\n",
      "Epoch 46/100, Loss: 0.4855\n",
      "Epoch 47/100, Loss: 0.4617\n",
      "Epoch 48/100, Loss: 0.4147\n",
      "Epoch 49/100, Loss: 0.4035\n",
      "Epoch 50/100, Loss: 0.3900\n",
      "Epoch 51/100, Loss: 0.3717\n",
      "Epoch 52/100, Loss: 0.3597\n",
      "Epoch 53/100, Loss: 0.3498\n",
      "Epoch 54/100, Loss: 0.3432\n",
      "Epoch 55/100, Loss: 0.3300\n",
      "Epoch 56/100, Loss: 0.3246\n",
      "Epoch 57/100, Loss: 0.3164\n",
      "Epoch 58/100, Loss: 0.2982\n",
      "Epoch 59/100, Loss: 0.3014\n",
      "Epoch 60/100, Loss: 0.2865\n",
      "Epoch 61/100, Loss: 0.2728\n",
      "Epoch 62/100, Loss: 0.2658\n",
      "Epoch 63/100, Loss: 0.2600\n",
      "Epoch 64/100, Loss: 0.2533\n",
      "Epoch 65/100, Loss: 0.2553\n",
      "Epoch 66/100, Loss: 0.2444\n",
      "Epoch 67/100, Loss: 0.2359\n",
      "Epoch 68/100, Loss: 0.2296\n",
      "Epoch 69/100, Loss: 0.2219\n",
      "Epoch 70/100, Loss: 0.2132\n",
      "Epoch 71/100, Loss: 0.2122\n",
      "Epoch 72/100, Loss: 0.2124\n",
      "Epoch 73/100, Loss: 0.2051\n",
      "Epoch 74/100, Loss: 0.2014\n",
      "Epoch 75/100, Loss: 0.1924\n",
      "Epoch 76/100, Loss: 0.1939\n",
      "Epoch 77/100, Loss: 0.1842\n",
      "Epoch 78/100, Loss: 0.1823\n",
      "Epoch 79/100, Loss: 0.1760\n",
      "Epoch 80/100, Loss: 0.1838\n",
      "Epoch 81/100, Loss: 0.1856\n",
      "Epoch 82/100, Loss: 0.1731\n",
      "Epoch 83/100, Loss: 0.1635\n",
      "Epoch 84/100, Loss: 0.1617\n",
      "Epoch 85/100, Loss: 0.1535\n",
      "Epoch 86/100, Loss: 0.1559\n",
      "Epoch 87/100, Loss: 0.1498\n",
      "Epoch 88/100, Loss: 0.1391\n",
      "Epoch 89/100, Loss: 0.1450\n",
      "Epoch 90/100, Loss: 0.1349\n",
      "Epoch 91/100, Loss: 0.1339\n",
      "Epoch 92/100, Loss: 0.1369\n",
      "Epoch 93/100, Loss: 0.1239\n",
      "Epoch 94/100, Loss: 0.1223\n",
      "Epoch 95/100, Loss: 0.1224\n",
      "Epoch 96/100, Loss: 0.1230\n",
      "Epoch 97/100, Loss: 0.1192\n",
      "Epoch 98/100, Loss: 0.1146\n",
      "Epoch 99/100, Loss: 0.1075\n",
      "Epoch 100/100, Loss: 0.1078\n"
     ]
    }
   ],
   "source": [
    "num_epochs = 100\n",
    "train(heating_model, heating_train_loader, heating_criterion, heating_optimizer, num_epochs)"
   ]
  },
  {
   "cell_type": "code",
   "execution_count": 49,
   "metadata": {},
   "outputs": [],
   "source": [
    "# Predict\n",
    "heating_predictions, heating_actuals = evaluate(heating_model, heating_test_loader)"
   ]
  },
  {
   "cell_type": "code",
   "execution_count": 50,
   "metadata": {},
   "outputs": [
    {
     "data": {
      "image/png": "[encoded data removed]",
      "text/plain": [
       "<Figure size 1000x500 with 1 Axes>"
      ]
     },
     "metadata": {},
     "output_type": "display_data"
    }
   ],
   "source": [
    "# Plot train, test and predictions\n",
    "plt.figure(figsize=(10, 5))\n",
    "plt.plot(heating_train_timeseries.index, heating_train_timeseries[\"setpoint\"], label=\"Train\")\n",
    "plt.plot(heating_test_timeseries.index, heating_test_timeseries[\"setpoint\"], label=\"Test\")\n",
    "plt.plot(heating_test_timeseries.index[13:], heating_predictions, label=\"Predicted\")\n",
    "plt.title(\"Linear Regression Predictions\")\n",
    "plt.xlabel(\"Time Step\")\n",
    "plt.ylabel(\"Setpoint Value\")\n",
    "plt.legend()\n",
    "plt.xticks(rotation=45)\n",
    "plt.tight_layout()\n",
    "plt.show()"
   ]
  },
  {
   "cell_type": "markdown",
   "metadata": {},
   "source": [
    "## Cooling"
   ]
  },
  {
   "cell_type": "code",
   "execution_count": 51,
   "metadata": {},
   "outputs": [],
   "source": [
    "input_size = 69\n",
    "hidden_size_1 = 64\n",
    "hidden_size_2 = 32\n",
    "output_size = 1"
   ]
  },
  {
   "cell_type": "code",
   "execution_count": 52,
   "metadata": {},
   "outputs": [],
   "source": [
    "cooling_model = MLPModel(\n",
    "    input_size, \n",
    "    hidden_size_1=hidden_size_1, \n",
    "    hidden_size_2=hidden_size_2,\n",
    "    output_size=output_size)"
   ]
  },
  {
   "cell_type": "code",
   "execution_count": 53,
   "metadata": {},
   "outputs": [],
   "source": [
    "# Loss and optimizer\n",
    "cooling_criterion = nn.MSELoss()\n",
    "cooling_optimizer = optim.Adam(cooling_model.parameters(), lr=0.0001)"
   ]
  },
  {
   "cell_type": "code",
   "execution_count": 54,
   "metadata": {},
   "outputs": [
    {
     "name": "stderr",
     "output_type": "stream",
     "text": [
      "/Users/adrian/Documents/ICAI/TFG/Space-Conditioning-Electrification/.env/lib/python3.10/site-packages/torch/nn/modules/loss.py:610: UserWarning: Using a target size (torch.Size([44])) that is different to the input size (torch.Size([44, 1])). This will likely lead to incorrect results due to broadcasting. Please ensure they have the same size.\n",
      "  return F.mse_loss(input, target, reduction=self.reduction)\n"
     ]
    },
    {
     "name": "stdout",
     "output_type": "stream",
     "text": [
      "Epoch 1/100, Loss: 1469.0090\n",
      "Epoch 2/100, Loss: 127.4256\n",
      "Epoch 3/100, Loss: 28.3115\n",
      "Epoch 4/100, Loss: 16.4934\n",
      "Epoch 5/100, Loss: 12.5216\n",
      "Epoch 6/100, Loss: 10.2128\n",
      "Epoch 7/100, Loss: 8.8687\n",
      "Epoch 8/100, Loss: 7.9366\n",
      "Epoch 9/100, Loss: 7.2216\n",
      "Epoch 10/100, Loss: 6.5674\n",
      "Epoch 11/100, Loss: 5.9704\n",
      "Epoch 12/100, Loss: 5.5076\n",
      "Epoch 13/100, Loss: 5.1383\n",
      "Epoch 14/100, Loss: 4.8142\n",
      "Epoch 15/100, Loss: 4.4936\n",
      "Epoch 16/100, Loss: 4.2194\n",
      "Epoch 17/100, Loss: 3.9918\n",
      "Epoch 18/100, Loss: 3.7220\n",
      "Epoch 19/100, Loss: 3.5311\n",
      "Epoch 20/100, Loss: 3.2868\n",
      "Epoch 21/100, Loss: 3.1112\n",
      "Epoch 22/100, Loss: 2.8874\n",
      "Epoch 23/100, Loss: 2.7314\n",
      "Epoch 24/100, Loss: 2.5969\n",
      "Epoch 25/100, Loss: 2.4857\n",
      "Epoch 26/100, Loss: 2.3987\n",
      "Epoch 27/100, Loss: 2.3072\n",
      "Epoch 28/100, Loss: 2.2445\n",
      "Epoch 29/100, Loss: 2.1446\n",
      "Epoch 30/100, Loss: 2.1505\n",
      "Epoch 31/100, Loss: 2.0393\n",
      "Epoch 32/100, Loss: 1.9588\n",
      "Epoch 33/100, Loss: 1.9057\n",
      "Epoch 34/100, Loss: 1.8783\n",
      "Epoch 35/100, Loss: 1.8076\n",
      "Epoch 36/100, Loss: 1.7749\n",
      "Epoch 37/100, Loss: 1.7332\n",
      "Epoch 38/100, Loss: 1.6960\n",
      "Epoch 39/100, Loss: 1.7121\n",
      "Epoch 40/100, Loss: 1.6448\n",
      "Epoch 41/100, Loss: 1.6016\n",
      "Epoch 42/100, Loss: 1.5918\n",
      "Epoch 43/100, Loss: 1.5397\n",
      "Epoch 44/100, Loss: 1.5194\n",
      "Epoch 45/100, Loss: 1.4931\n",
      "Epoch 46/100, Loss: 1.5019\n",
      "Epoch 47/100, Loss: 1.4787\n",
      "Epoch 48/100, Loss: 1.4515\n",
      "Epoch 49/100, Loss: 1.4491\n",
      "Epoch 50/100, Loss: 1.4366\n",
      "Epoch 51/100, Loss: 1.4139\n",
      "Epoch 52/100, Loss: 1.4019\n",
      "Epoch 53/100, Loss: 1.3880\n",
      "Epoch 54/100, Loss: 1.4011\n",
      "Epoch 55/100, Loss: 1.3676\n",
      "Epoch 56/100, Loss: 1.3625\n",
      "Epoch 57/100, Loss: 1.3347\n",
      "Epoch 58/100, Loss: 1.3221\n",
      "Epoch 59/100, Loss: 1.3118\n",
      "Epoch 60/100, Loss: 1.3138\n",
      "Epoch 61/100, Loss: 1.3175\n",
      "Epoch 62/100, Loss: 1.2981\n",
      "Epoch 63/100, Loss: 1.2819\n",
      "Epoch 64/100, Loss: 1.2954\n",
      "Epoch 65/100, Loss: 1.2900\n",
      "Epoch 66/100, Loss: 1.2987\n",
      "Epoch 67/100, Loss: 1.2776\n",
      "Epoch 68/100, Loss: 1.2590\n",
      "Epoch 69/100, Loss: 1.2431\n",
      "Epoch 70/100, Loss: 1.2330\n",
      "Epoch 71/100, Loss: 1.2305\n",
      "Epoch 72/100, Loss: 1.2263\n",
      "Epoch 73/100, Loss: 1.2219\n",
      "Epoch 74/100, Loss: 1.2279\n",
      "Epoch 75/100, Loss: 1.2337\n",
      "Epoch 76/100, Loss: 1.2155\n",
      "Epoch 77/100, Loss: 1.2054\n",
      "Epoch 78/100, Loss: 1.2049\n",
      "Epoch 79/100, Loss: 1.2830\n",
      "Epoch 80/100, Loss: 1.1946\n",
      "Epoch 81/100, Loss: 1.2203\n",
      "Epoch 82/100, Loss: 1.2002\n",
      "Epoch 83/100, Loss: 1.1943\n",
      "Epoch 84/100, Loss: 1.1887\n",
      "Epoch 85/100, Loss: 1.1661\n",
      "Epoch 86/100, Loss: 1.1656\n",
      "Epoch 87/100, Loss: 1.1629\n",
      "Epoch 88/100, Loss: 1.1603\n",
      "Epoch 89/100, Loss: 1.1500\n",
      "Epoch 90/100, Loss: 1.1520\n",
      "Epoch 91/100, Loss: 1.1426\n",
      "Epoch 92/100, Loss: 1.1400\n",
      "Epoch 93/100, Loss: 1.1570\n",
      "Epoch 94/100, Loss: 1.1566\n",
      "Epoch 95/100, Loss: 1.1766\n",
      "Epoch 96/100, Loss: 1.1405\n",
      "Epoch 97/100, Loss: 1.1919\n",
      "Epoch 98/100, Loss: 1.1266\n",
      "Epoch 99/100, Loss: 1.1338\n",
      "Epoch 100/100, Loss: 1.1344\n"
     ]
    }
   ],
   "source": [
    "num_epochs = 100\n",
    "train(cooling_model, cooling_train_loader, cooling_criterion, cooling_optimizer, num_epochs)"
   ]
  },
  {
   "cell_type": "code",
   "execution_count": 55,
   "metadata": {},
   "outputs": [],
   "source": [
    "# Predict\n",
    "cooling_predictions, cooling_actuals = evaluate(cooling_model, cooling_test_loader)"
   ]
  },
  {
   "cell_type": "code",
   "execution_count": 56,
   "metadata": {},
   "outputs": [
    {
     "data": {
      "image/png": "[encoded data removed]",
      "text/plain": [
       "<Figure size 1000x500 with 1 Axes>"
      ]
     },
     "metadata": {},
     "output_type": "display_data"
    }
   ],
   "source": [
    "# Plot train, test and predictions\n",
    "plt.figure(figsize=(10, 5))\n",
    "plt.plot(cooling_train_timeseries.index, cooling_train_timeseries[\"setpoint\"], label=\"Train\")\n",
    "plt.plot(cooling_test_timeseries.index, cooling_test_timeseries[\"setpoint\"], label=\"Test\")\n",
    "plt.plot(cooling_test_timeseries.index[13:], cooling_predictions, label=\"Predicted\")\n",
    "plt.title(\"Linear Regression Predictions\")\n",
    "plt.xlabel(\"Time Step\")\n",
    "plt.ylabel(\"Setpoint Value\")\n",
    "plt.legend()\n",
    "plt.xticks(rotation=45)\n",
    "plt.tight_layout()\n",
    "plt.show()"
   ]
  },
  {
   "cell_type": "markdown",
   "metadata": {},
   "source": [
    "## Akaike"
   ]
  },
  {
   "cell_type": "code",
   "execution_count": 57,
   "metadata": {},
   "outputs": [],
   "source": [
    "def compute_aic(y_true, y_pred, num_params):\n",
    "    n = y_true.numel()\n",
    "    residuals = y_true - y_pred\n",
    "    rss = torch.sum(residuals ** 2).item()\n",
    "    sigma2 = rss / n\n",
    "    log_likelihood = -n/2 * (np.log(2 * np.pi * sigma2) + 1)\n",
    "    aic = 2 * num_params - 2 * log_likelihood\n",
    "    return aic"
   ]
  },
  {
   "cell_type": "code",
   "execution_count": 58,
   "metadata": {},
   "outputs": [],
   "source": [
    "heating_num_params = sum(p.numel() for p in heating_model.parameters() if p.requires_grad)"
   ]
  },
  {
   "cell_type": "code",
   "execution_count": 59,
   "metadata": {},
   "outputs": [],
   "source": [
    "heating_aic = compute_aic(\n",
    "    torch.tensor(heating_actuals), \n",
    "    torch.tensor(heating_predictions), \n",
    "    heating_num_params\n",
    ")"
   ]
  },
  {
   "cell_type": "code",
   "execution_count": 60,
   "metadata": {},
   "outputs": [
    {
     "data": {
      "text/plain": [
       "np.float64(20416.106262654495)"
      ]
     },
     "execution_count": 60,
     "metadata": {},
     "output_type": "execute_result"
    }
   ],
   "source": [
    "heating_aic"
   ]
  },
  {
   "cell_type": "code",
   "execution_count": 61,
   "metadata": {},
   "outputs": [
    {
     "data": {
      "text/plain": [
       "np.float64(20164.28885662041)"
      ]
     },
     "execution_count": 61,
     "metadata": {},
     "output_type": "execute_result"
    }
   ],
   "source": [
    "cooling_num_params = sum(p.numel() for p in cooling_model.parameters() if p.requires_grad)\n",
    "cooling_aic = compute_aic(\n",
    "    torch.tensor(cooling_actuals), \n",
    "    torch.tensor(cooling_predictions), \n",
    "    cooling_num_params\n",
    ")\n",
    "cooling_aic"
   ]
  },
  {
   "cell_type": "markdown",
   "metadata": {},
   "source": [
    "# ARIMA"
   ]
  },
  {
   "cell_type": "markdown",
   "metadata": {},
   "source": [
    "## Add lag to variables"
   ]
  },
  {
   "cell_type": "code",
   "execution_count": 62,
   "metadata": {},
   "outputs": [],
   "source": [
    "import warnings\n",
    "warnings.filterwarnings(\"ignore\")\n",
    "\n",
    "# Add lag of 1 to consumption, and create new temperature column with lag 1\n",
    "heating_exog_train[\"temperature_lag_1\"] = heating_exog_train[\"temperature\"].shift(1)\n",
    "heating_exog_train[\"consumption_lag_1\"] = heating_exog_train[\"consumption\"].shift(1)\n",
    "heating_exog_train.drop(columns=[\"consumption\"], inplace=True)\n",
    "heating_exog_train.bfill(inplace=True)\n",
    "\n",
    "heating_exog_test[\"temperature_lag_1\"] = heating_exog_test[\"temperature\"].shift(1)\n",
    "heating_exog_test[\"consumption_lag_1\"] = heating_exog_test[\"consumption\"].shift(1)\n",
    "heating_exog_test.drop(columns=[\"consumption\"], inplace=True)\n",
    "heating_exog_test.bfill(inplace=True)\n",
    "\n",
    "cooling_exog_train[\"temperature_lag_1\"] = cooling_exog_train[\"temperature\"].shift(1)\n",
    "cooling_exog_train[\"consumption_lag_1\"] = cooling_exog_train[\"consumption\"].shift(1)\n",
    "cooling_exog_train.drop(columns=[\"consumption\"], inplace=True)\n",
    "cooling_exog_train.bfill(inplace=True)\n",
    "\n",
    "cooling_exog_test[\"temperature_lag_1\"] = cooling_exog_test[\"temperature\"].shift(1)\n",
    "cooling_exog_test[\"consumption_lag_1\"] = cooling_exog_test[\"consumption\"].shift(1)\n",
    "cooling_exog_test.drop(columns=[\"consumption\"], inplace=True)\n",
    "cooling_exog_test.bfill(inplace=True)"
   ]
  },
  {
   "cell_type": "code",
   "execution_count": 63,
   "metadata": {},
   "outputs": [
    {
     "data": {
      "text/html": [
       "<div>\n",
       "<style scoped>\n",
       "    .dataframe tbody tr th:only-of-type {\n",
       "        vertical-align: middle;\n",
       "    }\n",
       "\n",
       "    .dataframe tbody tr th {\n",
       "        vertical-align: top;\n",
       "    }\n",
       "\n",
       "    .dataframe thead th {\n",
       "        text-align: right;\n",
       "    }\n",
       "</style>\n",
       "<table border=\"1\" class=\"dataframe\">\n",
       "  <thead>\n",
       "    <tr style=\"text-align: right;\">\n",
       "      <th></th>\n",
       "      <th>temperature</th>\n",
       "      <th>Direct Normal Radiation [W/m2]</th>\n",
       "      <th>temperature_lag_1</th>\n",
       "      <th>consumption_lag_1</th>\n",
       "    </tr>\n",
       "    <tr>\n",
       "      <th>timestamp</th>\n",
       "      <th></th>\n",
       "      <th></th>\n",
       "      <th></th>\n",
       "      <th></th>\n",
       "    </tr>\n",
       "  </thead>\n",
       "  <tbody>\n",
       "    <tr>\n",
       "      <th>2018-01-01 00:00:00</th>\n",
       "      <td>1.04</td>\n",
       "      <td>0.0</td>\n",
       "      <td>1.04</td>\n",
       "      <td>4.691970</td>\n",
       "    </tr>\n",
       "    <tr>\n",
       "      <th>2018-01-01 01:00:00</th>\n",
       "      <td>1.04</td>\n",
       "      <td>0.0</td>\n",
       "      <td>1.04</td>\n",
       "      <td>4.691970</td>\n",
       "    </tr>\n",
       "    <tr>\n",
       "      <th>2018-01-01 02:00:00</th>\n",
       "      <td>-0.04</td>\n",
       "      <td>0.0</td>\n",
       "      <td>1.04</td>\n",
       "      <td>5.008804</td>\n",
       "    </tr>\n",
       "    <tr>\n",
       "      <th>2018-01-01 03:00:00</th>\n",
       "      <td>-2.02</td>\n",
       "      <td>0.0</td>\n",
       "      <td>-0.04</td>\n",
       "      <td>4.799112</td>\n",
       "    </tr>\n",
       "    <tr>\n",
       "      <th>2018-01-01 04:00:00</th>\n",
       "      <td>-2.02</td>\n",
       "      <td>0.0</td>\n",
       "      <td>-2.02</td>\n",
       "      <td>4.963452</td>\n",
       "    </tr>\n",
       "  </tbody>\n",
       "</table>\n",
       "</div>"
      ],
      "text/plain": [
       "                     temperature  Direct Normal Radiation [W/m2]  \\\n",
       "timestamp                                                          \n",
       "2018-01-01 00:00:00         1.04                             0.0   \n",
       "2018-01-01 01:00:00         1.04                             0.0   \n",
       "2018-01-01 02:00:00        -0.04                             0.0   \n",
       "2018-01-01 03:00:00        -2.02                             0.0   \n",
       "2018-01-01 04:00:00        -2.02                             0.0   \n",
       "\n",
       "                     temperature_lag_1  consumption_lag_1  \n",
       "timestamp                                                  \n",
       "2018-01-01 00:00:00               1.04           4.691970  \n",
       "2018-01-01 01:00:00               1.04           4.691970  \n",
       "2018-01-01 02:00:00               1.04           5.008804  \n",
       "2018-01-01 03:00:00              -0.04           4.799112  \n",
       "2018-01-01 04:00:00              -2.02           4.963452  "
      ]
     },
     "execution_count": 63,
     "metadata": {},
     "output_type": "execute_result"
    }
   ],
   "source": [
    "heating_exog_train.head()"
   ]
  },
  {
   "cell_type": "markdown",
   "metadata": {},
   "source": [
    "## Heating"
   ]
  },
  {
   "cell_type": "code",
   "execution_count": 64,
   "metadata": {},
   "outputs": [],
   "source": [
    "# Make sure heating_endog_train and heating_exog_train have hourly frequency\n",
    "heating_endog_train = heating_endog_train.asfreq('h')\n",
    "heating_exog_train = heating_exog_train.asfreq('h')\n",
    "\n",
    "heating_endog_train.ffill(inplace=True)\n",
    "heating_exog_train.ffill(inplace=True)\n",
    "heating_endog_train.bfill(inplace=True)\n",
    "heating_exog_train.bfill(inplace=True)"
   ]
  },
  {
   "cell_type": "code",
   "execution_count": 65,
   "metadata": {},
   "outputs": [],
   "source": [
    "heating_arima_model = ARIMA(\n",
    "    endog=heating_endog_train,\n",
    "    exog=heating_exog_train,\n",
    "    order=(0, 0, 0),\n",
    "    freq=\"h\",\n",
    ")"
   ]
  },
  {
   "cell_type": "code",
   "execution_count": 66,
   "metadata": {},
   "outputs": [],
   "source": [
    "heating_arima_model_fit = heating_arima_model.fit()"
   ]
  },
  {
   "cell_type": "code",
   "execution_count": 67,
   "metadata": {},
   "outputs": [
    {
     "name": "stdout",
     "output_type": "stream",
     "text": [
      "                               SARIMAX Results                                \n",
      "==============================================================================\n",
      "Dep. Variable:               setpoint   No. Observations:                 7724\n",
      "Model:                          ARIMA   Log Likelihood               81827.955\n",
      "Date:                Wed, 04 Jun 2025   AIC                        -163643.910\n",
      "Time:                        11:56:01   BIC                        -163602.198\n",
      "Sample:                    01-01-2018   HQIC                       -163629.607\n",
      "                         - 11-18-2018                                         \n",
      "Covariance Type:                  opg                                         \n",
      "==================================================================================================\n",
      "                                     coef    std err          z      P>|z|      [0.025      0.975]\n",
      "--------------------------------------------------------------------------------------------------\n",
      "const                             76.0000   8.06e-23   9.42e+23      0.000      76.000      76.000\n",
      "temperature                    -9.034e-15   4.94e-21  -1.83e+06      0.000   -9.03e-15   -9.03e-15\n",
      "Direct Normal Radiation [W/m2]   1.98e-16   9.42e-21    2.1e+04      0.000    1.98e-16    1.98e-16\n",
      "temperature_lag_1               1.044e-14   5.04e-21   2.07e+06      0.000    1.04e-14    1.04e-14\n",
      "consumption_lag_1              -6.328e-14   2.25e-23  -2.81e+09      0.000   -6.33e-14   -6.33e-14\n",
      "sigma2                              1e-10   2.25e-11      4.435      0.000    5.58e-11    1.44e-10\n",
      "===================================================================================\n",
      "Ljung-Box (L1) (Q):                7207.04   Jarque-Bera (JB):              1163.47\n",
      "Prob(Q):                              0.00   Prob(JB):                         0.00\n",
      "Heteroskedasticity (H):               3.67   Skew:                             0.90\n",
      "Prob(H) (two-sided):                  0.00   Kurtosis:                         3.62\n",
      "===================================================================================\n",
      "\n",
      "Warnings:\n",
      "[1] Covariance matrix calculated using the outer product of gradients (complex-step).\n",
      "[2] Covariance matrix is singular or near-singular, with condition number 2.9e+39. Standard errors may be unstable.\n"
     ]
    }
   ],
   "source": [
    "print(heating_arima_model_fit.summary())"
   ]
  },
  {
   "cell_type": "code",
   "execution_count": 68,
   "metadata": {},
   "outputs": [
    {
     "data": {
      "image/png": "[encoded data removed]",
      "text/plain": [
       "<Figure size 1000x800 with 2 Axes>"
      ]
     },
     "metadata": {},
     "output_type": "display_data"
    }
   ],
   "source": [
    "# Plot ACF and PACF\n",
    "\n",
    "fig, ax = plt.subplots(2, 1, figsize=(10, 8))\n",
    "plot_acf(heating_arima_model_fit.resid, lags=50, ax=ax[0])\n",
    "plot_pacf(heating_arima_model_fit.resid, lags=50, ax=ax[1])\n",
    "plt.title(\"ACF and PACF\")\n",
    "plt.tight_layout()\n",
    "plt.show()"
   ]
  },
  {
   "cell_type": "code",
   "execution_count": 69,
   "metadata": {},
   "outputs": [],
   "source": [
    "# Predict\n",
    "predictions = heating_arima_model_fit.get_forecast(steps=len(heating_endog_test), exog=heating_exog_test)\n",
    "predicted_mean = predictions.predicted_mean\n",
    "predicted_conf_int = predictions.conf_int()\n",
    "lower_limits = predicted_conf_int.iloc[:, 0]\n",
    "upper_limits = predicted_conf_int.iloc[:, 1]\n",
    "predicted_mean = pd.Series(predicted_mean, index=heating_endog_test.index)"
   ]
  },
  {
   "cell_type": "code",
   "execution_count": 70,
   "metadata": {},
   "outputs": [
    {
     "data": {
      "image/png": "[encoded data removed]",
      "text/plain": [
       "<Figure size 1000x500 with 1 Axes>"
      ]
     },
     "metadata": {},
     "output_type": "display_data"
    }
   ],
   "source": [
    "# Plot predictions\n",
    "plt.figure(figsize=(10, 5))\n",
    "plt.plot(heating_endog_train.index, heating_endog_train[\"setpoint\"], label=\"Train\")\n",
    "plt.plot(heating_endog_test.index, heating_endog_test[\"setpoint\"], label=\"Test\")\n",
    "plt.plot(predicted_mean.index, predicted_mean, label=\"Predicted\")\n",
    "plt.title(\"ARIMA Predictions\")\n",
    "plt.xlabel(\"Date\")\n",
    "plt.ylabel(\"Setpoint Value\")\n",
    "plt.legend()\n",
    "plt.xticks(rotation=45)\n",
    "plt.tight_layout()\n",
    "plt.show()"
   ]
  },
  {
   "cell_type": "code",
   "execution_count": 71,
   "metadata": {},
   "outputs": [
    {
     "data": {
      "text/plain": [
       "const                             7.600000e+01\n",
       "temperature                      -9.034440e-15\n",
       "Direct Normal Radiation [W/m2]    1.979753e-16\n",
       "temperature_lag_1                 1.043610e-14\n",
       "consumption_lag_1                -6.328271e-14\n",
       "sigma2                            1.000000e-10\n",
       "dtype: float64"
      ]
     },
     "execution_count": 71,
     "metadata": {},
     "output_type": "execute_result"
    }
   ],
   "source": [
    "heating_arima_model_fit.params"
   ]
  },
  {
   "cell_type": "markdown",
   "metadata": {},
   "source": [
    "## Cooling"
   ]
  },
  {
   "cell_type": "code",
   "execution_count": 72,
   "metadata": {},
   "outputs": [],
   "source": [
    "# Make sure heating_endog_train and heating_exog_train have hourly frequency\n",
    "cooling_endog_train = cooling_endog_train.asfreq('h')\n",
    "cooling_exog_train = cooling_exog_train.asfreq('h')\n",
    "\n",
    "cooling_endog_train.ffill(inplace=True)\n",
    "cooling_exog_train.ffill(inplace=True)\n",
    "cooling_endog_train.bfill(inplace=True)\n",
    "cooling_exog_train.bfill(inplace=True)"
   ]
  },
  {
   "cell_type": "code",
   "execution_count": 73,
   "metadata": {},
   "outputs": [],
   "source": [
    "cooling_arima_model = ARIMA(\n",
    "    endog=cooling_endog_train,\n",
    "    exog=cooling_exog_train,\n",
    "    order=(1, 0, 0),\n",
    "    seasonal_order=(1, 0, 0, 24),\n",
    "    freq=\"h\",\n",
    ")"
   ]
  },
  {
   "cell_type": "code",
   "execution_count": 74,
   "metadata": {},
   "outputs": [],
   "source": [
    "cooling_arima_model_fit = cooling_arima_model.fit()"
   ]
  },
  {
   "cell_type": "code",
   "execution_count": 75,
   "metadata": {},
   "outputs": [
    {
     "name": "stdout",
     "output_type": "stream",
     "text": [
      "                                    SARIMAX Results                                     \n",
      "========================================================================================\n",
      "Dep. Variable:                         setpoint   No. Observations:                 2937\n",
      "Model:             ARIMA(1, 0, 0)x(1, 0, 0, 24)   Log Likelihood                8405.049\n",
      "Date:                          Wed, 04 Jun 2025   AIC                         -16794.097\n",
      "Time:                                  11:56:10   BIC                         -16746.216\n",
      "Sample:                              06-01-2018   HQIC                        -16776.856\n",
      "                                   - 10-01-2018                                         \n",
      "Covariance Type:                            opg                                         \n",
      "==================================================================================================\n",
      "                                     coef    std err          z      P>|z|      [0.025      0.975]\n",
      "--------------------------------------------------------------------------------------------------\n",
      "const                             69.5000      2.308     30.113      0.000      64.976      74.024\n",
      "temperature                        0.0023      0.000     19.700      0.000       0.002       0.003\n",
      "Direct Normal Radiation [W/m2] -7.174e-05   1.47e-06    -48.910      0.000   -7.46e-05   -6.89e-05\n",
      "temperature_lag_1                 -0.0024   8.98e-05    -26.894      0.000      -0.003      -0.002\n",
      "consumption_lag_1                 -0.1253      0.008    -15.511      0.000      -0.141      -0.109\n",
      "ar.L1                              0.9794      0.011     86.896      0.000       0.957       1.001\n",
      "ar.S.L24                           0.9961      0.000   5993.124      0.000       0.996       0.996\n",
      "sigma2                             0.0002   7.89e-06     25.246      0.000       0.000       0.000\n",
      "===================================================================================\n",
      "Ljung-Box (L1) (Q):                  20.98   Jarque-Bera (JB):             44632.62\n",
      "Prob(Q):                              0.00   Prob(JB):                         0.00\n",
      "Heteroskedasticity (H):               0.64   Skew:                            -0.15\n",
      "Prob(H) (two-sided):                  0.00   Kurtosis:                        22.10\n",
      "===================================================================================\n",
      "\n",
      "Warnings:\n",
      "[1] Covariance matrix calculated using the outer product of gradients (complex-step).\n"
     ]
    }
   ],
   "source": [
    "print(cooling_arima_model_fit.summary())"
   ]
  },
  {
   "cell_type": "code",
   "execution_count": 76,
   "metadata": {},
   "outputs": [
    {
     "data": {
      "image/png": "[encoded data removed]",
      "text/plain": [
       "<Figure size 1000x800 with 2 Axes>"
      ]
     },
     "metadata": {},
     "output_type": "display_data"
    }
   ],
   "source": [
    "# Plot ACF and PACF\n",
    "\n",
    "fig, ax = plt.subplots(2, 1, figsize=(10, 8))\n",
    "plot_acf(cooling_arima_model_fit.resid, lags=50, ax=ax[0])\n",
    "plot_pacf(cooling_arima_model_fit.resid, lags=50, ax=ax[1])\n",
    "plt.title(\"ACF and PACF\")\n",
    "plt.tight_layout()\n",
    "plt.show()"
   ]
  },
  {
   "cell_type": "code",
   "execution_count": 77,
   "metadata": {},
   "outputs": [],
   "source": [
    "# Predict\n",
    "predictions = cooling_arima_model_fit.get_forecast(steps=len(cooling_endog_test), exog=cooling_exog_test)\n",
    "predicted_mean = predictions.predicted_mean\n",
    "predicted_conf_int = predictions.conf_int()\n",
    "lower_limits = predicted_conf_int.iloc[:, 0]\n",
    "upper_limits = predicted_conf_int.iloc[:, 1]\n",
    "predicted_mean = pd.Series(predicted_mean, index=cooling_endog_test.index)"
   ]
  },
  {
   "cell_type": "code",
   "execution_count": 78,
   "metadata": {},
   "outputs": [
    {
     "data": {
      "image/png": "[encoded data removed]",
      "text/plain": [
       "<Figure size 1000x500 with 1 Axes>"
      ]
     },
     "metadata": {},
     "output_type": "display_data"
    }
   ],
   "source": [
    "# Plot predictions\n",
    "plt.figure(figsize=(10, 5))\n",
    "plt.plot(cooling_endog_train.index, cooling_endog_train[\"setpoint\"], label=\"Train\")\n",
    "plt.plot(cooling_endog_test.index, cooling_endog_test[\"setpoint\"], label=\"Test\")\n",
    "plt.plot(predicted_mean.index, predicted_mean, label=\"Predicted\")\n",
    "plt.title(\"ARIMA Predictions\")\n",
    "plt.xlabel(\"Date\")\n",
    "plt.ylabel(\"Setpoint Value\")\n",
    "plt.legend()\n",
    "plt.xticks(rotation=45)\n",
    "plt.tight_layout()\n",
    "plt.show()"
   ]
  },
  {
   "cell_type": "code",
   "execution_count": 79,
   "metadata": {},
   "outputs": [
    {
     "name": "stdout",
     "output_type": "stream",
     "text": [
      "const                             69.500000\n",
      "temperature                        0.002301\n",
      "Direct Normal Radiation [W/m2]    -0.000072\n",
      "temperature_lag_1                 -0.002414\n",
      "consumption_lag_1                 -0.125335\n",
      "ar.L1                              0.979393\n",
      "ar.S.L24                           0.996084\n",
      "sigma2                             0.000199\n",
      "dtype: float64\n"
     ]
    }
   ],
   "source": [
    "# Print arima parameters\n",
    "print(cooling_arima_model_fit.params)"
   ]
  },
  {
   "cell_type": "markdown",
   "metadata": {},
   "source": [
    "# Linear Regression"
   ]
  },
  {
   "cell_type": "markdown",
   "metadata": {},
   "source": [
    "## Heating"
   ]
  },
  {
   "cell_type": "code",
   "execution_count": 80,
   "metadata": {},
   "outputs": [],
   "source": [
    "heating_train = pd.merge(heating_endog_train, heating_exog_train, left_index=True, right_index=True)\n",
    "heating_test = pd.merge(heating_endog_test, heating_exog_test, left_index=True, right_index=True)"
   ]
  },
  {
   "cell_type": "code",
   "execution_count": 81,
   "metadata": {},
   "outputs": [],
   "source": [
    "# Set heating labels to the setpoint column\n",
    "heating_train_labels = heating_train[\"setpoint\"].values\n",
    "heating_test_labels = heating_test[\"setpoint\"].values"
   ]
  },
  {
   "cell_type": "code",
   "execution_count": 82,
   "metadata": {},
   "outputs": [],
   "source": [
    "# Shift setpoint so that each column has the value of the previous hour\n",
    "heating_train[\"setpoint\"] = heating_train[\"setpoint\"].shift(1)\n",
    "heating_test[\"setpoint\"] = heating_test[\"setpoint\"].shift(1)\n",
    "\n",
    "heating_train.ffill(inplace=True)\n",
    "heating_test.ffill(inplace=True)\n",
    "heating_train.bfill(inplace=True)\n",
    "heating_test.bfill(inplace=True)"
   ]
  },
  {
   "cell_type": "code",
   "execution_count": 83,
   "metadata": {},
   "outputs": [],
   "source": [
    "class LinearRegressionDataset(Dataset):\n",
    "    def __init__(self, data, labels):\n",
    "        self.data = data\n",
    "        self.labels = labels\n",
    "    \n",
    "    def __len__(self):\n",
    "        return len(self.data)\n",
    "    \n",
    "    def __getitem__(self, idx):\n",
    "        return torch.tensor(self.data[idx], dtype=torch.float32), torch.tensor(self.labels[idx], dtype=torch.float32)\n",
    "    \n",
    "    def convert_to_numpy(self):\n",
    "        return self.data"
   ]
  },
  {
   "cell_type": "code",
   "execution_count": 84,
   "metadata": {},
   "outputs": [],
   "source": [
    "heating_lr_dataset_train = LinearRegressionDataset(heating_train.values, heating_train_labels)\n",
    "heating_lr_dataset_test = LinearRegressionDataset(heating_test.values, heating_test_labels)"
   ]
  },
  {
   "cell_type": "code",
   "execution_count": 85,
   "metadata": {},
   "outputs": [],
   "source": [
    "heating_lr_dataloader_train = DataLoader(heating_lr_dataset_train, batch_size=batch_size, shuffle=True)\n",
    "heating_lr_dataloader_test = DataLoader(heating_lr_dataset_test, batch_size=batch_size, shuffle=False)"
   ]
  },
  {
   "cell_type": "code",
   "execution_count": 86,
   "metadata": {},
   "outputs": [],
   "source": [
    "lr_heating_model = LinearRegressionModel(input_size=heating_train.shape[1], output_size=1, bias=False)"
   ]
  },
  {
   "cell_type": "code",
   "execution_count": 87,
   "metadata": {},
   "outputs": [],
   "source": [
    "# Loss and optimizer\n",
    "heating_lr_criterion = nn.MSELoss()\n",
    "heating_lr_optimizer = optim.Adam(lr_heating_model.parameters(), lr=0.0001)"
   ]
  },
  {
   "cell_type": "code",
   "execution_count": 88,
   "metadata": {},
   "outputs": [
    {
     "name": "stdout",
     "output_type": "stream",
     "text": [
      "Epoch 1/300, Loss: 14851.5913\n",
      "Epoch 2/300, Loss: 14336.5450\n",
      "Epoch 3/300, Loss: 13840.0667\n",
      "Epoch 4/300, Loss: 13347.1565\n",
      "Epoch 5/300, Loss: 12882.6404\n",
      "Epoch 6/300, Loss: 12423.3452\n",
      "Epoch 7/300, Loss: 11975.1043\n",
      "Epoch 8/300, Loss: 11536.6289\n",
      "Epoch 9/300, Loss: 11114.8313\n",
      "Epoch 10/300, Loss: 10700.2906\n",
      "Epoch 11/300, Loss: 10298.7748\n",
      "Epoch 12/300, Loss: 9909.6181\n",
      "Epoch 13/300, Loss: 9525.5859\n",
      "Epoch 14/300, Loss: 9153.1366\n",
      "Epoch 15/300, Loss: 8793.3286\n",
      "Epoch 16/300, Loss: 8442.1852\n",
      "Epoch 17/300, Loss: 8097.5049\n",
      "Epoch 18/300, Loss: 7765.0847\n",
      "Epoch 19/300, Loss: 7437.7193\n",
      "Epoch 20/300, Loss: 7124.9986\n",
      "Epoch 21/300, Loss: 6818.7649\n",
      "Epoch 22/300, Loss: 6519.9122\n",
      "Epoch 23/300, Loss: 6229.9530\n",
      "Epoch 24/300, Loss: 5949.4870\n",
      "Epoch 25/300, Loss: 5675.6855\n",
      "Epoch 26/300, Loss: 5412.1705\n",
      "Epoch 27/300, Loss: 5155.3950\n",
      "Epoch 28/300, Loss: 4906.1355\n",
      "Epoch 29/300, Loss: 4665.1513\n",
      "Epoch 30/300, Loss: 4430.6898\n",
      "Epoch 31/300, Loss: 4204.8103\n",
      "Epoch 32/300, Loss: 3986.2997\n",
      "Epoch 33/300, Loss: 3775.2057\n",
      "Epoch 34/300, Loss: 3571.4738\n",
      "Epoch 35/300, Loss: 3374.6018\n",
      "Epoch 36/300, Loss: 3184.0649\n",
      "Epoch 37/300, Loss: 3001.3644\n",
      "Epoch 38/300, Loss: 2825.0067\n",
      "Epoch 39/300, Loss: 2656.6744\n",
      "Epoch 40/300, Loss: 2493.3845\n",
      "Epoch 41/300, Loss: 2337.6450\n",
      "Epoch 42/300, Loss: 2188.0476\n",
      "Epoch 43/300, Loss: 2045.0081\n",
      "Epoch 44/300, Loss: 1908.8056\n",
      "Epoch 45/300, Loss: 1777.6579\n",
      "Epoch 46/300, Loss: 1653.2971\n",
      "Epoch 47/300, Loss: 1534.8101\n",
      "Epoch 48/300, Loss: 1422.7066\n",
      "Epoch 49/300, Loss: 1316.0975\n",
      "Epoch 50/300, Loss: 1215.2738\n",
      "Epoch 51/300, Loss: 1120.0033\n",
      "Epoch 52/300, Loss: 1029.8052\n",
      "Epoch 53/300, Loss: 945.2368\n",
      "Epoch 54/300, Loss: 866.2941\n",
      "Epoch 55/300, Loss: 792.1528\n",
      "Epoch 56/300, Loss: 722.4935\n",
      "Epoch 57/300, Loss: 658.3830\n",
      "Epoch 58/300, Loss: 598.5732\n",
      "Epoch 59/300, Loss: 543.4725\n",
      "Epoch 60/300, Loss: 492.4809\n",
      "Epoch 61/300, Loss: 445.9850\n",
      "Epoch 62/300, Loss: 403.4225\n",
      "Epoch 63/300, Loss: 364.3925\n",
      "Epoch 64/300, Loss: 329.3024\n",
      "Epoch 65/300, Loss: 297.7774\n",
      "Epoch 66/300, Loss: 269.6197\n",
      "Epoch 67/300, Loss: 244.2612\n",
      "Epoch 68/300, Loss: 222.0867\n",
      "Epoch 69/300, Loss: 202.5831\n",
      "Epoch 70/300, Loss: 185.4579\n",
      "Epoch 71/300, Loss: 170.4731\n",
      "Epoch 72/300, Loss: 157.7895\n",
      "Epoch 73/300, Loss: 146.7292\n",
      "Epoch 74/300, Loss: 137.6016\n",
      "Epoch 75/300, Loss: 129.9179\n",
      "Epoch 76/300, Loss: 123.3949\n",
      "Epoch 77/300, Loss: 117.7341\n",
      "Epoch 78/300, Loss: 113.2868\n",
      "Epoch 79/300, Loss: 109.5310\n",
      "Epoch 80/300, Loss: 106.4224\n",
      "Epoch 81/300, Loss: 103.8241\n",
      "Epoch 82/300, Loss: 101.6032\n",
      "Epoch 83/300, Loss: 99.6067\n",
      "Epoch 84/300, Loss: 97.9009\n",
      "Epoch 85/300, Loss: 96.2241\n",
      "Epoch 86/300, Loss: 94.6748\n",
      "Epoch 87/300, Loss: 93.1953\n",
      "Epoch 88/300, Loss: 91.7550\n",
      "Epoch 89/300, Loss: 90.2509\n",
      "Epoch 90/300, Loss: 88.8173\n",
      "Epoch 91/300, Loss: 87.0551\n",
      "Epoch 92/300, Loss: 85.5164\n",
      "Epoch 93/300, Loss: 83.7602\n",
      "Epoch 94/300, Loss: 82.1758\n",
      "Epoch 95/300, Loss: 80.3329\n",
      "Epoch 96/300, Loss: 78.6270\n",
      "Epoch 97/300, Loss: 76.6706\n",
      "Epoch 98/300, Loss: 74.9160\n",
      "Epoch 99/300, Loss: 73.0150\n",
      "Epoch 100/300, Loss: 70.9993\n",
      "Epoch 101/300, Loss: 68.8872\n",
      "Epoch 102/300, Loss: 66.9132\n",
      "Epoch 103/300, Loss: 64.8192\n",
      "Epoch 104/300, Loss: 62.7663\n",
      "Epoch 105/300, Loss: 60.6436\n",
      "Epoch 106/300, Loss: 58.4883\n",
      "Epoch 107/300, Loss: 56.3325\n",
      "Epoch 108/300, Loss: 54.1889\n",
      "Epoch 109/300, Loss: 52.0059\n",
      "Epoch 110/300, Loss: 49.8941\n",
      "Epoch 111/300, Loss: 47.7060\n",
      "Epoch 112/300, Loss: 45.6265\n",
      "Epoch 113/300, Loss: 43.4452\n",
      "Epoch 114/300, Loss: 41.3693\n",
      "Epoch 115/300, Loss: 39.2809\n",
      "Epoch 116/300, Loss: 37.2244\n",
      "Epoch 117/300, Loss: 35.2107\n",
      "Epoch 118/300, Loss: 33.2527\n",
      "Epoch 119/300, Loss: 31.3436\n",
      "Epoch 120/300, Loss: 29.4684\n",
      "Epoch 121/300, Loss: 27.6296\n",
      "Epoch 122/300, Loss: 25.8692\n",
      "Epoch 123/300, Loss: 24.1562\n",
      "Epoch 124/300, Loss: 22.5231\n",
      "Epoch 125/300, Loss: 20.9009\n",
      "Epoch 126/300, Loss: 19.3887\n",
      "Epoch 127/300, Loss: 17.9442\n",
      "Epoch 128/300, Loss: 16.5297\n",
      "Epoch 129/300, Loss: 15.2117\n",
      "Epoch 130/300, Loss: 13.9236\n",
      "Epoch 131/300, Loss: 12.7248\n",
      "Epoch 132/300, Loss: 11.5806\n",
      "Epoch 133/300, Loss: 10.5092\n",
      "Epoch 134/300, Loss: 9.5075\n",
      "Epoch 135/300, Loss: 8.5675\n",
      "Epoch 136/300, Loss: 7.6912\n",
      "Epoch 137/300, Loss: 6.8734\n",
      "Epoch 138/300, Loss: 6.1258\n",
      "Epoch 139/300, Loss: 5.4207\n",
      "Epoch 140/300, Loss: 4.7885\n",
      "Epoch 141/300, Loss: 4.2036\n",
      "Epoch 142/300, Loss: 3.6705\n",
      "Epoch 143/300, Loss: 3.1954\n",
      "Epoch 144/300, Loss: 2.7659\n",
      "Epoch 145/300, Loss: 2.3837\n",
      "Epoch 146/300, Loss: 2.0403\n",
      "Epoch 147/300, Loss: 1.7389\n",
      "Epoch 148/300, Loss: 1.4765\n",
      "Epoch 149/300, Loss: 1.2482\n",
      "Epoch 150/300, Loss: 1.0518\n",
      "Epoch 151/300, Loss: 0.8836\n",
      "Epoch 152/300, Loss: 0.7411\n",
      "Epoch 153/300, Loss: 0.6253\n",
      "Epoch 154/300, Loss: 0.5286\n",
      "Epoch 155/300, Loss: 0.4505\n",
      "Epoch 156/300, Loss: 0.3870\n",
      "Epoch 157/300, Loss: 0.3377\n",
      "Epoch 158/300, Loss: 0.2987\n",
      "Epoch 159/300, Loss: 0.2691\n",
      "Epoch 160/300, Loss: 0.2470\n",
      "Epoch 161/300, Loss: 0.2315\n",
      "Epoch 162/300, Loss: 0.2195\n",
      "Epoch 163/300, Loss: 0.2116\n",
      "Epoch 164/300, Loss: 0.2055\n",
      "Epoch 165/300, Loss: 0.2016\n",
      "Epoch 166/300, Loss: 0.1990\n",
      "Epoch 167/300, Loss: 0.1974\n",
      "Epoch 168/300, Loss: 0.1960\n",
      "Epoch 169/300, Loss: 0.1958\n",
      "Epoch 170/300, Loss: 0.1937\n",
      "Epoch 171/300, Loss: 0.1935\n",
      "Epoch 172/300, Loss: 0.1929\n",
      "Epoch 173/300, Loss: 0.1922\n",
      "Epoch 174/300, Loss: 0.1923\n",
      "Epoch 175/300, Loss: 0.1918\n",
      "Epoch 176/300, Loss: 0.1915\n",
      "Epoch 177/300, Loss: 0.1909\n",
      "Epoch 178/300, Loss: 0.1903\n",
      "Epoch 179/300, Loss: 0.1893\n",
      "Epoch 180/300, Loss: 0.1891\n",
      "Epoch 181/300, Loss: 0.1883\n",
      "Epoch 182/300, Loss: 0.1876\n",
      "Epoch 183/300, Loss: 0.1873\n",
      "Epoch 184/300, Loss: 0.1864\n",
      "Epoch 185/300, Loss: 0.1858\n",
      "Epoch 186/300, Loss: 0.1846\n",
      "Epoch 187/300, Loss: 0.1837\n",
      "Epoch 188/300, Loss: 0.1829\n",
      "Epoch 189/300, Loss: 0.1817\n",
      "Epoch 190/300, Loss: 0.1815\n",
      "Epoch 191/300, Loss: 0.1799\n",
      "Epoch 192/300, Loss: 0.1793\n",
      "Epoch 193/300, Loss: 0.1777\n",
      "Epoch 194/300, Loss: 0.1765\n",
      "Epoch 195/300, Loss: 0.1759\n",
      "Epoch 196/300, Loss: 0.1740\n",
      "Epoch 197/300, Loss: 0.1732\n",
      "Epoch 198/300, Loss: 0.1726\n",
      "Epoch 199/300, Loss: 0.1712\n",
      "Epoch 200/300, Loss: 0.1701\n",
      "Epoch 201/300, Loss: 0.1689\n",
      "Epoch 202/300, Loss: 0.1668\n",
      "Epoch 203/300, Loss: 0.1660\n",
      "Epoch 204/300, Loss: 0.1643\n",
      "Epoch 205/300, Loss: 0.1630\n",
      "Epoch 206/300, Loss: 0.1614\n",
      "Epoch 207/300, Loss: 0.1607\n",
      "Epoch 208/300, Loss: 0.1591\n",
      "Epoch 209/300, Loss: 0.1585\n",
      "Epoch 210/300, Loss: 0.1563\n",
      "Epoch 211/300, Loss: 0.1556\n",
      "Epoch 212/300, Loss: 0.1536\n",
      "Epoch 213/300, Loss: 0.1524\n",
      "Epoch 214/300, Loss: 0.1503\n",
      "Epoch 215/300, Loss: 0.1495\n",
      "Epoch 216/300, Loss: 0.1477\n",
      "Epoch 217/300, Loss: 0.1469\n",
      "Epoch 218/300, Loss: 0.1453\n",
      "Epoch 219/300, Loss: 0.1434\n",
      "Epoch 220/300, Loss: 0.1421\n",
      "Epoch 221/300, Loss: 0.1413\n",
      "Epoch 222/300, Loss: 0.1395\n",
      "Epoch 223/300, Loss: 0.1393\n",
      "Epoch 224/300, Loss: 0.1363\n",
      "Epoch 225/300, Loss: 0.1356\n",
      "Epoch 226/300, Loss: 0.1333\n",
      "Epoch 227/300, Loss: 0.1324\n",
      "Epoch 228/300, Loss: 0.1307\n",
      "Epoch 229/300, Loss: 0.1296\n",
      "Epoch 230/300, Loss: 0.1289\n",
      "Epoch 231/300, Loss: 0.1266\n",
      "Epoch 232/300, Loss: 0.1254\n",
      "Epoch 233/300, Loss: 0.1247\n",
      "Epoch 234/300, Loss: 0.1229\n",
      "Epoch 235/300, Loss: 0.1218\n",
      "Epoch 236/300, Loss: 0.1202\n",
      "Epoch 237/300, Loss: 0.1193\n",
      "Epoch 238/300, Loss: 0.1178\n",
      "Epoch 239/300, Loss: 0.1166\n",
      "Epoch 240/300, Loss: 0.1156\n",
      "Epoch 241/300, Loss: 0.1138\n",
      "Epoch 242/300, Loss: 0.1127\n",
      "Epoch 243/300, Loss: 0.1116\n",
      "Epoch 244/300, Loss: 0.1102\n",
      "Epoch 245/300, Loss: 0.1087\n",
      "Epoch 246/300, Loss: 0.1074\n",
      "Epoch 247/300, Loss: 0.1071\n",
      "Epoch 248/300, Loss: 0.1054\n",
      "Epoch 249/300, Loss: 0.1038\n",
      "Epoch 250/300, Loss: 0.1029\n",
      "Epoch 251/300, Loss: 0.1014\n",
      "Epoch 252/300, Loss: 0.1006\n",
      "Epoch 253/300, Loss: 0.0997\n",
      "Epoch 254/300, Loss: 0.0982\n",
      "Epoch 255/300, Loss: 0.0967\n",
      "Epoch 256/300, Loss: 0.0958\n",
      "Epoch 257/300, Loss: 0.0945\n",
      "Epoch 258/300, Loss: 0.0934\n",
      "Epoch 259/300, Loss: 0.0923\n",
      "Epoch 260/300, Loss: 0.0916\n",
      "Epoch 261/300, Loss: 0.0901\n",
      "Epoch 262/300, Loss: 0.0883\n",
      "Epoch 263/300, Loss: 0.0876\n",
      "Epoch 264/300, Loss: 0.0869\n",
      "Epoch 265/300, Loss: 0.0854\n",
      "Epoch 266/300, Loss: 0.0845\n",
      "Epoch 267/300, Loss: 0.0832\n",
      "Epoch 268/300, Loss: 0.0820\n",
      "Epoch 269/300, Loss: 0.0810\n",
      "Epoch 270/300, Loss: 0.0800\n",
      "Epoch 271/300, Loss: 0.0788\n",
      "Epoch 272/300, Loss: 0.0781\n",
      "Epoch 273/300, Loss: 0.0767\n",
      "Epoch 274/300, Loss: 0.0755\n",
      "Epoch 275/300, Loss: 0.0747\n",
      "Epoch 276/300, Loss: 0.0740\n",
      "Epoch 277/300, Loss: 0.0729\n",
      "Epoch 278/300, Loss: 0.0716\n",
      "Epoch 279/300, Loss: 0.0708\n",
      "Epoch 280/300, Loss: 0.0696\n",
      "Epoch 281/300, Loss: 0.0686\n",
      "Epoch 282/300, Loss: 0.0678\n",
      "Epoch 283/300, Loss: 0.0674\n",
      "Epoch 284/300, Loss: 0.0662\n",
      "Epoch 285/300, Loss: 0.0653\n",
      "Epoch 286/300, Loss: 0.0641\n",
      "Epoch 287/300, Loss: 0.0631\n",
      "Epoch 288/300, Loss: 0.0626\n",
      "Epoch 289/300, Loss: 0.0613\n",
      "Epoch 290/300, Loss: 0.0605\n",
      "Epoch 291/300, Loss: 0.0597\n",
      "Epoch 292/300, Loss: 0.0589\n",
      "Epoch 293/300, Loss: 0.0575\n",
      "Epoch 294/300, Loss: 0.0571\n",
      "Epoch 295/300, Loss: 0.0557\n",
      "Epoch 296/300, Loss: 0.0552\n",
      "Epoch 297/300, Loss: 0.0544\n",
      "Epoch 298/300, Loss: 0.0536\n",
      "Epoch 299/300, Loss: 0.0528\n",
      "Epoch 300/300, Loss: 0.0517\n"
     ]
    }
   ],
   "source": [
    "num_epochs = 300\n",
    "train(lr_heating_model, heating_lr_dataloader_train, heating_lr_criterion, heating_lr_optimizer, num_epochs)"
   ]
  },
  {
   "cell_type": "code",
   "execution_count": 89,
   "metadata": {},
   "outputs": [],
   "source": [
    "# predict\n",
    "heating_lr_predictions, heating_lr_actuals = evaluate(lr_heating_model, heating_lr_dataloader_test)"
   ]
  },
  {
   "cell_type": "code",
   "execution_count": 90,
   "metadata": {},
   "outputs": [
    {
     "data": {
      "image/png": "[encoded data removed]",
      "text/plain": [
       "<Figure size 1000x500 with 1 Axes>"
      ]
     },
     "metadata": {},
     "output_type": "display_data"
    }
   ],
   "source": [
    "# plot predictions\n",
    "plt.figure(figsize=(10, 5))\n",
    "plt.plot(heating_train.index, heating_train[\"setpoint\"], label=\"Train\")\n",
    "plt.plot(heating_test.index, heating_test[\"setpoint\"], label=\"Test\")\n",
    "plt.plot(heating_test.index, heating_lr_predictions, label=\"Predicted\")\n",
    "plt.title(\"Linear Regression Predictions\")\n",
    "plt.xlabel(\"Date\")\n",
    "plt.ylabel(\"Setpoint Value\")\n",
    "plt.legend()\n",
    "plt.xticks(rotation=45)\n",
    "plt.tight_layout()\n",
    "plt.show()"
   ]
  },
  {
   "cell_type": "markdown",
   "metadata": {},
   "source": [
    "## Cooling"
   ]
  },
  {
   "cell_type": "code",
   "execution_count": 91,
   "metadata": {},
   "outputs": [],
   "source": [
    "cooling_train = pd.merge(cooling_endog_train, cooling_exog_train, left_index=True, right_index=True)\n",
    "cooling_test = pd.merge(cooling_endog_test, cooling_exog_test, left_index=True, right_index=True)"
   ]
  },
  {
   "cell_type": "code",
   "execution_count": 92,
   "metadata": {},
   "outputs": [],
   "source": [
    "cooling_train_labels = cooling_train[\"setpoint\"].values\n",
    "cooling_test_labels = cooling_test[\"setpoint\"].values"
   ]
  },
  {
   "cell_type": "code",
   "execution_count": 93,
   "metadata": {},
   "outputs": [],
   "source": [
    "cooling_train[\"setpoint\"] = cooling_train[\"setpoint\"].shift(1)\n",
    "cooling_test[\"setpoint\"] = cooling_test[\"setpoint\"].shift(1)\n",
    "cooling_train.ffill(inplace=True)\n",
    "cooling_test.ffill(inplace=True)\n",
    "cooling_train.bfill(inplace=True)\n",
    "cooling_test.bfill(inplace=True)"
   ]
  },
  {
   "cell_type": "code",
   "execution_count": 94,
   "metadata": {},
   "outputs": [],
   "source": [
    "cooling_lr_dataset_train = LinearRegressionDataset(cooling_train.values, cooling_train_labels)\n",
    "cooling_lr_dataset_test = LinearRegressionDataset(cooling_test.values, cooling_test_labels)"
   ]
  },
  {
   "cell_type": "code",
   "execution_count": 95,
   "metadata": {},
   "outputs": [],
   "source": [
    "cooling_lr_dataloader_train = DataLoader(cooling_lr_dataset_train, batch_size=batch_size, shuffle=True)\n",
    "cooling_lr_dataloader_test = DataLoader(cooling_lr_dataset_test, batch_size=batch_size, shuffle=False)"
   ]
  },
  {
   "cell_type": "code",
   "execution_count": 96,
   "metadata": {},
   "outputs": [],
   "source": [
    "lr_cooling_model = LinearRegressionModel(input_size=cooling_train.shape[1], output_size=1, bias=True)"
   ]
  },
  {
   "cell_type": "code",
   "execution_count": 97,
   "metadata": {},
   "outputs": [],
   "source": [
    "cooling_lr_criterion = nn.MSELoss()\n",
    "cooling_lr_optimizer = optim.Adam(lr_cooling_model.parameters(), lr=0.0001)"
   ]
  },
  {
   "cell_type": "code",
   "execution_count": 98,
   "metadata": {},
   "outputs": [
    {
     "name": "stdout",
     "output_type": "stream",
     "text": [
      "Epoch 1/550, Loss: 27865.5336\n",
      "Epoch 2/550, Loss: 27095.9108\n",
      "Epoch 3/550, Loss: 26300.2187\n",
      "Epoch 4/550, Loss: 25551.5243\n",
      "Epoch 5/550, Loss: 24828.3458\n",
      "Epoch 6/550, Loss: 24063.5278\n",
      "Epoch 7/550, Loss: 23369.7676\n",
      "Epoch 8/550, Loss: 22665.3125\n",
      "Epoch 9/550, Loss: 21980.3119\n",
      "Epoch 10/550, Loss: 21306.7135\n",
      "Epoch 11/550, Loss: 20663.9916\n",
      "Epoch 12/550, Loss: 20028.2257\n",
      "Epoch 13/550, Loss: 19407.1243\n",
      "Epoch 14/550, Loss: 18805.4611\n",
      "Epoch 15/550, Loss: 18202.3902\n",
      "Epoch 16/550, Loss: 17625.3186\n",
      "Epoch 17/550, Loss: 17066.3545\n",
      "Epoch 18/550, Loss: 16505.8378\n",
      "Epoch 19/550, Loss: 15978.3537\n",
      "Epoch 20/550, Loss: 15447.9508\n",
      "Epoch 21/550, Loss: 14931.9890\n",
      "Epoch 22/550, Loss: 14428.9626\n",
      "Epoch 23/550, Loss: 13934.0963\n",
      "Epoch 24/550, Loss: 13466.1959\n",
      "Epoch 25/550, Loss: 12985.8923\n",
      "Epoch 26/550, Loss: 12538.0056\n",
      "Epoch 27/550, Loss: 12099.1746\n",
      "Epoch 28/550, Loss: 11663.5292\n",
      "Epoch 29/550, Loss: 11243.5363\n",
      "Epoch 30/550, Loss: 10830.5501\n",
      "Epoch 31/550, Loss: 10430.0981\n",
      "Epoch 32/550, Loss: 10049.3513\n",
      "Epoch 33/550, Loss: 9673.7999\n",
      "Epoch 34/550, Loss: 9312.0435\n",
      "Epoch 35/550, Loss: 8950.0128\n",
      "Epoch 36/550, Loss: 8603.3248\n",
      "Epoch 37/550, Loss: 8264.7834\n",
      "Epoch 38/550, Loss: 7934.6223\n",
      "Epoch 39/550, Loss: 7623.1123\n",
      "Epoch 40/550, Loss: 7311.8058\n",
      "Epoch 41/550, Loss: 7005.9017\n",
      "Epoch 42/550, Loss: 6715.9298\n",
      "Epoch 43/550, Loss: 6434.8616\n",
      "Epoch 44/550, Loss: 6165.5302\n",
      "Epoch 45/550, Loss: 5894.6346\n",
      "Epoch 46/550, Loss: 5644.6905\n",
      "Epoch 47/550, Loss: 5394.8897\n",
      "Epoch 48/550, Loss: 5153.4372\n",
      "Epoch 49/550, Loss: 4914.8502\n",
      "Epoch 50/550, Loss: 4694.1367\n",
      "Epoch 51/550, Loss: 4479.8222\n",
      "Epoch 52/550, Loss: 4266.5000\n",
      "Epoch 53/550, Loss: 4063.7138\n",
      "Epoch 54/550, Loss: 3869.1122\n",
      "Epoch 55/550, Loss: 3680.8406\n",
      "Epoch 56/550, Loss: 3499.6500\n",
      "Epoch 57/550, Loss: 3321.6203\n",
      "Epoch 58/550, Loss: 3156.8438\n",
      "Epoch 59/550, Loss: 2994.1243\n",
      "Epoch 60/550, Loss: 2838.2150\n",
      "Epoch 61/550, Loss: 2689.4606\n",
      "Epoch 62/550, Loss: 2542.0146\n",
      "Epoch 63/550, Loss: 2406.2332\n",
      "Epoch 64/550, Loss: 2273.3516\n",
      "Epoch 65/550, Loss: 2145.8624\n",
      "Epoch 66/550, Loss: 2025.0576\n",
      "Epoch 67/550, Loss: 1908.2870\n",
      "Epoch 68/550, Loss: 1796.2193\n",
      "Epoch 69/550, Loss: 1690.2042\n",
      "Epoch 70/550, Loss: 1590.3497\n",
      "Epoch 71/550, Loss: 1493.4065\n",
      "Epoch 72/550, Loss: 1403.1793\n",
      "Epoch 73/550, Loss: 1314.5629\n",
      "Epoch 74/550, Loss: 1233.3402\n",
      "Epoch 75/550, Loss: 1155.5956\n",
      "Epoch 76/550, Loss: 1079.5073\n",
      "Epoch 77/550, Loss: 1008.1384\n",
      "Epoch 78/550, Loss: 942.2729\n",
      "Epoch 79/550, Loss: 879.5298\n",
      "Epoch 80/550, Loss: 820.7289\n",
      "Epoch 81/550, Loss: 764.4474\n",
      "Epoch 82/550, Loss: 711.3286\n",
      "Epoch 83/550, Loss: 660.7613\n",
      "Epoch 84/550, Loss: 614.4111\n",
      "Epoch 85/550, Loss: 570.3404\n",
      "Epoch 86/550, Loss: 529.2873\n",
      "Epoch 87/550, Loss: 491.0838\n",
      "Epoch 88/550, Loss: 454.6978\n",
      "Epoch 89/550, Loss: 421.4884\n",
      "Epoch 90/550, Loss: 390.1796\n",
      "Epoch 91/550, Loss: 361.1184\n",
      "Epoch 92/550, Loss: 334.1826\n",
      "Epoch 93/550, Loss: 309.1579\n",
      "Epoch 94/550, Loss: 285.9529\n",
      "Epoch 95/550, Loss: 264.4941\n",
      "Epoch 96/550, Loss: 244.4189\n",
      "Epoch 97/550, Loss: 226.3478\n",
      "Epoch 98/550, Loss: 209.5656\n",
      "Epoch 99/550, Loss: 194.0469\n",
      "Epoch 100/550, Loss: 179.7753\n",
      "Epoch 101/550, Loss: 166.8298\n",
      "Epoch 102/550, Loss: 154.6363\n",
      "Epoch 103/550, Loss: 143.7971\n",
      "Epoch 104/550, Loss: 133.7380\n",
      "Epoch 105/550, Loss: 124.5751\n",
      "Epoch 106/550, Loss: 116.1693\n",
      "Epoch 107/550, Loss: 108.4380\n",
      "Epoch 108/550, Loss: 101.5092\n",
      "Epoch 109/550, Loss: 95.1175\n",
      "Epoch 110/550, Loss: 89.1844\n",
      "Epoch 111/550, Loss: 83.8901\n",
      "Epoch 112/550, Loss: 78.9924\n",
      "Epoch 113/550, Loss: 74.5141\n",
      "Epoch 114/550, Loss: 70.4362\n",
      "Epoch 115/550, Loss: 66.7248\n",
      "Epoch 116/550, Loss: 63.2646\n",
      "Epoch 117/550, Loss: 60.0570\n",
      "Epoch 118/550, Loss: 57.0808\n",
      "Epoch 119/550, Loss: 54.3570\n",
      "Epoch 120/550, Loss: 51.7666\n",
      "Epoch 121/550, Loss: 49.4516\n",
      "Epoch 122/550, Loss: 47.2083\n",
      "Epoch 123/550, Loss: 45.2008\n",
      "Epoch 124/550, Loss: 43.2429\n",
      "Epoch 125/550, Loss: 41.3861\n",
      "Epoch 126/550, Loss: 39.6484\n",
      "Epoch 127/550, Loss: 38.0917\n",
      "Epoch 128/550, Loss: 36.5000\n",
      "Epoch 129/550, Loss: 35.0640\n",
      "Epoch 130/550, Loss: 33.6273\n",
      "Epoch 131/550, Loss: 32.3425\n",
      "Epoch 132/550, Loss: 31.0295\n",
      "Epoch 133/550, Loss: 29.8212\n",
      "Epoch 134/550, Loss: 28.7150\n",
      "Epoch 135/550, Loss: 27.6062\n",
      "Epoch 136/550, Loss: 26.5253\n",
      "Epoch 137/550, Loss: 25.5145\n",
      "Epoch 138/550, Loss: 24.5779\n",
      "Epoch 139/550, Loss: 23.6833\n",
      "Epoch 140/550, Loss: 22.7600\n",
      "Epoch 141/550, Loss: 21.8903\n",
      "Epoch 142/550, Loss: 21.1641\n",
      "Epoch 143/550, Loss: 20.4179\n",
      "Epoch 144/550, Loss: 19.7055\n",
      "Epoch 145/550, Loss: 19.0336\n",
      "Epoch 146/550, Loss: 18.3940\n",
      "Epoch 147/550, Loss: 17.7779\n",
      "Epoch 148/550, Loss: 17.2277\n",
      "Epoch 149/550, Loss: 16.6855\n",
      "Epoch 150/550, Loss: 16.1631\n",
      "Epoch 151/550, Loss: 15.7121\n",
      "Epoch 152/550, Loss: 15.2651\n",
      "Epoch 153/550, Loss: 14.7984\n",
      "Epoch 154/550, Loss: 14.4652\n",
      "Epoch 155/550, Loss: 14.1065\n",
      "Epoch 156/550, Loss: 13.7759\n",
      "Epoch 157/550, Loss: 13.4563\n",
      "Epoch 158/550, Loss: 13.1494\n",
      "Epoch 159/550, Loss: 12.8746\n",
      "Epoch 160/550, Loss: 12.6280\n",
      "Epoch 161/550, Loss: 12.4008\n",
      "Epoch 162/550, Loss: 12.1791\n",
      "Epoch 163/550, Loss: 11.9959\n",
      "Epoch 164/550, Loss: 11.8329\n",
      "Epoch 165/550, Loss: 11.6923\n",
      "Epoch 166/550, Loss: 11.5026\n",
      "Epoch 167/550, Loss: 11.3857\n",
      "Epoch 168/550, Loss: 11.2859\n",
      "Epoch 169/550, Loss: 11.1771\n",
      "Epoch 170/550, Loss: 11.0695\n",
      "Epoch 171/550, Loss: 10.9749\n",
      "Epoch 172/550, Loss: 10.8841\n",
      "Epoch 173/550, Loss: 10.8061\n",
      "Epoch 174/550, Loss: 10.7453\n",
      "Epoch 175/550, Loss: 10.7106\n",
      "Epoch 176/550, Loss: 10.6302\n",
      "Epoch 177/550, Loss: 10.5584\n",
      "Epoch 178/550, Loss: 10.5134\n",
      "Epoch 179/550, Loss: 10.5043\n",
      "Epoch 180/550, Loss: 10.4319\n",
      "Epoch 181/550, Loss: 10.4046\n",
      "Epoch 182/550, Loss: 10.3797\n",
      "Epoch 183/550, Loss: 10.3483\n",
      "Epoch 184/550, Loss: 10.3070\n",
      "Epoch 185/550, Loss: 10.2839\n",
      "Epoch 186/550, Loss: 10.2910\n",
      "Epoch 187/550, Loss: 10.2393\n",
      "Epoch 188/550, Loss: 10.2031\n",
      "Epoch 189/550, Loss: 10.2056\n",
      "Epoch 190/550, Loss: 10.1763\n",
      "Epoch 191/550, Loss: 10.1488\n",
      "Epoch 192/550, Loss: 10.1634\n",
      "Epoch 193/550, Loss: 10.1329\n",
      "Epoch 194/550, Loss: 10.1164\n",
      "Epoch 195/550, Loss: 10.0743\n",
      "Epoch 196/550, Loss: 10.0668\n",
      "Epoch 197/550, Loss: 10.0784\n",
      "Epoch 198/550, Loss: 10.0271\n",
      "Epoch 199/550, Loss: 9.9957\n",
      "Epoch 200/550, Loss: 9.9482\n",
      "Epoch 201/550, Loss: 9.9498\n",
      "Epoch 202/550, Loss: 9.9482\n",
      "Epoch 203/550, Loss: 9.9220\n",
      "Epoch 204/550, Loss: 9.8749\n",
      "Epoch 205/550, Loss: 9.8399\n",
      "Epoch 206/550, Loss: 9.8440\n",
      "Epoch 207/550, Loss: 9.8029\n",
      "Epoch 208/550, Loss: 9.8108\n",
      "Epoch 209/550, Loss: 9.7848\n",
      "Epoch 210/550, Loss: 9.7455\n",
      "Epoch 211/550, Loss: 9.7030\n",
      "Epoch 212/550, Loss: 9.6757\n",
      "Epoch 213/550, Loss: 9.6840\n",
      "Epoch 214/550, Loss: 9.6209\n",
      "Epoch 215/550, Loss: 9.6332\n",
      "Epoch 216/550, Loss: 9.5936\n",
      "Epoch 217/550, Loss: 9.5395\n",
      "Epoch 218/550, Loss: 9.5210\n",
      "Epoch 219/550, Loss: 9.5259\n",
      "Epoch 220/550, Loss: 9.4717\n",
      "Epoch 221/550, Loss: 9.4389\n",
      "Epoch 222/550, Loss: 9.4300\n",
      "Epoch 223/550, Loss: 9.3947\n",
      "Epoch 224/550, Loss: 9.3667\n",
      "Epoch 225/550, Loss: 9.3205\n",
      "Epoch 226/550, Loss: 9.2857\n",
      "Epoch 227/550, Loss: 9.2654\n",
      "Epoch 228/550, Loss: 9.1991\n",
      "Epoch 229/550, Loss: 9.2008\n",
      "Epoch 230/550, Loss: 9.1697\n",
      "Epoch 231/550, Loss: 9.1065\n",
      "Epoch 232/550, Loss: 9.0809\n",
      "Epoch 233/550, Loss: 9.0240\n",
      "Epoch 234/550, Loss: 8.9877\n",
      "Epoch 235/550, Loss: 8.9724\n",
      "Epoch 236/550, Loss: 8.9317\n",
      "Epoch 237/550, Loss: 8.9061\n",
      "Epoch 238/550, Loss: 8.8592\n",
      "Epoch 239/550, Loss: 8.8122\n",
      "Epoch 240/550, Loss: 8.7744\n",
      "Epoch 241/550, Loss: 8.7380\n",
      "Epoch 242/550, Loss: 8.6748\n",
      "Epoch 243/550, Loss: 8.6484\n",
      "Epoch 244/550, Loss: 8.5902\n",
      "Epoch 245/550, Loss: 8.5715\n",
      "Epoch 246/550, Loss: 8.5292\n",
      "Epoch 247/550, Loss: 8.4703\n",
      "Epoch 248/550, Loss: 8.4222\n",
      "Epoch 249/550, Loss: 8.3918\n",
      "Epoch 250/550, Loss: 8.3437\n",
      "Epoch 251/550, Loss: 8.2892\n",
      "Epoch 252/550, Loss: 8.2338\n",
      "Epoch 253/550, Loss: 8.2046\n",
      "Epoch 254/550, Loss: 8.1301\n",
      "Epoch 255/550, Loss: 8.1178\n",
      "Epoch 256/550, Loss: 8.0264\n",
      "Epoch 257/550, Loss: 8.0130\n",
      "Epoch 258/550, Loss: 7.9142\n",
      "Epoch 259/550, Loss: 7.8628\n",
      "Epoch 260/550, Loss: 7.8427\n",
      "Epoch 261/550, Loss: 7.7890\n",
      "Epoch 262/550, Loss: 7.7380\n",
      "Epoch 263/550, Loss: 7.6823\n",
      "Epoch 264/550, Loss: 7.6460\n",
      "Epoch 265/550, Loss: 7.5884\n",
      "Epoch 266/550, Loss: 7.5226\n",
      "Epoch 267/550, Loss: 7.4718\n",
      "Epoch 268/550, Loss: 7.4132\n",
      "Epoch 269/550, Loss: 7.3764\n",
      "Epoch 270/550, Loss: 7.3003\n",
      "Epoch 271/550, Loss: 7.2568\n",
      "Epoch 272/550, Loss: 7.1948\n",
      "Epoch 273/550, Loss: 7.1089\n",
      "Epoch 274/550, Loss: 7.0622\n",
      "Epoch 275/550, Loss: 7.0306\n",
      "Epoch 276/550, Loss: 6.9597\n",
      "Epoch 277/550, Loss: 6.9044\n",
      "Epoch 278/550, Loss: 6.8443\n",
      "Epoch 279/550, Loss: 6.7819\n",
      "Epoch 280/550, Loss: 6.7066\n",
      "Epoch 281/550, Loss: 6.6583\n",
      "Epoch 282/550, Loss: 6.5788\n",
      "Epoch 283/550, Loss: 6.5389\n",
      "Epoch 284/550, Loss: 6.4569\n",
      "Epoch 285/550, Loss: 6.4140\n",
      "Epoch 286/550, Loss: 6.3508\n",
      "Epoch 287/550, Loss: 6.2951\n",
      "Epoch 288/550, Loss: 6.2256\n",
      "Epoch 289/550, Loss: 6.1550\n",
      "Epoch 290/550, Loss: 6.1186\n",
      "Epoch 291/550, Loss: 6.0657\n",
      "Epoch 292/550, Loss: 6.0004\n",
      "Epoch 293/550, Loss: 5.9357\n",
      "Epoch 294/550, Loss: 5.8756\n",
      "Epoch 295/550, Loss: 5.8034\n",
      "Epoch 296/550, Loss: 5.7548\n",
      "Epoch 297/550, Loss: 5.7067\n",
      "Epoch 298/550, Loss: 5.6119\n",
      "Epoch 299/550, Loss: 5.5741\n",
      "Epoch 300/550, Loss: 5.5051\n",
      "Epoch 301/550, Loss: 5.4526\n",
      "Epoch 302/550, Loss: 5.3826\n",
      "Epoch 303/550, Loss: 5.3287\n",
      "Epoch 304/550, Loss: 5.2870\n",
      "Epoch 305/550, Loss: 5.2220\n",
      "Epoch 306/550, Loss: 5.1489\n",
      "Epoch 307/550, Loss: 5.0964\n",
      "Epoch 308/550, Loss: 5.0461\n",
      "Epoch 309/550, Loss: 4.9732\n",
      "Epoch 310/550, Loss: 4.9213\n",
      "Epoch 311/550, Loss: 4.8849\n",
      "Epoch 312/550, Loss: 4.8241\n",
      "Epoch 313/550, Loss: 4.7596\n",
      "Epoch 314/550, Loss: 4.7026\n",
      "Epoch 315/550, Loss: 4.6485\n",
      "Epoch 316/550, Loss: 4.5990\n",
      "Epoch 317/550, Loss: 4.5284\n",
      "Epoch 318/550, Loss: 4.4896\n",
      "Epoch 319/550, Loss: 4.4412\n",
      "Epoch 320/550, Loss: 4.3943\n",
      "Epoch 321/550, Loss: 4.3277\n",
      "Epoch 322/550, Loss: 4.2788\n",
      "Epoch 323/550, Loss: 4.2288\n",
      "Epoch 324/550, Loss: 4.1857\n",
      "Epoch 325/550, Loss: 4.1230\n",
      "Epoch 326/550, Loss: 4.0804\n",
      "Epoch 327/550, Loss: 4.0326\n",
      "Epoch 328/550, Loss: 3.9642\n",
      "Epoch 329/550, Loss: 3.9227\n",
      "Epoch 330/550, Loss: 3.8908\n",
      "Epoch 331/550, Loss: 3.8221\n",
      "Epoch 332/550, Loss: 3.7785\n",
      "Epoch 333/550, Loss: 3.7568\n",
      "Epoch 334/550, Loss: 3.7024\n",
      "Epoch 335/550, Loss: 3.6543\n",
      "Epoch 336/550, Loss: 3.6248\n",
      "Epoch 337/550, Loss: 3.5709\n",
      "Epoch 338/550, Loss: 3.5170\n",
      "Epoch 339/550, Loss: 3.4730\n",
      "Epoch 340/550, Loss: 3.4512\n",
      "Epoch 341/550, Loss: 3.4019\n",
      "Epoch 342/550, Loss: 3.3543\n",
      "Epoch 343/550, Loss: 3.3180\n",
      "Epoch 344/550, Loss: 3.2847\n",
      "Epoch 345/550, Loss: 3.2387\n",
      "Epoch 346/550, Loss: 3.2239\n",
      "Epoch 347/550, Loss: 3.1714\n",
      "Epoch 348/550, Loss: 3.1342\n",
      "Epoch 349/550, Loss: 3.1074\n",
      "Epoch 350/550, Loss: 3.0542\n",
      "Epoch 351/550, Loss: 3.0260\n",
      "Epoch 352/550, Loss: 2.9929\n",
      "Epoch 353/550, Loss: 2.9506\n",
      "Epoch 354/550, Loss: 2.9332\n",
      "Epoch 355/550, Loss: 2.8988\n",
      "Epoch 356/550, Loss: 2.8582\n",
      "Epoch 357/550, Loss: 2.8247\n",
      "Epoch 358/550, Loss: 2.7848\n",
      "Epoch 359/550, Loss: 2.7489\n",
      "Epoch 360/550, Loss: 2.7189\n",
      "Epoch 361/550, Loss: 2.7180\n",
      "Epoch 362/550, Loss: 2.6734\n",
      "Epoch 363/550, Loss: 2.6587\n",
      "Epoch 364/550, Loss: 2.6259\n",
      "Epoch 365/550, Loss: 2.5897\n",
      "Epoch 366/550, Loss: 2.5528\n",
      "Epoch 367/550, Loss: 2.5421\n",
      "Epoch 368/550, Loss: 2.5067\n",
      "Epoch 369/550, Loss: 2.4909\n",
      "Epoch 370/550, Loss: 2.4615\n",
      "Epoch 371/550, Loss: 2.4439\n",
      "Epoch 372/550, Loss: 2.4105\n",
      "Epoch 373/550, Loss: 2.3938\n",
      "Epoch 374/550, Loss: 2.3710\n",
      "Epoch 375/550, Loss: 2.3567\n",
      "Epoch 376/550, Loss: 2.3305\n",
      "Epoch 377/550, Loss: 2.2989\n",
      "Epoch 378/550, Loss: 2.3035\n",
      "Epoch 379/550, Loss: 2.2672\n",
      "Epoch 380/550, Loss: 2.2414\n",
      "Epoch 381/550, Loss: 2.2304\n",
      "Epoch 382/550, Loss: 2.2076\n",
      "Epoch 383/550, Loss: 2.1846\n",
      "Epoch 384/550, Loss: 2.1821\n",
      "Epoch 385/550, Loss: 2.1571\n",
      "Epoch 386/550, Loss: 2.1303\n",
      "Epoch 387/550, Loss: 2.1231\n",
      "Epoch 388/550, Loss: 2.1085\n",
      "Epoch 389/550, Loss: 2.0911\n",
      "Epoch 390/550, Loss: 2.0800\n",
      "Epoch 391/550, Loss: 2.0623\n",
      "Epoch 392/550, Loss: 2.0556\n",
      "Epoch 393/550, Loss: 2.0369\n",
      "Epoch 394/550, Loss: 2.0234\n",
      "Epoch 395/550, Loss: 2.0104\n",
      "Epoch 396/550, Loss: 1.9992\n",
      "Epoch 397/550, Loss: 1.9838\n",
      "Epoch 398/550, Loss: 1.9715\n",
      "Epoch 399/550, Loss: 1.9667\n",
      "Epoch 400/550, Loss: 1.9469\n",
      "Epoch 401/550, Loss: 1.9419\n",
      "Epoch 402/550, Loss: 1.9354\n",
      "Epoch 403/550, Loss: 1.9245\n",
      "Epoch 404/550, Loss: 1.9089\n",
      "Epoch 405/550, Loss: 1.9009\n",
      "Epoch 406/550, Loss: 1.8914\n",
      "Epoch 407/550, Loss: 1.8903\n",
      "Epoch 408/550, Loss: 1.8800\n",
      "Epoch 409/550, Loss: 1.8678\n",
      "Epoch 410/550, Loss: 1.8543\n",
      "Epoch 411/550, Loss: 1.8450\n",
      "Epoch 412/550, Loss: 1.8474\n",
      "Epoch 413/550, Loss: 1.8364\n",
      "Epoch 414/550, Loss: 1.8293\n",
      "Epoch 415/550, Loss: 1.8249\n",
      "Epoch 416/550, Loss: 1.8100\n",
      "Epoch 417/550, Loss: 1.8084\n",
      "Epoch 418/550, Loss: 1.8001\n",
      "Epoch 419/550, Loss: 1.7931\n",
      "Epoch 420/550, Loss: 1.7916\n",
      "Epoch 421/550, Loss: 1.7852\n",
      "Epoch 422/550, Loss: 1.7799\n",
      "Epoch 423/550, Loss: 1.7716\n",
      "Epoch 424/550, Loss: 1.7666\n",
      "Epoch 425/550, Loss: 1.7597\n",
      "Epoch 426/550, Loss: 1.7720\n",
      "Epoch 427/550, Loss: 1.7610\n",
      "Epoch 428/550, Loss: 1.7533\n",
      "Epoch 429/550, Loss: 1.7558\n",
      "Epoch 430/550, Loss: 1.7476\n",
      "Epoch 431/550, Loss: 1.7341\n",
      "Epoch 432/550, Loss: 1.7344\n",
      "Epoch 433/550, Loss: 1.7379\n",
      "Epoch 434/550, Loss: 1.7341\n",
      "Epoch 435/550, Loss: 1.7326\n",
      "Epoch 436/550, Loss: 1.7357\n",
      "Epoch 437/550, Loss: 1.7249\n",
      "Epoch 438/550, Loss: 1.7268\n",
      "Epoch 439/550, Loss: 1.7257\n",
      "Epoch 440/550, Loss: 1.7067\n",
      "Epoch 441/550, Loss: 1.7104\n",
      "Epoch 442/550, Loss: 1.7106\n",
      "Epoch 443/550, Loss: 1.7021\n",
      "Epoch 444/550, Loss: 1.7071\n",
      "Epoch 445/550, Loss: 1.7075\n",
      "Epoch 446/550, Loss: 1.6987\n",
      "Epoch 447/550, Loss: 1.7028\n",
      "Epoch 448/550, Loss: 1.6867\n",
      "Epoch 449/550, Loss: 1.6953\n",
      "Epoch 450/550, Loss: 1.6904\n",
      "Epoch 451/550, Loss: 1.6899\n",
      "Epoch 452/550, Loss: 1.6943\n",
      "Epoch 453/550, Loss: 1.6754\n",
      "Epoch 454/550, Loss: 1.6753\n",
      "Epoch 455/550, Loss: 1.6885\n",
      "Epoch 456/550, Loss: 1.6864\n",
      "Epoch 457/550, Loss: 1.6791\n",
      "Epoch 458/550, Loss: 1.6817\n",
      "Epoch 459/550, Loss: 1.6755\n",
      "Epoch 460/550, Loss: 1.6868\n",
      "Epoch 461/550, Loss: 1.6820\n",
      "Epoch 462/550, Loss: 1.6750\n",
      "Epoch 463/550, Loss: 1.6776\n",
      "Epoch 464/550, Loss: 1.6768\n",
      "Epoch 465/550, Loss: 1.6766\n",
      "Epoch 466/550, Loss: 1.6667\n",
      "Epoch 467/550, Loss: 1.6793\n",
      "Epoch 468/550, Loss: 1.6718\n",
      "Epoch 469/550, Loss: 1.6658\n",
      "Epoch 470/550, Loss: 1.6662\n",
      "Epoch 471/550, Loss: 1.6671\n",
      "Epoch 472/550, Loss: 1.6710\n",
      "Epoch 473/550, Loss: 1.6707\n",
      "Epoch 474/550, Loss: 1.6748\n",
      "Epoch 475/550, Loss: 1.6586\n",
      "Epoch 476/550, Loss: 1.6634\n",
      "Epoch 477/550, Loss: 1.6634\n",
      "Epoch 478/550, Loss: 1.6681\n",
      "Epoch 479/550, Loss: 1.6681\n",
      "Epoch 480/550, Loss: 1.6592\n",
      "Epoch 481/550, Loss: 1.6719\n",
      "Epoch 482/550, Loss: 1.6629\n",
      "Epoch 483/550, Loss: 1.6662\n",
      "Epoch 484/550, Loss: 1.6622\n",
      "Epoch 485/550, Loss: 1.6535\n",
      "Epoch 486/550, Loss: 1.6520\n",
      "Epoch 487/550, Loss: 1.6603\n",
      "Epoch 488/550, Loss: 1.6547\n",
      "Epoch 489/550, Loss: 1.6532\n",
      "Epoch 490/550, Loss: 1.6560\n",
      "Epoch 491/550, Loss: 1.6657\n",
      "Epoch 492/550, Loss: 1.6549\n",
      "Epoch 493/550, Loss: 1.6599\n",
      "Epoch 494/550, Loss: 1.6596\n",
      "Epoch 495/550, Loss: 1.6587\n",
      "Epoch 496/550, Loss: 1.6558\n",
      "Epoch 497/550, Loss: 1.6484\n",
      "Epoch 498/550, Loss: 1.6553\n",
      "Epoch 499/550, Loss: 1.6443\n",
      "Epoch 500/550, Loss: 1.6514\n",
      "Epoch 501/550, Loss: 1.6509\n",
      "Epoch 502/550, Loss: 1.6461\n",
      "Epoch 503/550, Loss: 1.6485\n",
      "Epoch 504/550, Loss: 1.6580\n",
      "Epoch 505/550, Loss: 1.6532\n",
      "Epoch 506/550, Loss: 1.6544\n",
      "Epoch 507/550, Loss: 1.6566\n",
      "Epoch 508/550, Loss: 1.6489\n",
      "Epoch 509/550, Loss: 1.6510\n",
      "Epoch 510/550, Loss: 1.6475\n",
      "Epoch 511/550, Loss: 1.6409\n",
      "Epoch 512/550, Loss: 1.6533\n",
      "Epoch 513/550, Loss: 1.6500\n",
      "Epoch 514/550, Loss: 1.6431\n",
      "Epoch 515/550, Loss: 1.6539\n",
      "Epoch 516/550, Loss: 1.6508\n",
      "Epoch 517/550, Loss: 1.6510\n",
      "Epoch 518/550, Loss: 1.6398\n",
      "Epoch 519/550, Loss: 1.6428\n",
      "Epoch 520/550, Loss: 1.6463\n",
      "Epoch 521/550, Loss: 1.6532\n",
      "Epoch 522/550, Loss: 1.6485\n",
      "Epoch 523/550, Loss: 1.6371\n",
      "Epoch 524/550, Loss: 1.6504\n",
      "Epoch 525/550, Loss: 1.6436\n",
      "Epoch 526/550, Loss: 1.6336\n",
      "Epoch 527/550, Loss: 1.6404\n",
      "Epoch 528/550, Loss: 1.6398\n",
      "Epoch 529/550, Loss: 1.6403\n",
      "Epoch 530/550, Loss: 1.6424\n",
      "Epoch 531/550, Loss: 1.6434\n",
      "Epoch 532/550, Loss: 1.6384\n",
      "Epoch 533/550, Loss: 1.6428\n",
      "Epoch 534/550, Loss: 1.6406\n",
      "Epoch 535/550, Loss: 1.6417\n",
      "Epoch 536/550, Loss: 1.6413\n",
      "Epoch 537/550, Loss: 1.6349\n",
      "Epoch 538/550, Loss: 1.6419\n",
      "Epoch 539/550, Loss: 1.6410\n",
      "Epoch 540/550, Loss: 1.6445\n",
      "Epoch 541/550, Loss: 1.6424\n",
      "Epoch 542/550, Loss: 1.6463\n",
      "Epoch 543/550, Loss: 1.6354\n",
      "Epoch 544/550, Loss: 1.6360\n",
      "Epoch 545/550, Loss: 1.6377\n",
      "Epoch 546/550, Loss: 1.6320\n",
      "Epoch 547/550, Loss: 1.6360\n",
      "Epoch 548/550, Loss: 1.6399\n",
      "Epoch 549/550, Loss: 1.6399\n",
      "Epoch 550/550, Loss: 1.6319\n"
     ]
    }
   ],
   "source": [
    "num_epochs = 550\n",
    "train(lr_cooling_model, cooling_lr_dataloader_train, cooling_lr_criterion, cooling_lr_optimizer, num_epochs)"
   ]
  },
  {
   "cell_type": "code",
   "execution_count": 99,
   "metadata": {},
   "outputs": [],
   "source": [
    "# predict\n",
    "cooling_lr_predictions, cooling_lr_actuals = evaluate(lr_cooling_model, cooling_lr_dataloader_test)"
   ]
  },
  {
   "cell_type": "code",
   "execution_count": 100,
   "metadata": {},
   "outputs": [
    {
     "data": {
      "image/png": "[encoded data removed]",
      "text/plain": [
       "<Figure size 1000x500 with 1 Axes>"
      ]
     },
     "metadata": {},
     "output_type": "display_data"
    }
   ],
   "source": [
    "# plot predictions\n",
    "plt.figure(figsize=(10, 5))\n",
    "plt.plot(cooling_train.index, cooling_train[\"setpoint\"], label=\"Train\")\n",
    "plt.plot(cooling_test.index, cooling_test[\"setpoint\"], label=\"Test\")\n",
    "plt.plot(cooling_test.index, cooling_lr_predictions, label=\"Predicted\")\n",
    "plt.title(\"Linear Regression Predictions\")\n",
    "plt.xlabel(\"Date\")\n",
    "plt.ylabel(\"Setpoint Value\")\n",
    "plt.legend()\n",
    "plt.xticks(rotation=45)\n",
    "plt.tight_layout()\n",
    "plt.show()"
   ]
  },
  {
   "cell_type": "code",
   "execution_count": 101,
   "metadata": {},
   "outputs": [
    {
     "name": "stdout",
     "output_type": "stream",
     "text": [
      "0.9586544036865234\n",
      "0.2952479124069214\n",
      "0.00028880866011604667\n",
      "-0.25931477546691895\n",
      "1.4467440843582153\n",
      "0.22231371700763702\n"
     ]
    }
   ],
   "source": [
    "for param in lr_cooling_model.parameters():\n",
    "    for num in param:\n",
    "        try:\n",
    "            for p in num:\n",
    "                print(p.item())\n",
    "        except:\n",
    "            print(num.item())"
   ]
  },
  {
   "cell_type": "code",
   "execution_count": 102,
   "metadata": {},
   "outputs": [
    {
     "data": {
      "text/html": [
       "<div>\n",
       "<style scoped>\n",
       "    .dataframe tbody tr th:only-of-type {\n",
       "        vertical-align: middle;\n",
       "    }\n",
       "\n",
       "    .dataframe tbody tr th {\n",
       "        vertical-align: top;\n",
       "    }\n",
       "\n",
       "    .dataframe thead th {\n",
       "        text-align: right;\n",
       "    }\n",
       "</style>\n",
       "<table border=\"1\" class=\"dataframe\">\n",
       "  <thead>\n",
       "    <tr style=\"text-align: right;\">\n",
       "      <th></th>\n",
       "      <th>setpoint</th>\n",
       "      <th>temperature</th>\n",
       "      <th>Direct Normal Radiation [W/m2]</th>\n",
       "      <th>temperature_lag_1</th>\n",
       "      <th>consumption_lag_1</th>\n",
       "    </tr>\n",
       "    <tr>\n",
       "      <th>timestamp</th>\n",
       "      <th></th>\n",
       "      <th></th>\n",
       "      <th></th>\n",
       "      <th></th>\n",
       "      <th></th>\n",
       "    </tr>\n",
       "  </thead>\n",
       "  <tbody>\n",
       "    <tr>\n",
       "      <th>2018-06-01 00:00:00</th>\n",
       "      <td>70.0</td>\n",
       "      <td>66.92</td>\n",
       "      <td>0.0</td>\n",
       "      <td>66.92</td>\n",
       "      <td>0.0</td>\n",
       "    </tr>\n",
       "    <tr>\n",
       "      <th>2018-06-01 01:00:00</th>\n",
       "      <td>70.0</td>\n",
       "      <td>66.02</td>\n",
       "      <td>0.0</td>\n",
       "      <td>66.92</td>\n",
       "      <td>0.0</td>\n",
       "    </tr>\n",
       "    <tr>\n",
       "      <th>2018-06-01 02:00:00</th>\n",
       "      <td>70.0</td>\n",
       "      <td>66.92</td>\n",
       "      <td>0.0</td>\n",
       "      <td>66.02</td>\n",
       "      <td>0.0</td>\n",
       "    </tr>\n",
       "    <tr>\n",
       "      <th>2018-06-01 03:00:00</th>\n",
       "      <td>70.0</td>\n",
       "      <td>66.92</td>\n",
       "      <td>0.0</td>\n",
       "      <td>66.92</td>\n",
       "      <td>0.0</td>\n",
       "    </tr>\n",
       "    <tr>\n",
       "      <th>2018-06-01 04:00:00</th>\n",
       "      <td>68.0</td>\n",
       "      <td>66.92</td>\n",
       "      <td>0.0</td>\n",
       "      <td>66.92</td>\n",
       "      <td>0.0</td>\n",
       "    </tr>\n",
       "  </tbody>\n",
       "</table>\n",
       "</div>"
      ],
      "text/plain": [
       "                     setpoint  temperature  Direct Normal Radiation [W/m2]  \\\n",
       "timestamp                                                                    \n",
       "2018-06-01 00:00:00      70.0        66.92                             0.0   \n",
       "2018-06-01 01:00:00      70.0        66.02                             0.0   \n",
       "2018-06-01 02:00:00      70.0        66.92                             0.0   \n",
       "2018-06-01 03:00:00      70.0        66.92                             0.0   \n",
       "2018-06-01 04:00:00      68.0        66.92                             0.0   \n",
       "\n",
       "                     temperature_lag_1  consumption_lag_1  \n",
       "timestamp                                                  \n",
       "2018-06-01 00:00:00              66.92                0.0  \n",
       "2018-06-01 01:00:00              66.92                0.0  \n",
       "2018-06-01 02:00:00              66.02                0.0  \n",
       "2018-06-01 03:00:00              66.92                0.0  \n",
       "2018-06-01 04:00:00              66.92                0.0  "
      ]
     },
     "execution_count": 102,
     "metadata": {},
     "output_type": "execute_result"
    }
   ],
   "source": [
    "cooling_train.head()"
   ]
  },
  {
   "cell_type": "markdown",
   "metadata": {},
   "source": [
    "### P-values"
   ]
  },
  {
   "cell_type": "code",
   "execution_count": 103,
   "metadata": {},
   "outputs": [],
   "source": [
    "# Get predictions on train set\n",
    "cooling_lr_train_predictions, cooling_lr_train_actuals = evaluate(lr_cooling_model, cooling_lr_dataloader_train)"
   ]
  },
  {
   "cell_type": "code",
   "execution_count": 104,
   "metadata": {},
   "outputs": [
    {
     "data": {
      "image/png": "[encoded data removed]",
      "text/plain": [
       "<Figure size 1000x500 with 1 Axes>"
      ]
     },
     "metadata": {},
     "output_type": "display_data"
    }
   ],
   "source": [
    "# plot predictions\n",
    "plt.figure(figsize=(10, 5))\n",
    "plt.plot(cooling_train.index, cooling_train[\"setpoint\"], label=\"Train\")\n",
    "plt.plot(cooling_test.index, cooling_test[\"setpoint\"], label=\"Test\")\n",
    "plt.plot(cooling_train.index, cooling_lr_train_predictions, label=\"Train Predicted\")\n",
    "plt.plot(cooling_test.index, cooling_lr_predictions, label=\"Test Predicted\")\n",
    "plt.title(\"Linear Regression Predictions\")\n",
    "plt.xlabel(\"Date\")\n",
    "plt.ylabel(\"Setpoint Value\")\n",
    "plt.legend()\n",
    "plt.xticks(rotation=45)\n",
    "plt.tight_layout()\n",
    "plt.show()"
   ]
  },
  {
   "cell_type": "code",
   "execution_count": 105,
   "metadata": {},
   "outputs": [],
   "source": [
    "cooling_p_values = get_pvalues(\n",
    "    lr_cooling_model, \n",
    "    cooling_lr_dataset_train, \n",
    "    cooling_lr_train_actuals, \n",
    "    cooling_lr_train_predictions\n",
    ")"
   ]
  },
  {
   "cell_type": "code",
   "execution_count": 106,
   "metadata": {},
   "outputs": [
    {
     "name": "stdout",
     "output_type": "stream",
     "text": [
      "setpoint:\n",
      "\t-   3.583805230356063e-08\n",
      "temperature:\n",
      "\t-   0.6395154937612952\n",
      "Direct Normal Radiation [W/m2]:\n",
      "\t-   0.9589924038723647\n",
      "temperature_lag_1:\n",
      "\t-   0.6665125249581123\n",
      "consumption_lag_1:\n",
      "\t-   0.9148127042745775\n"
     ]
    }
   ],
   "source": [
    "for i, col in enumerate(cooling_train.columns):\n",
    "    print(col + \":\")\n",
    "    print(\"\\t-  \", cooling_p_values[i])"
   ]
  }
 ],
 "metadata": {
  "kernelspec": {
   "display_name": ".env",
   "language": "python",
   "name": "python3"
  },
  "language_info": {
   "codemirror_mode": {
    "name": "ipython",
    "version": 3
   },
   "file_extension": ".py",
   "mimetype": "text/x-python",
   "name": "python",
   "nbconvert_exporter": "python",
   "pygments_lexer": "ipython3",
   "version": "3.10.11"
  }
 },
 "nbformat": 4,
 "nbformat_minor": 2
}
