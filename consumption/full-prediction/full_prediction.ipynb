{
 "cells": [
  {
   "cell_type": "code",
   "execution_count": 1,
   "metadata": {},
   "outputs": [],
   "source": [
    "import pandas as pd\n",
    "import numpy as np\n",
    "import matplotlib.pyplot as plt\n",
    "import pickle\n",
    "\n",
    "from statsmodels.tsa.arima.model import ARIMA\n",
    "from statsmodels.graphics.tsaplots import plot_acf, plot_pacf\n",
    "\n",
    "import torch\n",
    "import torch.nn as nn\n",
    "from torch.utils.data import Dataset, DataLoader\n",
    "import torch.optim as optim\n",
    "\n",
    "from data_preprocessing import process_resstock_data\n",
    "from models import MLPModel, LinearRegressionModel"
   ]
  },
  {
   "cell_type": "markdown",
   "metadata": {},
   "source": [
    "# Load data"
   ]
  },
  {
   "cell_type": "markdown",
   "metadata": {},
   "source": [
    "### Setpoint timeseries"
   ]
  },
  {
   "cell_type": "code",
   "execution_count": 2,
   "metadata": {},
   "outputs": [],
   "source": [
    "# full_heating_timeseries, full_cooling_timeseries = generate_setpoint_timeseries(\n",
    "#     cooling_start_date = \"2018-06-01\",\n",
    "#     cooling_end_date = \"2018-10-31\",\n",
    "#     combine = False\n",
    "# )"
   ]
  },
  {
   "cell_type": "code",
   "execution_count": 3,
   "metadata": {},
   "outputs": [],
   "source": [
    "# # Save heaitng and cooling timeseries to pickle\n",
    "# with open('/Users/adrian/Documents/ICAI/TFG/Space-Conditioning-Electrification/data/consumption/full_heating_timeseries.pkl', 'wb') as f:\n",
    "#     pickle.dump(full_heating_timeseries, f)\n",
    "# with open('/Users/adrian/Documents/ICAI/TFG/Space-Conditioning-Electrification/data/consumption/full_cooling_timeseries.pkl', 'wb') as f:\n",
    "#     pickle.dump(full_cooling_timeseries, f)"
   ]
  },
  {
   "cell_type": "code",
   "execution_count": 4,
   "metadata": {},
   "outputs": [],
   "source": [
    "# Load full heating and cooling timeseries\n",
    "with open('/Users/adrian/Documents/ICAI/TFG/Space-Conditioning-Electrification/data/consumption/full_heating_timeseries.pkl', 'rb') as f:\n",
    "    full_heating_timeseries = pickle.load(f)\n",
    "with open('/Users/adrian/Documents/ICAI/TFG/Space-Conditioning-Electrification/data/consumption/full_cooling_timeseries.pkl', 'rb') as f:\n",
    "    full_cooling_timeseries = pickle.load(f)"
   ]
  },
  {
   "cell_type": "markdown",
   "metadata": {},
   "source": [
    "### Weather data"
   ]
  },
  {
   "cell_type": "code",
   "execution_count": 5,
   "metadata": {},
   "outputs": [],
   "source": [
    "weather_data = pd.read_csv(\"/Users/adrian/Documents/ICAI/TFG/Space-Conditioning-Electrification/data/consumption/G2500170_2018.csv\")"
   ]
  },
  {
   "cell_type": "markdown",
   "metadata": {},
   "source": [
    "### ResStock"
   ]
  },
  {
   "cell_type": "code",
   "execution_count": 6,
   "metadata": {},
   "outputs": [],
   "source": [
    "resstock = pd.read_parquet(\"/Users/adrian/Documents/ICAI/TFG/Space-Conditioning-Electrification/data/consumption/MA_baseline_metadata_and_annual_results.parquet\")"
   ]
  },
  {
   "cell_type": "markdown",
   "metadata": {},
   "source": [
    "### Building timeseries"
   ]
  },
  {
   "cell_type": "code",
   "execution_count": 7,
   "metadata": {},
   "outputs": [],
   "source": [
    "building_data = pd.read_parquet(\"/Users/adrian/Documents/ICAI/TFG/Space-Conditioning-Electrification/data/consumption/1000-0.parquet\")"
   ]
  },
  {
   "cell_type": "markdown",
   "metadata": {},
   "source": [
    "### Setpoint timeseries plot"
   ]
  },
  {
   "cell_type": "code",
   "execution_count": 8,
   "metadata": {},
   "outputs": [],
   "source": [
    "heating_timeseries = full_heating_timeseries[1000]\n",
    "cooling_timeseries = full_cooling_timeseries[1000]\n",
    "\n",
    "heating_timeseries = pd.concat([heating_timeseries.loc[\"2018-01-01\":\"2018-05-31\"], heating_timeseries.loc[\"2018-11-01\":\"2018-12-31\"]])\n",
    "cooling_timeseries = cooling_timeseries.loc[\"2018-06-01\":\"2018-10-31\"]"
   ]
  },
  {
   "cell_type": "code",
   "execution_count": 9,
   "metadata": {},
   "outputs": [
    {
     "data": {
      "image/png": "[encoded data removed]",
      "text/plain": [
       "<Figure size 1000x500 with 1 Axes>"
      ]
     },
     "metadata": {},
     "output_type": "display_data"
    }
   ],
   "source": [
    "# Plot the timeseries\n",
    "plt.figure(figsize=(10, 5))\n",
    "plt.plot(heating_timeseries.index, heating_timeseries[\"setpoint\"])\n",
    "plt.plot(cooling_timeseries.index, cooling_timeseries[\"setpoint\"])\n",
    "plt.title(\"Setpoint Timeseries\")\n",
    "plt.xlabel(\"Date\")\n",
    "plt.ylabel(\"Setpoint Value\")\n",
    "plt.xticks(rotation=45)\n",
    "plt.tight_layout()\n",
    "plt.show()"
   ]
  },
  {
   "cell_type": "markdown",
   "metadata": {},
   "source": [
    "# ResStock transform"
   ]
  },
  {
   "cell_type": "code",
   "execution_count": 10,
   "metadata": {},
   "outputs": [],
   "source": [
    "columns = [\n",
    "    \"in.bedrooms\",              # int\n",
    "    \"in.duct_leakage_and_insulation\",    # Separate into leakage / insulation: X% / (Uniinsulated/R-n)\n",
    "    \"in.duct_location\",         # Places of the house\n",
    "    \"in.geometry_floor_area\",   # 1000-1499, ...\n",
    "    \"in.geometry_stories\",      # int\n",
    "    \"in.geometry_wall_type\",    # Materials\n",
    "    \"in.ground_thermal_conductivity\",   # float\n",
    "    \"in.hvac_has_ducts\",    # Yes / No\n",
    "    \"in.insulation_ceiling\",    # R-n / Uninsulated\n",
    "    \"in.insulation_floor\",      # R-n / Uninsulated\n",
    "    \"in.insulation_foundation_wall\",    # Wall R-n, Exterior\n",
    "    \"in.insulation_roof\",       # Finished / Unfinished, R-n\n",
    "    \"in.insulation_wall\",       # Material, Uninsulated / R-n\n",
    "    \"in.occupants\",         # int\n",
    "    \"in.orientation\",       # North, Northwest...\n",
    "    \"in.roof_material\",     # Material\n",
    "    \"in.sqft\",              # int\n",
    "    \"in.windows\"    # Single/Double/Triple, Low-E/Clear, Metal/Non-metal, Air/Exterior Clear Storm, (L/M-Gain)\n",
    "    \"in.window_areas\",\n",
    "    \"in.vintage\",\n",
    "]"
   ]
  },
  {
   "cell_type": "code",
   "execution_count": 11,
   "metadata": {},
   "outputs": [],
   "source": [
    "columns_processed = [\n",
    "    \"in.bedrooms_processed\",              # int\n",
    "    \"in.duct_leakage_processed\",\n",
    "    \"in.duct_insulation_processed\",    # Separate into leakage / insulation: X% / (Uniinsulated/R-n)\n",
    "    \"in.duct_location_processed\",         # Places of the house\n",
    "    \"in.geometry_floor_area_processed\",   # 1000-1499, ...\n",
    "    \"in.geometry_stories_processed\",      # int\n",
    "    \"in.geometry_wall_type_processed\",    # Materials\n",
    "    \"in.ground_thermal_conductivity_processed\",   # float\n",
    "    \"in.hvac_has_ducts_processed\",    # Yes / No\n",
    "    \"in.insulation_ceiling_processed\",    # R-n / Uninsulated\n",
    "    \"in.insulation_floor_processed\",      # R-n / Uninsulated\n",
    "    \"in.insulation_foundation_wall_processed\",    # Wall R-n, Exterior\n",
    "    \"in.insulation_roof_processed\",       # Finished / Unfinished, R-n\n",
    "    \"in.insulation_wall_processed\",       # Material, Uninsulated / R-n\n",
    "    \"in.occupants_processed\",         # int\n",
    "    \"in.orientation_processed\",       # North, Northwest...\n",
    "    \"in.roof_material_processed\",     # Material\n",
    "    \"in.sqft_processed\",              # int\n",
    "    \"in.windows_processed\", # Single/Double/Triple, Low-E/Clear, Metal/Non-metal, Air/Exterior Clear Storm, (L/M-Gain)\n",
    "    \"in.window_areas_processed\",\n",
    "    \"in.vintage_processed\",\n",
    "    \n",
    "]"
   ]
  },
  {
   "cell_type": "code",
   "execution_count": 12,
   "metadata": {},
   "outputs": [],
   "source": [
    "resstock_processed = process_resstock_data(resstock)"
   ]
  },
  {
   "cell_type": "code",
   "execution_count": 13,
   "metadata": {},
   "outputs": [
    {
     "data": {
      "text/plain": [
       "in.vintage_processed\n",
       "1930    3820\n",
       "1970    1386\n",
       "1950    1312\n",
       "1980    1269\n",
       "1960    1220\n",
       "1990     895\n",
       "2000     825\n",
       "1940     614\n",
       "2010     366\n",
       "Name: count, dtype: int64"
      ]
     },
     "execution_count": 13,
     "metadata": {},
     "output_type": "execute_result"
    }
   ],
   "source": [
    "resstock_processed[\"in.vintage_processed\"].value_counts()"
   ]
  },
  {
   "cell_type": "code",
   "execution_count": 14,
   "metadata": {},
   "outputs": [],
   "source": [
    "usable_resstock = resstock_processed[columns_processed]"
   ]
  },
  {
   "cell_type": "code",
   "execution_count": 15,
   "metadata": {},
   "outputs": [
    {
     "data": {
      "text/html": [
       "<div>\n",
       "<style scoped>\n",
       "    .dataframe tbody tr th:only-of-type {\n",
       "        vertical-align: middle;\n",
       "    }\n",
       "\n",
       "    .dataframe tbody tr th {\n",
       "        vertical-align: top;\n",
       "    }\n",
       "\n",
       "    .dataframe thead th {\n",
       "        text-align: right;\n",
       "    }\n",
       "</style>\n",
       "<table border=\"1\" class=\"dataframe\">\n",
       "  <thead>\n",
       "    <tr style=\"text-align: right;\">\n",
       "      <th></th>\n",
       "      <th>in.bedrooms_processed</th>\n",
       "      <th>in.duct_leakage_processed</th>\n",
       "      <th>in.duct_insulation_processed</th>\n",
       "      <th>in.duct_location_processed</th>\n",
       "      <th>in.geometry_floor_area_processed</th>\n",
       "      <th>in.geometry_stories_processed</th>\n",
       "      <th>in.geometry_wall_type_processed</th>\n",
       "      <th>in.ground_thermal_conductivity_processed</th>\n",
       "      <th>in.hvac_has_ducts_processed</th>\n",
       "      <th>in.insulation_ceiling_processed</th>\n",
       "      <th>...</th>\n",
       "      <th>in.insulation_foundation_wall_processed</th>\n",
       "      <th>in.insulation_roof_processed</th>\n",
       "      <th>in.insulation_wall_processed</th>\n",
       "      <th>in.occupants_processed</th>\n",
       "      <th>in.orientation_processed</th>\n",
       "      <th>in.roof_material_processed</th>\n",
       "      <th>in.sqft_processed</th>\n",
       "      <th>in.windows_processed</th>\n",
       "      <th>in.window_areas_processed</th>\n",
       "      <th>in.vintage_processed</th>\n",
       "    </tr>\n",
       "    <tr>\n",
       "      <th>bldg_id</th>\n",
       "      <th></th>\n",
       "      <th></th>\n",
       "      <th></th>\n",
       "      <th></th>\n",
       "      <th></th>\n",
       "      <th></th>\n",
       "      <th></th>\n",
       "      <th></th>\n",
       "      <th></th>\n",
       "      <th></th>\n",
       "      <th></th>\n",
       "      <th></th>\n",
       "      <th></th>\n",
       "      <th></th>\n",
       "      <th></th>\n",
       "      <th></th>\n",
       "      <th></th>\n",
       "      <th></th>\n",
       "      <th></th>\n",
       "      <th></th>\n",
       "      <th></th>\n",
       "    </tr>\n",
       "  </thead>\n",
       "  <tbody>\n",
       "    <tr>\n",
       "      <th>10</th>\n",
       "      <td>3</td>\n",
       "      <td>10</td>\n",
       "      <td>0</td>\n",
       "      <td>4</td>\n",
       "      <td>1749</td>\n",
       "      <td>1</td>\n",
       "      <td>1</td>\n",
       "      <td>1.4</td>\n",
       "      <td>1</td>\n",
       "      <td>5</td>\n",
       "      <td>...</td>\n",
       "      <td>1</td>\n",
       "      <td>0</td>\n",
       "      <td>0</td>\n",
       "      <td>6</td>\n",
       "      <td>1</td>\n",
       "      <td>3</td>\n",
       "      <td>1228</td>\n",
       "      <td>2</td>\n",
       "      <td>18</td>\n",
       "      <td>1950</td>\n",
       "    </tr>\n",
       "    <tr>\n",
       "      <th>122</th>\n",
       "      <td>1</td>\n",
       "      <td>0</td>\n",
       "      <td>0</td>\n",
       "      <td>0</td>\n",
       "      <td>874</td>\n",
       "      <td>5</td>\n",
       "      <td>1</td>\n",
       "      <td>1.4</td>\n",
       "      <td>0</td>\n",
       "      <td>0</td>\n",
       "      <td>...</td>\n",
       "      <td>1</td>\n",
       "      <td>6</td>\n",
       "      <td>0</td>\n",
       "      <td>1</td>\n",
       "      <td>5</td>\n",
       "      <td>0</td>\n",
       "      <td>623</td>\n",
       "      <td>2</td>\n",
       "      <td>18</td>\n",
       "      <td>1950</td>\n",
       "    </tr>\n",
       "    <tr>\n",
       "      <th>129</th>\n",
       "      <td>1</td>\n",
       "      <td>0</td>\n",
       "      <td>0</td>\n",
       "      <td>0</td>\n",
       "      <td>874</td>\n",
       "      <td>2</td>\n",
       "      <td>2</td>\n",
       "      <td>1.1</td>\n",
       "      <td>0</td>\n",
       "      <td>0</td>\n",
       "      <td>...</td>\n",
       "      <td>1</td>\n",
       "      <td>5</td>\n",
       "      <td>1</td>\n",
       "      <td>1</td>\n",
       "      <td>4</td>\n",
       "      <td>0</td>\n",
       "      <td>623</td>\n",
       "      <td>1</td>\n",
       "      <td>15</td>\n",
       "      <td>1970</td>\n",
       "    </tr>\n",
       "    <tr>\n",
       "      <th>150</th>\n",
       "      <td>2</td>\n",
       "      <td>0</td>\n",
       "      <td>0</td>\n",
       "      <td>0</td>\n",
       "      <td>1749</td>\n",
       "      <td>3</td>\n",
       "      <td>1</td>\n",
       "      <td>1.1</td>\n",
       "      <td>0</td>\n",
       "      <td>0</td>\n",
       "      <td>...</td>\n",
       "      <td>0</td>\n",
       "      <td>3</td>\n",
       "      <td>4</td>\n",
       "      <td>1</td>\n",
       "      <td>3</td>\n",
       "      <td>0</td>\n",
       "      <td>1138</td>\n",
       "      <td>2</td>\n",
       "      <td>15</td>\n",
       "      <td>2000</td>\n",
       "    </tr>\n",
       "    <tr>\n",
       "      <th>183</th>\n",
       "      <td>3</td>\n",
       "      <td>0</td>\n",
       "      <td>0</td>\n",
       "      <td>0</td>\n",
       "      <td>1749</td>\n",
       "      <td>1</td>\n",
       "      <td>1</td>\n",
       "      <td>1.4</td>\n",
       "      <td>0</td>\n",
       "      <td>1</td>\n",
       "      <td>...</td>\n",
       "      <td>1</td>\n",
       "      <td>0</td>\n",
       "      <td>0</td>\n",
       "      <td>2</td>\n",
       "      <td>3</td>\n",
       "      <td>1</td>\n",
       "      <td>1228</td>\n",
       "      <td>2</td>\n",
       "      <td>18</td>\n",
       "      <td>1930</td>\n",
       "    </tr>\n",
       "  </tbody>\n",
       "</table>\n",
       "<p>5 rows × 21 columns</p>\n",
       "</div>"
      ],
      "text/plain": [
       "         in.bedrooms_processed  in.duct_leakage_processed  \\\n",
       "bldg_id                                                     \n",
       "10                           3                         10   \n",
       "122                          1                          0   \n",
       "129                          1                          0   \n",
       "150                          2                          0   \n",
       "183                          3                          0   \n",
       "\n",
       "         in.duct_insulation_processed  in.duct_location_processed  \\\n",
       "bldg_id                                                             \n",
       "10                                  0                           4   \n",
       "122                                 0                           0   \n",
       "129                                 0                           0   \n",
       "150                                 0                           0   \n",
       "183                                 0                           0   \n",
       "\n",
       "         in.geometry_floor_area_processed  in.geometry_stories_processed  \\\n",
       "bldg_id                                                                    \n",
       "10                                   1749                              1   \n",
       "122                                   874                              5   \n",
       "129                                   874                              2   \n",
       "150                                  1749                              3   \n",
       "183                                  1749                              1   \n",
       "\n",
       "         in.geometry_wall_type_processed  \\\n",
       "bldg_id                                    \n",
       "10                                     1   \n",
       "122                                    1   \n",
       "129                                    2   \n",
       "150                                    1   \n",
       "183                                    1   \n",
       "\n",
       "         in.ground_thermal_conductivity_processed  \\\n",
       "bldg_id                                             \n",
       "10                                            1.4   \n",
       "122                                           1.4   \n",
       "129                                           1.1   \n",
       "150                                           1.1   \n",
       "183                                           1.4   \n",
       "\n",
       "         in.hvac_has_ducts_processed  in.insulation_ceiling_processed  ...  \\\n",
       "bldg_id                                                                ...   \n",
       "10                                 1                                5  ...   \n",
       "122                                0                                0  ...   \n",
       "129                                0                                0  ...   \n",
       "150                                0                                0  ...   \n",
       "183                                0                                1  ...   \n",
       "\n",
       "         in.insulation_foundation_wall_processed  \\\n",
       "bldg_id                                            \n",
       "10                                             1   \n",
       "122                                            1   \n",
       "129                                            1   \n",
       "150                                            0   \n",
       "183                                            1   \n",
       "\n",
       "         in.insulation_roof_processed  in.insulation_wall_processed  \\\n",
       "bldg_id                                                               \n",
       "10                                  0                             0   \n",
       "122                                 6                             0   \n",
       "129                                 5                             1   \n",
       "150                                 3                             4   \n",
       "183                                 0                             0   \n",
       "\n",
       "         in.occupants_processed  in.orientation_processed  \\\n",
       "bldg_id                                                     \n",
       "10                            6                         1   \n",
       "122                           1                         5   \n",
       "129                           1                         4   \n",
       "150                           1                         3   \n",
       "183                           2                         3   \n",
       "\n",
       "         in.roof_material_processed  in.sqft_processed  in.windows_processed  \\\n",
       "bldg_id                                                                        \n",
       "10                                3               1228                     2   \n",
       "122                               0                623                     2   \n",
       "129                               0                623                     1   \n",
       "150                               0               1138                     2   \n",
       "183                               1               1228                     2   \n",
       "\n",
       "         in.window_areas_processed  in.vintage_processed  \n",
       "bldg_id                                                   \n",
       "10                              18                  1950  \n",
       "122                             18                  1950  \n",
       "129                             15                  1970  \n",
       "150                             15                  2000  \n",
       "183                             18                  1930  \n",
       "\n",
       "[5 rows x 21 columns]"
      ]
     },
     "execution_count": 15,
     "metadata": {},
     "output_type": "execute_result"
    }
   ],
   "source": [
    "usable_resstock.head()"
   ]
  },
  {
   "cell_type": "code",
   "execution_count": 16,
   "metadata": {},
   "outputs": [],
   "source": [
    "building_resstock = np.array(usable_resstock.loc[1000])"
   ]
  },
  {
   "cell_type": "code",
   "execution_count": 17,
   "metadata": {},
   "outputs": [
    {
     "data": {
      "text/plain": [
       "array([3.000e+00, 0.000e+00, 0.000e+00, 0.000e+00, 2.499e+03, 1.000e+00,\n",
       "       2.000e+00, 1.400e+00, 0.000e+00, 0.000e+00, 1.000e+00, 1.000e+00,\n",
       "       5.000e+00, 0.000e+00, 3.000e+00, 0.000e+00, 0.000e+00, 1.682e+03,\n",
       "       2.000e+00, 1.500e+01, 1.930e+03])"
      ]
     },
     "execution_count": 17,
     "metadata": {},
     "output_type": "execute_result"
    }
   ],
   "source": [
    "building_resstock"
   ]
  },
  {
   "cell_type": "markdown",
   "metadata": {},
   "source": [
    "# Transform data"
   ]
  },
  {
   "cell_type": "code",
   "execution_count": 18,
   "metadata": {},
   "outputs": [],
   "source": [
    "def get_cols(building_data: pd.DataFrame, building_id: int) -> str:\n",
    "\n",
    "    try:\n",
    "        building = building_data.loc[building_id]\n",
    "    except:\n",
    "        raise ValueError(\"Building ID not found in the dataset\")\n",
    "\n",
    "    match building[\"in.heating_fuel\"]:\n",
    "        case  \"Natural Gas\":\n",
    "            return \"out.natural_gas.heating.energy_consumption\"\n",
    "        case \"Electricity\":\n",
    "            return \"out.electricity.heating.energy_consumption\"\n",
    "        case \"Fuel Oil\":\n",
    "            return \"out.fuel_oil.heating.energy_consumption\"\n",
    "        case \"Propane\":\n",
    "            return \"out.propane.heating.energy_consumption\"\n",
    "        case _:\n",
    "            return \"out.electricity.heating.energy_consumption\""
   ]
  },
  {
   "cell_type": "code",
   "execution_count": 19,
   "metadata": {},
   "outputs": [
    {
     "data": {
      "text/plain": [
       "Index(['date_time', 'Dry Bulb Temperature [°C]', 'Relative Humidity [%]',\n",
       "       'Wind Speed [m/s]', 'Wind Direction [Deg]',\n",
       "       'Global Horizontal Radiation [W/m2]', 'Direct Normal Radiation [W/m2]',\n",
       "       'Diffuse Horizontal Radiation [W/m2]'],\n",
       "      dtype='object')"
      ]
     },
     "execution_count": 19,
     "metadata": {},
     "output_type": "execute_result"
    }
   ],
   "source": [
    "weather_data.columns"
   ]
  },
  {
   "cell_type": "code",
   "execution_count": 20,
   "metadata": {},
   "outputs": [],
   "source": [
    "# Change date time column name to timestamp\n",
    "weather_data.rename(columns={'date_time': \"timestamp\"}, inplace=True)\n",
    "weather_data.set_index('timestamp', inplace=True)\n",
    "weather_data.index = pd.to_datetime(weather_data.index)\n",
    "\n",
    "# Delete all columns except dry bulb temperature\n",
    "weather_data = weather_data[[\"Dry Bulb Temperature [°C]\", \"Direct Normal Radiation [W/m2]\"]]\n",
    "weather_data.rename(columns={\"Dry Bulb Temperature [°C]\": \"temperature\"}, inplace=True)\n",
    "\n",
    "# Create an entry for 2018-01-01 00:00:00\n",
    "new_row = pd.DataFrame({'temperature': weather_data.iloc[0]['temperature']}, index=[pd.to_datetime('2018-01-01 00:00:00')])\n",
    "weather_data = pd.concat([new_row, weather_data])\n",
    "\n",
    "# Remove last 19 rows\n",
    "weather_data = weather_data[:-24]"
   ]
  },
  {
   "cell_type": "code",
   "execution_count": 21,
   "metadata": {},
   "outputs": [],
   "source": [
    "weather_data.bfill(inplace=True)\n",
    "weather_data.ffill(inplace=True)"
   ]
  },
  {
   "cell_type": "code",
   "execution_count": 22,
   "metadata": {},
   "outputs": [],
   "source": [
    "building_id = 1000"
   ]
  },
  {
   "cell_type": "code",
   "execution_count": 23,
   "metadata": {},
   "outputs": [
    {
     "name": "stderr",
     "output_type": "stream",
     "text": [
      "/var/folders/bw/4qyc6pj92bdb1bv22yhll2zw0000gn/T/ipykernel_8733/3969840236.py:5: SettingWithCopyWarning: \n",
      "A value is trying to be set on a copy of a slice from a DataFrame.\n",
      "Try using .loc[row_indexer,col_indexer] = value instead\n",
      "\n",
      "See the caveats in the documentation: https://pandas.pydata.org/pandas-docs/stable/user_guide/indexing.html#returning-a-view-versus-a-copy\n",
      "  consumption_timeseries[\"timestamp\"] = pd.to_datetime(consumption_timeseries[\"timestamp\"])\n",
      "/var/folders/bw/4qyc6pj92bdb1bv22yhll2zw0000gn/T/ipykernel_8733/3969840236.py:7: FutureWarning: 'H' is deprecated and will be removed in a future version, please use 'h' instead.\n",
      "  consumption_timeseries = consumption_timeseries.resample(\"H\").mean()\n"
     ]
    }
   ],
   "source": [
    "col_to_use = get_cols(resstock, building_id)\n",
    "consumption_timeseries = building_data[[\"timestamp\", col_to_use]]\n",
    "\n",
    "# Resample to hourly data\n",
    "consumption_timeseries[\"timestamp\"] = pd.to_datetime(consumption_timeseries[\"timestamp\"])\n",
    "consumption_timeseries.set_index(\"timestamp\", inplace=True)\n",
    "consumption_timeseries = consumption_timeseries.resample(\"H\").mean()\n",
    "consumption_timeseries = consumption_timeseries[col_to_use]\n",
    "\n",
    "consumption_timeseries = consumption_timeseries[:-24]\n",
    "\n",
    "# Turn into dataframe\n",
    "consumption_timeseries = pd.DataFrame(consumption_timeseries)\n",
    "consumption_timeseries.rename(columns={col_to_use: \"consumption\"}, inplace=True)"
   ]
  },
  {
   "cell_type": "code",
   "execution_count": 24,
   "metadata": {},
   "outputs": [],
   "source": [
    "exog_variables = pd.merge(\n",
    "    consumption_timeseries,\n",
    "    weather_data,\n",
    "    left_index=True,\n",
    "    right_index=True,\n",
    ")"
   ]
  },
  {
   "cell_type": "code",
   "execution_count": 25,
   "metadata": {},
   "outputs": [],
   "source": [
    "heating_exog = exog_variables.loc[heating_timeseries.index]\n",
    "cooling_exog = exog_variables.loc[cooling_timeseries.index]"
   ]
  },
  {
   "cell_type": "markdown",
   "metadata": {},
   "source": [
    "# Data Plot"
   ]
  },
  {
   "cell_type": "code",
   "execution_count": 26,
   "metadata": {},
   "outputs": [],
   "source": [
    "train_size = 0.8\n",
    "heating_endog_train = heating_timeseries[:int(train_size * len(heating_timeseries))]\n",
    "heating_endog_test = heating_timeseries[int(train_size * len(heating_timeseries)):]\n",
    "\n",
    "heating_exog_train = heating_exog[:int(train_size * len(heating_exog))]\n",
    "heating_exog_test = heating_exog[int(train_size * len(heating_exog)):]\n",
    "\n",
    "cooling_endog_train = cooling_timeseries[:int(train_size * len(cooling_timeseries))]\n",
    "cooling_endog_test = cooling_timeseries[int(train_size * len(cooling_timeseries)):]\n",
    "\n",
    "cooling_exog_train = cooling_exog[:int(train_size * len(cooling_exog))]\n",
    "cooling_exog_test = cooling_exog[int(train_size * len(cooling_exog)):]"
   ]
  },
  {
   "cell_type": "code",
   "execution_count": 27,
   "metadata": {},
   "outputs": [
    {
     "data": {
      "image/png": "[encoded data removed]",
      "text/plain": [
       "<Figure size 1000x500 with 1 Axes>"
      ]
     },
     "metadata": {},
     "output_type": "display_data"
    }
   ],
   "source": [
    "# Plot the training and test sets\n",
    "plt.figure(figsize=(10, 5))\n",
    "plt.plot(heating_endog_train.index, heating_endog_train[\"setpoint\"], label=\"heating Train\")\n",
    "plt.plot(heating_endog_test.index, heating_endog_test[\"setpoint\"], label=\"heating Test\")\n",
    "plt.plot(cooling_endog_train.index, cooling_endog_train[\"setpoint\"], label=\"cooling Train\")\n",
    "plt.plot(cooling_endog_test.index, cooling_endog_test[\"setpoint\"], label=\"cooling Test\")\n",
    "plt.title(\"Train and Test Sets\")\n",
    "plt.xlabel(\"Date\")\n",
    "plt.ylabel(\"Setpoint Value\")\n",
    "plt.legend()\n",
    "plt.xticks(rotation=45)\n",
    "plt.tight_layout()\n",
    "plt.show()"
   ]
  },
  {
   "cell_type": "markdown",
   "metadata": {},
   "source": [
    "# Datasets and Dataloaders"
   ]
  },
  {
   "cell_type": "code",
   "execution_count": 28,
   "metadata": {},
   "outputs": [],
   "source": [
    "heating_train_timeseries = pd.merge(heating_endog_train, heating_exog_train, left_index=True, right_index=True)\n",
    "heating_test_timeseries = pd.merge(heating_endog_test, heating_exog_test, left_index=True, right_index=True)\n",
    "\n",
    "cooling_train_timeseries = pd.merge(cooling_endog_train, cooling_exog_train, left_index=True, right_index=True)\n",
    "cooling_test_timeseries = pd.merge(cooling_endog_test, cooling_exog_test, left_index=True, right_index=True)"
   ]
  },
  {
   "cell_type": "code",
   "execution_count": 29,
   "metadata": {},
   "outputs": [
    {
     "data": {
      "text/html": [
       "<div>\n",
       "<style scoped>\n",
       "    .dataframe tbody tr th:only-of-type {\n",
       "        vertical-align: middle;\n",
       "    }\n",
       "\n",
       "    .dataframe tbody tr th {\n",
       "        vertical-align: top;\n",
       "    }\n",
       "\n",
       "    .dataframe thead th {\n",
       "        text-align: right;\n",
       "    }\n",
       "</style>\n",
       "<table border=\"1\" class=\"dataframe\">\n",
       "  <thead>\n",
       "    <tr style=\"text-align: right;\">\n",
       "      <th></th>\n",
       "      <th>setpoint</th>\n",
       "      <th>consumption</th>\n",
       "      <th>temperature</th>\n",
       "      <th>Direct Normal Radiation [W/m2]</th>\n",
       "    </tr>\n",
       "    <tr>\n",
       "      <th>timestamp</th>\n",
       "      <th></th>\n",
       "      <th></th>\n",
       "      <th></th>\n",
       "      <th></th>\n",
       "    </tr>\n",
       "  </thead>\n",
       "  <tbody>\n",
       "    <tr>\n",
       "      <th>2018-01-01 00:00:00</th>\n",
       "      <td>76.0</td>\n",
       "      <td>4.691970</td>\n",
       "      <td>-17.2</td>\n",
       "      <td>0.0</td>\n",
       "    </tr>\n",
       "    <tr>\n",
       "      <th>2018-01-01 01:00:00</th>\n",
       "      <td>76.0</td>\n",
       "      <td>5.008804</td>\n",
       "      <td>-17.2</td>\n",
       "      <td>0.0</td>\n",
       "    </tr>\n",
       "    <tr>\n",
       "      <th>2018-01-01 02:00:00</th>\n",
       "      <td>76.0</td>\n",
       "      <td>4.799112</td>\n",
       "      <td>-17.8</td>\n",
       "      <td>0.0</td>\n",
       "    </tr>\n",
       "    <tr>\n",
       "      <th>2018-01-01 03:00:00</th>\n",
       "      <td>76.0</td>\n",
       "      <td>4.963452</td>\n",
       "      <td>-18.9</td>\n",
       "      <td>0.0</td>\n",
       "    </tr>\n",
       "    <tr>\n",
       "      <th>2018-01-01 04:00:00</th>\n",
       "      <td>76.0</td>\n",
       "      <td>5.047929</td>\n",
       "      <td>-18.9</td>\n",
       "      <td>0.0</td>\n",
       "    </tr>\n",
       "  </tbody>\n",
       "</table>\n",
       "</div>"
      ],
      "text/plain": [
       "                     setpoint  consumption  temperature  \\\n",
       "timestamp                                                 \n",
       "2018-01-01 00:00:00      76.0     4.691970        -17.2   \n",
       "2018-01-01 01:00:00      76.0     5.008804        -17.2   \n",
       "2018-01-01 02:00:00      76.0     4.799112        -17.8   \n",
       "2018-01-01 03:00:00      76.0     4.963452        -18.9   \n",
       "2018-01-01 04:00:00      76.0     5.047929        -18.9   \n",
       "\n",
       "                     Direct Normal Radiation [W/m2]  \n",
       "timestamp                                            \n",
       "2018-01-01 00:00:00                             0.0  \n",
       "2018-01-01 01:00:00                             0.0  \n",
       "2018-01-01 02:00:00                             0.0  \n",
       "2018-01-01 03:00:00                             0.0  \n",
       "2018-01-01 04:00:00                             0.0  "
      ]
     },
     "execution_count": 29,
     "metadata": {},
     "output_type": "execute_result"
    }
   ],
   "source": [
    "heating_train_timeseries.head()"
   ]
  },
  {
   "cell_type": "code",
   "execution_count": 30,
   "metadata": {},
   "outputs": [],
   "source": [
    "def create_lr_sequences(data, sequence_length, building_resstock):\n",
    "    sequences = []\n",
    "    labels = []\n",
    "\n",
    "    for i in range(len(data) - sequence_length - 1):\n",
    "        sequence = np.array(data.iloc[i:i+sequence_length])\n",
    "        label = data.iloc[i+sequence_length].iloc[0]\n",
    "        sequences.append(sequence)\n",
    "        labels.append(label)\n",
    "    return np.array(sequences), labels"
   ]
  },
  {
   "cell_type": "code",
   "execution_count": 31,
   "metadata": {},
   "outputs": [],
   "source": [
    "sequence_length = 12\n",
    "batch_size = 64\n",
    "\n",
    "heating_train_sequences, heating_train_labels = create_lr_sequences(heating_train_timeseries, sequence_length, building_resstock)\n",
    "heating_test_sequences, heating_test_labels = create_lr_sequences(heating_test_timeseries, sequence_length, building_resstock)\n",
    "\n",
    "cooling_train_sequences, cooling_train_labels = create_lr_sequences(cooling_train_timeseries, sequence_length, building_resstock)\n",
    "cooling_test_sequences, cooling_test_labels = create_lr_sequences(cooling_test_timeseries, sequence_length, building_resstock)"
   ]
  },
  {
   "cell_type": "code",
   "execution_count": 32,
   "metadata": {},
   "outputs": [],
   "source": [
    "heating_train_sequences = heating_train_sequences.reshape(heating_train_sequences.shape[0], -1)\n",
    "heating_test_sequences = heating_test_sequences.reshape(heating_test_sequences.shape[0], -1)\n",
    "\n",
    "cooling_train_sequences = cooling_train_sequences.reshape(cooling_train_sequences.shape[0], -1)\n",
    "cooling_test_sequences = cooling_test_sequences.reshape(cooling_test_sequences.shape[0], -1)"
   ]
  },
  {
   "cell_type": "code",
   "execution_count": 33,
   "metadata": {},
   "outputs": [],
   "source": [
    "building_resstock_repeated_heating_train = np.tile(building_resstock, (heating_train_sequences.shape[0], 1))\n",
    "building_resstock_repeated_heating_test = np.tile(building_resstock, (heating_test_sequences.shape[0], 1))\n",
    "\n",
    "building_resstock_repeated_cooling_train = np.tile(building_resstock, (cooling_train_sequences.shape[0], 1))\n",
    "building_resstock_repeated_cooling_test = np.tile(building_resstock, (cooling_test_sequences.shape[0], 1))"
   ]
  },
  {
   "cell_type": "code",
   "execution_count": 34,
   "metadata": {},
   "outputs": [],
   "source": [
    "heating_train_sequences = np.concatenate((heating_train_sequences, building_resstock_repeated_heating_train), axis=1)\n",
    "heating_test_sequences = np.concatenate((heating_test_sequences, building_resstock_repeated_heating_test), axis=1)\n",
    "\n",
    "cooling_train_sequences = np.concatenate((cooling_train_sequences, building_resstock_repeated_cooling_train), axis=1)\n",
    "cooling_test_sequences = np.concatenate((cooling_test_sequences, building_resstock_repeated_cooling_test), axis=1)"
   ]
  },
  {
   "cell_type": "code",
   "execution_count": 35,
   "metadata": {},
   "outputs": [],
   "source": [
    "class TimeSeriesDataset(Dataset):\n",
    "    def __init__(self, sequences, labels):\n",
    "        self.sequences = sequences\n",
    "        self.labels = labels\n",
    "    \n",
    "    def __len__(self):\n",
    "        return len(self.sequences)\n",
    "    \n",
    "    def __getitem__(self, idx):\n",
    "        return torch.tensor(self.sequences[idx], dtype=torch.float32), torch.tensor(self.labels[idx], dtype=torch.float32)\n"
   ]
  },
  {
   "cell_type": "code",
   "execution_count": 36,
   "metadata": {},
   "outputs": [],
   "source": [
    "heating_train_dataset = TimeSeriesDataset(heating_train_sequences, heating_train_labels)\n",
    "heating_test_dataset = TimeSeriesDataset(heating_test_sequences, heating_test_labels)\n",
    "heating_train_loader = DataLoader(heating_train_dataset, batch_size=batch_size, shuffle=True)\n",
    "heating_test_loader = DataLoader(heating_test_dataset, batch_size=batch_size, shuffle=False)\n",
    "\n",
    "cooling_train_dataset = TimeSeriesDataset(cooling_train_sequences, cooling_train_labels)\n",
    "cooling_test_dataset = TimeSeriesDataset(cooling_test_sequences, cooling_test_labels)\n",
    "cooling_train_loader = DataLoader(cooling_train_dataset, batch_size=batch_size, shuffle=True)\n",
    "cooling_test_loader = DataLoader(cooling_test_dataset, batch_size=batch_size, shuffle=False)"
   ]
  },
  {
   "cell_type": "markdown",
   "metadata": {},
   "source": [
    "# Train and evaluate fns"
   ]
  },
  {
   "cell_type": "code",
   "execution_count": 37,
   "metadata": {},
   "outputs": [],
   "source": [
    "# Training function\n",
    "def train(model, train_loader, criterion, optimizer, num_epochs):\n",
    "    model.train()\n",
    "    for epoch in range(num_epochs):\n",
    "        running_loss = 0.0\n",
    "        for sequences, labels in train_loader:\n",
    "            # Zero gradients\n",
    "            optimizer.zero_grad()\n",
    "            \n",
    "            # Forward pass\n",
    "            outputs = model(sequences)\n",
    "            loss = criterion(outputs, labels)  # Unsqueeze labels to match output dim\n",
    "            \n",
    "            # Backward pass and optimization\n",
    "            loss.backward()\n",
    "            optimizer.step()\n",
    "            \n",
    "            running_loss += loss.item()\n",
    "        \n",
    "        print(f'Epoch {epoch+1}/{num_epochs}, Loss: {running_loss/len(train_loader):.4f}')"
   ]
  },
  {
   "cell_type": "code",
   "execution_count": 38,
   "metadata": {},
   "outputs": [],
   "source": [
    "# Predict\n",
    "def evaluate(model, test_loader):\n",
    "    model.eval()\n",
    "    predictions = []\n",
    "    actuals = []\n",
    "    with torch.no_grad():\n",
    "        for sequences, labels in test_loader:\n",
    "            outputs = model(sequences)\n",
    "            predictions.append(outputs.numpy())\n",
    "            actuals.append(labels.numpy())\n",
    "    return np.concatenate(predictions), np.concatenate(actuals)"
   ]
  },
  {
   "cell_type": "code",
   "execution_count": 39,
   "metadata": {},
   "outputs": [
    {
     "data": {
      "text/plain": [
       "69"
      ]
     },
     "execution_count": 39,
     "metadata": {},
     "output_type": "execute_result"
    }
   ],
   "source": [
    "len(heating_train_dataset[0][0])"
   ]
  },
  {
   "cell_type": "markdown",
   "metadata": {},
   "source": [
    "# MLP"
   ]
  },
  {
   "cell_type": "code",
   "execution_count": 40,
   "metadata": {},
   "outputs": [],
   "source": [
    "input_size = 69\n",
    "hidden_size_1 = 64\n",
    "hidden_size_2 = 32\n",
    "output_size = 1"
   ]
  },
  {
   "cell_type": "code",
   "execution_count": 41,
   "metadata": {},
   "outputs": [],
   "source": [
    "heating_model = MLPModel(\n",
    "    input_size, \n",
    "    hidden_size_1=hidden_size_1, \n",
    "    hidden_size_2=hidden_size_2,\n",
    "    output_size=output_size)"
   ]
  },
  {
   "cell_type": "code",
   "execution_count": 42,
   "metadata": {},
   "outputs": [],
   "source": [
    "# Loss and optimizer\n",
    "heating_criterion = nn.MSELoss()\n",
    "heating_optimizer = optim.Adam(heating_model.parameters(), lr=0.0001)"
   ]
  },
  {
   "cell_type": "markdown",
   "metadata": {},
   "source": [
    "## Heating"
   ]
  },
  {
   "cell_type": "code",
   "execution_count": 43,
   "metadata": {},
   "outputs": [
    {
     "name": "stderr",
     "output_type": "stream",
     "text": [
      "/Users/adrian/Documents/ICAI/TFG/Space-Conditioning-Electrification/.env/lib/python3.10/site-packages/torch/nn/modules/loss.py:610: UserWarning: Using a target size (torch.Size([64])) that is different to the input size (torch.Size([64, 1])). This will likely lead to incorrect results due to broadcasting. Please ensure they have the same size.\n",
      "  return F.mse_loss(input, target, reduction=self.reduction)\n",
      "/Users/adrian/Documents/ICAI/TFG/Space-Conditioning-Electrification/.env/lib/python3.10/site-packages/torch/nn/modules/loss.py:610: UserWarning: Using a target size (torch.Size([7])) that is different to the input size (torch.Size([7, 1])). This will likely lead to incorrect results due to broadcasting. Please ensure they have the same size.\n",
      "  return F.mse_loss(input, target, reduction=self.reduction)\n"
     ]
    },
    {
     "name": "stdout",
     "output_type": "stream",
     "text": [
      "Epoch 1/100, Loss: 178.9181\n",
      "Epoch 2/100, Loss: 12.0075\n",
      "Epoch 3/100, Loss: 6.7833\n",
      "Epoch 4/100, Loss: 4.4262\n",
      "Epoch 5/100, Loss: 3.1293\n",
      "Epoch 6/100, Loss: 2.4237\n",
      "Epoch 7/100, Loss: 1.9260\n",
      "Epoch 8/100, Loss: 1.5791\n",
      "Epoch 9/100, Loss: 1.2856\n",
      "Epoch 10/100, Loss: 1.1109\n",
      "Epoch 11/100, Loss: 0.9873\n",
      "Epoch 12/100, Loss: 0.8388\n",
      "Epoch 13/100, Loss: 0.7587\n",
      "Epoch 14/100, Loss: 0.6974\n",
      "Epoch 15/100, Loss: 0.6509\n",
      "Epoch 16/100, Loss: 0.5951\n",
      "Epoch 17/100, Loss: 0.5619\n",
      "Epoch 18/100, Loss: 0.5208\n",
      "Epoch 19/100, Loss: 0.4804\n",
      "Epoch 20/100, Loss: 0.4662\n",
      "Epoch 21/100, Loss: 0.4603\n",
      "Epoch 22/100, Loss: 0.4178\n",
      "Epoch 23/100, Loss: 0.3957\n",
      "Epoch 24/100, Loss: 0.3842\n",
      "Epoch 25/100, Loss: 0.3597\n",
      "Epoch 26/100, Loss: 0.3430\n",
      "Epoch 27/100, Loss: 0.3319\n",
      "Epoch 28/100, Loss: 0.3136\n",
      "Epoch 29/100, Loss: 0.3012\n",
      "Epoch 30/100, Loss: 0.3025\n",
      "Epoch 31/100, Loss: 0.2820\n",
      "Epoch 32/100, Loss: 0.2722\n",
      "Epoch 33/100, Loss: 0.2610\n",
      "Epoch 34/100, Loss: 0.2576\n",
      "Epoch 35/100, Loss: 0.2421\n",
      "Epoch 36/100, Loss: 0.2362\n",
      "Epoch 37/100, Loss: 0.2362\n",
      "Epoch 38/100, Loss: 0.2281\n",
      "Epoch 39/100, Loss: 0.2117\n",
      "Epoch 40/100, Loss: 0.2094\n",
      "Epoch 41/100, Loss: 0.1976\n",
      "Epoch 42/100, Loss: 0.1959\n",
      "Epoch 43/100, Loss: 0.1943\n",
      "Epoch 44/100, Loss: 0.1839\n",
      "Epoch 45/100, Loss: 0.1799\n",
      "Epoch 46/100, Loss: 0.1714\n",
      "Epoch 47/100, Loss: 0.1789\n",
      "Epoch 48/100, Loss: 0.1671\n",
      "Epoch 49/100, Loss: 0.1635\n",
      "Epoch 50/100, Loss: 0.1533\n",
      "Epoch 51/100, Loss: 0.1478\n",
      "Epoch 52/100, Loss: 0.1437\n",
      "Epoch 53/100, Loss: 0.1370\n",
      "Epoch 54/100, Loss: 0.1400\n",
      "Epoch 55/100, Loss: 0.1428\n",
      "Epoch 56/100, Loss: 0.1317\n",
      "Epoch 57/100, Loss: 0.1306\n",
      "Epoch 58/100, Loss: 0.1203\n",
      "Epoch 59/100, Loss: 0.1338\n",
      "Epoch 60/100, Loss: 0.1494\n",
      "Epoch 61/100, Loss: 0.1077\n",
      "Epoch 62/100, Loss: 0.1115\n",
      "Epoch 63/100, Loss: 0.1059\n",
      "Epoch 64/100, Loss: 0.1125\n",
      "Epoch 65/100, Loss: 0.1147\n",
      "Epoch 66/100, Loss: 0.1024\n",
      "Epoch 67/100, Loss: 0.1037\n",
      "Epoch 68/100, Loss: 0.1171\n",
      "Epoch 69/100, Loss: 0.1140\n",
      "Epoch 70/100, Loss: 0.0977\n",
      "Epoch 71/100, Loss: 0.0890\n",
      "Epoch 72/100, Loss: 0.0850\n",
      "Epoch 73/100, Loss: 0.0825\n",
      "Epoch 74/100, Loss: 0.0975\n",
      "Epoch 75/100, Loss: 0.0880\n",
      "Epoch 76/100, Loss: 0.0855\n",
      "Epoch 77/100, Loss: 0.0993\n",
      "Epoch 78/100, Loss: 0.0935\n",
      "Epoch 79/100, Loss: 0.0779\n",
      "Epoch 80/100, Loss: 0.0701\n",
      "Epoch 81/100, Loss: 0.0784\n",
      "Epoch 82/100, Loss: 0.0897\n",
      "Epoch 83/100, Loss: 0.0983\n",
      "Epoch 84/100, Loss: 0.0626\n",
      "Epoch 85/100, Loss: 0.0648\n",
      "Epoch 86/100, Loss: 0.0644\n",
      "Epoch 87/100, Loss: 0.0826\n",
      "Epoch 88/100, Loss: 0.0732\n",
      "Epoch 89/100, Loss: 0.0598\n",
      "Epoch 90/100, Loss: 0.0579\n",
      "Epoch 91/100, Loss: 0.0604\n",
      "Epoch 92/100, Loss: 0.0581\n",
      "Epoch 93/100, Loss: 0.0698\n",
      "Epoch 94/100, Loss: 0.0497\n",
      "Epoch 95/100, Loss: 0.0557\n",
      "Epoch 96/100, Loss: 0.0572\n",
      "Epoch 97/100, Loss: 0.0472\n",
      "Epoch 98/100, Loss: 0.0488\n",
      "Epoch 99/100, Loss: 0.0518\n",
      "Epoch 100/100, Loss: 0.0512\n"
     ]
    }
   ],
   "source": [
    "num_epochs = 100\n",
    "train(heating_model, heating_train_loader, heating_criterion, heating_optimizer, num_epochs)"
   ]
  },
  {
   "cell_type": "code",
   "execution_count": 44,
   "metadata": {},
   "outputs": [],
   "source": [
    "# Predict\n",
    "heating_predictions, heating_actuals = evaluate(heating_model, heating_test_loader)"
   ]
  },
  {
   "cell_type": "code",
   "execution_count": 45,
   "metadata": {},
   "outputs": [
    {
     "data": {
      "image/png": "[encoded data removed]",
      "text/plain": [
       "<Figure size 1000x500 with 1 Axes>"
      ]
     },
     "metadata": {},
     "output_type": "display_data"
    }
   ],
   "source": [
    "# Plot train, test and predictions\n",
    "plt.figure(figsize=(10, 5))\n",
    "plt.plot(heating_train_timeseries.index, heating_train_timeseries[\"setpoint\"], label=\"Train\")\n",
    "plt.plot(heating_test_timeseries.index, heating_test_timeseries[\"setpoint\"], label=\"Test\")\n",
    "plt.plot(heating_test_timeseries.index[13:], heating_predictions, label=\"Predicted\")\n",
    "plt.title(\"Linear Regression Predictions\")\n",
    "plt.xlabel(\"Time Step\")\n",
    "plt.ylabel(\"Setpoint Value\")\n",
    "plt.legend()\n",
    "plt.xticks(rotation=45)\n",
    "plt.tight_layout()\n",
    "plt.show()"
   ]
  },
  {
   "cell_type": "markdown",
   "metadata": {},
   "source": [
    "## Cooling"
   ]
  },
  {
   "cell_type": "code",
   "execution_count": 46,
   "metadata": {},
   "outputs": [],
   "source": [
    "input_size = 69\n",
    "hidden_size_1 = 64\n",
    "hidden_size_2 = 32\n",
    "output_size = 1"
   ]
  },
  {
   "cell_type": "code",
   "execution_count": 47,
   "metadata": {},
   "outputs": [],
   "source": [
    "cooling_model = MLPModel(\n",
    "    input_size, \n",
    "    hidden_size_1=hidden_size_1, \n",
    "    hidden_size_2=hidden_size_2,\n",
    "    output_size=output_size)"
   ]
  },
  {
   "cell_type": "code",
   "execution_count": 48,
   "metadata": {},
   "outputs": [],
   "source": [
    "# Loss and optimizer\n",
    "cooling_criterion = nn.MSELoss()\n",
    "cooling_optimizer = optim.Adam(cooling_model.parameters(), lr=0.0001)"
   ]
  },
  {
   "cell_type": "code",
   "execution_count": 49,
   "metadata": {},
   "outputs": [
    {
     "name": "stderr",
     "output_type": "stream",
     "text": [
      "/Users/adrian/Documents/ICAI/TFG/Space-Conditioning-Electrification/.env/lib/python3.10/site-packages/torch/nn/modules/loss.py:610: UserWarning: Using a target size (torch.Size([64])) that is different to the input size (torch.Size([64, 1])). This will likely lead to incorrect results due to broadcasting. Please ensure they have the same size.\n",
      "  return F.mse_loss(input, target, reduction=self.reduction)\n",
      "/Users/adrian/Documents/ICAI/TFG/Space-Conditioning-Electrification/.env/lib/python3.10/site-packages/torch/nn/modules/loss.py:610: UserWarning: Using a target size (torch.Size([44])) that is different to the input size (torch.Size([44, 1])). This will likely lead to incorrect results due to broadcasting. Please ensure they have the same size.\n",
      "  return F.mse_loss(input, target, reduction=self.reduction)\n"
     ]
    },
    {
     "name": "stdout",
     "output_type": "stream",
     "text": [
      "Epoch 1/100, Loss: 2011.4540\n",
      "Epoch 2/100, Loss: 124.6022\n",
      "Epoch 3/100, Loss: 55.0466\n",
      "Epoch 4/100, Loss: 26.2377\n",
      "Epoch 5/100, Loss: 15.5171\n",
      "Epoch 6/100, Loss: 10.9902\n",
      "Epoch 7/100, Loss: 8.1256\n",
      "Epoch 8/100, Loss: 6.0773\n",
      "Epoch 9/100, Loss: 4.8718\n",
      "Epoch 10/100, Loss: 4.1463\n",
      "Epoch 11/100, Loss: 3.6331\n",
      "Epoch 12/100, Loss: 3.2509\n",
      "Epoch 13/100, Loss: 2.9326\n",
      "Epoch 14/100, Loss: 2.6678\n",
      "Epoch 15/100, Loss: 2.4833\n",
      "Epoch 16/100, Loss: 2.3237\n",
      "Epoch 17/100, Loss: 2.1941\n",
      "Epoch 18/100, Loss: 2.0905\n",
      "Epoch 19/100, Loss: 2.0461\n",
      "Epoch 20/100, Loss: 1.9768\n",
      "Epoch 21/100, Loss: 1.8858\n",
      "Epoch 22/100, Loss: 1.8174\n",
      "Epoch 23/100, Loss: 1.7721\n",
      "Epoch 24/100, Loss: 1.7455\n",
      "Epoch 25/100, Loss: 1.7173\n",
      "Epoch 26/100, Loss: 1.6648\n",
      "Epoch 27/100, Loss: 1.6177\n",
      "Epoch 28/100, Loss: 1.5951\n",
      "Epoch 29/100, Loss: 1.5727\n",
      "Epoch 30/100, Loss: 1.5393\n",
      "Epoch 31/100, Loss: 1.5272\n",
      "Epoch 32/100, Loss: 1.4900\n",
      "Epoch 33/100, Loss: 1.4669\n",
      "Epoch 34/100, Loss: 1.4580\n",
      "Epoch 35/100, Loss: 1.4416\n",
      "Epoch 36/100, Loss: 1.4309\n",
      "Epoch 37/100, Loss: 1.3954\n",
      "Epoch 38/100, Loss: 1.3811\n",
      "Epoch 39/100, Loss: 1.3621\n",
      "Epoch 40/100, Loss: 1.3738\n",
      "Epoch 41/100, Loss: 1.3511\n",
      "Epoch 42/100, Loss: 1.3328\n",
      "Epoch 43/100, Loss: 1.3112\n",
      "Epoch 44/100, Loss: 1.3137\n",
      "Epoch 45/100, Loss: 1.3090\n",
      "Epoch 46/100, Loss: 1.2851\n",
      "Epoch 47/100, Loss: 1.2697\n",
      "Epoch 48/100, Loss: 1.2629\n",
      "Epoch 49/100, Loss: 1.2690\n",
      "Epoch 50/100, Loss: 1.2373\n",
      "Epoch 51/100, Loss: 1.2367\n",
      "Epoch 52/100, Loss: 1.2365\n",
      "Epoch 53/100, Loss: 1.2197\n",
      "Epoch 54/100, Loss: 1.2234\n",
      "Epoch 55/100, Loss: 1.2053\n",
      "Epoch 56/100, Loss: 1.1912\n",
      "Epoch 57/100, Loss: 1.1835\n",
      "Epoch 58/100, Loss: 1.1771\n",
      "Epoch 59/100, Loss: 1.1770\n",
      "Epoch 60/100, Loss: 1.1737\n",
      "Epoch 61/100, Loss: 1.1608\n",
      "Epoch 62/100, Loss: 1.1561\n",
      "Epoch 63/100, Loss: 1.1487\n",
      "Epoch 64/100, Loss: 1.1458\n",
      "Epoch 65/100, Loss: 1.1460\n",
      "Epoch 66/100, Loss: 1.1404\n",
      "Epoch 67/100, Loss: 1.1326\n",
      "Epoch 68/100, Loss: 1.1283\n",
      "Epoch 69/100, Loss: 1.1291\n",
      "Epoch 70/100, Loss: 1.1359\n",
      "Epoch 71/100, Loss: 1.1300\n",
      "Epoch 72/100, Loss: 1.1087\n",
      "Epoch 73/100, Loss: 1.1086\n",
      "Epoch 74/100, Loss: 1.1320\n",
      "Epoch 75/100, Loss: 1.0988\n",
      "Epoch 76/100, Loss: 1.1110\n",
      "Epoch 77/100, Loss: 1.1003\n",
      "Epoch 78/100, Loss: 1.0840\n",
      "Epoch 79/100, Loss: 1.0925\n",
      "Epoch 80/100, Loss: 1.0944\n",
      "Epoch 81/100, Loss: 1.0849\n",
      "Epoch 82/100, Loss: 1.0965\n",
      "Epoch 83/100, Loss: 1.0751\n",
      "Epoch 84/100, Loss: 1.0731\n",
      "Epoch 85/100, Loss: 1.0726\n",
      "Epoch 86/100, Loss: 1.0642\n",
      "Epoch 87/100, Loss: 1.0698\n",
      "Epoch 88/100, Loss: 1.0667\n",
      "Epoch 89/100, Loss: 1.0746\n",
      "Epoch 90/100, Loss: 1.0749\n",
      "Epoch 91/100, Loss: 1.0517\n",
      "Epoch 92/100, Loss: 1.0573\n",
      "Epoch 93/100, Loss: 1.0633\n",
      "Epoch 94/100, Loss: 1.0442\n",
      "Epoch 95/100, Loss: 1.0513\n",
      "Epoch 96/100, Loss: 1.0412\n",
      "Epoch 97/100, Loss: 1.0365\n",
      "Epoch 98/100, Loss: 1.0494\n",
      "Epoch 99/100, Loss: 1.0332\n",
      "Epoch 100/100, Loss: 1.0468\n"
     ]
    }
   ],
   "source": [
    "num_epochs = 100\n",
    "train(cooling_model, cooling_train_loader, cooling_criterion, cooling_optimizer, num_epochs)"
   ]
  },
  {
   "cell_type": "code",
   "execution_count": 50,
   "metadata": {},
   "outputs": [],
   "source": [
    "# Predict\n",
    "cooling_predictions, cooling_actuals = evaluate(cooling_model, cooling_test_loader)"
   ]
  },
  {
   "cell_type": "code",
   "execution_count": 51,
   "metadata": {},
   "outputs": [
    {
     "data": {
      "image/png": "[encoded data removed]",
      "text/plain": [
       "<Figure size 1000x500 with 1 Axes>"
      ]
     },
     "metadata": {},
     "output_type": "display_data"
    }
   ],
   "source": [
    "# Plot train, test and predictions\n",
    "plt.figure(figsize=(10, 5))\n",
    "plt.plot(cooling_train_timeseries.index, cooling_train_timeseries[\"setpoint\"], label=\"Train\")\n",
    "plt.plot(cooling_test_timeseries.index, cooling_test_timeseries[\"setpoint\"], label=\"Test\")\n",
    "plt.plot(cooling_test_timeseries.index[13:], cooling_predictions, label=\"Predicted\")\n",
    "plt.title(\"Linear Regression Predictions\")\n",
    "plt.xlabel(\"Time Step\")\n",
    "plt.ylabel(\"Setpoint Value\")\n",
    "plt.legend()\n",
    "plt.xticks(rotation=45)\n",
    "plt.tight_layout()\n",
    "plt.show()"
   ]
  },
  {
   "cell_type": "markdown",
   "metadata": {},
   "source": [
    "## Akaike"
   ]
  },
  {
   "cell_type": "code",
   "execution_count": 52,
   "metadata": {},
   "outputs": [],
   "source": [
    "def compute_aic(y_true, y_pred, num_params):\n",
    "    n = y_true.numel()\n",
    "    residuals = y_true - y_pred\n",
    "    rss = torch.sum(residuals ** 2).item()\n",
    "    sigma2 = rss / n\n",
    "    log_likelihood = -n/2 * (np.log(2 * np.pi * sigma2) + 1)\n",
    "    aic = 2 * num_params - 2 * log_likelihood\n",
    "    return aic"
   ]
  },
  {
   "cell_type": "code",
   "execution_count": 53,
   "metadata": {},
   "outputs": [],
   "source": [
    "heating_num_params = sum(p.numel() for p in heating_model.parameters() if p.requires_grad)"
   ]
  },
  {
   "cell_type": "code",
   "execution_count": 54,
   "metadata": {},
   "outputs": [],
   "source": [
    "heating_aic = compute_aic(\n",
    "    torch.tensor(heating_actuals), \n",
    "    torch.tensor(heating_predictions), \n",
    "    heating_num_params\n",
    ")"
   ]
  },
  {
   "cell_type": "code",
   "execution_count": 55,
   "metadata": {},
   "outputs": [
    {
     "data": {
      "text/plain": [
       "np.float64(19778.02292610275)"
      ]
     },
     "execution_count": 55,
     "metadata": {},
     "output_type": "execute_result"
    }
   ],
   "source": [
    "heating_aic"
   ]
  },
  {
   "cell_type": "code",
   "execution_count": 56,
   "metadata": {},
   "outputs": [
    {
     "data": {
      "text/plain": [
       "np.float64(20098.85660973309)"
      ]
     },
     "execution_count": 56,
     "metadata": {},
     "output_type": "execute_result"
    }
   ],
   "source": [
    "cooling_num_params = sum(p.numel() for p in cooling_model.parameters() if p.requires_grad)\n",
    "cooling_aic = compute_aic(\n",
    "    torch.tensor(cooling_actuals), \n",
    "    torch.tensor(cooling_predictions), \n",
    "    cooling_num_params\n",
    ")\n",
    "cooling_aic"
   ]
  },
  {
   "cell_type": "markdown",
   "metadata": {},
   "source": [
    "# ARIMA"
   ]
  },
  {
   "cell_type": "markdown",
   "metadata": {},
   "source": [
    "## Add lag to variables"
   ]
  },
  {
   "cell_type": "code",
   "execution_count": 57,
   "metadata": {},
   "outputs": [],
   "source": [
    "import warnings\n",
    "warnings.filterwarnings(\"ignore\")\n",
    "\n",
    "# Add lag of 1 to consumption, and create new temperature column with lag 1\n",
    "heating_exog_train[\"temperature_lag_1\"] = heating_exog_train[\"temperature\"].shift(1)\n",
    "heating_exog_train[\"consumption_lag_1\"] = heating_exog_train[\"consumption\"].shift(1)\n",
    "heating_exog_train.drop(columns=[\"consumption\"], inplace=True)\n",
    "heating_exog_train.bfill(inplace=True)\n",
    "\n",
    "heating_exog_test[\"temperature_lag_1\"] = heating_exog_test[\"temperature\"].shift(1)\n",
    "heating_exog_test[\"consumption_lag_1\"] = heating_exog_test[\"consumption\"].shift(1)\n",
    "heating_exog_test.drop(columns=[\"consumption\"], inplace=True)\n",
    "heating_exog_test.bfill(inplace=True)\n",
    "\n",
    "cooling_exog_train[\"temperature_lag_1\"] = cooling_exog_train[\"temperature\"].shift(1)\n",
    "cooling_exog_train[\"consumption_lag_1\"] = cooling_exog_train[\"consumption\"].shift(1)\n",
    "cooling_exog_train.drop(columns=[\"consumption\"], inplace=True)\n",
    "cooling_exog_train.bfill(inplace=True)\n",
    "\n",
    "cooling_exog_test[\"temperature_lag_1\"] = cooling_exog_test[\"temperature\"].shift(1)\n",
    "cooling_exog_test[\"consumption_lag_1\"] = cooling_exog_test[\"consumption\"].shift(1)\n",
    "cooling_exog_test.drop(columns=[\"consumption\"], inplace=True)\n",
    "cooling_exog_test.bfill(inplace=True)"
   ]
  },
  {
   "cell_type": "code",
   "execution_count": 58,
   "metadata": {},
   "outputs": [
    {
     "data": {
      "text/html": [
       "<div>\n",
       "<style scoped>\n",
       "    .dataframe tbody tr th:only-of-type {\n",
       "        vertical-align: middle;\n",
       "    }\n",
       "\n",
       "    .dataframe tbody tr th {\n",
       "        vertical-align: top;\n",
       "    }\n",
       "\n",
       "    .dataframe thead th {\n",
       "        text-align: right;\n",
       "    }\n",
       "</style>\n",
       "<table border=\"1\" class=\"dataframe\">\n",
       "  <thead>\n",
       "    <tr style=\"text-align: right;\">\n",
       "      <th></th>\n",
       "      <th>temperature</th>\n",
       "      <th>Direct Normal Radiation [W/m2]</th>\n",
       "      <th>temperature_lag_1</th>\n",
       "      <th>consumption_lag_1</th>\n",
       "    </tr>\n",
       "    <tr>\n",
       "      <th>timestamp</th>\n",
       "      <th></th>\n",
       "      <th></th>\n",
       "      <th></th>\n",
       "      <th></th>\n",
       "    </tr>\n",
       "  </thead>\n",
       "  <tbody>\n",
       "    <tr>\n",
       "      <th>2018-01-01 00:00:00</th>\n",
       "      <td>-17.2</td>\n",
       "      <td>0.0</td>\n",
       "      <td>-17.2</td>\n",
       "      <td>4.691970</td>\n",
       "    </tr>\n",
       "    <tr>\n",
       "      <th>2018-01-01 01:00:00</th>\n",
       "      <td>-17.2</td>\n",
       "      <td>0.0</td>\n",
       "      <td>-17.2</td>\n",
       "      <td>4.691970</td>\n",
       "    </tr>\n",
       "    <tr>\n",
       "      <th>2018-01-01 02:00:00</th>\n",
       "      <td>-17.8</td>\n",
       "      <td>0.0</td>\n",
       "      <td>-17.2</td>\n",
       "      <td>5.008804</td>\n",
       "    </tr>\n",
       "    <tr>\n",
       "      <th>2018-01-01 03:00:00</th>\n",
       "      <td>-18.9</td>\n",
       "      <td>0.0</td>\n",
       "      <td>-17.8</td>\n",
       "      <td>4.799112</td>\n",
       "    </tr>\n",
       "    <tr>\n",
       "      <th>2018-01-01 04:00:00</th>\n",
       "      <td>-18.9</td>\n",
       "      <td>0.0</td>\n",
       "      <td>-18.9</td>\n",
       "      <td>4.963452</td>\n",
       "    </tr>\n",
       "  </tbody>\n",
       "</table>\n",
       "</div>"
      ],
      "text/plain": [
       "                     temperature  Direct Normal Radiation [W/m2]  \\\n",
       "timestamp                                                          \n",
       "2018-01-01 00:00:00        -17.2                             0.0   \n",
       "2018-01-01 01:00:00        -17.2                             0.0   \n",
       "2018-01-01 02:00:00        -17.8                             0.0   \n",
       "2018-01-01 03:00:00        -18.9                             0.0   \n",
       "2018-01-01 04:00:00        -18.9                             0.0   \n",
       "\n",
       "                     temperature_lag_1  consumption_lag_1  \n",
       "timestamp                                                  \n",
       "2018-01-01 00:00:00              -17.2           4.691970  \n",
       "2018-01-01 01:00:00              -17.2           4.691970  \n",
       "2018-01-01 02:00:00              -17.2           5.008804  \n",
       "2018-01-01 03:00:00              -17.8           4.799112  \n",
       "2018-01-01 04:00:00              -18.9           4.963452  "
      ]
     },
     "execution_count": 58,
     "metadata": {},
     "output_type": "execute_result"
    }
   ],
   "source": [
    "heating_exog_train.head()"
   ]
  },
  {
   "cell_type": "markdown",
   "metadata": {},
   "source": [
    "## Heating"
   ]
  },
  {
   "cell_type": "code",
   "execution_count": 59,
   "metadata": {},
   "outputs": [],
   "source": [
    "# Make sure heating_endog_train and heating_exog_train have hourly frequency\n",
    "heating_endog_train = heating_endog_train.asfreq('h')\n",
    "heating_exog_train = heating_exog_train.asfreq('h')\n",
    "\n",
    "heating_endog_train.ffill(inplace=True)\n",
    "heating_exog_train.ffill(inplace=True)\n",
    "heating_endog_train.bfill(inplace=True)\n",
    "heating_exog_train.bfill(inplace=True)"
   ]
  },
  {
   "cell_type": "code",
   "execution_count": 60,
   "metadata": {},
   "outputs": [],
   "source": [
    "heating_arima_model = ARIMA(\n",
    "    endog=heating_endog_train,\n",
    "    exog=heating_exog_train,\n",
    "    order=(0, 0, 0),\n",
    "    freq=\"h\",\n",
    ")"
   ]
  },
  {
   "cell_type": "code",
   "execution_count": 61,
   "metadata": {},
   "outputs": [],
   "source": [
    "heating_arima_model_fit = heating_arima_model.fit()"
   ]
  },
  {
   "cell_type": "code",
   "execution_count": 62,
   "metadata": {},
   "outputs": [
    {
     "name": "stdout",
     "output_type": "stream",
     "text": [
      "                               SARIMAX Results                                \n",
      "==============================================================================\n",
      "Dep. Variable:               setpoint   No. Observations:                 7724\n",
      "Model:                          ARIMA   Log Likelihood               81827.955\n",
      "Date:                Tue, 27 May 2025   AIC                        -163643.910\n",
      "Time:                        11:12:42   BIC                        -163602.198\n",
      "Sample:                    01-01-2018   HQIC                       -163629.607\n",
      "                         - 11-18-2018                                         \n",
      "Covariance Type:                  opg                                         \n",
      "==================================================================================================\n",
      "                                     coef    std err          z      P>|z|      [0.025      0.975]\n",
      "--------------------------------------------------------------------------------------------------\n",
      "const                             76.0000   1.71e-23   4.44e+24      0.000      76.000      76.000\n",
      "temperature                      2.19e-14   5.67e-23   3.86e+08      0.000    2.19e-14    2.19e-14\n",
      "Direct Normal Radiation [W/m2]  3.087e-16   1.05e-20   2.94e+04      0.000    3.09e-16    3.09e-16\n",
      "temperature_lag_1              -2.226e-14   3.63e-23  -6.13e+08      0.000   -2.23e-14   -2.23e-14\n",
      "consumption_lag_1               1.332e-14   3.22e-23   4.13e+08      0.000    1.33e-14    1.33e-14\n",
      "sigma2                              1e-10   2.25e-11      4.435      0.000    5.58e-11    1.44e-10\n",
      "===================================================================================\n",
      "Ljung-Box (L1) (Q):                6459.74   Jarque-Bera (JB):             11254.86\n",
      "Prob(Q):                              0.00   Prob(JB):                         0.00\n",
      "Heteroskedasticity (H):               0.13   Skew:                            -2.18\n",
      "Prob(H) (two-sided):                  0.00   Kurtosis:                         7.01\n",
      "===================================================================================\n",
      "\n",
      "Warnings:\n",
      "[1] Covariance matrix calculated using the outer product of gradients (complex-step).\n",
      "[2] Covariance matrix is singular or near-singular, with condition number 5.48e+39. Standard errors may be unstable.\n"
     ]
    }
   ],
   "source": [
    "print(heating_arima_model_fit.summary())"
   ]
  },
  {
   "cell_type": "code",
   "execution_count": 63,
   "metadata": {},
   "outputs": [
    {
     "data": {
      "image/png": "[encoded data removed]",
      "text/plain": [
       "<Figure size 1000x800 with 2 Axes>"
      ]
     },
     "metadata": {},
     "output_type": "display_data"
    }
   ],
   "source": [
    "# Plot ACF and PACF\n",
    "\n",
    "fig, ax = plt.subplots(2, 1, figsize=(10, 8))\n",
    "plot_acf(heating_arima_model_fit.resid, lags=50, ax=ax[0])\n",
    "plot_pacf(heating_arima_model_fit.resid, lags=50, ax=ax[1])\n",
    "plt.title(\"ACF and PACF\")\n",
    "plt.tight_layout()\n",
    "plt.show()"
   ]
  },
  {
   "cell_type": "code",
   "execution_count": 64,
   "metadata": {},
   "outputs": [],
   "source": [
    "# Predict\n",
    "predictions = heating_arima_model_fit.get_forecast(steps=len(heating_endog_test), exog=heating_exog_test)\n",
    "predicted_mean = predictions.predicted_mean\n",
    "predicted_conf_int = predictions.conf_int()\n",
    "lower_limits = predicted_conf_int.iloc[:, 0]\n",
    "upper_limits = predicted_conf_int.iloc[:, 1]\n",
    "predicted_mean = pd.Series(predicted_mean, index=heating_endog_test.index)"
   ]
  },
  {
   "cell_type": "code",
   "execution_count": 65,
   "metadata": {},
   "outputs": [
    {
     "data": {
      "image/png": "[encoded data removed]",
      "text/plain": [
       "<Figure size 1000x500 with 1 Axes>"
      ]
     },
     "metadata": {},
     "output_type": "display_data"
    }
   ],
   "source": [
    "# Plot predictions\n",
    "plt.figure(figsize=(10, 5))\n",
    "plt.plot(heating_endog_train.index, heating_endog_train[\"setpoint\"], label=\"Train\")\n",
    "plt.plot(heating_endog_test.index, heating_endog_test[\"setpoint\"], label=\"Test\")\n",
    "plt.plot(predicted_mean.index, predicted_mean, label=\"Predicted\")\n",
    "plt.title(\"ARIMA Predictions\")\n",
    "plt.xlabel(\"Date\")\n",
    "plt.ylabel(\"Setpoint Value\")\n",
    "plt.legend()\n",
    "plt.xticks(rotation=45)\n",
    "plt.tight_layout()\n",
    "plt.show()"
   ]
  },
  {
   "cell_type": "code",
   "execution_count": 66,
   "metadata": {},
   "outputs": [
    {
     "data": {
      "text/plain": [
       "const                             7.600000e+01\n",
       "temperature                       2.189915e-14\n",
       "Direct Normal Radiation [W/m2]    3.087266e-16\n",
       "temperature_lag_1                -2.225997e-14\n",
       "consumption_lag_1                 1.332268e-14\n",
       "sigma2                            1.000000e-10\n",
       "dtype: float64"
      ]
     },
     "execution_count": 66,
     "metadata": {},
     "output_type": "execute_result"
    }
   ],
   "source": [
    "heating_arima_model_fit.params"
   ]
  },
  {
   "cell_type": "markdown",
   "metadata": {},
   "source": [
    "## Cooling"
   ]
  },
  {
   "cell_type": "code",
   "execution_count": 67,
   "metadata": {},
   "outputs": [],
   "source": [
    "# Make sure heating_endog_train and heating_exog_train have hourly frequency\n",
    "cooling_endog_train = cooling_endog_train.asfreq('h')\n",
    "cooling_exog_train = cooling_exog_train.asfreq('h')\n",
    "\n",
    "cooling_endog_train.ffill(inplace=True)\n",
    "cooling_exog_train.ffill(inplace=True)\n",
    "cooling_endog_train.bfill(inplace=True)\n",
    "cooling_exog_train.bfill(inplace=True)"
   ]
  },
  {
   "cell_type": "code",
   "execution_count": 68,
   "metadata": {},
   "outputs": [],
   "source": [
    "cooling_arima_model = ARIMA(\n",
    "    endog=cooling_endog_train,\n",
    "    exog=cooling_exog_train,\n",
    "    order=(1, 0, 0),\n",
    "    seasonal_order=(1, 0, 0, 24),\n",
    "    freq=\"h\",\n",
    ")"
   ]
  },
  {
   "cell_type": "code",
   "execution_count": 69,
   "metadata": {},
   "outputs": [],
   "source": [
    "cooling_arima_model_fit = cooling_arima_model.fit()"
   ]
  },
  {
   "cell_type": "code",
   "execution_count": 70,
   "metadata": {},
   "outputs": [
    {
     "name": "stdout",
     "output_type": "stream",
     "text": [
      "                                    SARIMAX Results                                     \n",
      "========================================================================================\n",
      "Dep. Variable:                         setpoint   No. Observations:                 2937\n",
      "Model:             ARIMA(1, 0, 0)x(1, 0, 0, 24)   Log Likelihood                2491.832\n",
      "Date:                          Tue, 27 May 2025   AIC                          -4967.664\n",
      "Time:                                  11:12:50   BIC                          -4919.783\n",
      "Sample:                              06-01-2018   HQIC                         -4950.423\n",
      "                                   - 10-01-2018                                         \n",
      "Covariance Type:                            opg                                         \n",
      "==================================================================================================\n",
      "                                     coef    std err          z      P>|z|      [0.025      0.975]\n",
      "--------------------------------------------------------------------------------------------------\n",
      "const                             69.4682      0.032   2142.502      0.000      69.405      69.532\n",
      "temperature                       -0.0089      0.001     -6.851      0.000      -0.011      -0.006\n",
      "Direct Normal Radiation [W/m2] -6.199e-05   1.02e-05     -6.062      0.000    -8.2e-05   -4.19e-05\n",
      "temperature_lag_1                 -0.0136      0.001    -10.665      0.000      -0.016      -0.011\n",
      "consumption_lag_1                 -1.5405      0.035    -43.413      0.000      -1.610      -1.471\n",
      "ar.L1                              0.6932      0.008     89.453      0.000       0.678       0.708\n",
      "ar.S.L24                           0.8528      0.002    393.184      0.000       0.849       0.857\n",
      "sigma2                             0.0075      0.000     42.492      0.000       0.007       0.008\n",
      "===================================================================================\n",
      "Ljung-Box (L1) (Q):                 328.99   Jarque-Bera (JB):              4723.19\n",
      "Prob(Q):                              0.00   Prob(JB):                         0.00\n",
      "Heteroskedasticity (H):               0.87   Skew:                             0.08\n",
      "Prob(H) (two-sided):                  0.03   Kurtosis:                         9.21\n",
      "===================================================================================\n",
      "\n",
      "Warnings:\n",
      "[1] Covariance matrix calculated using the outer product of gradients (complex-step).\n"
     ]
    }
   ],
   "source": [
    "print(cooling_arima_model_fit.summary())"
   ]
  },
  {
   "cell_type": "code",
   "execution_count": 71,
   "metadata": {},
   "outputs": [
    {
     "data": {
      "image/png": "[encoded data removed]",
      "text/plain": [
       "<Figure size 1000x800 with 2 Axes>"
      ]
     },
     "metadata": {},
     "output_type": "display_data"
    }
   ],
   "source": [
    "# Plot ACF and PACF\n",
    "\n",
    "fig, ax = plt.subplots(2, 1, figsize=(10, 8))\n",
    "plot_acf(cooling_arima_model_fit.resid, lags=50, ax=ax[0])\n",
    "plot_pacf(cooling_arima_model_fit.resid, lags=50, ax=ax[1])\n",
    "plt.title(\"ACF and PACF\")\n",
    "plt.tight_layout()\n",
    "plt.show()"
   ]
  },
  {
   "cell_type": "code",
   "execution_count": 72,
   "metadata": {},
   "outputs": [],
   "source": [
    "# Predict\n",
    "predictions = cooling_arima_model_fit.get_forecast(steps=len(cooling_endog_test), exog=cooling_exog_test)\n",
    "predicted_mean = predictions.predicted_mean\n",
    "predicted_conf_int = predictions.conf_int()\n",
    "lower_limits = predicted_conf_int.iloc[:, 0]\n",
    "upper_limits = predicted_conf_int.iloc[:, 1]\n",
    "predicted_mean = pd.Series(predicted_mean, index=cooling_endog_test.index)"
   ]
  },
  {
   "cell_type": "code",
   "execution_count": 73,
   "metadata": {},
   "outputs": [
    {
     "data": {
      "image/png": "[encoded data removed]",
      "text/plain": [
       "<Figure size 1000x500 with 1 Axes>"
      ]
     },
     "metadata": {},
     "output_type": "display_data"
    }
   ],
   "source": [
    "# Plot predictions\n",
    "plt.figure(figsize=(10, 5))\n",
    "plt.plot(cooling_endog_train.index, cooling_endog_train[\"setpoint\"], label=\"Train\")\n",
    "plt.plot(cooling_endog_test.index, cooling_endog_test[\"setpoint\"], label=\"Test\")\n",
    "plt.plot(predicted_mean.index, predicted_mean, label=\"Predicted\")\n",
    "plt.title(\"ARIMA Predictions\")\n",
    "plt.xlabel(\"Date\")\n",
    "plt.ylabel(\"Setpoint Value\")\n",
    "plt.legend()\n",
    "plt.xticks(rotation=45)\n",
    "plt.tight_layout()\n",
    "plt.show()"
   ]
  },
  {
   "cell_type": "code",
   "execution_count": 74,
   "metadata": {},
   "outputs": [
    {
     "name": "stdout",
     "output_type": "stream",
     "text": [
      "const                             69.468166\n",
      "temperature                       -0.008926\n",
      "Direct Normal Radiation [W/m2]    -0.000062\n",
      "temperature_lag_1                 -0.013628\n",
      "consumption_lag_1                 -1.540494\n",
      "ar.L1                              0.693174\n",
      "ar.S.L24                           0.852798\n",
      "sigma2                             0.007526\n",
      "dtype: float64\n"
     ]
    }
   ],
   "source": [
    "# Print arima parameters\n",
    "print(cooling_arima_model_fit.params)"
   ]
  },
  {
   "cell_type": "markdown",
   "metadata": {},
   "source": [
    "# Linear Regression"
   ]
  },
  {
   "cell_type": "markdown",
   "metadata": {},
   "source": [
    "## Heating"
   ]
  },
  {
   "cell_type": "code",
   "execution_count": 75,
   "metadata": {},
   "outputs": [],
   "source": [
    "heating_train = pd.merge(heating_endog_train, heating_exog_train, left_index=True, right_index=True)\n",
    "heating_test = pd.merge(heating_endog_test, heating_exog_test, left_index=True, right_index=True)"
   ]
  },
  {
   "cell_type": "code",
   "execution_count": 76,
   "metadata": {},
   "outputs": [],
   "source": [
    "# Set heating labels to the setpoint column\n",
    "heating_train_labels = heating_train[\"setpoint\"].values\n",
    "heating_test_labels = heating_test[\"setpoint\"].values"
   ]
  },
  {
   "cell_type": "code",
   "execution_count": 77,
   "metadata": {},
   "outputs": [],
   "source": [
    "# Shift setpoint so that each column has the value of the previous hour\n",
    "heating_train[\"setpoint\"] = heating_train[\"setpoint\"].shift(1)\n",
    "heating_test[\"setpoint\"] = heating_test[\"setpoint\"].shift(1)\n",
    "\n",
    "heating_train.ffill(inplace=True)\n",
    "heating_test.ffill(inplace=True)\n",
    "heating_train.bfill(inplace=True)\n",
    "heating_test.bfill(inplace=True)"
   ]
  },
  {
   "cell_type": "code",
   "execution_count": 78,
   "metadata": {},
   "outputs": [],
   "source": [
    "class LinearRegressionDataset(Dataset):\n",
    "    def __init__(self, data, labels):\n",
    "        self.data = data\n",
    "        self.labels = labels\n",
    "    \n",
    "    def __len__(self):\n",
    "        return len(self.data)\n",
    "    \n",
    "    def __getitem__(self, idx):\n",
    "        return torch.tensor(self.data[idx], dtype=torch.float32), torch.tensor(self.labels[idx], dtype=torch.float32)"
   ]
  },
  {
   "cell_type": "code",
   "execution_count": 79,
   "metadata": {},
   "outputs": [],
   "source": [
    "heating_lr_dataset_train = LinearRegressionDataset(heating_train.values, heating_train_labels)\n",
    "heating_lr_dataset_test = LinearRegressionDataset(heating_test.values, heating_test_labels)"
   ]
  },
  {
   "cell_type": "code",
   "execution_count": 80,
   "metadata": {},
   "outputs": [],
   "source": [
    "heating_lr_dataloader_train = DataLoader(heating_lr_dataset_train, batch_size=batch_size, shuffle=True)\n",
    "heating_lr_dataloader_test = DataLoader(heating_lr_dataset_test, batch_size=batch_size, shuffle=False)"
   ]
  },
  {
   "cell_type": "code",
   "execution_count": 89,
   "metadata": {},
   "outputs": [],
   "source": [
    "lr_heating_model = LinearRegressionModel(input_size=heating_train.shape[1], output_size=1)"
   ]
  },
  {
   "cell_type": "code",
   "execution_count": 90,
   "metadata": {},
   "outputs": [],
   "source": [
    "# Loss and optimizer\n",
    "heating_lr_criterion = nn.MSELoss()\n",
    "heating_lr_optimizer = optim.Adam(lr_heating_model.parameters(), lr=0.0001)"
   ]
  },
  {
   "cell_type": "code",
   "execution_count": 91,
   "metadata": {},
   "outputs": [
    {
     "name": "stdout",
     "output_type": "stream",
     "text": [
      "Epoch 1/300, Loss: 13942.7189\n",
      "Epoch 2/300, Loss: 13181.6120\n",
      "Epoch 3/300, Loss: 12434.8947\n",
      "Epoch 4/300, Loss: 11752.7622\n",
      "Epoch 5/300, Loss: 11090.7659\n",
      "Epoch 6/300, Loss: 10433.4069\n",
      "Epoch 7/300, Loss: 9821.6697\n",
      "Epoch 8/300, Loss: 9241.1148\n",
      "Epoch 9/300, Loss: 8695.2540\n",
      "Epoch 10/300, Loss: 8169.0812\n",
      "Epoch 11/300, Loss: 7670.8365\n",
      "Epoch 12/300, Loss: 7188.5092\n",
      "Epoch 13/300, Loss: 6734.0588\n",
      "Epoch 14/300, Loss: 6303.4426\n",
      "Epoch 15/300, Loss: 5895.9410\n",
      "Epoch 16/300, Loss: 5512.7992\n",
      "Epoch 17/300, Loss: 5149.1620\n",
      "Epoch 18/300, Loss: 4804.3064\n",
      "Epoch 19/300, Loss: 4474.0038\n",
      "Epoch 20/300, Loss: 4171.5208\n",
      "Epoch 21/300, Loss: 3879.5573\n",
      "Epoch 22/300, Loss: 3610.1509\n",
      "Epoch 23/300, Loss: 3355.6392\n",
      "Epoch 24/300, Loss: 3115.2727\n",
      "Epoch 25/300, Loss: 2891.2198\n",
      "Epoch 26/300, Loss: 2682.0260\n",
      "Epoch 27/300, Loss: 2487.9324\n",
      "Epoch 28/300, Loss: 2305.9507\n",
      "Epoch 29/300, Loss: 2137.7251\n",
      "Epoch 30/300, Loss: 1982.4406\n",
      "Epoch 31/300, Loss: 1838.4503\n",
      "Epoch 32/300, Loss: 1705.7287\n",
      "Epoch 33/300, Loss: 1583.1384\n",
      "Epoch 34/300, Loss: 1470.6230\n",
      "Epoch 35/300, Loss: 1367.0625\n",
      "Epoch 36/300, Loss: 1272.3371\n",
      "Epoch 37/300, Loss: 1185.5507\n",
      "Epoch 38/300, Loss: 1105.9961\n",
      "Epoch 39/300, Loss: 1032.9407\n",
      "Epoch 40/300, Loss: 966.1484\n",
      "Epoch 41/300, Loss: 904.7470\n",
      "Epoch 42/300, Loss: 848.1761\n",
      "Epoch 43/300, Loss: 795.9233\n",
      "Epoch 44/300, Loss: 747.6705\n",
      "Epoch 45/300, Loss: 702.5271\n",
      "Epoch 46/300, Loss: 660.8212\n",
      "Epoch 47/300, Loss: 621.1393\n",
      "Epoch 48/300, Loss: 584.1792\n",
      "Epoch 49/300, Loss: 549.0317\n",
      "Epoch 50/300, Loss: 515.6435\n",
      "Epoch 51/300, Loss: 483.9162\n",
      "Epoch 52/300, Loss: 453.9522\n",
      "Epoch 53/300, Loss: 425.0097\n",
      "Epoch 54/300, Loss: 397.4540\n",
      "Epoch 55/300, Loss: 371.1936\n",
      "Epoch 56/300, Loss: 346.5367\n",
      "Epoch 57/300, Loss: 322.7526\n",
      "Epoch 58/300, Loss: 300.1942\n",
      "Epoch 59/300, Loss: 278.9436\n",
      "Epoch 60/300, Loss: 258.8253\n",
      "Epoch 61/300, Loss: 239.9400\n",
      "Epoch 62/300, Loss: 222.3932\n",
      "Epoch 63/300, Loss: 206.0474\n",
      "Epoch 64/300, Loss: 190.4882\n",
      "Epoch 65/300, Loss: 176.2568\n",
      "Epoch 66/300, Loss: 163.1542\n",
      "Epoch 67/300, Loss: 150.7719\n",
      "Epoch 68/300, Loss: 139.8348\n",
      "Epoch 69/300, Loss: 129.5414\n",
      "Epoch 70/300, Loss: 120.1877\n",
      "Epoch 71/300, Loss: 111.7277\n",
      "Epoch 72/300, Loss: 104.0107\n",
      "Epoch 73/300, Loss: 96.9746\n",
      "Epoch 74/300, Loss: 90.6568\n",
      "Epoch 75/300, Loss: 84.9889\n",
      "Epoch 76/300, Loss: 79.7462\n",
      "Epoch 77/300, Loss: 75.1552\n",
      "Epoch 78/300, Loss: 70.8175\n",
      "Epoch 79/300, Loss: 66.9455\n",
      "Epoch 80/300, Loss: 63.3403\n",
      "Epoch 81/300, Loss: 60.0711\n",
      "Epoch 82/300, Loss: 56.9569\n",
      "Epoch 83/300, Loss: 54.0596\n",
      "Epoch 84/300, Loss: 51.2623\n",
      "Epoch 85/300, Loss: 48.5707\n",
      "Epoch 86/300, Loss: 46.0620\n",
      "Epoch 87/300, Loss: 43.5148\n",
      "Epoch 88/300, Loss: 41.1709\n",
      "Epoch 89/300, Loss: 38.8034\n",
      "Epoch 90/300, Loss: 36.5001\n",
      "Epoch 91/300, Loss: 34.3002\n",
      "Epoch 92/300, Loss: 32.1780\n",
      "Epoch 93/300, Loss: 30.0618\n",
      "Epoch 94/300, Loss: 28.0308\n",
      "Epoch 95/300, Loss: 26.0888\n",
      "Epoch 96/300, Loss: 24.1960\n",
      "Epoch 97/300, Loss: 22.3822\n",
      "Epoch 98/300, Loss: 20.6440\n",
      "Epoch 99/300, Loss: 18.9880\n",
      "Epoch 100/300, Loss: 17.4116\n",
      "Epoch 101/300, Loss: 15.9070\n",
      "Epoch 102/300, Loss: 14.5012\n",
      "Epoch 103/300, Loss: 13.1558\n",
      "Epoch 104/300, Loss: 11.9164\n",
      "Epoch 105/300, Loss: 10.7402\n",
      "Epoch 106/300, Loss: 9.6338\n",
      "Epoch 107/300, Loss: 8.5918\n",
      "Epoch 108/300, Loss: 7.6577\n",
      "Epoch 109/300, Loss: 6.7828\n",
      "Epoch 110/300, Loss: 5.9860\n",
      "Epoch 111/300, Loss: 5.2523\n",
      "Epoch 112/300, Loss: 4.5899\n",
      "Epoch 113/300, Loss: 3.9857\n",
      "Epoch 114/300, Loss: 3.4381\n",
      "Epoch 115/300, Loss: 2.9530\n",
      "Epoch 116/300, Loss: 2.5174\n",
      "Epoch 117/300, Loss: 2.1367\n",
      "Epoch 118/300, Loss: 1.8018\n",
      "Epoch 119/300, Loss: 1.5078\n",
      "Epoch 120/300, Loss: 1.2548\n",
      "Epoch 121/300, Loss: 1.0402\n",
      "Epoch 122/300, Loss: 0.8561\n",
      "Epoch 123/300, Loss: 0.7018\n",
      "Epoch 124/300, Loss: 0.5756\n",
      "Epoch 125/300, Loss: 0.4721\n",
      "Epoch 126/300, Loss: 0.3873\n",
      "Epoch 127/300, Loss: 0.3204\n",
      "Epoch 128/300, Loss: 0.2677\n",
      "Epoch 129/300, Loss: 0.2276\n",
      "Epoch 130/300, Loss: 0.1970\n",
      "Epoch 131/300, Loss: 0.1742\n",
      "Epoch 132/300, Loss: 0.1576\n",
      "Epoch 133/300, Loss: 0.1465\n",
      "Epoch 134/300, Loss: 0.1380\n",
      "Epoch 135/300, Loss: 0.1327\n",
      "Epoch 136/300, Loss: 0.1293\n",
      "Epoch 137/300, Loss: 0.1271\n",
      "Epoch 138/300, Loss: 0.1254\n",
      "Epoch 139/300, Loss: 0.1239\n",
      "Epoch 140/300, Loss: 0.1236\n",
      "Epoch 141/300, Loss: 0.1234\n",
      "Epoch 142/300, Loss: 0.1228\n",
      "Epoch 143/300, Loss: 0.1227\n",
      "Epoch 144/300, Loss: 0.1226\n",
      "Epoch 145/300, Loss: 0.1218\n",
      "Epoch 146/300, Loss: 0.1219\n",
      "Epoch 147/300, Loss: 0.1213\n",
      "Epoch 148/300, Loss: 0.1211\n",
      "Epoch 149/300, Loss: 0.1218\n",
      "Epoch 150/300, Loss: 0.1208\n",
      "Epoch 151/300, Loss: 0.1204\n",
      "Epoch 152/300, Loss: 0.1198\n",
      "Epoch 153/300, Loss: 0.1198\n",
      "Epoch 154/300, Loss: 0.1190\n",
      "Epoch 155/300, Loss: 0.1189\n",
      "Epoch 156/300, Loss: 0.1192\n",
      "Epoch 157/300, Loss: 0.1184\n",
      "Epoch 158/300, Loss: 0.1178\n",
      "Epoch 159/300, Loss: 0.1173\n",
      "Epoch 160/300, Loss: 0.1166\n",
      "Epoch 161/300, Loss: 0.1163\n",
      "Epoch 162/300, Loss: 0.1155\n",
      "Epoch 163/300, Loss: 0.1147\n",
      "Epoch 164/300, Loss: 0.1139\n",
      "Epoch 165/300, Loss: 0.1139\n",
      "Epoch 166/300, Loss: 0.1145\n",
      "Epoch 167/300, Loss: 0.1122\n",
      "Epoch 168/300, Loss: 0.1118\n",
      "Epoch 169/300, Loss: 0.1104\n",
      "Epoch 170/300, Loss: 0.1100\n",
      "Epoch 171/300, Loss: 0.1092\n",
      "Epoch 172/300, Loss: 0.1085\n",
      "Epoch 173/300, Loss: 0.1073\n",
      "Epoch 174/300, Loss: 0.1070\n",
      "Epoch 175/300, Loss: 0.1056\n",
      "Epoch 176/300, Loss: 0.1048\n",
      "Epoch 177/300, Loss: 0.1036\n",
      "Epoch 178/300, Loss: 0.1028\n",
      "Epoch 179/300, Loss: 0.1019\n",
      "Epoch 180/300, Loss: 0.1008\n",
      "Epoch 181/300, Loss: 0.1011\n",
      "Epoch 182/300, Loss: 0.0991\n",
      "Epoch 183/300, Loss: 0.0981\n",
      "Epoch 184/300, Loss: 0.0972\n",
      "Epoch 185/300, Loss: 0.0964\n",
      "Epoch 186/300, Loss: 0.0954\n",
      "Epoch 187/300, Loss: 0.0942\n",
      "Epoch 188/300, Loss: 0.0931\n",
      "Epoch 189/300, Loss: 0.0921\n",
      "Epoch 190/300, Loss: 0.0910\n",
      "Epoch 191/300, Loss: 0.0900\n",
      "Epoch 192/300, Loss: 0.0889\n",
      "Epoch 193/300, Loss: 0.0877\n",
      "Epoch 194/300, Loss: 0.0877\n",
      "Epoch 195/300, Loss: 0.0869\n",
      "Epoch 196/300, Loss: 0.0847\n",
      "Epoch 197/300, Loss: 0.0841\n",
      "Epoch 198/300, Loss: 0.0829\n",
      "Epoch 199/300, Loss: 0.0824\n",
      "Epoch 200/300, Loss: 0.0810\n",
      "Epoch 201/300, Loss: 0.0797\n",
      "Epoch 202/300, Loss: 0.0788\n",
      "Epoch 203/300, Loss: 0.0778\n",
      "Epoch 204/300, Loss: 0.0769\n",
      "Epoch 205/300, Loss: 0.0756\n",
      "Epoch 206/300, Loss: 0.0753\n",
      "Epoch 207/300, Loss: 0.0741\n",
      "Epoch 208/300, Loss: 0.0727\n",
      "Epoch 209/300, Loss: 0.0723\n",
      "Epoch 210/300, Loss: 0.0711\n",
      "Epoch 211/300, Loss: 0.0701\n",
      "Epoch 212/300, Loss: 0.0693\n",
      "Epoch 213/300, Loss: 0.0687\n",
      "Epoch 214/300, Loss: 0.0673\n",
      "Epoch 215/300, Loss: 0.0664\n",
      "Epoch 216/300, Loss: 0.0652\n",
      "Epoch 217/300, Loss: 0.0648\n",
      "Epoch 218/300, Loss: 0.0636\n",
      "Epoch 219/300, Loss: 0.0624\n",
      "Epoch 220/300, Loss: 0.0619\n",
      "Epoch 221/300, Loss: 0.0608\n",
      "Epoch 222/300, Loss: 0.0601\n",
      "Epoch 223/300, Loss: 0.0590\n",
      "Epoch 224/300, Loss: 0.0581\n",
      "Epoch 225/300, Loss: 0.0575\n",
      "Epoch 226/300, Loss: 0.0569\n",
      "Epoch 227/300, Loss: 0.0559\n",
      "Epoch 228/300, Loss: 0.0548\n",
      "Epoch 229/300, Loss: 0.0544\n",
      "Epoch 230/300, Loss: 0.0532\n",
      "Epoch 231/300, Loss: 0.0524\n",
      "Epoch 232/300, Loss: 0.0516\n",
      "Epoch 233/300, Loss: 0.0509\n",
      "Epoch 234/300, Loss: 0.0500\n",
      "Epoch 235/300, Loss: 0.0495\n",
      "Epoch 236/300, Loss: 0.0490\n",
      "Epoch 237/300, Loss: 0.0478\n",
      "Epoch 238/300, Loss: 0.0469\n",
      "Epoch 239/300, Loss: 0.0464\n",
      "Epoch 240/300, Loss: 0.0458\n",
      "Epoch 241/300, Loss: 0.0451\n",
      "Epoch 242/300, Loss: 0.0442\n",
      "Epoch 243/300, Loss: 0.0435\n",
      "Epoch 244/300, Loss: 0.0426\n",
      "Epoch 245/300, Loss: 0.0419\n",
      "Epoch 246/300, Loss: 0.0411\n",
      "Epoch 247/300, Loss: 0.0404\n",
      "Epoch 248/300, Loss: 0.0397\n",
      "Epoch 249/300, Loss: 0.0394\n",
      "Epoch 250/300, Loss: 0.0385\n",
      "Epoch 251/300, Loss: 0.0378\n",
      "Epoch 252/300, Loss: 0.0371\n",
      "Epoch 253/300, Loss: 0.0365\n",
      "Epoch 254/300, Loss: 0.0359\n",
      "Epoch 255/300, Loss: 0.0351\n",
      "Epoch 256/300, Loss: 0.0344\n",
      "Epoch 257/300, Loss: 0.0341\n",
      "Epoch 258/300, Loss: 0.0334\n",
      "Epoch 259/300, Loss: 0.0330\n",
      "Epoch 260/300, Loss: 0.0318\n",
      "Epoch 261/300, Loss: 0.0313\n",
      "Epoch 262/300, Loss: 0.0309\n",
      "Epoch 263/300, Loss: 0.0302\n",
      "Epoch 264/300, Loss: 0.0295\n",
      "Epoch 265/300, Loss: 0.0289\n",
      "Epoch 266/300, Loss: 0.0284\n",
      "Epoch 267/300, Loss: 0.0281\n",
      "Epoch 268/300, Loss: 0.0271\n",
      "Epoch 269/300, Loss: 0.0267\n",
      "Epoch 270/300, Loss: 0.0261\n",
      "Epoch 271/300, Loss: 0.0255\n",
      "Epoch 272/300, Loss: 0.0251\n",
      "Epoch 273/300, Loss: 0.0244\n",
      "Epoch 274/300, Loss: 0.0240\n",
      "Epoch 275/300, Loss: 0.0234\n",
      "Epoch 276/300, Loss: 0.0228\n",
      "Epoch 277/300, Loss: 0.0223\n",
      "Epoch 278/300, Loss: 0.0219\n",
      "Epoch 279/300, Loss: 0.0215\n",
      "Epoch 280/300, Loss: 0.0210\n",
      "Epoch 281/300, Loss: 0.0205\n",
      "Epoch 282/300, Loss: 0.0198\n",
      "Epoch 283/300, Loss: 0.0194\n",
      "Epoch 284/300, Loss: 0.0190\n",
      "Epoch 285/300, Loss: 0.0186\n",
      "Epoch 286/300, Loss: 0.0180\n",
      "Epoch 287/300, Loss: 0.0175\n",
      "Epoch 288/300, Loss: 0.0172\n",
      "Epoch 289/300, Loss: 0.0168\n",
      "Epoch 290/300, Loss: 0.0163\n",
      "Epoch 291/300, Loss: 0.0158\n",
      "Epoch 292/300, Loss: 0.0153\n",
      "Epoch 293/300, Loss: 0.0149\n",
      "Epoch 294/300, Loss: 0.0145\n",
      "Epoch 295/300, Loss: 0.0144\n",
      "Epoch 296/300, Loss: 0.0138\n",
      "Epoch 297/300, Loss: 0.0134\n",
      "Epoch 298/300, Loss: 0.0131\n",
      "Epoch 299/300, Loss: 0.0127\n",
      "Epoch 300/300, Loss: 0.0123\n"
     ]
    }
   ],
   "source": [
    "num_epochs = 300\n",
    "train(lr_heating_model, heating_lr_dataloader_train, heating_lr_criterion, heating_lr_optimizer, num_epochs)"
   ]
  },
  {
   "cell_type": "code",
   "execution_count": 92,
   "metadata": {},
   "outputs": [],
   "source": [
    "# predict\n",
    "heating_lr_predictions, heating_lr_actuals = evaluate(lr_heating_model, heating_lr_dataloader_test)"
   ]
  },
  {
   "cell_type": "code",
   "execution_count": 104,
   "metadata": {},
   "outputs": [
    {
     "data": {
      "image/png": "[encoded data removed]",
      "text/plain": [
       "<Figure size 1000x500 with 1 Axes>"
      ]
     },
     "metadata": {},
     "output_type": "display_data"
    }
   ],
   "source": [
    "# plot predictions\n",
    "plt.figure(figsize=(10, 5))\n",
    "plt.plot(heating_train.index, heating_train[\"setpoint\"], label=\"Train\")\n",
    "plt.plot(heating_test.index, heating_test[\"setpoint\"], label=\"Test\")\n",
    "plt.plot(heating_test.index, heating_lr_predictions, label=\"Predicted\")\n",
    "plt.title(\"Linear Regression Predictions\")\n",
    "plt.xlabel(\"Date\")\n",
    "plt.ylabel(\"Setpoint Value\")\n",
    "plt.legend()\n",
    "plt.xticks(rotation=45)\n",
    "plt.tight_layout()\n",
    "plt.show()"
   ]
  },
  {
   "cell_type": "markdown",
   "metadata": {},
   "source": [
    "## Cooling"
   ]
  },
  {
   "cell_type": "code",
   "execution_count": 95,
   "metadata": {},
   "outputs": [],
   "source": [
    "cooling_train = pd.merge(cooling_endog_train, cooling_exog_train, left_index=True, right_index=True)\n",
    "cooling_test = pd.merge(cooling_endog_test, cooling_exog_test, left_index=True, right_index=True)"
   ]
  },
  {
   "cell_type": "code",
   "execution_count": null,
   "metadata": {},
   "outputs": [],
   "source": [
    "cooling_train_labels = cooling_train[\"setpoint\"].values\n",
    "cooling_test_labels = cooling_test[\"setpoint\"].values"
   ]
  },
  {
   "cell_type": "code",
   "execution_count": 97,
   "metadata": {},
   "outputs": [],
   "source": [
    "cooling_train[\"setpoint\"] = cooling_train[\"setpoint\"].shift(1)\n",
    "cooling_test[\"setpoint\"] = cooling_test[\"setpoint\"].shift(1)\n",
    "cooling_train.ffill(inplace=True)\n",
    "cooling_test.ffill(inplace=True)\n",
    "cooling_train.bfill(inplace=True)\n",
    "cooling_test.bfill(inplace=True)"
   ]
  },
  {
   "cell_type": "code",
   "execution_count": 98,
   "metadata": {},
   "outputs": [],
   "source": [
    "cooling_lr_dataset_train = LinearRegressionDataset(cooling_train.values, cooling_train_labels)\n",
    "cooling_lr_dataset_test = LinearRegressionDataset(cooling_test.values, cooling_test_labels)"
   ]
  },
  {
   "cell_type": "code",
   "execution_count": 99,
   "metadata": {},
   "outputs": [],
   "source": [
    "cooling_lr_dataloader_train = DataLoader(cooling_lr_dataset_train, batch_size=batch_size, shuffle=True)\n",
    "cooling_lr_dataloader_test = DataLoader(cooling_lr_dataset_test, batch_size=batch_size, shuffle=False)"
   ]
  },
  {
   "cell_type": "code",
   "execution_count": 143,
   "metadata": {},
   "outputs": [],
   "source": [
    "lr_cooling_model = LinearRegressionModel(input_size=cooling_train.shape[1], output_size=1)"
   ]
  },
  {
   "cell_type": "code",
   "execution_count": 144,
   "metadata": {},
   "outputs": [],
   "source": [
    "cooling_lr_criterion = nn.MSELoss()\n",
    "cooling_lr_optimizer = optim.Adam(lr_cooling_model.parameters(), lr=0.0001)"
   ]
  },
  {
   "cell_type": "code",
   "execution_count": 145,
   "metadata": {},
   "outputs": [
    {
     "name": "stdout",
     "output_type": "stream",
     "text": [
      "Epoch 1/500, Loss: 29376.1788\n",
      "Epoch 2/500, Loss: 28692.7818\n",
      "Epoch 3/500, Loss: 27974.8654\n",
      "Epoch 4/500, Loss: 27291.2390\n",
      "Epoch 5/500, Loss: 26654.6698\n",
      "Epoch 6/500, Loss: 26002.9788\n",
      "Epoch 7/500, Loss: 25387.1957\n",
      "Epoch 8/500, Loss: 24750.8320\n",
      "Epoch 9/500, Loss: 24139.2734\n",
      "Epoch 10/500, Loss: 23553.2084\n",
      "Epoch 11/500, Loss: 22960.9130\n",
      "Epoch 12/500, Loss: 22359.1371\n",
      "Epoch 13/500, Loss: 21810.5683\n",
      "Epoch 14/500, Loss: 21257.6885\n",
      "Epoch 15/500, Loss: 20708.7834\n",
      "Epoch 16/500, Loss: 20168.9811\n",
      "Epoch 17/500, Loss: 19632.9636\n",
      "Epoch 18/500, Loss: 19116.8539\n",
      "Epoch 19/500, Loss: 18608.2936\n",
      "Epoch 20/500, Loss: 18112.6147\n",
      "Epoch 21/500, Loss: 17634.2192\n",
      "Epoch 22/500, Loss: 17144.1621\n",
      "Epoch 23/500, Loss: 16680.0482\n",
      "Epoch 24/500, Loss: 16215.0251\n",
      "Epoch 25/500, Loss: 15758.6185\n",
      "Epoch 26/500, Loss: 15313.2535\n",
      "Epoch 27/500, Loss: 14885.6315\n",
      "Epoch 28/500, Loss: 14456.4240\n",
      "Epoch 29/500, Loss: 14032.7447\n",
      "Epoch 30/500, Loss: 13643.3151\n",
      "Epoch 31/500, Loss: 13239.5724\n",
      "Epoch 32/500, Loss: 12845.8333\n",
      "Epoch 33/500, Loss: 12455.1556\n",
      "Epoch 34/500, Loss: 12098.6756\n",
      "Epoch 35/500, Loss: 11715.8531\n",
      "Epoch 36/500, Loss: 11360.5215\n",
      "Epoch 37/500, Loss: 11006.7665\n",
      "Epoch 38/500, Loss: 10670.6738\n",
      "Epoch 39/500, Loss: 10336.1490\n",
      "Epoch 40/500, Loss: 10000.4052\n",
      "Epoch 41/500, Loss: 9685.1621\n",
      "Epoch 42/500, Loss: 9370.2363\n",
      "Epoch 43/500, Loss: 9064.4314\n",
      "Epoch 44/500, Loss: 8762.9188\n",
      "Epoch 45/500, Loss: 8471.0542\n",
      "Epoch 46/500, Loss: 8183.0128\n",
      "Epoch 47/500, Loss: 7906.7588\n",
      "Epoch 48/500, Loss: 7632.8218\n",
      "Epoch 49/500, Loss: 7365.2298\n",
      "Epoch 50/500, Loss: 7105.5071\n",
      "Epoch 51/500, Loss: 6847.9369\n",
      "Epoch 52/500, Loss: 6608.4249\n",
      "Epoch 53/500, Loss: 6365.0671\n",
      "Epoch 54/500, Loss: 6128.7189\n",
      "Epoch 55/500, Loss: 5899.0495\n",
      "Epoch 56/500, Loss: 5679.2282\n",
      "Epoch 57/500, Loss: 5463.3411\n",
      "Epoch 58/500, Loss: 5255.8342\n",
      "Epoch 59/500, Loss: 5049.2061\n",
      "Epoch 60/500, Loss: 4848.1441\n",
      "Epoch 61/500, Loss: 4657.9611\n",
      "Epoch 62/500, Loss: 4469.7322\n",
      "Epoch 63/500, Loss: 4284.8633\n",
      "Epoch 64/500, Loss: 4109.3821\n",
      "Epoch 65/500, Loss: 3935.1382\n",
      "Epoch 66/500, Loss: 3767.5456\n",
      "Epoch 67/500, Loss: 3609.1808\n",
      "Epoch 68/500, Loss: 3452.7801\n",
      "Epoch 69/500, Loss: 3296.8840\n",
      "Epoch 70/500, Loss: 3152.3051\n",
      "Epoch 71/500, Loss: 3012.3818\n",
      "Epoch 72/500, Loss: 2872.7653\n",
      "Epoch 73/500, Loss: 2739.7078\n",
      "Epoch 74/500, Loss: 2611.3724\n",
      "Epoch 75/500, Loss: 2488.7629\n",
      "Epoch 76/500, Loss: 2365.2041\n",
      "Epoch 77/500, Loss: 2253.6976\n",
      "Epoch 78/500, Loss: 2141.5219\n",
      "Epoch 79/500, Loss: 2034.6040\n",
      "Epoch 80/500, Loss: 1932.2646\n",
      "Epoch 81/500, Loss: 1832.0503\n",
      "Epoch 82/500, Loss: 1736.9881\n",
      "Epoch 83/500, Loss: 1646.3714\n",
      "Epoch 84/500, Loss: 1557.5270\n",
      "Epoch 85/500, Loss: 1474.0323\n",
      "Epoch 86/500, Loss: 1394.3974\n",
      "Epoch 87/500, Loss: 1315.9561\n",
      "Epoch 88/500, Loss: 1242.2453\n",
      "Epoch 89/500, Loss: 1172.0534\n",
      "Epoch 90/500, Loss: 1104.8190\n",
      "Epoch 91/500, Loss: 1040.6813\n",
      "Epoch 92/500, Loss: 978.6723\n",
      "Epoch 93/500, Loss: 920.8839\n",
      "Epoch 94/500, Loss: 865.4375\n",
      "Epoch 95/500, Loss: 813.0512\n",
      "Epoch 96/500, Loss: 763.0014\n",
      "Epoch 97/500, Loss: 715.4656\n",
      "Epoch 98/500, Loss: 670.8094\n",
      "Epoch 99/500, Loss: 628.4415\n",
      "Epoch 100/500, Loss: 588.0513\n",
      "Epoch 101/500, Loss: 550.1504\n",
      "Epoch 102/500, Loss: 514.4322\n",
      "Epoch 103/500, Loss: 480.9360\n",
      "Epoch 104/500, Loss: 449.2939\n",
      "Epoch 105/500, Loss: 419.4954\n",
      "Epoch 106/500, Loss: 391.7623\n",
      "Epoch 107/500, Loss: 365.8413\n",
      "Epoch 108/500, Loss: 341.4385\n",
      "Epoch 109/500, Loss: 318.6792\n",
      "Epoch 110/500, Loss: 297.4152\n",
      "Epoch 111/500, Loss: 277.7057\n",
      "Epoch 112/500, Loss: 259.3115\n",
      "Epoch 113/500, Loss: 242.3432\n",
      "Epoch 114/500, Loss: 226.3945\n",
      "Epoch 115/500, Loss: 211.7150\n",
      "Epoch 116/500, Loss: 198.2445\n",
      "Epoch 117/500, Loss: 185.7280\n",
      "Epoch 118/500, Loss: 174.1323\n",
      "Epoch 119/500, Loss: 163.5100\n",
      "Epoch 120/500, Loss: 153.7996\n",
      "Epoch 121/500, Loss: 144.7568\n",
      "Epoch 122/500, Loss: 136.5086\n",
      "Epoch 123/500, Loss: 128.9258\n",
      "Epoch 124/500, Loss: 121.9339\n",
      "Epoch 125/500, Loss: 115.5743\n",
      "Epoch 126/500, Loss: 109.7258\n",
      "Epoch 127/500, Loss: 104.4072\n",
      "Epoch 128/500, Loss: 99.4405\n",
      "Epoch 129/500, Loss: 94.9612\n",
      "Epoch 130/500, Loss: 90.8118\n",
      "Epoch 131/500, Loss: 87.0425\n",
      "Epoch 132/500, Loss: 83.5337\n",
      "Epoch 133/500, Loss: 80.3388\n",
      "Epoch 134/500, Loss: 77.3082\n",
      "Epoch 135/500, Loss: 74.6035\n",
      "Epoch 136/500, Loss: 72.0062\n",
      "Epoch 137/500, Loss: 69.6548\n",
      "Epoch 138/500, Loss: 67.4045\n",
      "Epoch 139/500, Loss: 65.3357\n",
      "Epoch 140/500, Loss: 63.3547\n",
      "Epoch 141/500, Loss: 61.4745\n",
      "Epoch 142/500, Loss: 59.6606\n",
      "Epoch 143/500, Loss: 58.0501\n",
      "Epoch 144/500, Loss: 56.4196\n",
      "Epoch 145/500, Loss: 54.8946\n",
      "Epoch 146/500, Loss: 53.4101\n",
      "Epoch 147/500, Loss: 51.9564\n",
      "Epoch 148/500, Loss: 50.5497\n",
      "Epoch 149/500, Loss: 49.2482\n",
      "Epoch 150/500, Loss: 47.8928\n",
      "Epoch 151/500, Loss: 46.6162\n",
      "Epoch 152/500, Loss: 45.3664\n",
      "Epoch 153/500, Loss: 44.1183\n",
      "Epoch 154/500, Loss: 42.9697\n",
      "Epoch 155/500, Loss: 41.7424\n",
      "Epoch 156/500, Loss: 40.6672\n",
      "Epoch 157/500, Loss: 39.4870\n",
      "Epoch 158/500, Loss: 38.4148\n",
      "Epoch 159/500, Loss: 37.3837\n",
      "Epoch 160/500, Loss: 36.2854\n",
      "Epoch 161/500, Loss: 35.2789\n",
      "Epoch 162/500, Loss: 34.2220\n",
      "Epoch 163/500, Loss: 33.2641\n",
      "Epoch 164/500, Loss: 32.3102\n",
      "Epoch 165/500, Loss: 31.3970\n",
      "Epoch 166/500, Loss: 30.4716\n",
      "Epoch 167/500, Loss: 29.5710\n",
      "Epoch 168/500, Loss: 28.6754\n",
      "Epoch 169/500, Loss: 27.8634\n",
      "Epoch 170/500, Loss: 27.0199\n",
      "Epoch 171/500, Loss: 26.2049\n",
      "Epoch 172/500, Loss: 25.4998\n",
      "Epoch 173/500, Loss: 24.7202\n",
      "Epoch 174/500, Loss: 24.0014\n",
      "Epoch 175/500, Loss: 23.2837\n",
      "Epoch 176/500, Loss: 22.6461\n",
      "Epoch 177/500, Loss: 22.0215\n",
      "Epoch 178/500, Loss: 21.3532\n",
      "Epoch 179/500, Loss: 20.7173\n",
      "Epoch 180/500, Loss: 20.1625\n",
      "Epoch 181/500, Loss: 19.6386\n",
      "Epoch 182/500, Loss: 19.0790\n",
      "Epoch 183/500, Loss: 18.5562\n",
      "Epoch 184/500, Loss: 18.0709\n",
      "Epoch 185/500, Loss: 17.6349\n",
      "Epoch 186/500, Loss: 17.1430\n",
      "Epoch 187/500, Loss: 16.7426\n",
      "Epoch 188/500, Loss: 16.3586\n",
      "Epoch 189/500, Loss: 15.9790\n",
      "Epoch 190/500, Loss: 15.5987\n",
      "Epoch 191/500, Loss: 15.2525\n",
      "Epoch 192/500, Loss: 14.9556\n",
      "Epoch 193/500, Loss: 14.6696\n",
      "Epoch 194/500, Loss: 14.3573\n",
      "Epoch 195/500, Loss: 14.0824\n",
      "Epoch 196/500, Loss: 13.8213\n",
      "Epoch 197/500, Loss: 13.5760\n",
      "Epoch 198/500, Loss: 13.3452\n",
      "Epoch 199/500, Loss: 13.1358\n",
      "Epoch 200/500, Loss: 12.9665\n",
      "Epoch 201/500, Loss: 12.7713\n",
      "Epoch 202/500, Loss: 12.5920\n",
      "Epoch 203/500, Loss: 12.4421\n",
      "Epoch 204/500, Loss: 12.2796\n",
      "Epoch 205/500, Loss: 12.1713\n",
      "Epoch 206/500, Loss: 12.0150\n",
      "Epoch 207/500, Loss: 11.8718\n",
      "Epoch 208/500, Loss: 11.7952\n",
      "Epoch 209/500, Loss: 11.6800\n",
      "Epoch 210/500, Loss: 11.5663\n",
      "Epoch 211/500, Loss: 11.4913\n",
      "Epoch 212/500, Loss: 11.3750\n",
      "Epoch 213/500, Loss: 11.3096\n",
      "Epoch 214/500, Loss: 11.2448\n",
      "Epoch 215/500, Loss: 11.1660\n",
      "Epoch 216/500, Loss: 11.1082\n",
      "Epoch 217/500, Loss: 11.0111\n",
      "Epoch 218/500, Loss: 10.9628\n",
      "Epoch 219/500, Loss: 10.9004\n",
      "Epoch 220/500, Loss: 10.8634\n",
      "Epoch 221/500, Loss: 10.7929\n",
      "Epoch 222/500, Loss: 10.7397\n",
      "Epoch 223/500, Loss: 10.6866\n",
      "Epoch 224/500, Loss: 10.6521\n",
      "Epoch 225/500, Loss: 10.6250\n",
      "Epoch 226/500, Loss: 10.5666\n",
      "Epoch 227/500, Loss: 10.5273\n",
      "Epoch 228/500, Loss: 10.4596\n",
      "Epoch 229/500, Loss: 10.4208\n",
      "Epoch 230/500, Loss: 10.3834\n",
      "Epoch 231/500, Loss: 10.3237\n",
      "Epoch 232/500, Loss: 10.2776\n",
      "Epoch 233/500, Loss: 10.2654\n",
      "Epoch 234/500, Loss: 10.1878\n",
      "Epoch 235/500, Loss: 10.1497\n",
      "Epoch 236/500, Loss: 10.0933\n",
      "Epoch 237/500, Loss: 10.0340\n",
      "Epoch 238/500, Loss: 9.9755\n",
      "Epoch 239/500, Loss: 9.9510\n",
      "Epoch 240/500, Loss: 9.9186\n",
      "Epoch 241/500, Loss: 9.8680\n",
      "Epoch 242/500, Loss: 9.7768\n",
      "Epoch 243/500, Loss: 9.7812\n",
      "Epoch 244/500, Loss: 9.6883\n",
      "Epoch 245/500, Loss: 9.6637\n",
      "Epoch 246/500, Loss: 9.5913\n",
      "Epoch 247/500, Loss: 9.5590\n",
      "Epoch 248/500, Loss: 9.5046\n",
      "Epoch 249/500, Loss: 9.4300\n",
      "Epoch 250/500, Loss: 9.3964\n",
      "Epoch 251/500, Loss: 9.3157\n",
      "Epoch 252/500, Loss: 9.2739\n",
      "Epoch 253/500, Loss: 9.2090\n",
      "Epoch 254/500, Loss: 9.1594\n",
      "Epoch 255/500, Loss: 9.0982\n",
      "Epoch 256/500, Loss: 9.0482\n",
      "Epoch 257/500, Loss: 8.9812\n",
      "Epoch 258/500, Loss: 8.9130\n",
      "Epoch 259/500, Loss: 8.8377\n",
      "Epoch 260/500, Loss: 8.7669\n",
      "Epoch 261/500, Loss: 8.7397\n",
      "Epoch 262/500, Loss: 8.6461\n",
      "Epoch 263/500, Loss: 8.5872\n",
      "Epoch 264/500, Loss: 8.5367\n",
      "Epoch 265/500, Loss: 8.4536\n",
      "Epoch 266/500, Loss: 8.3796\n",
      "Epoch 267/500, Loss: 8.3031\n",
      "Epoch 268/500, Loss: 8.2361\n",
      "Epoch 269/500, Loss: 8.1530\n",
      "Epoch 270/500, Loss: 8.1168\n",
      "Epoch 271/500, Loss: 8.0408\n",
      "Epoch 272/500, Loss: 7.9676\n",
      "Epoch 273/500, Loss: 7.9006\n",
      "Epoch 274/500, Loss: 7.8428\n",
      "Epoch 275/500, Loss: 7.7371\n",
      "Epoch 276/500, Loss: 7.6723\n",
      "Epoch 277/500, Loss: 7.5974\n",
      "Epoch 278/500, Loss: 7.5117\n",
      "Epoch 279/500, Loss: 7.4653\n",
      "Epoch 280/500, Loss: 7.3815\n",
      "Epoch 281/500, Loss: 7.3050\n",
      "Epoch 282/500, Loss: 7.2281\n",
      "Epoch 283/500, Loss: 7.1590\n",
      "Epoch 284/500, Loss: 7.0592\n",
      "Epoch 285/500, Loss: 6.9953\n",
      "Epoch 286/500, Loss: 6.9075\n",
      "Epoch 287/500, Loss: 6.8394\n",
      "Epoch 288/500, Loss: 6.7514\n",
      "Epoch 289/500, Loss: 6.6617\n",
      "Epoch 290/500, Loss: 6.5996\n",
      "Epoch 291/500, Loss: 6.5307\n",
      "Epoch 292/500, Loss: 6.4544\n",
      "Epoch 293/500, Loss: 6.3731\n",
      "Epoch 294/500, Loss: 6.2907\n",
      "Epoch 295/500, Loss: 6.2047\n",
      "Epoch 296/500, Loss: 6.1211\n",
      "Epoch 297/500, Loss: 6.0534\n",
      "Epoch 298/500, Loss: 5.9689\n",
      "Epoch 299/500, Loss: 5.8916\n",
      "Epoch 300/500, Loss: 5.8120\n",
      "Epoch 301/500, Loss: 5.7232\n",
      "Epoch 302/500, Loss: 5.6601\n",
      "Epoch 303/500, Loss: 5.5795\n",
      "Epoch 304/500, Loss: 5.4720\n",
      "Epoch 305/500, Loss: 5.4049\n",
      "Epoch 306/500, Loss: 5.3533\n",
      "Epoch 307/500, Loss: 5.2861\n",
      "Epoch 308/500, Loss: 5.1948\n",
      "Epoch 309/500, Loss: 5.1133\n",
      "Epoch 310/500, Loss: 5.0414\n",
      "Epoch 311/500, Loss: 4.9664\n",
      "Epoch 312/500, Loss: 4.8852\n",
      "Epoch 313/500, Loss: 4.8246\n",
      "Epoch 314/500, Loss: 4.7419\n",
      "Epoch 315/500, Loss: 4.6605\n",
      "Epoch 316/500, Loss: 4.5973\n",
      "Epoch 317/500, Loss: 4.5308\n",
      "Epoch 318/500, Loss: 4.4508\n",
      "Epoch 319/500, Loss: 4.3815\n",
      "Epoch 320/500, Loss: 4.2990\n",
      "Epoch 321/500, Loss: 4.2408\n",
      "Epoch 322/500, Loss: 4.1895\n",
      "Epoch 323/500, Loss: 4.1168\n",
      "Epoch 324/500, Loss: 4.0507\n",
      "Epoch 325/500, Loss: 3.9681\n",
      "Epoch 326/500, Loss: 3.9041\n",
      "Epoch 327/500, Loss: 3.8562\n",
      "Epoch 328/500, Loss: 3.7868\n",
      "Epoch 329/500, Loss: 3.7156\n",
      "Epoch 330/500, Loss: 3.6634\n",
      "Epoch 331/500, Loss: 3.6107\n",
      "Epoch 332/500, Loss: 3.5453\n",
      "Epoch 333/500, Loss: 3.4807\n",
      "Epoch 334/500, Loss: 3.4275\n",
      "Epoch 335/500, Loss: 3.3742\n",
      "Epoch 336/500, Loss: 3.3106\n",
      "Epoch 337/500, Loss: 3.2463\n",
      "Epoch 338/500, Loss: 3.1935\n",
      "Epoch 339/500, Loss: 3.1551\n",
      "Epoch 340/500, Loss: 3.1052\n",
      "Epoch 341/500, Loss: 3.0438\n",
      "Epoch 342/500, Loss: 2.9939\n",
      "Epoch 343/500, Loss: 2.9508\n",
      "Epoch 344/500, Loss: 2.8960\n",
      "Epoch 345/500, Loss: 2.8549\n",
      "Epoch 346/500, Loss: 2.7965\n",
      "Epoch 347/500, Loss: 2.7697\n",
      "Epoch 348/500, Loss: 2.7201\n",
      "Epoch 349/500, Loss: 2.6759\n",
      "Epoch 350/500, Loss: 2.6367\n",
      "Epoch 351/500, Loss: 2.5992\n",
      "Epoch 352/500, Loss: 2.5479\n",
      "Epoch 353/500, Loss: 2.5105\n",
      "Epoch 354/500, Loss: 2.4688\n",
      "Epoch 355/500, Loss: 2.4362\n",
      "Epoch 356/500, Loss: 2.4039\n",
      "Epoch 357/500, Loss: 2.3583\n",
      "Epoch 358/500, Loss: 2.3327\n",
      "Epoch 359/500, Loss: 2.2958\n",
      "Epoch 360/500, Loss: 2.2609\n",
      "Epoch 361/500, Loss: 2.2285\n",
      "Epoch 362/500, Loss: 2.2067\n",
      "Epoch 363/500, Loss: 2.1754\n",
      "Epoch 364/500, Loss: 2.1571\n",
      "Epoch 365/500, Loss: 2.1180\n",
      "Epoch 366/500, Loss: 2.0906\n",
      "Epoch 367/500, Loss: 2.0657\n",
      "Epoch 368/500, Loss: 2.0468\n",
      "Epoch 369/500, Loss: 2.0194\n",
      "Epoch 370/500, Loss: 2.0031\n",
      "Epoch 371/500, Loss: 1.9755\n",
      "Epoch 372/500, Loss: 1.9518\n",
      "Epoch 373/500, Loss: 1.9307\n",
      "Epoch 374/500, Loss: 1.9221\n",
      "Epoch 375/500, Loss: 1.8934\n",
      "Epoch 376/500, Loss: 1.8805\n",
      "Epoch 377/500, Loss: 1.8661\n",
      "Epoch 378/500, Loss: 1.8464\n",
      "Epoch 379/500, Loss: 1.8243\n",
      "Epoch 380/500, Loss: 1.8128\n",
      "Epoch 381/500, Loss: 1.8025\n",
      "Epoch 382/500, Loss: 1.7887\n",
      "Epoch 383/500, Loss: 1.7723\n",
      "Epoch 384/500, Loss: 1.7636\n",
      "Epoch 385/500, Loss: 1.7454\n",
      "Epoch 386/500, Loss: 1.7345\n",
      "Epoch 387/500, Loss: 1.7303\n",
      "Epoch 388/500, Loss: 1.7153\n",
      "Epoch 389/500, Loss: 1.7044\n",
      "Epoch 390/500, Loss: 1.6983\n",
      "Epoch 391/500, Loss: 1.6860\n",
      "Epoch 392/500, Loss: 1.6750\n",
      "Epoch 393/500, Loss: 1.6722\n",
      "Epoch 394/500, Loss: 1.6610\n",
      "Epoch 395/500, Loss: 1.6629\n",
      "Epoch 396/500, Loss: 1.6551\n",
      "Epoch 397/500, Loss: 1.6412\n",
      "Epoch 398/500, Loss: 1.6373\n",
      "Epoch 399/500, Loss: 1.6376\n",
      "Epoch 400/500, Loss: 1.6232\n",
      "Epoch 401/500, Loss: 1.6235\n",
      "Epoch 402/500, Loss: 1.6231\n",
      "Epoch 403/500, Loss: 1.6189\n",
      "Epoch 404/500, Loss: 1.6152\n",
      "Epoch 405/500, Loss: 1.6069\n",
      "Epoch 406/500, Loss: 1.6130\n",
      "Epoch 407/500, Loss: 1.5920\n",
      "Epoch 408/500, Loss: 1.6010\n",
      "Epoch 409/500, Loss: 1.5983\n",
      "Epoch 410/500, Loss: 1.5918\n",
      "Epoch 411/500, Loss: 1.5854\n",
      "Epoch 412/500, Loss: 1.5858\n",
      "Epoch 413/500, Loss: 1.5914\n",
      "Epoch 414/500, Loss: 1.5844\n",
      "Epoch 415/500, Loss: 1.5820\n",
      "Epoch 416/500, Loss: 1.5849\n",
      "Epoch 417/500, Loss: 1.5885\n",
      "Epoch 418/500, Loss: 1.5812\n",
      "Epoch 419/500, Loss: 1.5750\n",
      "Epoch 420/500, Loss: 1.5708\n",
      "Epoch 421/500, Loss: 1.5844\n",
      "Epoch 422/500, Loss: 1.5765\n",
      "Epoch 423/500, Loss: 1.5763\n",
      "Epoch 424/500, Loss: 1.5801\n",
      "Epoch 425/500, Loss: 1.5751\n",
      "Epoch 426/500, Loss: 1.5729\n",
      "Epoch 427/500, Loss: 1.5832\n",
      "Epoch 428/500, Loss: 1.5731\n",
      "Epoch 429/500, Loss: 1.5642\n",
      "Epoch 430/500, Loss: 1.5735\n",
      "Epoch 431/500, Loss: 1.5627\n",
      "Epoch 432/500, Loss: 1.5682\n",
      "Epoch 433/500, Loss: 1.5711\n",
      "Epoch 434/500, Loss: 1.5725\n",
      "Epoch 435/500, Loss: 1.5707\n",
      "Epoch 436/500, Loss: 1.5758\n",
      "Epoch 437/500, Loss: 1.5689\n",
      "Epoch 438/500, Loss: 1.5643\n",
      "Epoch 439/500, Loss: 1.5662\n",
      "Epoch 440/500, Loss: 1.5688\n",
      "Epoch 441/500, Loss: 1.5692\n",
      "Epoch 442/500, Loss: 1.5684\n",
      "Epoch 443/500, Loss: 1.5621\n",
      "Epoch 444/500, Loss: 1.5697\n",
      "Epoch 445/500, Loss: 1.5650\n",
      "Epoch 446/500, Loss: 1.5655\n",
      "Epoch 447/500, Loss: 1.5669\n",
      "Epoch 448/500, Loss: 1.5674\n",
      "Epoch 449/500, Loss: 1.5685\n",
      "Epoch 450/500, Loss: 1.5723\n",
      "Epoch 451/500, Loss: 1.5690\n",
      "Epoch 452/500, Loss: 1.5655\n",
      "Epoch 453/500, Loss: 1.5680\n",
      "Epoch 454/500, Loss: 1.5632\n",
      "Epoch 455/500, Loss: 1.5571\n",
      "Epoch 456/500, Loss: 1.5667\n",
      "Epoch 457/500, Loss: 1.5658\n",
      "Epoch 458/500, Loss: 1.5700\n",
      "Epoch 459/500, Loss: 1.5561\n",
      "Epoch 460/500, Loss: 1.5588\n",
      "Epoch 461/500, Loss: 1.5560\n",
      "Epoch 462/500, Loss: 1.5657\n",
      "Epoch 463/500, Loss: 1.5630\n",
      "Epoch 464/500, Loss: 1.5632\n",
      "Epoch 465/500, Loss: 1.5631\n",
      "Epoch 466/500, Loss: 1.5612\n",
      "Epoch 467/500, Loss: 1.5691\n",
      "Epoch 468/500, Loss: 1.5629\n",
      "Epoch 469/500, Loss: 1.5630\n",
      "Epoch 470/500, Loss: 1.5641\n",
      "Epoch 471/500, Loss: 1.5602\n",
      "Epoch 472/500, Loss: 1.5618\n",
      "Epoch 473/500, Loss: 1.5571\n",
      "Epoch 474/500, Loss: 1.5652\n",
      "Epoch 475/500, Loss: 1.5660\n",
      "Epoch 476/500, Loss: 1.5578\n",
      "Epoch 477/500, Loss: 1.5631\n",
      "Epoch 478/500, Loss: 1.5649\n",
      "Epoch 479/500, Loss: 1.5619\n",
      "Epoch 480/500, Loss: 1.5601\n",
      "Epoch 481/500, Loss: 1.5607\n",
      "Epoch 482/500, Loss: 1.5589\n",
      "Epoch 483/500, Loss: 1.5635\n",
      "Epoch 484/500, Loss: 1.5601\n",
      "Epoch 485/500, Loss: 1.5620\n",
      "Epoch 486/500, Loss: 1.5621\n",
      "Epoch 487/500, Loss: 1.5569\n",
      "Epoch 488/500, Loss: 1.5551\n",
      "Epoch 489/500, Loss: 1.5597\n",
      "Epoch 490/500, Loss: 1.5655\n",
      "Epoch 491/500, Loss: 1.5630\n",
      "Epoch 492/500, Loss: 1.5561\n",
      "Epoch 493/500, Loss: 1.5612\n",
      "Epoch 494/500, Loss: 1.5558\n",
      "Epoch 495/500, Loss: 1.5559\n",
      "Epoch 496/500, Loss: 1.5600\n",
      "Epoch 497/500, Loss: 1.5512\n",
      "Epoch 498/500, Loss: 1.5612\n",
      "Epoch 499/500, Loss: 1.5606\n",
      "Epoch 500/500, Loss: 1.5573\n"
     ]
    }
   ],
   "source": [
    "num_epochs = 500\n",
    "train(lr_cooling_model, cooling_lr_dataloader_train, cooling_lr_criterion, cooling_lr_optimizer, num_epochs)"
   ]
  },
  {
   "cell_type": "code",
   "execution_count": 146,
   "metadata": {},
   "outputs": [],
   "source": [
    "# predict\n",
    "cooling_lr_predictions, cooling_lr_actuals = evaluate(lr_cooling_model, cooling_lr_dataloader_test)"
   ]
  },
  {
   "cell_type": "code",
   "execution_count": 147,
   "metadata": {},
   "outputs": [
    {
     "data": {
      "image/png": "[encoded data removed]",
      "text/plain": [
       "<Figure size 1000x500 with 1 Axes>"
      ]
     },
     "metadata": {},
     "output_type": "display_data"
    }
   ],
   "source": [
    "# plot predictions\n",
    "plt.figure(figsize=(10, 5))\n",
    "plt.plot(cooling_train.index, cooling_train[\"setpoint\"], label=\"Train\")\n",
    "plt.plot(cooling_test.index, cooling_test[\"setpoint\"], label=\"Test\")\n",
    "plt.plot(cooling_test.index, cooling_lr_predictions, label=\"Predicted\")\n",
    "plt.title(\"Linear Regression Predictions\")\n",
    "plt.xlabel(\"Date\")\n",
    "plt.ylabel(\"Setpoint Value\")\n",
    "plt.legend()\n",
    "plt.xticks(rotation=45)\n",
    "plt.tight_layout()\n",
    "plt.show()"
   ]
  },
  {
   "cell_type": "code",
   "execution_count": 131,
   "metadata": {},
   "outputs": [
    {
     "name": "stdout",
     "output_type": "stream",
     "text": [
      "0.9777604937553406\n",
      "0.08753011375665665\n",
      "0.0013893048744648695\n",
      "-0.052969422191381454\n",
      "1.6809524297714233\n",
      "0.47200557589530945\n"
     ]
    }
   ],
   "source": [
    "for param in lr_cooling_model.parameters():\n",
    "    for num in param:\n",
    "        try:\n",
    "            for p in num:\n",
    "                print(p.item())\n",
    "        except:\n",
    "            print(num.item())"
   ]
  }
 ],
 "metadata": {
  "kernelspec": {
   "display_name": ".env",
   "language": "python",
   "name": "python3"
  },
  "language_info": {
   "codemirror_mode": {
    "name": "ipython",
    "version": 3
   },
   "file_extension": ".py",
   "mimetype": "text/x-python",
   "name": "python",
   "nbconvert_exporter": "python",
   "pygments_lexer": "ipython3",
   "version": "3.10.11"
  }
 },
 "nbformat": 4,
 "nbformat_minor": 2
}
