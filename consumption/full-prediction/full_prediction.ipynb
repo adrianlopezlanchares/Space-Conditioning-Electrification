{
 "cells": [
  {
   "cell_type": "code",
   "execution_count": 1,
   "metadata": {},
   "outputs": [],
   "source": [
    "import sys\n",
    "import os\n",
    "\n",
    "# Get the path to the parent directory (consumption)\n",
    "parent_dir = os.path.abspath(os.path.join(os.getcwd(), os.pardir))\n",
    "\n",
    "# Add the parent directory to the Python path\n",
    "sys.path.append(parent_dir)\n",
    "\n",
    "# Now you can import the LSTMModel from the dnn.models module\n",
    "from dnn.models import MLPModel"
   ]
  },
  {
   "cell_type": "code",
   "execution_count": 2,
   "metadata": {},
   "outputs": [],
   "source": [
    "import pandas as pd\n",
    "import numpy as np\n",
    "import matplotlib.pyplot as plt\n",
    "import pickle\n",
    "\n",
    "import torch\n",
    "import torch.nn as nn\n",
    "from torch.utils.data import Dataset, DataLoader\n",
    "import torch.optim as optim\n",
    "\n",
    "from data_preprocessing import process_resstock_data"
   ]
  },
  {
   "cell_type": "markdown",
   "metadata": {},
   "source": [
    "# Load data"
   ]
  },
  {
   "cell_type": "markdown",
   "metadata": {},
   "source": [
    "### Setpoint timeseries"
   ]
  },
  {
   "cell_type": "code",
   "execution_count": 3,
   "metadata": {},
   "outputs": [],
   "source": [
    "# full_heating_timeseries, full_cooling_timeseries = generate_setpoint_timeseries(\n",
    "#     cooling_start_date = \"2018-06-01\",\n",
    "#     cooling_end_date = \"2018-10-31\",\n",
    "#     combine = False\n",
    "# )"
   ]
  },
  {
   "cell_type": "code",
   "execution_count": 4,
   "metadata": {},
   "outputs": [],
   "source": [
    "# # Save heaitng and cooling timeseries to pickle\n",
    "# with open('/Users/adrian/Documents/ICAI/TFG/Space-Conditioning-Electrification/data/consumption/full_heating_timeseries.pkl', 'wb') as f:\n",
    "#     pickle.dump(full_heating_timeseries, f)\n",
    "# with open('/Users/adrian/Documents/ICAI/TFG/Space-Conditioning-Electrification/data/consumption/full_cooling_timeseries.pkl', 'wb') as f:\n",
    "#     pickle.dump(full_cooling_timeseries, f)"
   ]
  },
  {
   "cell_type": "code",
   "execution_count": 5,
   "metadata": {},
   "outputs": [],
   "source": [
    "# Load full heating and cooling timeseries\n",
    "with open('/Users/adrian/Documents/ICAI/TFG/Space-Conditioning-Electrification/data/consumption/full_heating_timeseries.pkl', 'rb') as f:\n",
    "    full_heating_timeseries = pickle.load(f)\n",
    "with open('/Users/adrian/Documents/ICAI/TFG/Space-Conditioning-Electrification/data/consumption/full_cooling_timeseries.pkl', 'rb') as f:\n",
    "    full_cooling_timeseries = pickle.load(f)"
   ]
  },
  {
   "cell_type": "markdown",
   "metadata": {},
   "source": [
    "### Weather data"
   ]
  },
  {
   "cell_type": "code",
   "execution_count": 6,
   "metadata": {},
   "outputs": [],
   "source": [
    "weather_data = pd.read_csv(\"/Users/adrian/Documents/ICAI/TFG/Space-Conditioning-Electrification/data/consumption/G2500170_2018.csv\")"
   ]
  },
  {
   "cell_type": "markdown",
   "metadata": {},
   "source": [
    "### ResStock"
   ]
  },
  {
   "cell_type": "code",
   "execution_count": 7,
   "metadata": {},
   "outputs": [],
   "source": [
    "resstock = pd.read_parquet(\"/Users/adrian/Documents/ICAI/TFG/Space-Conditioning-Electrification/data/consumption/MA_baseline_metadata_and_annual_results.parquet\")"
   ]
  },
  {
   "cell_type": "markdown",
   "metadata": {},
   "source": [
    "### Building timeseries"
   ]
  },
  {
   "cell_type": "code",
   "execution_count": 8,
   "metadata": {},
   "outputs": [],
   "source": [
    "building_data = pd.read_parquet(\"/Users/adrian/Documents/ICAI/TFG/Space-Conditioning-Electrification/data/consumption/1000-0.parquet\")"
   ]
  },
  {
   "cell_type": "markdown",
   "metadata": {},
   "source": [
    "### Setpoint timeseries plot"
   ]
  },
  {
   "cell_type": "code",
   "execution_count": 9,
   "metadata": {},
   "outputs": [],
   "source": [
    "heating_timeseries = full_heating_timeseries[1000]\n",
    "cooling_timeseries = full_cooling_timeseries[1000]\n",
    "\n",
    "heating_timeseries = pd.concat([heating_timeseries.loc[\"2018-01-01\":\"2018-05-31\"], heating_timeseries.loc[\"2018-11-01\":\"2018-12-31\"]])\n",
    "cooling_timeseries = cooling_timeseries.loc[\"2018-06-01\":\"2018-10-31\"]"
   ]
  },
  {
   "cell_type": "code",
   "execution_count": 10,
   "metadata": {},
   "outputs": [
    {
     "data": {
      "image/png": "[encoded data removed]",
      "text/plain": [
       "<Figure size 1000x500 with 1 Axes>"
      ]
     },
     "metadata": {},
     "output_type": "display_data"
    }
   ],
   "source": [
    "# Plot the timeseries\n",
    "plt.figure(figsize=(10, 5))\n",
    "plt.plot(heating_timeseries.index, heating_timeseries[\"setpoint\"])\n",
    "plt.plot(cooling_timeseries.index, cooling_timeseries[\"setpoint\"])\n",
    "plt.title(\"Setpoint Timeseries\")\n",
    "plt.xlabel(\"Date\")\n",
    "plt.ylabel(\"Setpoint Value\")\n",
    "plt.xticks(rotation=45)\n",
    "plt.tight_layout()\n",
    "plt.show()"
   ]
  },
  {
   "cell_type": "markdown",
   "metadata": {},
   "source": [
    "# ResStock transform"
   ]
  },
  {
   "cell_type": "code",
   "execution_count": null,
   "metadata": {},
   "outputs": [],
   "source": [
    "columns = [\n",
    "    \"in.bedrooms\",              # int\n",
    "    \"in.duct_leakage_and_insulation\",    # Separate into leakage / insulation: X% / (Uniinsulated/R-n)\n",
    "    \"in.duct_location\",         # Places of the house\n",
    "    \"in.geometry_floor_area\",   # 1000-1499, ...\n",
    "    \"in.geometry_stories\",      # int\n",
    "    \"in.geometry_wall_type\",    # Materials\n",
    "    \"in.ground_thermal_conductivity\",   # float\n",
    "    \"in.hvac_has_ducts\",    # Yes / No\n",
    "    \"in.insulation_ceiling\",    # R-n / Uninsulated\n",
    "    \"in.insulation_floor\",      # R-n / Uninsulated\n",
    "    \"in.insulation_foundation_wall\",    # Wall R-n, Exterior\n",
    "    \"in.insulation_roof\",       # Finished / Unfinished, R-n\n",
    "    \"in.insulation_wall\",       # Material, Uninsulated / R-n\n",
    "    \"in.occupants\",         # int\n",
    "    \"in.orientation\",       # North, Northwest...\n",
    "    \"in.roof_material\",     # Material\n",
    "    \"in.sqft\",              # int\n",
    "    \"in.windows\"    # Single/Double/Triple, Low-E/Clear, Metal/Non-metal, Air/Exterior Clear Storm, (L/M-Gain)\n",
    "    \"in.window_areas\",\n",
    "    \"in.vintage\",\n",
    "]"
   ]
  },
  {
   "cell_type": "code",
   "execution_count": null,
   "metadata": {},
   "outputs": [],
   "source": [
    "columns_processed = [\n",
    "    \"in.bedrooms_processed\",              # int\n",
    "    \"in.duct_leakage_processed\",\n",
    "    \"in.duct_insulation_processed\",    # Separate into leakage / insulation: X% / (Uniinsulated/R-n)\n",
    "    \"in.duct_location_processed\",         # Places of the house\n",
    "    \"in.geometry_floor_area_processed\",   # 1000-1499, ...\n",
    "    \"in.geometry_stories_processed\",      # int\n",
    "    \"in.geometry_wall_type_processed\",    # Materials\n",
    "    \"in.ground_thermal_conductivity_processed\",   # float\n",
    "    \"in.hvac_has_ducts_processed\",    # Yes / No\n",
    "    \"in.insulation_ceiling_processed\",    # R-n / Uninsulated\n",
    "    \"in.insulation_floor_processed\",      # R-n / Uninsulated\n",
    "    \"in.insulation_foundation_wall_processed\",    # Wall R-n, Exterior\n",
    "    \"in.insulation_roof_processed\",       # Finished / Unfinished, R-n\n",
    "    \"in.insulation_wall_processed\",       # Material, Uninsulated / R-n\n",
    "    \"in.occupants_processed\",         # int\n",
    "    \"in.orientation_processed\",       # North, Northwest...\n",
    "    \"in.roof_materia_processed\",     # Material\n",
    "    \"in.sqft_processed\",              # int\n",
    "    \"in.windows_processed\"    # Single/Double/Triple, Low-E/Clear, Metal/Non-metal, Air/Exterior Clear Storm, (L/M-Gain)\n",
    "    \"in.window_areas_processed\",\n",
    "    \"in.vintage_processed\",\n",
    "    \n",
    "]"
   ]
  },
  {
   "cell_type": "code",
   "execution_count": 17,
   "metadata": {},
   "outputs": [
    {
     "data": {
      "text/plain": [
       "in.door_area\n",
       "20 ft^2    11707\n",
       "Name: count, dtype: int64"
      ]
     },
     "execution_count": 17,
     "metadata": {},
     "output_type": "execute_result"
    }
   ],
   "source": [
    "resstock[\"in.door_area\"].value_counts()"
   ]
  },
  {
   "cell_type": "code",
   "execution_count": 14,
   "metadata": {},
   "outputs": [],
   "source": [
    "resstock_processed = process_resstock_data(resstock)"
   ]
  },
  {
   "cell_type": "code",
   "execution_count": 15,
   "metadata": {},
   "outputs": [
    {
     "data": {
      "text/plain": [
       "in.vintage_processed\n",
       "1930    3820\n",
       "1970    1386\n",
       "1950    1312\n",
       "1980    1269\n",
       "1960    1220\n",
       "1990     895\n",
       "2000     825\n",
       "1940     614\n",
       "2010     366\n",
       "Name: count, dtype: int64"
      ]
     },
     "execution_count": 15,
     "metadata": {},
     "output_type": "execute_result"
    }
   ],
   "source": [
    "resstock_processed[\"in.vintage_processed\"].value_counts()"
   ]
  },
  {
   "cell_type": "markdown",
   "metadata": {},
   "source": [
    "# Transform data"
   ]
  },
  {
   "cell_type": "code",
   "execution_count": 11,
   "metadata": {},
   "outputs": [],
   "source": [
    "def get_cols(building_data: pd.DataFrame, building_id: int) -> str:\n",
    "\n",
    "    try:\n",
    "        building = building_data.loc[building_id]\n",
    "    except:\n",
    "        raise ValueError(\"Building ID not found in the dataset\")\n",
    "\n",
    "    match building[\"in.heating_fuel\"]:\n",
    "        case  \"Natural Gas\":\n",
    "            return \"out.natural_gas.heating.energy_consumption\"\n",
    "        case \"Electricity\":\n",
    "            return \"out.electricity.heating.energy_consumption\"\n",
    "        case \"Fuel Oil\":\n",
    "            return \"out.fuel_oil.heating.energy_consumption\"\n",
    "        case \"Propane\":\n",
    "            return \"out.propane.heating.energy_consumption\"\n",
    "        case _:\n",
    "            return \"out.electricity.heating.energy_consumption\""
   ]
  },
  {
   "cell_type": "code",
   "execution_count": 12,
   "metadata": {},
   "outputs": [],
   "source": [
    "# Change date time column name to timestamp\n",
    "weather_data.rename(columns={'date_time': \"timestamp\"}, inplace=True)\n",
    "weather_data.set_index('timestamp', inplace=True)\n",
    "weather_data.index = pd.to_datetime(weather_data.index)\n",
    "\n",
    "# Delete all columns except dry bulb temperature\n",
    "weather_data = weather_data[[\"Dry Bulb Temperature [°C]\"]]\n",
    "weather_data.rename(columns={\"Dry Bulb Temperature [°C]\": \"temperature\"}, inplace=True)\n",
    "\n",
    "# Create an entry for 2018-01-01 00:00:00\n",
    "new_row = pd.DataFrame({'temperature': weather_data.iloc[0]['temperature']}, index=[pd.to_datetime('2018-01-01 00:00:00')])\n",
    "weather_data = pd.concat([new_row, weather_data])\n",
    "\n",
    "# Remove last 19 rows\n",
    "weather_data = weather_data[:-24]"
   ]
  },
  {
   "cell_type": "code",
   "execution_count": 13,
   "metadata": {},
   "outputs": [
    {
     "name": "stderr",
     "output_type": "stream",
     "text": [
      "/var/folders/bw/4qyc6pj92bdb1bv22yhll2zw0000gn/T/ipykernel_30020/1227862798.py:5: SettingWithCopyWarning: \n",
      "A value is trying to be set on a copy of a slice from a DataFrame.\n",
      "Try using .loc[row_indexer,col_indexer] = value instead\n",
      "\n",
      "See the caveats in the documentation: https://pandas.pydata.org/pandas-docs/stable/user_guide/indexing.html#returning-a-view-versus-a-copy\n",
      "  consumption_timeseries[\"timestamp\"] = pd.to_datetime(consumption_timeseries[\"timestamp\"])\n",
      "/var/folders/bw/4qyc6pj92bdb1bv22yhll2zw0000gn/T/ipykernel_30020/1227862798.py:7: FutureWarning: 'H' is deprecated and will be removed in a future version, please use 'h' instead.\n",
      "  consumption_timeseries = consumption_timeseries.resample(\"H\").mean()\n"
     ]
    }
   ],
   "source": [
    "col_to_use = get_cols(resstock, 1000)\n",
    "consumption_timeseries = building_data[[\"timestamp\", col_to_use]]\n",
    "\n",
    "# Resample to hourly data\n",
    "consumption_timeseries[\"timestamp\"] = pd.to_datetime(consumption_timeseries[\"timestamp\"])\n",
    "consumption_timeseries.set_index(\"timestamp\", inplace=True)\n",
    "consumption_timeseries = consumption_timeseries.resample(\"H\").mean()\n",
    "consumption_timeseries = consumption_timeseries[col_to_use]\n",
    "\n",
    "consumption_timeseries = consumption_timeseries[:-24]\n",
    "\n",
    "# Turn into dataframe\n",
    "consumption_timeseries = pd.DataFrame(consumption_timeseries)\n",
    "consumption_timeseries.rename(columns={col_to_use: \"consumption\"}, inplace=True)"
   ]
  },
  {
   "cell_type": "code",
   "execution_count": 14,
   "metadata": {},
   "outputs": [],
   "source": [
    "exog_variables = pd.merge(\n",
    "    consumption_timeseries,\n",
    "    weather_data,\n",
    "    left_index=True,\n",
    "    right_index=True,\n",
    ")"
   ]
  },
  {
   "cell_type": "code",
   "execution_count": 15,
   "metadata": {},
   "outputs": [],
   "source": [
    "heating_exog = exog_variables.loc[heating_timeseries.index]\n",
    "cooling_exog = exog_variables.loc[cooling_timeseries.index]"
   ]
  },
  {
   "cell_type": "markdown",
   "metadata": {},
   "source": [
    "# Data Plot"
   ]
  },
  {
   "cell_type": "code",
   "execution_count": 16,
   "metadata": {},
   "outputs": [],
   "source": [
    "train_size = 0.8\n",
    "heating_endog_train = heating_timeseries[:int(train_size * len(heating_timeseries))]\n",
    "heating_endog_test = heating_timeseries[int(train_size * len(heating_timeseries)):]\n",
    "\n",
    "heating_exog_train = heating_exog[:int(train_size * len(heating_exog))]\n",
    "heating_exog_test = heating_exog[int(train_size * len(heating_exog)):]\n",
    "\n",
    "cooling_endog_train = cooling_timeseries[:int(train_size * len(cooling_timeseries))]\n",
    "cooling_endog_test = cooling_timeseries[int(train_size * len(cooling_timeseries)):]\n",
    "\n",
    "cooling_exog_train = cooling_exog[:int(train_size * len(cooling_exog))]\n",
    "cooling_exog_test = cooling_exog[int(train_size * len(cooling_exog)):]"
   ]
  },
  {
   "cell_type": "code",
   "execution_count": 17,
   "metadata": {},
   "outputs": [
    {
     "data": {
      "image/png": "[encoded data removed]",
      "text/plain": [
       "<Figure size 1000x500 with 1 Axes>"
      ]
     },
     "metadata": {},
     "output_type": "display_data"
    }
   ],
   "source": [
    "# Plot the training and test sets\n",
    "plt.figure(figsize=(10, 5))\n",
    "plt.plot(heating_endog_train.index, heating_endog_train[\"setpoint\"], label=\"heating Train\")\n",
    "plt.plot(heating_endog_test.index, heating_endog_test[\"setpoint\"], label=\"heating Test\")\n",
    "plt.plot(cooling_endog_train.index, cooling_endog_train[\"setpoint\"], label=\"cooling Train\")\n",
    "plt.plot(cooling_endog_test.index, cooling_endog_test[\"setpoint\"], label=\"cooling Test\")\n",
    "plt.title(\"Train and Test Sets\")\n",
    "plt.xlabel(\"Date\")\n",
    "plt.ylabel(\"Setpoint Value\")\n",
    "plt.legend()\n",
    "plt.xticks(rotation=45)\n",
    "plt.tight_layout()\n",
    "plt.show()"
   ]
  },
  {
   "cell_type": "markdown",
   "metadata": {},
   "source": [
    "# Datasets and Dataloaders"
   ]
  },
  {
   "cell_type": "code",
   "execution_count": 18,
   "metadata": {},
   "outputs": [],
   "source": [
    "heating_train_timeseries = pd.merge(heating_endog_train, heating_exog_train, left_index=True, right_index=True)\n",
    "heating_test_timeseries = pd.merge(heating_endog_test, heating_exog_test, left_index=True, right_index=True)\n",
    "\n",
    "cooling_train_timeseries = pd.merge(cooling_endog_train, cooling_exog_train, left_index=True, right_index=True)\n",
    "cooling_test_timeseries = pd.merge(cooling_endog_test, cooling_exog_test, left_index=True, right_index=True)"
   ]
  },
  {
   "cell_type": "code",
   "execution_count": 50,
   "metadata": {},
   "outputs": [
    {
     "data": {
      "text/html": [
       "<div>\n",
       "<style scoped>\n",
       "    .dataframe tbody tr th:only-of-type {\n",
       "        vertical-align: middle;\n",
       "    }\n",
       "\n",
       "    .dataframe tbody tr th {\n",
       "        vertical-align: top;\n",
       "    }\n",
       "\n",
       "    .dataframe thead th {\n",
       "        text-align: right;\n",
       "    }\n",
       "</style>\n",
       "<table border=\"1\" class=\"dataframe\">\n",
       "  <thead>\n",
       "    <tr style=\"text-align: right;\">\n",
       "      <th></th>\n",
       "      <th>setpoint</th>\n",
       "      <th>consumption</th>\n",
       "      <th>temperature</th>\n",
       "    </tr>\n",
       "    <tr>\n",
       "      <th>timestamp</th>\n",
       "      <th></th>\n",
       "      <th></th>\n",
       "      <th></th>\n",
       "    </tr>\n",
       "  </thead>\n",
       "  <tbody>\n",
       "    <tr>\n",
       "      <th>2018-01-01 00:00:00</th>\n",
       "      <td>76.0</td>\n",
       "      <td>4.691970</td>\n",
       "      <td>-17.2</td>\n",
       "    </tr>\n",
       "    <tr>\n",
       "      <th>2018-01-01 01:00:00</th>\n",
       "      <td>76.0</td>\n",
       "      <td>5.008804</td>\n",
       "      <td>-17.2</td>\n",
       "    </tr>\n",
       "    <tr>\n",
       "      <th>2018-01-01 02:00:00</th>\n",
       "      <td>76.0</td>\n",
       "      <td>4.799112</td>\n",
       "      <td>-17.8</td>\n",
       "    </tr>\n",
       "    <tr>\n",
       "      <th>2018-01-01 03:00:00</th>\n",
       "      <td>76.0</td>\n",
       "      <td>4.963452</td>\n",
       "      <td>-18.9</td>\n",
       "    </tr>\n",
       "    <tr>\n",
       "      <th>2018-01-01 04:00:00</th>\n",
       "      <td>76.0</td>\n",
       "      <td>5.047929</td>\n",
       "      <td>-18.9</td>\n",
       "    </tr>\n",
       "  </tbody>\n",
       "</table>\n",
       "</div>"
      ],
      "text/plain": [
       "                     setpoint  consumption  temperature\n",
       "timestamp                                              \n",
       "2018-01-01 00:00:00      76.0     4.691970        -17.2\n",
       "2018-01-01 01:00:00      76.0     5.008804        -17.2\n",
       "2018-01-01 02:00:00      76.0     4.799112        -17.8\n",
       "2018-01-01 03:00:00      76.0     4.963452        -18.9\n",
       "2018-01-01 04:00:00      76.0     5.047929        -18.9"
      ]
     },
     "execution_count": 50,
     "metadata": {},
     "output_type": "execute_result"
    }
   ],
   "source": [
    "heating_train_timeseries.head()"
   ]
  },
  {
   "cell_type": "code",
   "execution_count": 19,
   "metadata": {},
   "outputs": [],
   "source": [
    "def create_lr_sequences(data, sequence_length):\n",
    "    sequences = []\n",
    "    labels = []\n",
    "\n",
    "    for i in range(len(data) - sequence_length - 1):\n",
    "        sequence = data.iloc[i:i+sequence_length]\n",
    "        label = data.iloc[i+sequence_length].iloc[0]\n",
    "        sequences.append(sequence)\n",
    "        labels.append(label)\n",
    "    return np.array(sequences), labels"
   ]
  },
  {
   "cell_type": "code",
   "execution_count": 20,
   "metadata": {},
   "outputs": [],
   "source": [
    "sequence_length = 12\n",
    "batch_size = 64\n",
    "\n",
    "heating_train_sequences, heating_train_labels = create_lr_sequences(heating_train_timeseries, sequence_length)\n",
    "heating_test_sequences, heating_test_labels = create_lr_sequences(heating_test_timeseries, sequence_length)\n",
    "\n",
    "cooling_train_sequences, cooling_train_labels = create_lr_sequences(cooling_train_timeseries, sequence_length)\n",
    "cooling_test_sequences, cooling_test_labels = create_lr_sequences(cooling_test_timeseries, sequence_length)"
   ]
  },
  {
   "cell_type": "code",
   "execution_count": 55,
   "metadata": {},
   "outputs": [
    {
     "data": {
      "text/plain": [
       "(4039, 36)"
      ]
     },
     "execution_count": 55,
     "metadata": {},
     "output_type": "execute_result"
    }
   ],
   "source": [
    "heating_train_sequences.shape"
   ]
  },
  {
   "cell_type": "code",
   "execution_count": 21,
   "metadata": {},
   "outputs": [],
   "source": [
    "heating_train_sequences = heating_train_sequences.reshape(heating_train_sequences.shape[0], -1)\n",
    "heating_test_sequences = heating_test_sequences.reshape(heating_test_sequences.shape[0], -1)\n",
    "\n",
    "cooling_train_sequences = cooling_train_sequences.reshape(cooling_train_sequences.shape[0], -1)\n",
    "cooling_test_sequences = cooling_test_sequences.reshape(cooling_test_sequences.shape[0], -1)"
   ]
  },
  {
   "cell_type": "code",
   "execution_count": 22,
   "metadata": {},
   "outputs": [],
   "source": [
    "class TimeSeriesDataset(Dataset):\n",
    "    def __init__(self, sequences, labels):\n",
    "        self.sequences = sequences\n",
    "        self.labels = labels\n",
    "    \n",
    "    def __len__(self):\n",
    "        return len(self.sequences)\n",
    "    \n",
    "    def __getitem__(self, idx):\n",
    "        return torch.tensor(self.sequences[idx], dtype=torch.float32), torch.tensor(self.labels[idx], dtype=torch.float32)\n"
   ]
  },
  {
   "cell_type": "code",
   "execution_count": 23,
   "metadata": {},
   "outputs": [],
   "source": [
    "heating_train_dataset = TimeSeriesDataset(heating_train_sequences, heating_train_labels)\n",
    "heating_test_dataset = TimeSeriesDataset(heating_test_sequences, heating_test_labels)\n",
    "heating_train_loader = DataLoader(heating_train_dataset, batch_size=batch_size, shuffle=True)\n",
    "heating_test_loader = DataLoader(heating_test_dataset, batch_size=batch_size, shuffle=False)\n",
    "\n",
    "cooling_train_dataset = TimeSeriesDataset(cooling_train_sequences, cooling_train_labels)\n",
    "cooling_test_dataset = TimeSeriesDataset(cooling_test_sequences, cooling_test_labels)\n",
    "cooling_train_loader = DataLoader(cooling_train_dataset, batch_size=batch_size, shuffle=True)\n",
    "cooling_test_loader = DataLoader(cooling_test_dataset, batch_size=batch_size, shuffle=False)"
   ]
  },
  {
   "cell_type": "markdown",
   "metadata": {},
   "source": [
    "# Train and evaluate fns"
   ]
  },
  {
   "cell_type": "code",
   "execution_count": 30,
   "metadata": {},
   "outputs": [],
   "source": [
    "# Training function\n",
    "def train(model, train_loader, criterion, optimizer, num_epochs):\n",
    "    model.train()\n",
    "    for epoch in range(num_epochs):\n",
    "        running_loss = 0.0\n",
    "        for sequences, labels in train_loader:\n",
    "            # Zero gradients\n",
    "            optimizer.zero_grad()\n",
    "            \n",
    "            # Forward pass\n",
    "            outputs = model(sequences)\n",
    "            loss = criterion(outputs, labels)  # Unsqueeze labels to match output dim\n",
    "            \n",
    "            # Backward pass and optimization\n",
    "            loss.backward()\n",
    "            optimizer.step()\n",
    "            \n",
    "            running_loss += loss.item()\n",
    "        \n",
    "        print(f'Epoch {epoch+1}/{num_epochs}, Loss: {running_loss/len(train_loader):.4f}')"
   ]
  },
  {
   "cell_type": "code",
   "execution_count": 31,
   "metadata": {},
   "outputs": [],
   "source": [
    "# Predict\n",
    "def evaluate(model, test_loader):\n",
    "    model.eval()\n",
    "    predictions = []\n",
    "    actuals = []\n",
    "    with torch.no_grad():\n",
    "        for sequences, labels in test_loader:\n",
    "            outputs = model(sequences)\n",
    "            predictions.append(outputs.numpy())\n",
    "            actuals.append(labels.numpy())\n",
    "    return np.concatenate(predictions), np.concatenate(actuals)"
   ]
  },
  {
   "cell_type": "markdown",
   "metadata": {},
   "source": [
    "# MLP"
   ]
  },
  {
   "cell_type": "code",
   "execution_count": 32,
   "metadata": {},
   "outputs": [],
   "source": [
    "input_size = sequence_length * 3\n",
    "hidden_size_1 = 64\n",
    "hidden_size_2 = 32\n",
    "output_size = 1"
   ]
  },
  {
   "cell_type": "code",
   "execution_count": 33,
   "metadata": {},
   "outputs": [],
   "source": [
    "heating_model = MLPModel(input_size, hidden_size_1=hidden_size_1, hidden_size_2=hidden_size_2, output_size=output_size)"
   ]
  },
  {
   "cell_type": "code",
   "execution_count": 34,
   "metadata": {},
   "outputs": [],
   "source": [
    "# Loss and optimizer\n",
    "criterion = nn.MSELoss()\n",
    "heating_optimizer = optim.Adam(heating_model.parameters(), lr=0.0001)"
   ]
  },
  {
   "cell_type": "markdown",
   "metadata": {},
   "source": [
    "## Heating"
   ]
  },
  {
   "cell_type": "code",
   "execution_count": 35,
   "metadata": {},
   "outputs": [
    {
     "name": "stderr",
     "output_type": "stream",
     "text": [
      "/Users/adrian/Documents/ICAI/TFG/Space-Conditioning-Electrification/.env/lib/python3.10/site-packages/torch/nn/modules/loss.py:610: UserWarning: Using a target size (torch.Size([64])) that is different to the input size (torch.Size([64, 1])). This will likely lead to incorrect results due to broadcasting. Please ensure they have the same size.\n",
      "  return F.mse_loss(input, target, reduction=self.reduction)\n",
      "/Users/adrian/Documents/ICAI/TFG/Space-Conditioning-Electrification/.env/lib/python3.10/site-packages/torch/nn/modules/loss.py:610: UserWarning: Using a target size (torch.Size([7])) that is different to the input size (torch.Size([7, 1])). This will likely lead to incorrect results due to broadcasting. Please ensure they have the same size.\n",
      "  return F.mse_loss(input, target, reduction=self.reduction)\n"
     ]
    },
    {
     "name": "stdout",
     "output_type": "stream",
     "text": [
      "Epoch 1/100, Loss: 4281.9996\n",
      "Epoch 2/100, Loss: 2265.2890\n",
      "Epoch 3/100, Loss: 711.4159\n",
      "Epoch 4/100, Loss: 95.4379\n",
      "Epoch 5/100, Loss: 17.4653\n",
      "Epoch 6/100, Loss: 10.3061\n",
      "Epoch 7/100, Loss: 6.4671\n",
      "Epoch 8/100, Loss: 4.0008\n",
      "Epoch 9/100, Loss: 2.3181\n",
      "Epoch 10/100, Loss: 1.2049\n",
      "Epoch 11/100, Loss: 0.5865\n",
      "Epoch 12/100, Loss: 0.3098\n",
      "Epoch 13/100, Loss: 0.2489\n",
      "Epoch 14/100, Loss: 0.2161\n",
      "Epoch 15/100, Loss: 0.1925\n",
      "Epoch 16/100, Loss: 0.1756\n",
      "Epoch 17/100, Loss: 0.1625\n",
      "Epoch 18/100, Loss: 0.1521\n",
      "Epoch 19/100, Loss: 0.1417\n",
      "Epoch 20/100, Loss: 0.1346\n",
      "Epoch 21/100, Loss: 0.1254\n",
      "Epoch 22/100, Loss: 0.1173\n",
      "Epoch 23/100, Loss: 0.1100\n",
      "Epoch 24/100, Loss: 0.1030\n",
      "Epoch 25/100, Loss: 0.0976\n",
      "Epoch 26/100, Loss: 0.0923\n",
      "Epoch 27/100, Loss: 0.0882\n",
      "Epoch 28/100, Loss: 0.0856\n",
      "Epoch 29/100, Loss: 0.0798\n",
      "Epoch 30/100, Loss: 0.0761\n",
      "Epoch 31/100, Loss: 0.0729\n",
      "Epoch 32/100, Loss: 0.0706\n",
      "Epoch 33/100, Loss: 0.0678\n",
      "Epoch 34/100, Loss: 0.0662\n",
      "Epoch 35/100, Loss: 0.0633\n",
      "Epoch 36/100, Loss: 0.0617\n",
      "Epoch 37/100, Loss: 0.0599\n",
      "Epoch 38/100, Loss: 0.0587\n",
      "Epoch 39/100, Loss: 0.0567\n",
      "Epoch 40/100, Loss: 0.0562\n",
      "Epoch 41/100, Loss: 0.0535\n",
      "Epoch 42/100, Loss: 0.0522\n",
      "Epoch 43/100, Loss: 0.0514\n",
      "Epoch 44/100, Loss: 0.0506\n",
      "Epoch 45/100, Loss: 0.0494\n",
      "Epoch 46/100, Loss: 0.0497\n",
      "Epoch 47/100, Loss: 0.0477\n",
      "Epoch 48/100, Loss: 0.0462\n",
      "Epoch 49/100, Loss: 0.0466\n",
      "Epoch 50/100, Loss: 0.0447\n",
      "Epoch 51/100, Loss: 0.0434\n",
      "Epoch 52/100, Loss: 0.0422\n",
      "Epoch 53/100, Loss: 0.0416\n",
      "Epoch 54/100, Loss: 0.0402\n",
      "Epoch 55/100, Loss: 0.0393\n",
      "Epoch 56/100, Loss: 0.0382\n",
      "Epoch 57/100, Loss: 0.0372\n",
      "Epoch 58/100, Loss: 0.0361\n",
      "Epoch 59/100, Loss: 0.0350\n",
      "Epoch 60/100, Loss: 0.0345\n",
      "Epoch 61/100, Loss: 0.0337\n",
      "Epoch 62/100, Loss: 0.0331\n",
      "Epoch 63/100, Loss: 0.0319\n",
      "Epoch 64/100, Loss: 0.0317\n",
      "Epoch 65/100, Loss: 0.0309\n",
      "Epoch 66/100, Loss: 0.0299\n",
      "Epoch 67/100, Loss: 0.0285\n",
      "Epoch 68/100, Loss: 0.0282\n",
      "Epoch 69/100, Loss: 0.0273\n",
      "Epoch 70/100, Loss: 0.0268\n",
      "Epoch 71/100, Loss: 0.0259\n",
      "Epoch 72/100, Loss: 0.0253\n",
      "Epoch 73/100, Loss: 0.0246\n",
      "Epoch 74/100, Loss: 0.0237\n",
      "Epoch 75/100, Loss: 0.0235\n",
      "Epoch 76/100, Loss: 0.0226\n",
      "Epoch 77/100, Loss: 0.0219\n",
      "Epoch 78/100, Loss: 0.0210\n",
      "Epoch 79/100, Loss: 0.0205\n",
      "Epoch 80/100, Loss: 0.0196\n",
      "Epoch 81/100, Loss: 0.0194\n",
      "Epoch 82/100, Loss: 0.0186\n",
      "Epoch 83/100, Loss: 0.0180\n",
      "Epoch 84/100, Loss: 0.0173\n",
      "Epoch 85/100, Loss: 0.0165\n",
      "Epoch 86/100, Loss: 0.0162\n",
      "Epoch 87/100, Loss: 0.0152\n",
      "Epoch 88/100, Loss: 0.0150\n",
      "Epoch 89/100, Loss: 0.0142\n",
      "Epoch 90/100, Loss: 0.0138\n",
      "Epoch 91/100, Loss: 0.0133\n",
      "Epoch 92/100, Loss: 0.0127\n",
      "Epoch 93/100, Loss: 0.0122\n",
      "Epoch 94/100, Loss: 0.0117\n",
      "Epoch 95/100, Loss: 0.0115\n",
      "Epoch 96/100, Loss: 0.0106\n",
      "Epoch 97/100, Loss: 0.0101\n",
      "Epoch 98/100, Loss: 0.0098\n",
      "Epoch 99/100, Loss: 0.0095\n",
      "Epoch 100/100, Loss: 0.0089\n"
     ]
    }
   ],
   "source": [
    "num_epochs = 100\n",
    "train(heating_model, heating_train_loader, criterion, heating_optimizer, num_epochs)"
   ]
  },
  {
   "cell_type": "code",
   "execution_count": 36,
   "metadata": {},
   "outputs": [],
   "source": [
    "# Predict\n",
    "heating_predictions, heating_actuals = evaluate(heating_model, heating_test_loader)"
   ]
  },
  {
   "cell_type": "code",
   "execution_count": 37,
   "metadata": {},
   "outputs": [
    {
     "data": {
      "image/png": "[encoded data removed]",
      "text/plain": [
       "<Figure size 1000x500 with 1 Axes>"
      ]
     },
     "metadata": {},
     "output_type": "display_data"
    }
   ],
   "source": [
    "# Plot train, test and predictions\n",
    "plt.figure(figsize=(10, 5))\n",
    "plt.plot(heating_train_timeseries.index, heating_train_timeseries[\"setpoint\"], label=\"Train\")\n",
    "plt.plot(heating_test_timeseries.index, heating_test_timeseries[\"setpoint\"], label=\"Test\")\n",
    "plt.plot(heating_test_timeseries.index[13:], heating_predictions, label=\"Predicted\")\n",
    "plt.title(\"Linear Regression Predictions\")\n",
    "plt.xlabel(\"Time Step\")\n",
    "plt.ylabel(\"Setpoint Value\")\n",
    "plt.legend()\n",
    "plt.xticks(rotation=45)\n",
    "plt.tight_layout()\n",
    "plt.show()"
   ]
  },
  {
   "cell_type": "markdown",
   "metadata": {},
   "source": [
    "## Cooling"
   ]
  },
  {
   "cell_type": "code",
   "execution_count": 38,
   "metadata": {},
   "outputs": [],
   "source": [
    "hidden_size_1 = 64\n",
    "hidden_size_2 = 32\n",
    "output_size = 1"
   ]
  },
  {
   "cell_type": "code",
   "execution_count": 39,
   "metadata": {},
   "outputs": [],
   "source": [
    "cooling_model = MLPModel(input_size, hidden_size_1=hidden_size_1, hidden_size_2=hidden_size_2, output_size=output_size)"
   ]
  },
  {
   "cell_type": "code",
   "execution_count": 40,
   "metadata": {},
   "outputs": [],
   "source": [
    "# Loss and optimizer\n",
    "criterion = nn.MSELoss()\n",
    "cooling_optimizer = optim.Adam(cooling_model.parameters(), lr=0.0001)"
   ]
  },
  {
   "cell_type": "code",
   "execution_count": 47,
   "metadata": {},
   "outputs": [
    {
     "name": "stderr",
     "output_type": "stream",
     "text": [
      "/Users/adrian/Documents/ICAI/TFG/Space-Conditioning-Electrification/.env/lib/python3.10/site-packages/torch/nn/modules/loss.py:610: UserWarning: Using a target size (torch.Size([64])) that is different to the input size (torch.Size([64, 1])). This will likely lead to incorrect results due to broadcasting. Please ensure they have the same size.\n",
      "  return F.mse_loss(input, target, reduction=self.reduction)\n",
      "/Users/adrian/Documents/ICAI/TFG/Space-Conditioning-Electrification/.env/lib/python3.10/site-packages/torch/nn/modules/loss.py:610: UserWarning: Using a target size (torch.Size([44])) that is different to the input size (torch.Size([44, 1])). This will likely lead to incorrect results due to broadcasting. Please ensure they have the same size.\n",
      "  return F.mse_loss(input, target, reduction=self.reduction)\n"
     ]
    },
    {
     "name": "stdout",
     "output_type": "stream",
     "text": [
      "Epoch 1/100, Loss: 1.0550\n",
      "Epoch 2/100, Loss: 1.0512\n",
      "Epoch 3/100, Loss: 1.0474\n",
      "Epoch 4/100, Loss: 1.0487\n",
      "Epoch 5/100, Loss: 1.0469\n",
      "Epoch 6/100, Loss: 1.0529\n",
      "Epoch 7/100, Loss: 1.0449\n",
      "Epoch 8/100, Loss: 1.0525\n",
      "Epoch 9/100, Loss: 1.0416\n",
      "Epoch 10/100, Loss: 1.0436\n",
      "Epoch 11/100, Loss: 1.0406\n",
      "Epoch 12/100, Loss: 1.0352\n",
      "Epoch 13/100, Loss: 1.0432\n",
      "Epoch 14/100, Loss: 1.0391\n",
      "Epoch 15/100, Loss: 1.0454\n",
      "Epoch 16/100, Loss: 1.0424\n",
      "Epoch 17/100, Loss: 1.0394\n",
      "Epoch 18/100, Loss: 1.0384\n",
      "Epoch 19/100, Loss: 1.0416\n",
      "Epoch 20/100, Loss: 1.0447\n",
      "Epoch 21/100, Loss: 1.0405\n",
      "Epoch 22/100, Loss: 1.0429\n",
      "Epoch 23/100, Loss: 1.0345\n",
      "Epoch 24/100, Loss: 1.0334\n",
      "Epoch 25/100, Loss: 1.0379\n",
      "Epoch 26/100, Loss: 1.0388\n",
      "Epoch 27/100, Loss: 1.0292\n",
      "Epoch 28/100, Loss: 1.0351\n",
      "Epoch 29/100, Loss: 1.0395\n",
      "Epoch 30/100, Loss: 1.0311\n",
      "Epoch 31/100, Loss: 1.0365\n",
      "Epoch 32/100, Loss: 1.0286\n",
      "Epoch 33/100, Loss: 1.0488\n",
      "Epoch 34/100, Loss: 1.0387\n",
      "Epoch 35/100, Loss: 1.0347\n",
      "Epoch 36/100, Loss: 1.0463\n",
      "Epoch 37/100, Loss: 1.0296\n",
      "Epoch 38/100, Loss: 1.0367\n",
      "Epoch 39/100, Loss: 1.0304\n",
      "Epoch 40/100, Loss: 1.0325\n",
      "Epoch 41/100, Loss: 1.0362\n",
      "Epoch 42/100, Loss: 1.0359\n",
      "Epoch 43/100, Loss: 1.0419\n",
      "Epoch 44/100, Loss: 1.0507\n",
      "Epoch 45/100, Loss: 1.0328\n",
      "Epoch 46/100, Loss: 1.0354\n",
      "Epoch 47/100, Loss: 1.0251\n",
      "Epoch 48/100, Loss: 1.0406\n",
      "Epoch 49/100, Loss: 1.0335\n",
      "Epoch 50/100, Loss: 1.0276\n",
      "Epoch 51/100, Loss: 1.0315\n",
      "Epoch 52/100, Loss: 1.0336\n",
      "Epoch 53/100, Loss: 1.0576\n",
      "Epoch 54/100, Loss: 1.0333\n",
      "Epoch 55/100, Loss: 1.0300\n",
      "Epoch 56/100, Loss: 1.0361\n",
      "Epoch 57/100, Loss: 1.0283\n",
      "Epoch 58/100, Loss: 1.0259\n",
      "Epoch 59/100, Loss: 1.0371\n",
      "Epoch 60/100, Loss: 1.0427\n",
      "Epoch 61/100, Loss: 1.0330\n",
      "Epoch 62/100, Loss: 1.0265\n",
      "Epoch 63/100, Loss: 1.0249\n",
      "Epoch 64/100, Loss: 1.0343\n",
      "Epoch 65/100, Loss: 1.0379\n",
      "Epoch 66/100, Loss: 1.0537\n",
      "Epoch 67/100, Loss: 1.0375\n",
      "Epoch 68/100, Loss: 1.0273\n",
      "Epoch 69/100, Loss: 1.0405\n",
      "Epoch 70/100, Loss: 1.0232\n",
      "Epoch 71/100, Loss: 1.0623\n",
      "Epoch 72/100, Loss: 1.0550\n",
      "Epoch 73/100, Loss: 1.0409\n",
      "Epoch 74/100, Loss: 1.0253\n",
      "Epoch 75/100, Loss: 1.0449\n",
      "Epoch 76/100, Loss: 1.0208\n",
      "Epoch 77/100, Loss: 1.0295\n",
      "Epoch 78/100, Loss: 1.0307\n",
      "Epoch 79/100, Loss: 1.0249\n",
      "Epoch 80/100, Loss: 1.0407\n",
      "Epoch 81/100, Loss: 1.0317\n",
      "Epoch 82/100, Loss: 1.0337\n",
      "Epoch 83/100, Loss: 1.0196\n",
      "Epoch 84/100, Loss: 1.0277\n",
      "Epoch 85/100, Loss: 1.0248\n",
      "Epoch 86/100, Loss: 1.0715\n",
      "Epoch 87/100, Loss: 1.0336\n",
      "Epoch 88/100, Loss: 1.0416\n",
      "Epoch 89/100, Loss: 1.0437\n",
      "Epoch 90/100, Loss: 1.0185\n",
      "Epoch 91/100, Loss: 1.0331\n",
      "Epoch 92/100, Loss: 1.0232\n",
      "Epoch 93/100, Loss: 1.0205\n",
      "Epoch 94/100, Loss: 1.0306\n",
      "Epoch 95/100, Loss: 1.0259\n",
      "Epoch 96/100, Loss: 1.0357\n",
      "Epoch 97/100, Loss: 1.0249\n",
      "Epoch 98/100, Loss: 1.0369\n",
      "Epoch 99/100, Loss: 1.0436\n",
      "Epoch 100/100, Loss: 1.0354\n"
     ]
    }
   ],
   "source": [
    "num_epochs = 100\n",
    "train(cooling_model, cooling_train_loader, criterion, cooling_optimizer, num_epochs)"
   ]
  },
  {
   "cell_type": "code",
   "execution_count": 48,
   "metadata": {},
   "outputs": [],
   "source": [
    "# Predict\n",
    "cooling_predictions, cooling_actuals = evaluate(cooling_model, cooling_test_loader)"
   ]
  },
  {
   "cell_type": "code",
   "execution_count": 49,
   "metadata": {},
   "outputs": [
    {
     "data": {
      "image/png": "[encoded data removed]",
      "text/plain": [
       "<Figure size 1000x500 with 1 Axes>"
      ]
     },
     "metadata": {},
     "output_type": "display_data"
    }
   ],
   "source": [
    "# Plot train, test and predictions\n",
    "plt.figure(figsize=(10, 5))\n",
    "plt.plot(cooling_train_timeseries.index, cooling_train_timeseries[\"setpoint\"], label=\"Train\")\n",
    "plt.plot(cooling_test_timeseries.index, cooling_test_timeseries[\"setpoint\"], label=\"Test\")\n",
    "plt.plot(cooling_test_timeseries.index[13:], cooling_predictions, label=\"Predicted\")\n",
    "plt.title(\"Linear Regression Predictions\")\n",
    "plt.xlabel(\"Time Step\")\n",
    "plt.ylabel(\"Setpoint Value\")\n",
    "plt.legend()\n",
    "plt.xticks(rotation=45)\n",
    "plt.tight_layout()\n",
    "plt.show()"
   ]
  }
 ],
 "metadata": {
  "kernelspec": {
   "display_name": ".env",
   "language": "python",
   "name": "python3"
  },
  "language_info": {
   "codemirror_mode": {
    "name": "ipython",
    "version": 3
   },
   "file_extension": ".py",
   "mimetype": "text/x-python",
   "name": "python",
   "nbconvert_exporter": "python",
   "pygments_lexer": "ipython3",
   "version": "3.10.11"
  }
 },
 "nbformat": 4,
 "nbformat_minor": 2
}
