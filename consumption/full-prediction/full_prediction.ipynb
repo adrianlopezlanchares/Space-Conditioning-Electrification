{
 "cells": [
  {
   "cell_type": "code",
   "execution_count": 1,
   "metadata": {},
   "outputs": [],
   "source": [
    "import sys\n",
    "import os\n",
    "\n",
    "# Get the path to the parent directory (consumption)\n",
    "parent_dir = os.path.abspath(os.path.join(os.getcwd(), os.pardir))\n",
    "\n",
    "# Add the parent directory to the Python path\n",
    "sys.path.append(parent_dir)\n",
    "\n",
    "# Now you can import the LSTMModel from the dnn.models module\n",
    "from dnn.models import MLPModel"
   ]
  },
  {
   "cell_type": "code",
   "execution_count": 2,
   "metadata": {},
   "outputs": [],
   "source": [
    "import pandas as pd\n",
    "import numpy as np\n",
    "import matplotlib.pyplot as plt\n",
    "import pickle\n",
    "\n",
    "import torch\n",
    "import torch.nn as nn\n",
    "from torch.utils.data import Dataset, DataLoader\n",
    "import torch.optim as optim\n",
    "\n",
    "from data_preprocessing import process_resstock_data"
   ]
  },
  {
   "cell_type": "markdown",
   "metadata": {},
   "source": [
    "# Load data"
   ]
  },
  {
   "cell_type": "markdown",
   "metadata": {},
   "source": [
    "### Setpoint timeseries"
   ]
  },
  {
   "cell_type": "code",
   "execution_count": 3,
   "metadata": {},
   "outputs": [],
   "source": [
    "# full_heating_timeseries, full_cooling_timeseries = generate_setpoint_timeseries(\n",
    "#     cooling_start_date = \"2018-06-01\",\n",
    "#     cooling_end_date = \"2018-10-31\",\n",
    "#     combine = False\n",
    "# )"
   ]
  },
  {
   "cell_type": "code",
   "execution_count": 4,
   "metadata": {},
   "outputs": [],
   "source": [
    "# # Save heaitng and cooling timeseries to pickle\n",
    "# with open('/Users/adrian/Documents/ICAI/TFG/Space-Conditioning-Electrification/data/consumption/full_heating_timeseries.pkl', 'wb') as f:\n",
    "#     pickle.dump(full_heating_timeseries, f)\n",
    "# with open('/Users/adrian/Documents/ICAI/TFG/Space-Conditioning-Electrification/data/consumption/full_cooling_timeseries.pkl', 'wb') as f:\n",
    "#     pickle.dump(full_cooling_timeseries, f)"
   ]
  },
  {
   "cell_type": "code",
   "execution_count": 5,
   "metadata": {},
   "outputs": [],
   "source": [
    "# Load full heating and cooling timeseries\n",
    "with open('/Users/adrian/Documents/ICAI/TFG/Space-Conditioning-Electrification/data/consumption/full_heating_timeseries.pkl', 'rb') as f:\n",
    "    full_heating_timeseries = pickle.load(f)\n",
    "with open('/Users/adrian/Documents/ICAI/TFG/Space-Conditioning-Electrification/data/consumption/full_cooling_timeseries.pkl', 'rb') as f:\n",
    "    full_cooling_timeseries = pickle.load(f)"
   ]
  },
  {
   "cell_type": "markdown",
   "metadata": {},
   "source": [
    "### Weather data"
   ]
  },
  {
   "cell_type": "code",
   "execution_count": 6,
   "metadata": {},
   "outputs": [],
   "source": [
    "weather_data = pd.read_csv(\"/Users/adrian/Documents/ICAI/TFG/Space-Conditioning-Electrification/data/consumption/G2500170_2018.csv\")"
   ]
  },
  {
   "cell_type": "markdown",
   "metadata": {},
   "source": [
    "### ResStock"
   ]
  },
  {
   "cell_type": "code",
   "execution_count": 7,
   "metadata": {},
   "outputs": [],
   "source": [
    "resstock = pd.read_parquet(\"/Users/adrian/Documents/ICAI/TFG/Space-Conditioning-Electrification/data/consumption/MA_baseline_metadata_and_annual_results.parquet\")"
   ]
  },
  {
   "cell_type": "markdown",
   "metadata": {},
   "source": [
    "### Building timeseries"
   ]
  },
  {
   "cell_type": "code",
   "execution_count": 8,
   "metadata": {},
   "outputs": [],
   "source": [
    "building_data = pd.read_parquet(\"/Users/adrian/Documents/ICAI/TFG/Space-Conditioning-Electrification/data/consumption/1000-0.parquet\")"
   ]
  },
  {
   "cell_type": "markdown",
   "metadata": {},
   "source": [
    "### Setpoint timeseries plot"
   ]
  },
  {
   "cell_type": "code",
   "execution_count": 9,
   "metadata": {},
   "outputs": [],
   "source": [
    "heating_timeseries = full_heating_timeseries[1000]\n",
    "cooling_timeseries = full_cooling_timeseries[1000]\n",
    "\n",
    "heating_timeseries = pd.concat([heating_timeseries.loc[\"2018-01-01\":\"2018-05-31\"], heating_timeseries.loc[\"2018-11-01\":\"2018-12-31\"]])\n",
    "cooling_timeseries = cooling_timeseries.loc[\"2018-06-01\":\"2018-10-31\"]"
   ]
  },
  {
   "cell_type": "code",
   "execution_count": 10,
   "metadata": {},
   "outputs": [
    {
     "data": {
      "image/png": "[encoded data removed]",
      "text/plain": [
       "<Figure size 1000x500 with 1 Axes>"
      ]
     },
     "metadata": {},
     "output_type": "display_data"
    }
   ],
   "source": [
    "# Plot the timeseries\n",
    "plt.figure(figsize=(10, 5))\n",
    "plt.plot(heating_timeseries.index, heating_timeseries[\"setpoint\"])\n",
    "plt.plot(cooling_timeseries.index, cooling_timeseries[\"setpoint\"])\n",
    "plt.title(\"Setpoint Timeseries\")\n",
    "plt.xlabel(\"Date\")\n",
    "plt.ylabel(\"Setpoint Value\")\n",
    "plt.xticks(rotation=45)\n",
    "plt.tight_layout()\n",
    "plt.show()"
   ]
  },
  {
   "cell_type": "markdown",
   "metadata": {},
   "source": [
    "# ResStock transform"
   ]
  },
  {
   "cell_type": "code",
   "execution_count": 11,
   "metadata": {},
   "outputs": [],
   "source": [
    "columns = [\n",
    "    \"in.bedrooms\",              # int\n",
    "    \"in.duct_leakage_and_insulation\",    # Separate into leakage / insulation: X% / (Uniinsulated/R-n)\n",
    "    \"in.duct_location\",         # Places of the house\n",
    "    \"in.geometry_floor_area\",   # 1000-1499, ...\n",
    "    \"in.geometry_stories\",      # int\n",
    "    \"in.geometry_wall_type\",    # Materials\n",
    "    \"in.ground_thermal_conductivity\",   # float\n",
    "    \"in.hvac_has_ducts\",    # Yes / No\n",
    "    \"in.insulation_ceiling\",    # R-n / Uninsulated\n",
    "    \"in.insulation_floor\",      # R-n / Uninsulated\n",
    "    \"in.insulation_foundation_wall\",    # Wall R-n, Exterior\n",
    "    \"in.insulation_roof\",       # Finished / Unfinished, R-n\n",
    "    \"in.insulation_wall\",       # Material, Uninsulated / R-n\n",
    "    \"in.occupants\",         # int\n",
    "    \"in.orientation\",       # North, Northwest...\n",
    "    \"in.roof_material\",     # Material\n",
    "    \"in.sqft\",              # int\n",
    "    \"in.windows\"    # Single/Double/Triple, Low-E/Clear, Metal/Non-metal, Air/Exterior Clear Storm, (L/M-Gain)\n",
    "    \"in.window_areas\",\n",
    "    \"in.vintage\",\n",
    "]"
   ]
  },
  {
   "cell_type": "code",
   "execution_count": 12,
   "metadata": {},
   "outputs": [],
   "source": [
    "columns_processed = [\n",
    "    \"in.bedrooms_processed\",              # int\n",
    "    \"in.duct_leakage_processed\",\n",
    "    \"in.duct_insulation_processed\",    # Separate into leakage / insulation: X% / (Uniinsulated/R-n)\n",
    "    \"in.duct_location_processed\",         # Places of the house\n",
    "    \"in.geometry_floor_area_processed\",   # 1000-1499, ...\n",
    "    \"in.geometry_stories_processed\",      # int\n",
    "    \"in.geometry_wall_type_processed\",    # Materials\n",
    "    \"in.ground_thermal_conductivity_processed\",   # float\n",
    "    \"in.hvac_has_ducts_processed\",    # Yes / No\n",
    "    \"in.insulation_ceiling_processed\",    # R-n / Uninsulated\n",
    "    \"in.insulation_floor_processed\",      # R-n / Uninsulated\n",
    "    \"in.insulation_foundation_wall_processed\",    # Wall R-n, Exterior\n",
    "    \"in.insulation_roof_processed\",       # Finished / Unfinished, R-n\n",
    "    \"in.insulation_wall_processed\",       # Material, Uninsulated / R-n\n",
    "    \"in.occupants_processed\",         # int\n",
    "    \"in.orientation_processed\",       # North, Northwest...\n",
    "    \"in.roof_material_processed\",     # Material\n",
    "    \"in.sqft_processed\",              # int\n",
    "    \"in.windows_processed\", # Single/Double/Triple, Low-E/Clear, Metal/Non-metal, Air/Exterior Clear Storm, (L/M-Gain)\n",
    "    \"in.window_areas_processed\",\n",
    "    \"in.vintage_processed\",\n",
    "    \n",
    "]"
   ]
  },
  {
   "cell_type": "code",
   "execution_count": 13,
   "metadata": {},
   "outputs": [],
   "source": [
    "resstock_processed = process_resstock_data(resstock)"
   ]
  },
  {
   "cell_type": "code",
   "execution_count": 14,
   "metadata": {},
   "outputs": [
    {
     "data": {
      "text/plain": [
       "in.vintage_processed\n",
       "1930    3820\n",
       "1970    1386\n",
       "1950    1312\n",
       "1980    1269\n",
       "1960    1220\n",
       "1990     895\n",
       "2000     825\n",
       "1940     614\n",
       "2010     366\n",
       "Name: count, dtype: int64"
      ]
     },
     "execution_count": 14,
     "metadata": {},
     "output_type": "execute_result"
    }
   ],
   "source": [
    "resstock_processed[\"in.vintage_processed\"].value_counts()"
   ]
  },
  {
   "cell_type": "code",
   "execution_count": 15,
   "metadata": {},
   "outputs": [],
   "source": [
    "usable_resstock = resstock_processed[columns_processed]"
   ]
  },
  {
   "cell_type": "code",
   "execution_count": 16,
   "metadata": {},
   "outputs": [
    {
     "data": {
      "text/html": [
       "<div>\n",
       "<style scoped>\n",
       "    .dataframe tbody tr th:only-of-type {\n",
       "        vertical-align: middle;\n",
       "    }\n",
       "\n",
       "    .dataframe tbody tr th {\n",
       "        vertical-align: top;\n",
       "    }\n",
       "\n",
       "    .dataframe thead th {\n",
       "        text-align: right;\n",
       "    }\n",
       "</style>\n",
       "<table border=\"1\" class=\"dataframe\">\n",
       "  <thead>\n",
       "    <tr style=\"text-align: right;\">\n",
       "      <th></th>\n",
       "      <th>in.bedrooms_processed</th>\n",
       "      <th>in.duct_leakage_processed</th>\n",
       "      <th>in.duct_insulation_processed</th>\n",
       "      <th>in.duct_location_processed</th>\n",
       "      <th>in.geometry_floor_area_processed</th>\n",
       "      <th>in.geometry_stories_processed</th>\n",
       "      <th>in.geometry_wall_type_processed</th>\n",
       "      <th>in.ground_thermal_conductivity_processed</th>\n",
       "      <th>in.hvac_has_ducts_processed</th>\n",
       "      <th>in.insulation_ceiling_processed</th>\n",
       "      <th>...</th>\n",
       "      <th>in.insulation_foundation_wall_processed</th>\n",
       "      <th>in.insulation_roof_processed</th>\n",
       "      <th>in.insulation_wall_processed</th>\n",
       "      <th>in.occupants_processed</th>\n",
       "      <th>in.orientation_processed</th>\n",
       "      <th>in.roof_material_processed</th>\n",
       "      <th>in.sqft_processed</th>\n",
       "      <th>in.windows_processed</th>\n",
       "      <th>in.window_areas_processed</th>\n",
       "      <th>in.vintage_processed</th>\n",
       "    </tr>\n",
       "    <tr>\n",
       "      <th>bldg_id</th>\n",
       "      <th></th>\n",
       "      <th></th>\n",
       "      <th></th>\n",
       "      <th></th>\n",
       "      <th></th>\n",
       "      <th></th>\n",
       "      <th></th>\n",
       "      <th></th>\n",
       "      <th></th>\n",
       "      <th></th>\n",
       "      <th></th>\n",
       "      <th></th>\n",
       "      <th></th>\n",
       "      <th></th>\n",
       "      <th></th>\n",
       "      <th></th>\n",
       "      <th></th>\n",
       "      <th></th>\n",
       "      <th></th>\n",
       "      <th></th>\n",
       "      <th></th>\n",
       "    </tr>\n",
       "  </thead>\n",
       "  <tbody>\n",
       "    <tr>\n",
       "      <th>10</th>\n",
       "      <td>3</td>\n",
       "      <td>10</td>\n",
       "      <td>0</td>\n",
       "      <td>4</td>\n",
       "      <td>1749</td>\n",
       "      <td>1</td>\n",
       "      <td>1</td>\n",
       "      <td>1.4</td>\n",
       "      <td>1</td>\n",
       "      <td>5</td>\n",
       "      <td>...</td>\n",
       "      <td>1</td>\n",
       "      <td>0</td>\n",
       "      <td>0</td>\n",
       "      <td>6</td>\n",
       "      <td>1</td>\n",
       "      <td>3</td>\n",
       "      <td>1228</td>\n",
       "      <td>2</td>\n",
       "      <td>18</td>\n",
       "      <td>1950</td>\n",
       "    </tr>\n",
       "    <tr>\n",
       "      <th>122</th>\n",
       "      <td>1</td>\n",
       "      <td>0</td>\n",
       "      <td>0</td>\n",
       "      <td>0</td>\n",
       "      <td>874</td>\n",
       "      <td>5</td>\n",
       "      <td>1</td>\n",
       "      <td>1.4</td>\n",
       "      <td>0</td>\n",
       "      <td>0</td>\n",
       "      <td>...</td>\n",
       "      <td>1</td>\n",
       "      <td>6</td>\n",
       "      <td>0</td>\n",
       "      <td>1</td>\n",
       "      <td>5</td>\n",
       "      <td>0</td>\n",
       "      <td>623</td>\n",
       "      <td>2</td>\n",
       "      <td>18</td>\n",
       "      <td>1950</td>\n",
       "    </tr>\n",
       "    <tr>\n",
       "      <th>129</th>\n",
       "      <td>1</td>\n",
       "      <td>0</td>\n",
       "      <td>0</td>\n",
       "      <td>0</td>\n",
       "      <td>874</td>\n",
       "      <td>2</td>\n",
       "      <td>2</td>\n",
       "      <td>1.1</td>\n",
       "      <td>0</td>\n",
       "      <td>0</td>\n",
       "      <td>...</td>\n",
       "      <td>1</td>\n",
       "      <td>5</td>\n",
       "      <td>1</td>\n",
       "      <td>1</td>\n",
       "      <td>4</td>\n",
       "      <td>0</td>\n",
       "      <td>623</td>\n",
       "      <td>1</td>\n",
       "      <td>15</td>\n",
       "      <td>1970</td>\n",
       "    </tr>\n",
       "    <tr>\n",
       "      <th>150</th>\n",
       "      <td>2</td>\n",
       "      <td>0</td>\n",
       "      <td>0</td>\n",
       "      <td>0</td>\n",
       "      <td>1749</td>\n",
       "      <td>3</td>\n",
       "      <td>1</td>\n",
       "      <td>1.1</td>\n",
       "      <td>0</td>\n",
       "      <td>0</td>\n",
       "      <td>...</td>\n",
       "      <td>0</td>\n",
       "      <td>3</td>\n",
       "      <td>4</td>\n",
       "      <td>1</td>\n",
       "      <td>3</td>\n",
       "      <td>0</td>\n",
       "      <td>1138</td>\n",
       "      <td>2</td>\n",
       "      <td>15</td>\n",
       "      <td>2000</td>\n",
       "    </tr>\n",
       "    <tr>\n",
       "      <th>183</th>\n",
       "      <td>3</td>\n",
       "      <td>0</td>\n",
       "      <td>0</td>\n",
       "      <td>0</td>\n",
       "      <td>1749</td>\n",
       "      <td>1</td>\n",
       "      <td>1</td>\n",
       "      <td>1.4</td>\n",
       "      <td>0</td>\n",
       "      <td>1</td>\n",
       "      <td>...</td>\n",
       "      <td>1</td>\n",
       "      <td>0</td>\n",
       "      <td>0</td>\n",
       "      <td>2</td>\n",
       "      <td>3</td>\n",
       "      <td>1</td>\n",
       "      <td>1228</td>\n",
       "      <td>2</td>\n",
       "      <td>18</td>\n",
       "      <td>1930</td>\n",
       "    </tr>\n",
       "  </tbody>\n",
       "</table>\n",
       "<p>5 rows × 21 columns</p>\n",
       "</div>"
      ],
      "text/plain": [
       "         in.bedrooms_processed  in.duct_leakage_processed  \\\n",
       "bldg_id                                                     \n",
       "10                           3                         10   \n",
       "122                          1                          0   \n",
       "129                          1                          0   \n",
       "150                          2                          0   \n",
       "183                          3                          0   \n",
       "\n",
       "         in.duct_insulation_processed  in.duct_location_processed  \\\n",
       "bldg_id                                                             \n",
       "10                                  0                           4   \n",
       "122                                 0                           0   \n",
       "129                                 0                           0   \n",
       "150                                 0                           0   \n",
       "183                                 0                           0   \n",
       "\n",
       "         in.geometry_floor_area_processed  in.geometry_stories_processed  \\\n",
       "bldg_id                                                                    \n",
       "10                                   1749                              1   \n",
       "122                                   874                              5   \n",
       "129                                   874                              2   \n",
       "150                                  1749                              3   \n",
       "183                                  1749                              1   \n",
       "\n",
       "         in.geometry_wall_type_processed  \\\n",
       "bldg_id                                    \n",
       "10                                     1   \n",
       "122                                    1   \n",
       "129                                    2   \n",
       "150                                    1   \n",
       "183                                    1   \n",
       "\n",
       "         in.ground_thermal_conductivity_processed  \\\n",
       "bldg_id                                             \n",
       "10                                            1.4   \n",
       "122                                           1.4   \n",
       "129                                           1.1   \n",
       "150                                           1.1   \n",
       "183                                           1.4   \n",
       "\n",
       "         in.hvac_has_ducts_processed  in.insulation_ceiling_processed  ...  \\\n",
       "bldg_id                                                                ...   \n",
       "10                                 1                                5  ...   \n",
       "122                                0                                0  ...   \n",
       "129                                0                                0  ...   \n",
       "150                                0                                0  ...   \n",
       "183                                0                                1  ...   \n",
       "\n",
       "         in.insulation_foundation_wall_processed  \\\n",
       "bldg_id                                            \n",
       "10                                             1   \n",
       "122                                            1   \n",
       "129                                            1   \n",
       "150                                            0   \n",
       "183                                            1   \n",
       "\n",
       "         in.insulation_roof_processed  in.insulation_wall_processed  \\\n",
       "bldg_id                                                               \n",
       "10                                  0                             0   \n",
       "122                                 6                             0   \n",
       "129                                 5                             1   \n",
       "150                                 3                             4   \n",
       "183                                 0                             0   \n",
       "\n",
       "         in.occupants_processed  in.orientation_processed  \\\n",
       "bldg_id                                                     \n",
       "10                            6                         1   \n",
       "122                           1                         5   \n",
       "129                           1                         4   \n",
       "150                           1                         3   \n",
       "183                           2                         3   \n",
       "\n",
       "         in.roof_material_processed  in.sqft_processed  in.windows_processed  \\\n",
       "bldg_id                                                                        \n",
       "10                                3               1228                     2   \n",
       "122                               0                623                     2   \n",
       "129                               0                623                     1   \n",
       "150                               0               1138                     2   \n",
       "183                               1               1228                     2   \n",
       "\n",
       "         in.window_areas_processed  in.vintage_processed  \n",
       "bldg_id                                                   \n",
       "10                              18                  1950  \n",
       "122                             18                  1950  \n",
       "129                             15                  1970  \n",
       "150                             15                  2000  \n",
       "183                             18                  1930  \n",
       "\n",
       "[5 rows x 21 columns]"
      ]
     },
     "execution_count": 16,
     "metadata": {},
     "output_type": "execute_result"
    }
   ],
   "source": [
    "usable_resstock.head()"
   ]
  },
  {
   "cell_type": "code",
   "execution_count": 17,
   "metadata": {},
   "outputs": [],
   "source": [
    "building_resstock = np.array(usable_resstock.loc[1000])"
   ]
  },
  {
   "cell_type": "code",
   "execution_count": 18,
   "metadata": {},
   "outputs": [
    {
     "data": {
      "text/plain": [
       "array([3.000e+00, 0.000e+00, 0.000e+00, 0.000e+00, 2.499e+03, 1.000e+00,\n",
       "       2.000e+00, 1.400e+00, 0.000e+00, 0.000e+00, 1.000e+00, 1.000e+00,\n",
       "       5.000e+00, 0.000e+00, 3.000e+00, 0.000e+00, 0.000e+00, 1.682e+03,\n",
       "       2.000e+00, 1.500e+01, 1.930e+03])"
      ]
     },
     "execution_count": 18,
     "metadata": {},
     "output_type": "execute_result"
    }
   ],
   "source": [
    "building_resstock"
   ]
  },
  {
   "cell_type": "markdown",
   "metadata": {},
   "source": [
    "# Transform data"
   ]
  },
  {
   "cell_type": "code",
   "execution_count": 19,
   "metadata": {},
   "outputs": [],
   "source": [
    "def get_cols(building_data: pd.DataFrame, building_id: int) -> str:\n",
    "\n",
    "    try:\n",
    "        building = building_data.loc[building_id]\n",
    "    except:\n",
    "        raise ValueError(\"Building ID not found in the dataset\")\n",
    "\n",
    "    match building[\"in.heating_fuel\"]:\n",
    "        case  \"Natural Gas\":\n",
    "            return \"out.natural_gas.heating.energy_consumption\"\n",
    "        case \"Electricity\":\n",
    "            return \"out.electricity.heating.energy_consumption\"\n",
    "        case \"Fuel Oil\":\n",
    "            return \"out.fuel_oil.heating.energy_consumption\"\n",
    "        case \"Propane\":\n",
    "            return \"out.propane.heating.energy_consumption\"\n",
    "        case _:\n",
    "            return \"out.electricity.heating.energy_consumption\""
   ]
  },
  {
   "cell_type": "code",
   "execution_count": 20,
   "metadata": {},
   "outputs": [
    {
     "data": {
      "text/plain": [
       "Index(['date_time', 'Dry Bulb Temperature [°C]', 'Relative Humidity [%]',\n",
       "       'Wind Speed [m/s]', 'Wind Direction [Deg]',\n",
       "       'Global Horizontal Radiation [W/m2]', 'Direct Normal Radiation [W/m2]',\n",
       "       'Diffuse Horizontal Radiation [W/m2]'],\n",
       "      dtype='object')"
      ]
     },
     "execution_count": 20,
     "metadata": {},
     "output_type": "execute_result"
    }
   ],
   "source": [
    "weather_data.columns"
   ]
  },
  {
   "cell_type": "code",
   "execution_count": 21,
   "metadata": {},
   "outputs": [],
   "source": [
    "# Change date time column name to timestamp\n",
    "weather_data.rename(columns={'date_time': \"timestamp\"}, inplace=True)\n",
    "weather_data.set_index('timestamp', inplace=True)\n",
    "weather_data.index = pd.to_datetime(weather_data.index)\n",
    "\n",
    "# Delete all columns except dry bulb temperature\n",
    "weather_data = weather_data[[\"Dry Bulb Temperature [°C]\", \"Direct Normal Radiation [W/m2]\"]]\n",
    "weather_data.rename(columns={\"Dry Bulb Temperature [°C]\": \"temperature\"}, inplace=True)\n",
    "\n",
    "# Create an entry for 2018-01-01 00:00:00\n",
    "new_row = pd.DataFrame({'temperature': weather_data.iloc[0]['temperature']}, index=[pd.to_datetime('2018-01-01 00:00:00')])\n",
    "weather_data = pd.concat([new_row, weather_data])\n",
    "\n",
    "# Remove last 19 rows\n",
    "weather_data = weather_data[:-24]"
   ]
  },
  {
   "cell_type": "code",
   "execution_count": 22,
   "metadata": {},
   "outputs": [],
   "source": [
    "weather_data.bfill(inplace=True)\n",
    "weather_data.ffill(inplace=True)"
   ]
  },
  {
   "cell_type": "code",
   "execution_count": 23,
   "metadata": {},
   "outputs": [],
   "source": [
    "building_id = 1000"
   ]
  },
  {
   "cell_type": "code",
   "execution_count": 24,
   "metadata": {},
   "outputs": [
    {
     "name": "stderr",
     "output_type": "stream",
     "text": [
      "/var/folders/bw/4qyc6pj92bdb1bv22yhll2zw0000gn/T/ipykernel_33012/3969840236.py:5: SettingWithCopyWarning: \n",
      "A value is trying to be set on a copy of a slice from a DataFrame.\n",
      "Try using .loc[row_indexer,col_indexer] = value instead\n",
      "\n",
      "See the caveats in the documentation: https://pandas.pydata.org/pandas-docs/stable/user_guide/indexing.html#returning-a-view-versus-a-copy\n",
      "  consumption_timeseries[\"timestamp\"] = pd.to_datetime(consumption_timeseries[\"timestamp\"])\n",
      "/var/folders/bw/4qyc6pj92bdb1bv22yhll2zw0000gn/T/ipykernel_33012/3969840236.py:7: FutureWarning: 'H' is deprecated and will be removed in a future version, please use 'h' instead.\n",
      "  consumption_timeseries = consumption_timeseries.resample(\"H\").mean()\n"
     ]
    }
   ],
   "source": [
    "col_to_use = get_cols(resstock, building_id)\n",
    "consumption_timeseries = building_data[[\"timestamp\", col_to_use]]\n",
    "\n",
    "# Resample to hourly data\n",
    "consumption_timeseries[\"timestamp\"] = pd.to_datetime(consumption_timeseries[\"timestamp\"])\n",
    "consumption_timeseries.set_index(\"timestamp\", inplace=True)\n",
    "consumption_timeseries = consumption_timeseries.resample(\"H\").mean()\n",
    "consumption_timeseries = consumption_timeseries[col_to_use]\n",
    "\n",
    "consumption_timeseries = consumption_timeseries[:-24]\n",
    "\n",
    "# Turn into dataframe\n",
    "consumption_timeseries = pd.DataFrame(consumption_timeseries)\n",
    "consumption_timeseries.rename(columns={col_to_use: \"consumption\"}, inplace=True)"
   ]
  },
  {
   "cell_type": "code",
   "execution_count": 25,
   "metadata": {},
   "outputs": [],
   "source": [
    "exog_variables = pd.merge(\n",
    "    consumption_timeseries,\n",
    "    weather_data,\n",
    "    left_index=True,\n",
    "    right_index=True,\n",
    ")"
   ]
  },
  {
   "cell_type": "code",
   "execution_count": 26,
   "metadata": {},
   "outputs": [],
   "source": [
    "heating_exog = exog_variables.loc[heating_timeseries.index]\n",
    "cooling_exog = exog_variables.loc[cooling_timeseries.index]"
   ]
  },
  {
   "cell_type": "markdown",
   "metadata": {},
   "source": [
    "# Data Plot"
   ]
  },
  {
   "cell_type": "code",
   "execution_count": 27,
   "metadata": {},
   "outputs": [],
   "source": [
    "train_size = 0.8\n",
    "heating_endog_train = heating_timeseries[:int(train_size * len(heating_timeseries))]\n",
    "heating_endog_test = heating_timeseries[int(train_size * len(heating_timeseries)):]\n",
    "\n",
    "heating_exog_train = heating_exog[:int(train_size * len(heating_exog))]\n",
    "heating_exog_test = heating_exog[int(train_size * len(heating_exog)):]\n",
    "\n",
    "cooling_endog_train = cooling_timeseries[:int(train_size * len(cooling_timeseries))]\n",
    "cooling_endog_test = cooling_timeseries[int(train_size * len(cooling_timeseries)):]\n",
    "\n",
    "cooling_exog_train = cooling_exog[:int(train_size * len(cooling_exog))]\n",
    "cooling_exog_test = cooling_exog[int(train_size * len(cooling_exog)):]"
   ]
  },
  {
   "cell_type": "code",
   "execution_count": 28,
   "metadata": {},
   "outputs": [
    {
     "data": {
      "image/png": "[encoded data removed]",
      "text/plain": [
       "<Figure size 1000x500 with 1 Axes>"
      ]
     },
     "metadata": {},
     "output_type": "display_data"
    }
   ],
   "source": [
    "# Plot the training and test sets\n",
    "plt.figure(figsize=(10, 5))\n",
    "plt.plot(heating_endog_train.index, heating_endog_train[\"setpoint\"], label=\"heating Train\")\n",
    "plt.plot(heating_endog_test.index, heating_endog_test[\"setpoint\"], label=\"heating Test\")\n",
    "plt.plot(cooling_endog_train.index, cooling_endog_train[\"setpoint\"], label=\"cooling Train\")\n",
    "plt.plot(cooling_endog_test.index, cooling_endog_test[\"setpoint\"], label=\"cooling Test\")\n",
    "plt.title(\"Train and Test Sets\")\n",
    "plt.xlabel(\"Date\")\n",
    "plt.ylabel(\"Setpoint Value\")\n",
    "plt.legend()\n",
    "plt.xticks(rotation=45)\n",
    "plt.tight_layout()\n",
    "plt.show()"
   ]
  },
  {
   "cell_type": "markdown",
   "metadata": {},
   "source": [
    "# Datasets and Dataloaders"
   ]
  },
  {
   "cell_type": "code",
   "execution_count": 29,
   "metadata": {},
   "outputs": [],
   "source": [
    "heating_train_timeseries = pd.merge(heating_endog_train, heating_exog_train, left_index=True, right_index=True)\n",
    "heating_test_timeseries = pd.merge(heating_endog_test, heating_exog_test, left_index=True, right_index=True)\n",
    "\n",
    "cooling_train_timeseries = pd.merge(cooling_endog_train, cooling_exog_train, left_index=True, right_index=True)\n",
    "cooling_test_timeseries = pd.merge(cooling_endog_test, cooling_exog_test, left_index=True, right_index=True)"
   ]
  },
  {
   "cell_type": "code",
   "execution_count": 30,
   "metadata": {},
   "outputs": [
    {
     "data": {
      "text/html": [
       "<div>\n",
       "<style scoped>\n",
       "    .dataframe tbody tr th:only-of-type {\n",
       "        vertical-align: middle;\n",
       "    }\n",
       "\n",
       "    .dataframe tbody tr th {\n",
       "        vertical-align: top;\n",
       "    }\n",
       "\n",
       "    .dataframe thead th {\n",
       "        text-align: right;\n",
       "    }\n",
       "</style>\n",
       "<table border=\"1\" class=\"dataframe\">\n",
       "  <thead>\n",
       "    <tr style=\"text-align: right;\">\n",
       "      <th></th>\n",
       "      <th>setpoint</th>\n",
       "      <th>consumption</th>\n",
       "      <th>temperature</th>\n",
       "      <th>Direct Normal Radiation [W/m2]</th>\n",
       "    </tr>\n",
       "    <tr>\n",
       "      <th>timestamp</th>\n",
       "      <th></th>\n",
       "      <th></th>\n",
       "      <th></th>\n",
       "      <th></th>\n",
       "    </tr>\n",
       "  </thead>\n",
       "  <tbody>\n",
       "    <tr>\n",
       "      <th>2018-01-01 00:00:00</th>\n",
       "      <td>76.0</td>\n",
       "      <td>4.691970</td>\n",
       "      <td>-17.2</td>\n",
       "      <td>0.0</td>\n",
       "    </tr>\n",
       "    <tr>\n",
       "      <th>2018-01-01 01:00:00</th>\n",
       "      <td>76.0</td>\n",
       "      <td>5.008804</td>\n",
       "      <td>-17.2</td>\n",
       "      <td>0.0</td>\n",
       "    </tr>\n",
       "    <tr>\n",
       "      <th>2018-01-01 02:00:00</th>\n",
       "      <td>76.0</td>\n",
       "      <td>4.799112</td>\n",
       "      <td>-17.8</td>\n",
       "      <td>0.0</td>\n",
       "    </tr>\n",
       "    <tr>\n",
       "      <th>2018-01-01 03:00:00</th>\n",
       "      <td>76.0</td>\n",
       "      <td>4.963452</td>\n",
       "      <td>-18.9</td>\n",
       "      <td>0.0</td>\n",
       "    </tr>\n",
       "    <tr>\n",
       "      <th>2018-01-01 04:00:00</th>\n",
       "      <td>76.0</td>\n",
       "      <td>5.047929</td>\n",
       "      <td>-18.9</td>\n",
       "      <td>0.0</td>\n",
       "    </tr>\n",
       "  </tbody>\n",
       "</table>\n",
       "</div>"
      ],
      "text/plain": [
       "                     setpoint  consumption  temperature  \\\n",
       "timestamp                                                 \n",
       "2018-01-01 00:00:00      76.0     4.691970        -17.2   \n",
       "2018-01-01 01:00:00      76.0     5.008804        -17.2   \n",
       "2018-01-01 02:00:00      76.0     4.799112        -17.8   \n",
       "2018-01-01 03:00:00      76.0     4.963452        -18.9   \n",
       "2018-01-01 04:00:00      76.0     5.047929        -18.9   \n",
       "\n",
       "                     Direct Normal Radiation [W/m2]  \n",
       "timestamp                                            \n",
       "2018-01-01 00:00:00                             0.0  \n",
       "2018-01-01 01:00:00                             0.0  \n",
       "2018-01-01 02:00:00                             0.0  \n",
       "2018-01-01 03:00:00                             0.0  \n",
       "2018-01-01 04:00:00                             0.0  "
      ]
     },
     "execution_count": 30,
     "metadata": {},
     "output_type": "execute_result"
    }
   ],
   "source": [
    "heating_train_timeseries.head()"
   ]
  },
  {
   "cell_type": "code",
   "execution_count": 31,
   "metadata": {},
   "outputs": [],
   "source": [
    "def create_lr_sequences(data, sequence_length, building_resstock):\n",
    "    sequences = []\n",
    "    labels = []\n",
    "\n",
    "    for i in range(len(data) - sequence_length - 1):\n",
    "        sequence = np.array(data.iloc[i:i+sequence_length])\n",
    "        label = data.iloc[i+sequence_length].iloc[0]\n",
    "        sequences.append(sequence)\n",
    "        labels.append(label)\n",
    "    return np.array(sequences), labels"
   ]
  },
  {
   "cell_type": "code",
   "execution_count": 32,
   "metadata": {},
   "outputs": [],
   "source": [
    "sequence_length = 12\n",
    "batch_size = 64\n",
    "\n",
    "heating_train_sequences, heating_train_labels = create_lr_sequences(heating_train_timeseries, sequence_length, building_resstock)\n",
    "heating_test_sequences, heating_test_labels = create_lr_sequences(heating_test_timeseries, sequence_length, building_resstock)\n",
    "\n",
    "cooling_train_sequences, cooling_train_labels = create_lr_sequences(cooling_train_timeseries, sequence_length, building_resstock)\n",
    "cooling_test_sequences, cooling_test_labels = create_lr_sequences(cooling_test_timeseries, sequence_length, building_resstock)"
   ]
  },
  {
   "cell_type": "code",
   "execution_count": 33,
   "metadata": {},
   "outputs": [],
   "source": [
    "heating_train_sequences = heating_train_sequences.reshape(heating_train_sequences.shape[0], -1)\n",
    "heating_test_sequences = heating_test_sequences.reshape(heating_test_sequences.shape[0], -1)\n",
    "\n",
    "cooling_train_sequences = cooling_train_sequences.reshape(cooling_train_sequences.shape[0], -1)\n",
    "cooling_test_sequences = cooling_test_sequences.reshape(cooling_test_sequences.shape[0], -1)"
   ]
  },
  {
   "cell_type": "code",
   "execution_count": 34,
   "metadata": {},
   "outputs": [],
   "source": [
    "building_resstock_repeated_heating_train = np.tile(building_resstock, (heating_train_sequences.shape[0], 1))\n",
    "building_resstock_repeated_heating_test = np.tile(building_resstock, (heating_test_sequences.shape[0], 1))\n",
    "\n",
    "building_resstock_repeated_cooling_train = np.tile(building_resstock, (cooling_train_sequences.shape[0], 1))\n",
    "building_resstock_repeated_cooling_test = np.tile(building_resstock, (cooling_test_sequences.shape[0], 1))"
   ]
  },
  {
   "cell_type": "code",
   "execution_count": 35,
   "metadata": {},
   "outputs": [],
   "source": [
    "heating_train_sequences = np.concatenate((heating_train_sequences, building_resstock_repeated_heating_train), axis=1)\n",
    "heating_test_sequences = np.concatenate((heating_test_sequences, building_resstock_repeated_heating_test), axis=1)\n",
    "\n",
    "cooling_train_sequences = np.concatenate((cooling_train_sequences, building_resstock_repeated_cooling_train), axis=1)\n",
    "cooling_test_sequences = np.concatenate((cooling_test_sequences, building_resstock_repeated_cooling_test), axis=1)"
   ]
  },
  {
   "cell_type": "code",
   "execution_count": 36,
   "metadata": {},
   "outputs": [],
   "source": [
    "class TimeSeriesDataset(Dataset):\n",
    "    def __init__(self, sequences, labels):\n",
    "        self.sequences = sequences\n",
    "        self.labels = labels\n",
    "    \n",
    "    def __len__(self):\n",
    "        return len(self.sequences)\n",
    "    \n",
    "    def __getitem__(self, idx):\n",
    "        return torch.tensor(self.sequences[idx], dtype=torch.float32), torch.tensor(self.labels[idx], dtype=torch.float32)\n"
   ]
  },
  {
   "cell_type": "code",
   "execution_count": 37,
   "metadata": {},
   "outputs": [],
   "source": [
    "heating_train_dataset = TimeSeriesDataset(heating_train_sequences, heating_train_labels)\n",
    "heating_test_dataset = TimeSeriesDataset(heating_test_sequences, heating_test_labels)\n",
    "heating_train_loader = DataLoader(heating_train_dataset, batch_size=batch_size, shuffle=True)\n",
    "heating_test_loader = DataLoader(heating_test_dataset, batch_size=batch_size, shuffle=False)\n",
    "\n",
    "cooling_train_dataset = TimeSeriesDataset(cooling_train_sequences, cooling_train_labels)\n",
    "cooling_test_dataset = TimeSeriesDataset(cooling_test_sequences, cooling_test_labels)\n",
    "cooling_train_loader = DataLoader(cooling_train_dataset, batch_size=batch_size, shuffle=True)\n",
    "cooling_test_loader = DataLoader(cooling_test_dataset, batch_size=batch_size, shuffle=False)"
   ]
  },
  {
   "cell_type": "markdown",
   "metadata": {},
   "source": [
    "# Train and evaluate fns"
   ]
  },
  {
   "cell_type": "code",
   "execution_count": 38,
   "metadata": {},
   "outputs": [],
   "source": [
    "# Training function\n",
    "def train(model, train_loader, criterion, optimizer, num_epochs):\n",
    "    model.train()\n",
    "    for epoch in range(num_epochs):\n",
    "        running_loss = 0.0\n",
    "        for sequences, labels in train_loader:\n",
    "            # Zero gradients\n",
    "            optimizer.zero_grad()\n",
    "            \n",
    "            # Forward pass\n",
    "            outputs = model(sequences)\n",
    "            loss = criterion(outputs, labels)  # Unsqueeze labels to match output dim\n",
    "            \n",
    "            # Backward pass and optimization\n",
    "            loss.backward()\n",
    "            optimizer.step()\n",
    "            \n",
    "            running_loss += loss.item()\n",
    "        \n",
    "        print(f'Epoch {epoch+1}/{num_epochs}, Loss: {running_loss/len(train_loader):.4f}')"
   ]
  },
  {
   "cell_type": "code",
   "execution_count": 39,
   "metadata": {},
   "outputs": [],
   "source": [
    "# Predict\n",
    "def evaluate(model, test_loader):\n",
    "    model.eval()\n",
    "    predictions = []\n",
    "    actuals = []\n",
    "    with torch.no_grad():\n",
    "        for sequences, labels in test_loader:\n",
    "            outputs = model(sequences)\n",
    "            predictions.append(outputs.numpy())\n",
    "            actuals.append(labels.numpy())\n",
    "    return np.concatenate(predictions), np.concatenate(actuals)"
   ]
  },
  {
   "cell_type": "code",
   "execution_count": 40,
   "metadata": {},
   "outputs": [
    {
     "data": {
      "text/plain": [
       "69"
      ]
     },
     "execution_count": 40,
     "metadata": {},
     "output_type": "execute_result"
    }
   ],
   "source": [
    "len(heating_train_dataset[0][0])"
   ]
  },
  {
   "cell_type": "markdown",
   "metadata": {},
   "source": [
    "# MLP"
   ]
  },
  {
   "cell_type": "code",
   "execution_count": 41,
   "metadata": {},
   "outputs": [],
   "source": [
    "input_size = 69\n",
    "hidden_size_1 = 64\n",
    "hidden_size_2 = 32\n",
    "output_size = 1"
   ]
  },
  {
   "cell_type": "code",
   "execution_count": 42,
   "metadata": {},
   "outputs": [],
   "source": [
    "heating_model = MLPModel(\n",
    "    input_size, \n",
    "    hidden_size_1=hidden_size_1, \n",
    "    hidden_size_2=hidden_size_2,\n",
    "    output_size=output_size)"
   ]
  },
  {
   "cell_type": "code",
   "execution_count": 43,
   "metadata": {},
   "outputs": [],
   "source": [
    "# Loss and optimizer\n",
    "heating_criterion = nn.MSELoss()\n",
    "heating_optimizer = optim.Adam(heating_model.parameters(), lr=0.0001)"
   ]
  },
  {
   "cell_type": "markdown",
   "metadata": {},
   "source": [
    "## Heating"
   ]
  },
  {
   "cell_type": "code",
   "execution_count": 44,
   "metadata": {},
   "outputs": [
    {
     "name": "stderr",
     "output_type": "stream",
     "text": [
      "/Users/adrian/Documents/ICAI/TFG/Space-Conditioning-Electrification/.env/lib/python3.10/site-packages/torch/nn/modules/loss.py:610: UserWarning: Using a target size (torch.Size([64])) that is different to the input size (torch.Size([64, 1])). This will likely lead to incorrect results due to broadcasting. Please ensure they have the same size.\n",
      "  return F.mse_loss(input, target, reduction=self.reduction)\n",
      "/Users/adrian/Documents/ICAI/TFG/Space-Conditioning-Electrification/.env/lib/python3.10/site-packages/torch/nn/modules/loss.py:610: UserWarning: Using a target size (torch.Size([7])) that is different to the input size (torch.Size([7, 1])). This will likely lead to incorrect results due to broadcasting. Please ensure they have the same size.\n",
      "  return F.mse_loss(input, target, reduction=self.reduction)\n"
     ]
    },
    {
     "name": "stdout",
     "output_type": "stream",
     "text": [
      "Epoch 1/100, Loss: 1766.9645\n",
      "Epoch 2/100, Loss: 73.6540\n",
      "Epoch 3/100, Loss: 35.1246\n",
      "Epoch 4/100, Loss: 19.5950\n",
      "Epoch 5/100, Loss: 11.7432\n",
      "Epoch 6/100, Loss: 7.6611\n",
      "Epoch 7/100, Loss: 5.6240\n",
      "Epoch 8/100, Loss: 4.3162\n",
      "Epoch 9/100, Loss: 3.6419\n",
      "Epoch 10/100, Loss: 3.1804\n",
      "Epoch 11/100, Loss: 2.8361\n",
      "Epoch 12/100, Loss: 2.4984\n",
      "Epoch 13/100, Loss: 2.2405\n",
      "Epoch 14/100, Loss: 2.0773\n",
      "Epoch 15/100, Loss: 1.8872\n",
      "Epoch 16/100, Loss: 1.7503\n",
      "Epoch 17/100, Loss: 1.6366\n",
      "Epoch 18/100, Loss: 1.5250\n",
      "Epoch 19/100, Loss: 1.4661\n",
      "Epoch 20/100, Loss: 1.3456\n",
      "Epoch 21/100, Loss: 1.3038\n",
      "Epoch 22/100, Loss: 1.2125\n",
      "Epoch 23/100, Loss: 1.1298\n",
      "Epoch 24/100, Loss: 1.0621\n",
      "Epoch 25/100, Loss: 1.0138\n",
      "Epoch 26/100, Loss: 0.9468\n",
      "Epoch 27/100, Loss: 0.9092\n",
      "Epoch 28/100, Loss: 0.8672\n",
      "Epoch 29/100, Loss: 0.8277\n",
      "Epoch 30/100, Loss: 0.7981\n",
      "Epoch 31/100, Loss: 0.7599\n",
      "Epoch 32/100, Loss: 0.7242\n",
      "Epoch 33/100, Loss: 0.6971\n",
      "Epoch 34/100, Loss: 0.6589\n",
      "Epoch 35/100, Loss: 0.6443\n",
      "Epoch 36/100, Loss: 0.6102\n",
      "Epoch 37/100, Loss: 0.5965\n",
      "Epoch 38/100, Loss: 0.5575\n",
      "Epoch 39/100, Loss: 0.5411\n",
      "Epoch 40/100, Loss: 0.5073\n",
      "Epoch 41/100, Loss: 0.4897\n",
      "Epoch 42/100, Loss: 0.4729\n",
      "Epoch 43/100, Loss: 0.4538\n",
      "Epoch 44/100, Loss: 0.4350\n",
      "Epoch 45/100, Loss: 0.4206\n",
      "Epoch 46/100, Loss: 0.3989\n",
      "Epoch 47/100, Loss: 0.3785\n",
      "Epoch 48/100, Loss: 0.3807\n",
      "Epoch 49/100, Loss: 0.3512\n",
      "Epoch 50/100, Loss: 0.3377\n",
      "Epoch 51/100, Loss: 0.3178\n",
      "Epoch 52/100, Loss: 0.3058\n",
      "Epoch 53/100, Loss: 0.2885\n",
      "Epoch 54/100, Loss: 0.2845\n",
      "Epoch 55/100, Loss: 0.2843\n",
      "Epoch 56/100, Loss: 0.2571\n",
      "Epoch 57/100, Loss: 0.2418\n",
      "Epoch 58/100, Loss: 0.2431\n",
      "Epoch 59/100, Loss: 0.2253\n",
      "Epoch 60/100, Loss: 0.2134\n",
      "Epoch 61/100, Loss: 0.2143\n",
      "Epoch 62/100, Loss: 0.1947\n",
      "Epoch 63/100, Loss: 0.1885\n",
      "Epoch 64/100, Loss: 0.1823\n",
      "Epoch 65/100, Loss: 0.1759\n",
      "Epoch 66/100, Loss: 0.1641\n",
      "Epoch 67/100, Loss: 0.1547\n",
      "Epoch 68/100, Loss: 0.1509\n",
      "Epoch 69/100, Loss: 0.1456\n",
      "Epoch 70/100, Loss: 0.1424\n",
      "Epoch 71/100, Loss: 0.1334\n",
      "Epoch 72/100, Loss: 0.1268\n",
      "Epoch 73/100, Loss: 0.1234\n",
      "Epoch 74/100, Loss: 0.1206\n",
      "Epoch 75/100, Loss: 0.1170\n",
      "Epoch 76/100, Loss: 0.1135\n",
      "Epoch 77/100, Loss: 0.1121\n",
      "Epoch 78/100, Loss: 0.1052\n",
      "Epoch 79/100, Loss: 0.1055\n",
      "Epoch 80/100, Loss: 0.1077\n",
      "Epoch 81/100, Loss: 0.0951\n",
      "Epoch 82/100, Loss: 0.0986\n",
      "Epoch 83/100, Loss: 0.0946\n",
      "Epoch 84/100, Loss: 0.0875\n",
      "Epoch 85/100, Loss: 0.0802\n",
      "Epoch 86/100, Loss: 0.0745\n",
      "Epoch 87/100, Loss: 0.0741\n",
      "Epoch 88/100, Loss: 0.0760\n",
      "Epoch 89/100, Loss: 0.0704\n",
      "Epoch 90/100, Loss: 0.0637\n",
      "Epoch 91/100, Loss: 0.0608\n",
      "Epoch 92/100, Loss: 0.0620\n",
      "Epoch 93/100, Loss: 0.0570\n",
      "Epoch 94/100, Loss: 0.0555\n",
      "Epoch 95/100, Loss: 0.0558\n",
      "Epoch 96/100, Loss: 0.0521\n",
      "Epoch 97/100, Loss: 0.0503\n",
      "Epoch 98/100, Loss: 0.0510\n",
      "Epoch 99/100, Loss: 0.0496\n",
      "Epoch 100/100, Loss: 0.0475\n"
     ]
    }
   ],
   "source": [
    "num_epochs = 100\n",
    "train(heating_model, heating_train_loader, heating_criterion, heating_optimizer, num_epochs)"
   ]
  },
  {
   "cell_type": "code",
   "execution_count": 45,
   "metadata": {},
   "outputs": [],
   "source": [
    "# Predict\n",
    "heating_predictions, heating_actuals = evaluate(heating_model, heating_test_loader)"
   ]
  },
  {
   "cell_type": "code",
   "execution_count": 46,
   "metadata": {},
   "outputs": [
    {
     "data": {
      "image/png": "[encoded data removed]",
      "text/plain": [
       "<Figure size 1000x500 with 1 Axes>"
      ]
     },
     "metadata": {},
     "output_type": "display_data"
    }
   ],
   "source": [
    "# Plot train, test and predictions\n",
    "plt.figure(figsize=(10, 5))\n",
    "plt.plot(heating_train_timeseries.index, heating_train_timeseries[\"setpoint\"], label=\"Train\")\n",
    "plt.plot(heating_test_timeseries.index, heating_test_timeseries[\"setpoint\"], label=\"Test\")\n",
    "plt.plot(heating_test_timeseries.index[13:], heating_predictions, label=\"Predicted\")\n",
    "plt.title(\"Linear Regression Predictions\")\n",
    "plt.xlabel(\"Time Step\")\n",
    "plt.ylabel(\"Setpoint Value\")\n",
    "plt.legend()\n",
    "plt.xticks(rotation=45)\n",
    "plt.tight_layout()\n",
    "plt.show()"
   ]
  },
  {
   "cell_type": "markdown",
   "metadata": {},
   "source": [
    "## Cooling"
   ]
  },
  {
   "cell_type": "code",
   "execution_count": 47,
   "metadata": {},
   "outputs": [],
   "source": [
    "input_size = 69\n",
    "hidden_size_1 = 64\n",
    "hidden_size_2 = 32\n",
    "output_size = 1"
   ]
  },
  {
   "cell_type": "code",
   "execution_count": 48,
   "metadata": {},
   "outputs": [],
   "source": [
    "cooling_model = MLPModel(\n",
    "    input_size, \n",
    "    hidden_size_1=hidden_size_1, \n",
    "    hidden_size_2=hidden_size_2,\n",
    "    output_size=output_size)"
   ]
  },
  {
   "cell_type": "code",
   "execution_count": 49,
   "metadata": {},
   "outputs": [],
   "source": [
    "# Loss and optimizer\n",
    "cooling_criterion = nn.MSELoss()\n",
    "cooling_optimizer = optim.Adam(cooling_model.parameters(), lr=0.0001)"
   ]
  },
  {
   "cell_type": "code",
   "execution_count": 50,
   "metadata": {},
   "outputs": [
    {
     "name": "stderr",
     "output_type": "stream",
     "text": [
      "/Users/adrian/Documents/ICAI/TFG/Space-Conditioning-Electrification/.env/lib/python3.10/site-packages/torch/nn/modules/loss.py:610: UserWarning: Using a target size (torch.Size([44])) that is different to the input size (torch.Size([44, 1])). This will likely lead to incorrect results due to broadcasting. Please ensure they have the same size.\n",
      "  return F.mse_loss(input, target, reduction=self.reduction)\n"
     ]
    },
    {
     "name": "stdout",
     "output_type": "stream",
     "text": [
      "Epoch 1/100, Loss: 657.7366\n",
      "Epoch 2/100, Loss: 57.9857\n",
      "Epoch 3/100, Loss: 26.9572\n",
      "Epoch 4/100, Loss: 13.0009\n",
      "Epoch 5/100, Loss: 7.6444\n",
      "Epoch 6/100, Loss: 5.4650\n",
      "Epoch 7/100, Loss: 4.4954\n",
      "Epoch 8/100, Loss: 3.8861\n",
      "Epoch 9/100, Loss: 3.5239\n",
      "Epoch 10/100, Loss: 3.3007\n",
      "Epoch 11/100, Loss: 3.1111\n",
      "Epoch 12/100, Loss: 2.9538\n",
      "Epoch 13/100, Loss: 2.8506\n",
      "Epoch 14/100, Loss: 2.7369\n",
      "Epoch 15/100, Loss: 2.6353\n",
      "Epoch 16/100, Loss: 2.5870\n",
      "Epoch 17/100, Loss: 2.4572\n",
      "Epoch 18/100, Loss: 2.3922\n",
      "Epoch 19/100, Loss: 2.3133\n",
      "Epoch 20/100, Loss: 2.2741\n",
      "Epoch 21/100, Loss: 2.2007\n",
      "Epoch 22/100, Loss: 2.1705\n",
      "Epoch 23/100, Loss: 2.0985\n",
      "Epoch 24/100, Loss: 2.0453\n",
      "Epoch 25/100, Loss: 2.0163\n",
      "Epoch 26/100, Loss: 1.9583\n",
      "Epoch 27/100, Loss: 1.9215\n",
      "Epoch 28/100, Loss: 1.8715\n",
      "Epoch 29/100, Loss: 1.8461\n",
      "Epoch 30/100, Loss: 1.8345\n",
      "Epoch 31/100, Loss: 1.7888\n",
      "Epoch 32/100, Loss: 1.7792\n",
      "Epoch 33/100, Loss: 1.7359\n",
      "Epoch 34/100, Loss: 1.7174\n",
      "Epoch 35/100, Loss: 1.6777\n",
      "Epoch 36/100, Loss: 1.6612\n",
      "Epoch 37/100, Loss: 1.6398\n",
      "Epoch 38/100, Loss: 1.6080\n",
      "Epoch 39/100, Loss: 1.6083\n",
      "Epoch 40/100, Loss: 1.6028\n",
      "Epoch 41/100, Loss: 1.5556\n",
      "Epoch 42/100, Loss: 1.5465\n",
      "Epoch 43/100, Loss: 1.5123\n",
      "Epoch 44/100, Loss: 1.4957\n",
      "Epoch 45/100, Loss: 1.4801\n",
      "Epoch 46/100, Loss: 1.4689\n",
      "Epoch 47/100, Loss: 1.4606\n",
      "Epoch 48/100, Loss: 1.4380\n",
      "Epoch 49/100, Loss: 1.4192\n",
      "Epoch 50/100, Loss: 1.4134\n",
      "Epoch 51/100, Loss: 1.3880\n",
      "Epoch 52/100, Loss: 1.4151\n",
      "Epoch 53/100, Loss: 1.3594\n",
      "Epoch 54/100, Loss: 1.3682\n",
      "Epoch 55/100, Loss: 1.3924\n",
      "Epoch 56/100, Loss: 1.3368\n",
      "Epoch 57/100, Loss: 1.3182\n",
      "Epoch 58/100, Loss: 1.3010\n",
      "Epoch 59/100, Loss: 1.3087\n",
      "Epoch 60/100, Loss: 1.3075\n",
      "Epoch 61/100, Loss: 1.2928\n",
      "Epoch 62/100, Loss: 1.2872\n",
      "Epoch 63/100, Loss: 1.2736\n",
      "Epoch 64/100, Loss: 1.2730\n",
      "Epoch 65/100, Loss: 1.2575\n",
      "Epoch 66/100, Loss: 1.2396\n",
      "Epoch 67/100, Loss: 1.2439\n",
      "Epoch 68/100, Loss: 1.2435\n",
      "Epoch 69/100, Loss: 1.2318\n",
      "Epoch 70/100, Loss: 1.2201\n",
      "Epoch 71/100, Loss: 1.2197\n",
      "Epoch 72/100, Loss: 1.2309\n",
      "Epoch 73/100, Loss: 1.2133\n",
      "Epoch 74/100, Loss: 1.1985\n",
      "Epoch 75/100, Loss: 1.2083\n",
      "Epoch 76/100, Loss: 1.1909\n",
      "Epoch 77/100, Loss: 1.1936\n",
      "Epoch 78/100, Loss: 1.1732\n",
      "Epoch 79/100, Loss: 1.2009\n",
      "Epoch 80/100, Loss: 1.1972\n",
      "Epoch 81/100, Loss: 1.2019\n",
      "Epoch 82/100, Loss: 1.1745\n",
      "Epoch 83/100, Loss: 1.1626\n",
      "Epoch 84/100, Loss: 1.1591\n",
      "Epoch 85/100, Loss: 1.2124\n",
      "Epoch 86/100, Loss: 1.2079\n",
      "Epoch 87/100, Loss: 1.1687\n",
      "Epoch 88/100, Loss: 1.1311\n",
      "Epoch 89/100, Loss: 1.1877\n",
      "Epoch 90/100, Loss: 1.1405\n",
      "Epoch 91/100, Loss: 1.1232\n",
      "Epoch 92/100, Loss: 1.1438\n",
      "Epoch 93/100, Loss: 1.1499\n",
      "Epoch 94/100, Loss: 1.1311\n",
      "Epoch 95/100, Loss: 1.1094\n",
      "Epoch 96/100, Loss: 1.1159\n",
      "Epoch 97/100, Loss: 1.1366\n",
      "Epoch 98/100, Loss: 1.1561\n",
      "Epoch 99/100, Loss: 1.1043\n",
      "Epoch 100/100, Loss: 1.1004\n"
     ]
    }
   ],
   "source": [
    "num_epochs = 100\n",
    "train(cooling_model, cooling_train_loader, cooling_criterion, cooling_optimizer, num_epochs)"
   ]
  },
  {
   "cell_type": "code",
   "execution_count": 51,
   "metadata": {},
   "outputs": [],
   "source": [
    "# Predict\n",
    "cooling_predictions, cooling_actuals = evaluate(cooling_model, cooling_test_loader)"
   ]
  },
  {
   "cell_type": "code",
   "execution_count": 52,
   "metadata": {},
   "outputs": [
    {
     "data": {
      "image/png": "[encoded data removed]",
      "text/plain": [
       "<Figure size 1000x500 with 1 Axes>"
      ]
     },
     "metadata": {},
     "output_type": "display_data"
    }
   ],
   "source": [
    "# Plot train, test and predictions\n",
    "plt.figure(figsize=(10, 5))\n",
    "plt.plot(cooling_train_timeseries.index, cooling_train_timeseries[\"setpoint\"], label=\"Train\")\n",
    "plt.plot(cooling_test_timeseries.index, cooling_test_timeseries[\"setpoint\"], label=\"Test\")\n",
    "plt.plot(cooling_test_timeseries.index[13:], cooling_predictions, label=\"Predicted\")\n",
    "plt.title(\"Linear Regression Predictions\")\n",
    "plt.xlabel(\"Time Step\")\n",
    "plt.ylabel(\"Setpoint Value\")\n",
    "plt.legend()\n",
    "plt.xticks(rotation=45)\n",
    "plt.tight_layout()\n",
    "plt.show()"
   ]
  },
  {
   "cell_type": "markdown",
   "metadata": {},
   "source": [
    "# Akaike"
   ]
  },
  {
   "cell_type": "code",
   "execution_count": 53,
   "metadata": {},
   "outputs": [],
   "source": [
    "def compute_aic(y_true, y_pred, num_params):\n",
    "    n = y_true.numel()\n",
    "    residuals = y_true - y_pred\n",
    "    rss = torch.sum(residuals ** 2).item()\n",
    "    sigma2 = rss / n\n",
    "    log_likelihood = -n/2 * (np.log(2 * np.pi * sigma2) + 1)\n",
    "    aic = 2 * num_params - 2 * log_likelihood\n",
    "    return aic"
   ]
  },
  {
   "cell_type": "code",
   "execution_count": 54,
   "metadata": {},
   "outputs": [],
   "source": [
    "heating_num_params = sum(p.numel() for p in heating_model.parameters() if p.requires_grad)"
   ]
  },
  {
   "cell_type": "code",
   "execution_count": 55,
   "metadata": {},
   "outputs": [],
   "source": [
    "heating_aic = compute_aic(\n",
    "    torch.tensor(heating_actuals), \n",
    "    torch.tensor(heating_predictions), \n",
    "    heating_num_params\n",
    ")"
   ]
  },
  {
   "cell_type": "code",
   "execution_count": 56,
   "metadata": {},
   "outputs": [
    {
     "data": {
      "text/plain": [
       "np.float64(19675.892341062125)"
      ]
     },
     "execution_count": 56,
     "metadata": {},
     "output_type": "execute_result"
    }
   ],
   "source": [
    "heating_aic"
   ]
  },
  {
   "cell_type": "code",
   "execution_count": 57,
   "metadata": {},
   "outputs": [
    {
     "data": {
      "text/plain": [
       "np.float64(20085.716105671712)"
      ]
     },
     "execution_count": 57,
     "metadata": {},
     "output_type": "execute_result"
    }
   ],
   "source": [
    "cooling_num_params = sum(p.numel() for p in cooling_model.parameters() if p.requires_grad)\n",
    "cooling_aic = compute_aic(\n",
    "    torch.tensor(cooling_actuals), \n",
    "    torch.tensor(cooling_predictions), \n",
    "    cooling_num_params\n",
    ")\n",
    "cooling_aic"
   ]
  }
 ],
 "metadata": {
  "kernelspec": {
   "display_name": ".env",
   "language": "python",
   "name": "python3"
  },
  "language_info": {
   "codemirror_mode": {
    "name": "ipython",
    "version": 3
   },
   "file_extension": ".py",
   "mimetype": "text/x-python",
   "name": "python",
   "nbconvert_exporter": "python",
   "pygments_lexer": "ipython3",
   "version": "3.10.11"
  }
 },
 "nbformat": 4,
 "nbformat_minor": 2
}
