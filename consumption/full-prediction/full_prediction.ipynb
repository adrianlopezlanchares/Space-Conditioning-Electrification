{
 "cells": [
  {
   "cell_type": "code",
   "execution_count": 1,
   "metadata": {},
   "outputs": [],
   "source": [
    "import pandas as pd\n",
    "import numpy as np\n",
    "import matplotlib.pyplot as plt\n",
    "import pickle\n",
    "\n",
    "from statsmodels.tsa.arima.model import ARIMA\n",
    "from statsmodels.graphics.tsaplots import plot_acf, plot_pacf\n",
    "\n",
    "import torch\n",
    "import torch.nn as nn\n",
    "from torch.utils.data import Dataset, DataLoader\n",
    "import torch.optim as optim\n",
    "\n",
    "from data_preprocessing import process_resstock_data\n",
    "from models import MLPModel, LinearRegressionModel\n",
    "from pvalues import get_pvalues"
   ]
  },
  {
   "cell_type": "markdown",
   "metadata": {},
   "source": [
    "# Load data"
   ]
  },
  {
   "cell_type": "markdown",
   "metadata": {},
   "source": [
    "### Setpoint timeseries"
   ]
  },
  {
   "cell_type": "code",
   "execution_count": 2,
   "metadata": {},
   "outputs": [],
   "source": [
    "# full_heating_timeseries, full_cooling_timeseries = generate_setpoint_timeseries(\n",
    "#     cooling_start_date = \"2018-06-01\",\n",
    "#     cooling_end_date = \"2018-10-31\",\n",
    "#     combine = False\n",
    "# )"
   ]
  },
  {
   "cell_type": "code",
   "execution_count": 3,
   "metadata": {},
   "outputs": [],
   "source": [
    "# # Save heaitng and cooling timeseries to pickle\n",
    "# with open('/Users/adrian/Documents/ICAI/TFG/Space-Conditioning-Electrification/data/consumption/full_heating_timeseries.pkl', 'wb') as f:\n",
    "#     pickle.dump(full_heating_timeseries, f)\n",
    "# with open('/Users/adrian/Documents/ICAI/TFG/Space-Conditioning-Electrification/data/consumption/full_cooling_timeseries.pkl', 'wb') as f:\n",
    "#     pickle.dump(full_cooling_timeseries, f)"
   ]
  },
  {
   "cell_type": "code",
   "execution_count": 4,
   "metadata": {},
   "outputs": [],
   "source": [
    "# Load full heating and cooling timeseries\n",
    "with open('/Users/adrian/Documents/ICAI/TFG/Space-Conditioning-Electrification/data/consumption/full_heating_timeseries.pkl', 'rb') as f:\n",
    "    full_heating_timeseries = pickle.load(f)\n",
    "with open('/Users/adrian/Documents/ICAI/TFG/Space-Conditioning-Electrification/data/consumption/full_cooling_timeseries.pkl', 'rb') as f:\n",
    "    full_cooling_timeseries = pickle.load(f)"
   ]
  },
  {
   "cell_type": "markdown",
   "metadata": {},
   "source": [
    "### Weather data"
   ]
  },
  {
   "cell_type": "code",
   "execution_count": 5,
   "metadata": {},
   "outputs": [],
   "source": [
    "weather_data = pd.read_csv(\"/Users/adrian/Documents/ICAI/TFG/Space-Conditioning-Electrification/data/consumption/G2500170_2018.csv\")"
   ]
  },
  {
   "cell_type": "code",
   "execution_count": 6,
   "metadata": {},
   "outputs": [
    {
     "data": {
      "text/html": [
       "<div>\n",
       "<style scoped>\n",
       "    .dataframe tbody tr th:only-of-type {\n",
       "        vertical-align: middle;\n",
       "    }\n",
       "\n",
       "    .dataframe tbody tr th {\n",
       "        vertical-align: top;\n",
       "    }\n",
       "\n",
       "    .dataframe thead th {\n",
       "        text-align: right;\n",
       "    }\n",
       "</style>\n",
       "<table border=\"1\" class=\"dataframe\">\n",
       "  <thead>\n",
       "    <tr style=\"text-align: right;\">\n",
       "      <th></th>\n",
       "      <th>date_time</th>\n",
       "      <th>Dry Bulb Temperature [°C]</th>\n",
       "      <th>Relative Humidity [%]</th>\n",
       "      <th>Wind Speed [m/s]</th>\n",
       "      <th>Wind Direction [Deg]</th>\n",
       "      <th>Global Horizontal Radiation [W/m2]</th>\n",
       "      <th>Direct Normal Radiation [W/m2]</th>\n",
       "      <th>Diffuse Horizontal Radiation [W/m2]</th>\n",
       "    </tr>\n",
       "  </thead>\n",
       "  <tbody>\n",
       "    <tr>\n",
       "      <th>0</th>\n",
       "      <td>2018-01-01 01:00:00</td>\n",
       "      <td>-17.2</td>\n",
       "      <td>47.00</td>\n",
       "      <td>7.2</td>\n",
       "      <td>310.0</td>\n",
       "      <td>0.0</td>\n",
       "      <td>0.0</td>\n",
       "      <td>0.0</td>\n",
       "    </tr>\n",
       "    <tr>\n",
       "      <th>1</th>\n",
       "      <td>2018-01-01 02:00:00</td>\n",
       "      <td>-17.8</td>\n",
       "      <td>46.83</td>\n",
       "      <td>6.7</td>\n",
       "      <td>300.0</td>\n",
       "      <td>0.0</td>\n",
       "      <td>0.0</td>\n",
       "      <td>0.0</td>\n",
       "    </tr>\n",
       "    <tr>\n",
       "      <th>2</th>\n",
       "      <td>2018-01-01 03:00:00</td>\n",
       "      <td>-18.9</td>\n",
       "      <td>55.19</td>\n",
       "      <td>2.1</td>\n",
       "      <td>260.0</td>\n",
       "      <td>0.0</td>\n",
       "      <td>0.0</td>\n",
       "      <td>0.0</td>\n",
       "    </tr>\n",
       "    <tr>\n",
       "      <th>3</th>\n",
       "      <td>2018-01-01 04:00:00</td>\n",
       "      <td>-18.9</td>\n",
       "      <td>51.97</td>\n",
       "      <td>4.1</td>\n",
       "      <td>280.0</td>\n",
       "      <td>0.0</td>\n",
       "      <td>0.0</td>\n",
       "      <td>0.0</td>\n",
       "    </tr>\n",
       "    <tr>\n",
       "      <th>4</th>\n",
       "      <td>2018-01-01 05:00:00</td>\n",
       "      <td>-19.4</td>\n",
       "      <td>54.51</td>\n",
       "      <td>3.6</td>\n",
       "      <td>280.0</td>\n",
       "      <td>0.0</td>\n",
       "      <td>0.0</td>\n",
       "      <td>0.0</td>\n",
       "    </tr>\n",
       "  </tbody>\n",
       "</table>\n",
       "</div>"
      ],
      "text/plain": [
       "             date_time  Dry Bulb Temperature [°C]  Relative Humidity [%]  \\\n",
       "0  2018-01-01 01:00:00                      -17.2                  47.00   \n",
       "1  2018-01-01 02:00:00                      -17.8                  46.83   \n",
       "2  2018-01-01 03:00:00                      -18.9                  55.19   \n",
       "3  2018-01-01 04:00:00                      -18.9                  51.97   \n",
       "4  2018-01-01 05:00:00                      -19.4                  54.51   \n",
       "\n",
       "   Wind Speed [m/s]  Wind Direction [Deg]  Global Horizontal Radiation [W/m2]  \\\n",
       "0               7.2                 310.0                                 0.0   \n",
       "1               6.7                 300.0                                 0.0   \n",
       "2               2.1                 260.0                                 0.0   \n",
       "3               4.1                 280.0                                 0.0   \n",
       "4               3.6                 280.0                                 0.0   \n",
       "\n",
       "   Direct Normal Radiation [W/m2]  Diffuse Horizontal Radiation [W/m2]  \n",
       "0                             0.0                                  0.0  \n",
       "1                             0.0                                  0.0  \n",
       "2                             0.0                                  0.0  \n",
       "3                             0.0                                  0.0  \n",
       "4                             0.0                                  0.0  "
      ]
     },
     "execution_count": 6,
     "metadata": {},
     "output_type": "execute_result"
    }
   ],
   "source": [
    "weather_data.head()"
   ]
  },
  {
   "cell_type": "markdown",
   "metadata": {},
   "source": [
    "### ResStock"
   ]
  },
  {
   "cell_type": "code",
   "execution_count": 7,
   "metadata": {},
   "outputs": [],
   "source": [
    "resstock = pd.read_parquet(\"/Users/adrian/Documents/ICAI/TFG/Space-Conditioning-Electrification/data/consumption/MA_baseline_metadata_and_annual_results.parquet\")"
   ]
  },
  {
   "cell_type": "markdown",
   "metadata": {},
   "source": [
    "### Building timeseries"
   ]
  },
  {
   "cell_type": "code",
   "execution_count": 8,
   "metadata": {},
   "outputs": [],
   "source": [
    "building_data = pd.read_parquet(\"/Users/adrian/Documents/ICAI/TFG/Space-Conditioning-Electrification/data/consumption/1000-0.parquet\")"
   ]
  },
  {
   "cell_type": "markdown",
   "metadata": {},
   "source": [
    "### Setpoint timeseries plot"
   ]
  },
  {
   "cell_type": "code",
   "execution_count": 9,
   "metadata": {},
   "outputs": [],
   "source": [
    "heating_timeseries = full_heating_timeseries[1000]\n",
    "cooling_timeseries = full_cooling_timeseries[1000]\n",
    "\n",
    "heating_timeseries = pd.concat([heating_timeseries.loc[\"2018-01-01\":\"2018-05-31\"], heating_timeseries.loc[\"2018-11-01\":\"2018-12-31\"]])\n",
    "cooling_timeseries = cooling_timeseries.loc[\"2018-06-01\":\"2018-10-31\"]"
   ]
  },
  {
   "cell_type": "code",
   "execution_count": 10,
   "metadata": {},
   "outputs": [
    {
     "data": {
      "image/png": "[encoded data removed]",
      "text/plain": [
       "<Figure size 1000x500 with 1 Axes>"
      ]
     },
     "metadata": {},
     "output_type": "display_data"
    }
   ],
   "source": [
    "# Plot the timeseries\n",
    "plt.figure(figsize=(10, 5))\n",
    "plt.plot(heating_timeseries.index, heating_timeseries[\"setpoint\"])\n",
    "plt.plot(cooling_timeseries.index, cooling_timeseries[\"setpoint\"])\n",
    "plt.title(\"Setpoint Timeseries\")\n",
    "plt.xlabel(\"Date\")\n",
    "plt.ylabel(\"Setpoint Value\")\n",
    "plt.xticks(rotation=45)\n",
    "plt.tight_layout()\n",
    "plt.show()"
   ]
  },
  {
   "cell_type": "markdown",
   "metadata": {},
   "source": [
    "# ResStock transform"
   ]
  },
  {
   "cell_type": "code",
   "execution_count": 11,
   "metadata": {},
   "outputs": [],
   "source": [
    "columns = [\n",
    "    \"in.bedrooms\",              # int\n",
    "    \"in.duct_leakage_and_insulation\",    # Separate into leakage / insulation: X% / (Uniinsulated/R-n)\n",
    "    \"in.duct_location\",         # Places of the house\n",
    "    \"in.geometry_floor_area\",   # 1000-1499, ...\n",
    "    \"in.geometry_stories\",      # int\n",
    "    \"in.geometry_wall_type\",    # Materials\n",
    "    \"in.ground_thermal_conductivity\",   # float\n",
    "    \"in.hvac_has_ducts\",    # Yes / No\n",
    "    \"in.insulation_ceiling\",    # R-n / Uninsulated\n",
    "    \"in.insulation_floor\",      # R-n / Uninsulated\n",
    "    \"in.insulation_foundation_wall\",    # Wall R-n, Exterior\n",
    "    \"in.insulation_roof\",       # Finished / Unfinished, R-n\n",
    "    \"in.insulation_wall\",       # Material, Uninsulated / R-n\n",
    "    \"in.occupants\",         # int\n",
    "    \"in.orientation\",       # North, Northwest...\n",
    "    \"in.roof_material\",     # Material\n",
    "    \"in.sqft\",              # int\n",
    "    \"in.windows\"    # Single/Double/Triple, Low-E/Clear, Metal/Non-metal, Air/Exterior Clear Storm, (L/M-Gain)\n",
    "    \"in.window_areas\",\n",
    "    \"in.vintage\",\n",
    "]"
   ]
  },
  {
   "cell_type": "code",
   "execution_count": 12,
   "metadata": {},
   "outputs": [],
   "source": [
    "columns_processed = [\n",
    "    \"in.bedrooms_processed\",              # int\n",
    "    \"in.duct_leakage_processed\",\n",
    "    \"in.duct_insulation_processed\",    # Separate into leakage / insulation: X% / (Uniinsulated/R-n)\n",
    "    \"in.duct_location_processed\",         # Places of the house\n",
    "    \"in.geometry_floor_area_processed\",   # 1000-1499, ...\n",
    "    \"in.geometry_stories_processed\",      # int\n",
    "    \"in.geometry_wall_type_processed\",    # Materials\n",
    "    \"in.ground_thermal_conductivity_processed\",   # float\n",
    "    \"in.hvac_has_ducts_processed\",    # Yes / No\n",
    "    \"in.insulation_ceiling_processed\",    # R-n / Uninsulated\n",
    "    \"in.insulation_floor_processed\",      # R-n / Uninsulated\n",
    "    \"in.insulation_foundation_wall_processed\",    # Wall R-n, Exterior\n",
    "    \"in.insulation_roof_processed\",       # Finished / Unfinished, R-n\n",
    "    \"in.insulation_wall_processed\",       # Material, Uninsulated / R-n\n",
    "    \"in.occupants_processed\",         # int\n",
    "    \"in.orientation_processed\",       # North, Northwest...\n",
    "    \"in.roof_material_processed\",     # Material\n",
    "    \"in.sqft_processed\",              # int\n",
    "    \"in.windows_processed\", # Single/Double/Triple, Low-E/Clear, Metal/Non-metal, Air/Exterior Clear Storm, (L/M-Gain)\n",
    "    \"in.window_areas_processed\",\n",
    "    \"in.vintage_processed\",\n",
    "    \n",
    "]"
   ]
  },
  {
   "cell_type": "code",
   "execution_count": 13,
   "metadata": {},
   "outputs": [],
   "source": [
    "resstock_processed = process_resstock_data(resstock)"
   ]
  },
  {
   "cell_type": "code",
   "execution_count": 14,
   "metadata": {},
   "outputs": [
    {
     "data": {
      "text/plain": [
       "in.vintage_processed\n",
       "1930    3820\n",
       "1970    1386\n",
       "1950    1312\n",
       "1980    1269\n",
       "1960    1220\n",
       "1990     895\n",
       "2000     825\n",
       "1940     614\n",
       "2010     366\n",
       "Name: count, dtype: int64"
      ]
     },
     "execution_count": 14,
     "metadata": {},
     "output_type": "execute_result"
    }
   ],
   "source": [
    "resstock_processed[\"in.vintage_processed\"].value_counts()"
   ]
  },
  {
   "cell_type": "code",
   "execution_count": 15,
   "metadata": {},
   "outputs": [],
   "source": [
    "usable_resstock = resstock_processed[columns_processed]"
   ]
  },
  {
   "cell_type": "code",
   "execution_count": 16,
   "metadata": {},
   "outputs": [
    {
     "data": {
      "text/html": [
       "<div>\n",
       "<style scoped>\n",
       "    .dataframe tbody tr th:only-of-type {\n",
       "        vertical-align: middle;\n",
       "    }\n",
       "\n",
       "    .dataframe tbody tr th {\n",
       "        vertical-align: top;\n",
       "    }\n",
       "\n",
       "    .dataframe thead th {\n",
       "        text-align: right;\n",
       "    }\n",
       "</style>\n",
       "<table border=\"1\" class=\"dataframe\">\n",
       "  <thead>\n",
       "    <tr style=\"text-align: right;\">\n",
       "      <th></th>\n",
       "      <th>in.bedrooms_processed</th>\n",
       "      <th>in.duct_leakage_processed</th>\n",
       "      <th>in.duct_insulation_processed</th>\n",
       "      <th>in.duct_location_processed</th>\n",
       "      <th>in.geometry_floor_area_processed</th>\n",
       "      <th>in.geometry_stories_processed</th>\n",
       "      <th>in.geometry_wall_type_processed</th>\n",
       "      <th>in.ground_thermal_conductivity_processed</th>\n",
       "      <th>in.hvac_has_ducts_processed</th>\n",
       "      <th>in.insulation_ceiling_processed</th>\n",
       "      <th>...</th>\n",
       "      <th>in.insulation_foundation_wall_processed</th>\n",
       "      <th>in.insulation_roof_processed</th>\n",
       "      <th>in.insulation_wall_processed</th>\n",
       "      <th>in.occupants_processed</th>\n",
       "      <th>in.orientation_processed</th>\n",
       "      <th>in.roof_material_processed</th>\n",
       "      <th>in.sqft_processed</th>\n",
       "      <th>in.windows_processed</th>\n",
       "      <th>in.window_areas_processed</th>\n",
       "      <th>in.vintage_processed</th>\n",
       "    </tr>\n",
       "    <tr>\n",
       "      <th>bldg_id</th>\n",
       "      <th></th>\n",
       "      <th></th>\n",
       "      <th></th>\n",
       "      <th></th>\n",
       "      <th></th>\n",
       "      <th></th>\n",
       "      <th></th>\n",
       "      <th></th>\n",
       "      <th></th>\n",
       "      <th></th>\n",
       "      <th></th>\n",
       "      <th></th>\n",
       "      <th></th>\n",
       "      <th></th>\n",
       "      <th></th>\n",
       "      <th></th>\n",
       "      <th></th>\n",
       "      <th></th>\n",
       "      <th></th>\n",
       "      <th></th>\n",
       "      <th></th>\n",
       "    </tr>\n",
       "  </thead>\n",
       "  <tbody>\n",
       "    <tr>\n",
       "      <th>10</th>\n",
       "      <td>3</td>\n",
       "      <td>10</td>\n",
       "      <td>0</td>\n",
       "      <td>4</td>\n",
       "      <td>1749</td>\n",
       "      <td>1</td>\n",
       "      <td>1</td>\n",
       "      <td>1.4</td>\n",
       "      <td>1</td>\n",
       "      <td>5</td>\n",
       "      <td>...</td>\n",
       "      <td>1</td>\n",
       "      <td>0</td>\n",
       "      <td>0</td>\n",
       "      <td>6</td>\n",
       "      <td>1</td>\n",
       "      <td>3</td>\n",
       "      <td>1228</td>\n",
       "      <td>2</td>\n",
       "      <td>18</td>\n",
       "      <td>1950</td>\n",
       "    </tr>\n",
       "    <tr>\n",
       "      <th>122</th>\n",
       "      <td>1</td>\n",
       "      <td>0</td>\n",
       "      <td>0</td>\n",
       "      <td>0</td>\n",
       "      <td>874</td>\n",
       "      <td>5</td>\n",
       "      <td>1</td>\n",
       "      <td>1.4</td>\n",
       "      <td>0</td>\n",
       "      <td>0</td>\n",
       "      <td>...</td>\n",
       "      <td>1</td>\n",
       "      <td>6</td>\n",
       "      <td>0</td>\n",
       "      <td>1</td>\n",
       "      <td>5</td>\n",
       "      <td>0</td>\n",
       "      <td>623</td>\n",
       "      <td>2</td>\n",
       "      <td>18</td>\n",
       "      <td>1950</td>\n",
       "    </tr>\n",
       "    <tr>\n",
       "      <th>129</th>\n",
       "      <td>1</td>\n",
       "      <td>0</td>\n",
       "      <td>0</td>\n",
       "      <td>0</td>\n",
       "      <td>874</td>\n",
       "      <td>2</td>\n",
       "      <td>2</td>\n",
       "      <td>1.1</td>\n",
       "      <td>0</td>\n",
       "      <td>0</td>\n",
       "      <td>...</td>\n",
       "      <td>1</td>\n",
       "      <td>5</td>\n",
       "      <td>1</td>\n",
       "      <td>1</td>\n",
       "      <td>4</td>\n",
       "      <td>0</td>\n",
       "      <td>623</td>\n",
       "      <td>1</td>\n",
       "      <td>15</td>\n",
       "      <td>1970</td>\n",
       "    </tr>\n",
       "    <tr>\n",
       "      <th>150</th>\n",
       "      <td>2</td>\n",
       "      <td>0</td>\n",
       "      <td>0</td>\n",
       "      <td>0</td>\n",
       "      <td>1749</td>\n",
       "      <td>3</td>\n",
       "      <td>1</td>\n",
       "      <td>1.1</td>\n",
       "      <td>0</td>\n",
       "      <td>0</td>\n",
       "      <td>...</td>\n",
       "      <td>0</td>\n",
       "      <td>3</td>\n",
       "      <td>4</td>\n",
       "      <td>1</td>\n",
       "      <td>3</td>\n",
       "      <td>0</td>\n",
       "      <td>1138</td>\n",
       "      <td>2</td>\n",
       "      <td>15</td>\n",
       "      <td>2000</td>\n",
       "    </tr>\n",
       "    <tr>\n",
       "      <th>183</th>\n",
       "      <td>3</td>\n",
       "      <td>0</td>\n",
       "      <td>0</td>\n",
       "      <td>0</td>\n",
       "      <td>1749</td>\n",
       "      <td>1</td>\n",
       "      <td>1</td>\n",
       "      <td>1.4</td>\n",
       "      <td>0</td>\n",
       "      <td>1</td>\n",
       "      <td>...</td>\n",
       "      <td>1</td>\n",
       "      <td>0</td>\n",
       "      <td>0</td>\n",
       "      <td>2</td>\n",
       "      <td>3</td>\n",
       "      <td>1</td>\n",
       "      <td>1228</td>\n",
       "      <td>2</td>\n",
       "      <td>18</td>\n",
       "      <td>1930</td>\n",
       "    </tr>\n",
       "  </tbody>\n",
       "</table>\n",
       "<p>5 rows × 21 columns</p>\n",
       "</div>"
      ],
      "text/plain": [
       "         in.bedrooms_processed  in.duct_leakage_processed  \\\n",
       "bldg_id                                                     \n",
       "10                           3                         10   \n",
       "122                          1                          0   \n",
       "129                          1                          0   \n",
       "150                          2                          0   \n",
       "183                          3                          0   \n",
       "\n",
       "         in.duct_insulation_processed  in.duct_location_processed  \\\n",
       "bldg_id                                                             \n",
       "10                                  0                           4   \n",
       "122                                 0                           0   \n",
       "129                                 0                           0   \n",
       "150                                 0                           0   \n",
       "183                                 0                           0   \n",
       "\n",
       "         in.geometry_floor_area_processed  in.geometry_stories_processed  \\\n",
       "bldg_id                                                                    \n",
       "10                                   1749                              1   \n",
       "122                                   874                              5   \n",
       "129                                   874                              2   \n",
       "150                                  1749                              3   \n",
       "183                                  1749                              1   \n",
       "\n",
       "         in.geometry_wall_type_processed  \\\n",
       "bldg_id                                    \n",
       "10                                     1   \n",
       "122                                    1   \n",
       "129                                    2   \n",
       "150                                    1   \n",
       "183                                    1   \n",
       "\n",
       "         in.ground_thermal_conductivity_processed  \\\n",
       "bldg_id                                             \n",
       "10                                            1.4   \n",
       "122                                           1.4   \n",
       "129                                           1.1   \n",
       "150                                           1.1   \n",
       "183                                           1.4   \n",
       "\n",
       "         in.hvac_has_ducts_processed  in.insulation_ceiling_processed  ...  \\\n",
       "bldg_id                                                                ...   \n",
       "10                                 1                                5  ...   \n",
       "122                                0                                0  ...   \n",
       "129                                0                                0  ...   \n",
       "150                                0                                0  ...   \n",
       "183                                0                                1  ...   \n",
       "\n",
       "         in.insulation_foundation_wall_processed  \\\n",
       "bldg_id                                            \n",
       "10                                             1   \n",
       "122                                            1   \n",
       "129                                            1   \n",
       "150                                            0   \n",
       "183                                            1   \n",
       "\n",
       "         in.insulation_roof_processed  in.insulation_wall_processed  \\\n",
       "bldg_id                                                               \n",
       "10                                  0                             0   \n",
       "122                                 6                             0   \n",
       "129                                 5                             1   \n",
       "150                                 3                             4   \n",
       "183                                 0                             0   \n",
       "\n",
       "         in.occupants_processed  in.orientation_processed  \\\n",
       "bldg_id                                                     \n",
       "10                            6                         1   \n",
       "122                           1                         5   \n",
       "129                           1                         4   \n",
       "150                           1                         3   \n",
       "183                           2                         3   \n",
       "\n",
       "         in.roof_material_processed  in.sqft_processed  in.windows_processed  \\\n",
       "bldg_id                                                                        \n",
       "10                                3               1228                     2   \n",
       "122                               0                623                     2   \n",
       "129                               0                623                     1   \n",
       "150                               0               1138                     2   \n",
       "183                               1               1228                     2   \n",
       "\n",
       "         in.window_areas_processed  in.vintage_processed  \n",
       "bldg_id                                                   \n",
       "10                              18                  1950  \n",
       "122                             18                  1950  \n",
       "129                             15                  1970  \n",
       "150                             15                  2000  \n",
       "183                             18                  1930  \n",
       "\n",
       "[5 rows x 21 columns]"
      ]
     },
     "execution_count": 16,
     "metadata": {},
     "output_type": "execute_result"
    }
   ],
   "source": [
    "usable_resstock.head()"
   ]
  },
  {
   "cell_type": "code",
   "execution_count": 17,
   "metadata": {},
   "outputs": [],
   "source": [
    "building_resstock = np.array(usable_resstock.loc[1000])"
   ]
  },
  {
   "cell_type": "code",
   "execution_count": 18,
   "metadata": {},
   "outputs": [
    {
     "data": {
      "text/plain": [
       "array([3.000e+00, 0.000e+00, 0.000e+00, 0.000e+00, 2.499e+03, 1.000e+00,\n",
       "       2.000e+00, 1.400e+00, 0.000e+00, 0.000e+00, 1.000e+00, 1.000e+00,\n",
       "       5.000e+00, 0.000e+00, 3.000e+00, 0.000e+00, 0.000e+00, 1.682e+03,\n",
       "       2.000e+00, 1.500e+01, 1.930e+03])"
      ]
     },
     "execution_count": 18,
     "metadata": {},
     "output_type": "execute_result"
    }
   ],
   "source": [
    "building_resstock"
   ]
  },
  {
   "cell_type": "markdown",
   "metadata": {},
   "source": [
    "# Transform data"
   ]
  },
  {
   "cell_type": "code",
   "execution_count": 19,
   "metadata": {},
   "outputs": [],
   "source": [
    "def get_cols(building_data: pd.DataFrame, building_id: int) -> str:\n",
    "\n",
    "    try:\n",
    "        building = building_data.loc[building_id]\n",
    "    except:\n",
    "        raise ValueError(\"Building ID not found in the dataset\")\n",
    "\n",
    "    match building[\"in.heating_fuel\"]:\n",
    "        case  \"Natural Gas\":\n",
    "            return \"out.natural_gas.heating.energy_consumption\"\n",
    "        case \"Electricity\":\n",
    "            return \"out.electricity.heating.energy_consumption\"\n",
    "        case \"Fuel Oil\":\n",
    "            return \"out.fuel_oil.heating.energy_consumption\"\n",
    "        case \"Propane\":\n",
    "            return \"out.propane.heating.energy_consumption\"\n",
    "        case _:\n",
    "            return \"out.electricity.heating.energy_consumption\""
   ]
  },
  {
   "cell_type": "code",
   "execution_count": 20,
   "metadata": {},
   "outputs": [
    {
     "data": {
      "text/plain": [
       "Index(['date_time', 'Dry Bulb Temperature [°C]', 'Relative Humidity [%]',\n",
       "       'Wind Speed [m/s]', 'Wind Direction [Deg]',\n",
       "       'Global Horizontal Radiation [W/m2]', 'Direct Normal Radiation [W/m2]',\n",
       "       'Diffuse Horizontal Radiation [W/m2]'],\n",
       "      dtype='object')"
      ]
     },
     "execution_count": 20,
     "metadata": {},
     "output_type": "execute_result"
    }
   ],
   "source": [
    "weather_data.columns"
   ]
  },
  {
   "cell_type": "code",
   "execution_count": 21,
   "metadata": {},
   "outputs": [
    {
     "data": {
      "text/html": [
       "<div>\n",
       "<style scoped>\n",
       "    .dataframe tbody tr th:only-of-type {\n",
       "        vertical-align: middle;\n",
       "    }\n",
       "\n",
       "    .dataframe tbody tr th {\n",
       "        vertical-align: top;\n",
       "    }\n",
       "\n",
       "    .dataframe thead th {\n",
       "        text-align: right;\n",
       "    }\n",
       "</style>\n",
       "<table border=\"1\" class=\"dataframe\">\n",
       "  <thead>\n",
       "    <tr style=\"text-align: right;\">\n",
       "      <th></th>\n",
       "      <th>date_time</th>\n",
       "      <th>Dry Bulb Temperature [°C]</th>\n",
       "      <th>Relative Humidity [%]</th>\n",
       "      <th>Wind Speed [m/s]</th>\n",
       "      <th>Wind Direction [Deg]</th>\n",
       "      <th>Global Horizontal Radiation [W/m2]</th>\n",
       "      <th>Direct Normal Radiation [W/m2]</th>\n",
       "      <th>Diffuse Horizontal Radiation [W/m2]</th>\n",
       "    </tr>\n",
       "  </thead>\n",
       "  <tbody>\n",
       "    <tr>\n",
       "      <th>0</th>\n",
       "      <td>2018-01-01 01:00:00</td>\n",
       "      <td>-17.2</td>\n",
       "      <td>47.00</td>\n",
       "      <td>7.2</td>\n",
       "      <td>310.0</td>\n",
       "      <td>0.0</td>\n",
       "      <td>0.0</td>\n",
       "      <td>0.0</td>\n",
       "    </tr>\n",
       "    <tr>\n",
       "      <th>1</th>\n",
       "      <td>2018-01-01 02:00:00</td>\n",
       "      <td>-17.8</td>\n",
       "      <td>46.83</td>\n",
       "      <td>6.7</td>\n",
       "      <td>300.0</td>\n",
       "      <td>0.0</td>\n",
       "      <td>0.0</td>\n",
       "      <td>0.0</td>\n",
       "    </tr>\n",
       "    <tr>\n",
       "      <th>2</th>\n",
       "      <td>2018-01-01 03:00:00</td>\n",
       "      <td>-18.9</td>\n",
       "      <td>55.19</td>\n",
       "      <td>2.1</td>\n",
       "      <td>260.0</td>\n",
       "      <td>0.0</td>\n",
       "      <td>0.0</td>\n",
       "      <td>0.0</td>\n",
       "    </tr>\n",
       "    <tr>\n",
       "      <th>3</th>\n",
       "      <td>2018-01-01 04:00:00</td>\n",
       "      <td>-18.9</td>\n",
       "      <td>51.97</td>\n",
       "      <td>4.1</td>\n",
       "      <td>280.0</td>\n",
       "      <td>0.0</td>\n",
       "      <td>0.0</td>\n",
       "      <td>0.0</td>\n",
       "    </tr>\n",
       "    <tr>\n",
       "      <th>4</th>\n",
       "      <td>2018-01-01 05:00:00</td>\n",
       "      <td>-19.4</td>\n",
       "      <td>54.51</td>\n",
       "      <td>3.6</td>\n",
       "      <td>280.0</td>\n",
       "      <td>0.0</td>\n",
       "      <td>0.0</td>\n",
       "      <td>0.0</td>\n",
       "    </tr>\n",
       "  </tbody>\n",
       "</table>\n",
       "</div>"
      ],
      "text/plain": [
       "             date_time  Dry Bulb Temperature [°C]  Relative Humidity [%]  \\\n",
       "0  2018-01-01 01:00:00                      -17.2                  47.00   \n",
       "1  2018-01-01 02:00:00                      -17.8                  46.83   \n",
       "2  2018-01-01 03:00:00                      -18.9                  55.19   \n",
       "3  2018-01-01 04:00:00                      -18.9                  51.97   \n",
       "4  2018-01-01 05:00:00                      -19.4                  54.51   \n",
       "\n",
       "   Wind Speed [m/s]  Wind Direction [Deg]  Global Horizontal Radiation [W/m2]  \\\n",
       "0               7.2                 310.0                                 0.0   \n",
       "1               6.7                 300.0                                 0.0   \n",
       "2               2.1                 260.0                                 0.0   \n",
       "3               4.1                 280.0                                 0.0   \n",
       "4               3.6                 280.0                                 0.0   \n",
       "\n",
       "   Direct Normal Radiation [W/m2]  Diffuse Horizontal Radiation [W/m2]  \n",
       "0                             0.0                                  0.0  \n",
       "1                             0.0                                  0.0  \n",
       "2                             0.0                                  0.0  \n",
       "3                             0.0                                  0.0  \n",
       "4                             0.0                                  0.0  "
      ]
     },
     "execution_count": 21,
     "metadata": {},
     "output_type": "execute_result"
    }
   ],
   "source": [
    "weather_data.head()"
   ]
  },
  {
   "cell_type": "code",
   "execution_count": 22,
   "metadata": {},
   "outputs": [],
   "source": [
    "# Change date time column name to timestamp\n",
    "weather_data.rename(columns={'date_time': \"timestamp\"}, inplace=True)\n",
    "weather_data.set_index('timestamp', inplace=True)\n",
    "weather_data.index = pd.to_datetime(weather_data.index)\n",
    "\n",
    "# Delete all columns except dry bulb temperature\n",
    "weather_data = weather_data[[\"Dry Bulb Temperature [°C]\", \"Direct Normal Radiation [W/m2]\"]]\n",
    "weather_data.rename(columns={\"Dry Bulb Temperature [°C]\": \"temperature\"}, inplace=True)\n",
    "\n",
    "# Create an entry for 2018-01-01 00:00:00\n",
    "new_row = pd.DataFrame({'temperature': weather_data.iloc[0]['temperature']}, index=[pd.to_datetime('2018-01-01 00:00:00')])\n",
    "weather_data = pd.concat([new_row, weather_data])\n",
    "\n",
    "# Remove last 19 rows\n",
    "weather_data = weather_data[:-24]"
   ]
  },
  {
   "cell_type": "code",
   "execution_count": 23,
   "metadata": {},
   "outputs": [],
   "source": [
    "weather_data.bfill(inplace=True)\n",
    "weather_data.ffill(inplace=True)"
   ]
  },
  {
   "cell_type": "code",
   "execution_count": 24,
   "metadata": {},
   "outputs": [],
   "source": [
    "building_id = 1000"
   ]
  },
  {
   "cell_type": "code",
   "execution_count": 25,
   "metadata": {},
   "outputs": [
    {
     "name": "stderr",
     "output_type": "stream",
     "text": [
      "/var/folders/bw/4qyc6pj92bdb1bv22yhll2zw0000gn/T/ipykernel_9208/3969840236.py:5: SettingWithCopyWarning: \n",
      "A value is trying to be set on a copy of a slice from a DataFrame.\n",
      "Try using .loc[row_indexer,col_indexer] = value instead\n",
      "\n",
      "See the caveats in the documentation: https://pandas.pydata.org/pandas-docs/stable/user_guide/indexing.html#returning-a-view-versus-a-copy\n",
      "  consumption_timeseries[\"timestamp\"] = pd.to_datetime(consumption_timeseries[\"timestamp\"])\n",
      "/var/folders/bw/4qyc6pj92bdb1bv22yhll2zw0000gn/T/ipykernel_9208/3969840236.py:7: FutureWarning: 'H' is deprecated and will be removed in a future version, please use 'h' instead.\n",
      "  consumption_timeseries = consumption_timeseries.resample(\"H\").mean()\n"
     ]
    }
   ],
   "source": [
    "col_to_use = get_cols(resstock, building_id)\n",
    "consumption_timeseries = building_data[[\"timestamp\", col_to_use]]\n",
    "\n",
    "# Resample to hourly data\n",
    "consumption_timeseries[\"timestamp\"] = pd.to_datetime(consumption_timeseries[\"timestamp\"])\n",
    "consumption_timeseries.set_index(\"timestamp\", inplace=True)\n",
    "consumption_timeseries = consumption_timeseries.resample(\"H\").mean()\n",
    "consumption_timeseries = consumption_timeseries[col_to_use]\n",
    "\n",
    "consumption_timeseries = consumption_timeseries[:-24]\n",
    "\n",
    "# Turn into dataframe\n",
    "consumption_timeseries = pd.DataFrame(consumption_timeseries)\n",
    "consumption_timeseries.rename(columns={col_to_use: \"consumption\"}, inplace=True)"
   ]
  },
  {
   "cell_type": "code",
   "execution_count": 26,
   "metadata": {},
   "outputs": [],
   "source": [
    "exog_variables = pd.merge(\n",
    "    consumption_timeseries,\n",
    "    weather_data,\n",
    "    left_index=True,\n",
    "    right_index=True,\n",
    ")"
   ]
  },
  {
   "cell_type": "code",
   "execution_count": 27,
   "metadata": {},
   "outputs": [],
   "source": [
    "def celsius_to_fahrenheit(celsius):\n",
    "    return (celsius * 9/5) + 32"
   ]
  },
  {
   "cell_type": "code",
   "execution_count": 28,
   "metadata": {},
   "outputs": [],
   "source": [
    "# Change temperature column to fahrenheit\n",
    "exog_variables[\"temperature\"] = exog_variables[\"temperature\"].apply(celsius_to_fahrenheit)"
   ]
  },
  {
   "cell_type": "code",
   "execution_count": 29,
   "metadata": {},
   "outputs": [],
   "source": [
    "heating_exog = exog_variables.loc[heating_timeseries.index]\n",
    "cooling_exog = exog_variables.loc[cooling_timeseries.index]"
   ]
  },
  {
   "cell_type": "code",
   "execution_count": 30,
   "metadata": {},
   "outputs": [
    {
     "data": {
      "text/plain": [
       "temperature\n",
       "66.920    109\n",
       "69.080    105\n",
       "69.980     99\n",
       "68.000     97\n",
       "71.960     96\n",
       "         ... \n",
       "84.380      1\n",
       "73.886      1\n",
       "69.764      1\n",
       "70.970      1\n",
       "52.430      1\n",
       "Name: count, Length: 397, dtype: int64"
      ]
     },
     "execution_count": 30,
     "metadata": {},
     "output_type": "execute_result"
    }
   ],
   "source": [
    "cooling_exog[\"temperature\"].value_counts()"
   ]
  },
  {
   "cell_type": "markdown",
   "metadata": {},
   "source": [
    "# Data Plot"
   ]
  },
  {
   "cell_type": "code",
   "execution_count": 31,
   "metadata": {},
   "outputs": [],
   "source": [
    "train_size = 0.8\n",
    "heating_endog_train = heating_timeseries[:int(train_size * len(heating_timeseries))]\n",
    "heating_endog_test = heating_timeseries[int(train_size * len(heating_timeseries)):]\n",
    "\n",
    "heating_exog_train = heating_exog[:int(train_size * len(heating_exog))]\n",
    "heating_exog_test = heating_exog[int(train_size * len(heating_exog)):]\n",
    "\n",
    "cooling_endog_train = cooling_timeseries[:int(train_size * len(cooling_timeseries))]\n",
    "cooling_endog_test = cooling_timeseries[int(train_size * len(cooling_timeseries)):]\n",
    "\n",
    "cooling_exog_train = cooling_exog[:int(train_size * len(cooling_exog))]\n",
    "cooling_exog_test = cooling_exog[int(train_size * len(cooling_exog)):]"
   ]
  },
  {
   "cell_type": "code",
   "execution_count": 32,
   "metadata": {},
   "outputs": [
    {
     "data": {
      "image/png": "[encoded data removed]",
      "text/plain": [
       "<Figure size 1000x500 with 1 Axes>"
      ]
     },
     "metadata": {},
     "output_type": "display_data"
    }
   ],
   "source": [
    "# Plot the training and test sets\n",
    "plt.figure(figsize=(10, 5))\n",
    "plt.plot(heating_endog_train.index, heating_endog_train[\"setpoint\"], label=\"heating Train\")\n",
    "plt.plot(heating_endog_test.index, heating_endog_test[\"setpoint\"], label=\"heating Test\")\n",
    "plt.plot(cooling_endog_train.index, cooling_endog_train[\"setpoint\"], label=\"cooling Train\")\n",
    "plt.plot(cooling_endog_test.index, cooling_endog_test[\"setpoint\"], label=\"cooling Test\")\n",
    "plt.title(\"Train and Test Sets\")\n",
    "plt.xlabel(\"Date\")\n",
    "plt.ylabel(\"Setpoint Value\")\n",
    "plt.legend()\n",
    "plt.xticks(rotation=45)\n",
    "plt.tight_layout()\n",
    "plt.show()"
   ]
  },
  {
   "cell_type": "markdown",
   "metadata": {},
   "source": [
    "# Datasets and Dataloaders"
   ]
  },
  {
   "cell_type": "code",
   "execution_count": 33,
   "metadata": {},
   "outputs": [],
   "source": [
    "heating_train_timeseries = pd.merge(heating_endog_train, heating_exog_train, left_index=True, right_index=True)\n",
    "heating_test_timeseries = pd.merge(heating_endog_test, heating_exog_test, left_index=True, right_index=True)\n",
    "\n",
    "cooling_train_timeseries = pd.merge(cooling_endog_train, cooling_exog_train, left_index=True, right_index=True)\n",
    "cooling_test_timeseries = pd.merge(cooling_endog_test, cooling_exog_test, left_index=True, right_index=True)"
   ]
  },
  {
   "cell_type": "code",
   "execution_count": 34,
   "metadata": {},
   "outputs": [
    {
     "data": {
      "text/html": [
       "<div>\n",
       "<style scoped>\n",
       "    .dataframe tbody tr th:only-of-type {\n",
       "        vertical-align: middle;\n",
       "    }\n",
       "\n",
       "    .dataframe tbody tr th {\n",
       "        vertical-align: top;\n",
       "    }\n",
       "\n",
       "    .dataframe thead th {\n",
       "        text-align: right;\n",
       "    }\n",
       "</style>\n",
       "<table border=\"1\" class=\"dataframe\">\n",
       "  <thead>\n",
       "    <tr style=\"text-align: right;\">\n",
       "      <th></th>\n",
       "      <th>setpoint</th>\n",
       "      <th>consumption</th>\n",
       "      <th>temperature</th>\n",
       "      <th>Direct Normal Radiation [W/m2]</th>\n",
       "    </tr>\n",
       "    <tr>\n",
       "      <th>timestamp</th>\n",
       "      <th></th>\n",
       "      <th></th>\n",
       "      <th></th>\n",
       "      <th></th>\n",
       "    </tr>\n",
       "  </thead>\n",
       "  <tbody>\n",
       "    <tr>\n",
       "      <th>2018-01-01 00:00:00</th>\n",
       "      <td>76.0</td>\n",
       "      <td>4.691970</td>\n",
       "      <td>1.04</td>\n",
       "      <td>0.0</td>\n",
       "    </tr>\n",
       "    <tr>\n",
       "      <th>2018-01-01 01:00:00</th>\n",
       "      <td>76.0</td>\n",
       "      <td>5.008804</td>\n",
       "      <td>1.04</td>\n",
       "      <td>0.0</td>\n",
       "    </tr>\n",
       "    <tr>\n",
       "      <th>2018-01-01 02:00:00</th>\n",
       "      <td>76.0</td>\n",
       "      <td>4.799112</td>\n",
       "      <td>-0.04</td>\n",
       "      <td>0.0</td>\n",
       "    </tr>\n",
       "    <tr>\n",
       "      <th>2018-01-01 03:00:00</th>\n",
       "      <td>76.0</td>\n",
       "      <td>4.963452</td>\n",
       "      <td>-2.02</td>\n",
       "      <td>0.0</td>\n",
       "    </tr>\n",
       "    <tr>\n",
       "      <th>2018-01-01 04:00:00</th>\n",
       "      <td>76.0</td>\n",
       "      <td>5.047929</td>\n",
       "      <td>-2.02</td>\n",
       "      <td>0.0</td>\n",
       "    </tr>\n",
       "  </tbody>\n",
       "</table>\n",
       "</div>"
      ],
      "text/plain": [
       "                     setpoint  consumption  temperature  \\\n",
       "timestamp                                                 \n",
       "2018-01-01 00:00:00      76.0     4.691970         1.04   \n",
       "2018-01-01 01:00:00      76.0     5.008804         1.04   \n",
       "2018-01-01 02:00:00      76.0     4.799112        -0.04   \n",
       "2018-01-01 03:00:00      76.0     4.963452        -2.02   \n",
       "2018-01-01 04:00:00      76.0     5.047929        -2.02   \n",
       "\n",
       "                     Direct Normal Radiation [W/m2]  \n",
       "timestamp                                            \n",
       "2018-01-01 00:00:00                             0.0  \n",
       "2018-01-01 01:00:00                             0.0  \n",
       "2018-01-01 02:00:00                             0.0  \n",
       "2018-01-01 03:00:00                             0.0  \n",
       "2018-01-01 04:00:00                             0.0  "
      ]
     },
     "execution_count": 34,
     "metadata": {},
     "output_type": "execute_result"
    }
   ],
   "source": [
    "heating_train_timeseries.head()"
   ]
  },
  {
   "cell_type": "code",
   "execution_count": 35,
   "metadata": {},
   "outputs": [],
   "source": [
    "def create_lr_sequences(data, sequence_length, building_resstock):\n",
    "    sequences = []\n",
    "    labels = []\n",
    "\n",
    "    for i in range(len(data) - sequence_length - 1):\n",
    "        sequence = np.array(data.iloc[i:i+sequence_length])\n",
    "        label = data.iloc[i+sequence_length].iloc[0]\n",
    "        sequences.append(sequence)\n",
    "        labels.append(label)\n",
    "    return np.array(sequences), labels"
   ]
  },
  {
   "cell_type": "code",
   "execution_count": 36,
   "metadata": {},
   "outputs": [],
   "source": [
    "sequence_length = 12\n",
    "batch_size = 64\n",
    "\n",
    "heating_train_sequences, heating_train_labels = create_lr_sequences(heating_train_timeseries, sequence_length, building_resstock)\n",
    "heating_test_sequences, heating_test_labels = create_lr_sequences(heating_test_timeseries, sequence_length, building_resstock)\n",
    "\n",
    "cooling_train_sequences, cooling_train_labels = create_lr_sequences(cooling_train_timeseries, sequence_length, building_resstock)\n",
    "cooling_test_sequences, cooling_test_labels = create_lr_sequences(cooling_test_timeseries, sequence_length, building_resstock)"
   ]
  },
  {
   "cell_type": "code",
   "execution_count": 37,
   "metadata": {},
   "outputs": [],
   "source": [
    "heating_train_sequences = heating_train_sequences.reshape(heating_train_sequences.shape[0], -1)\n",
    "heating_test_sequences = heating_test_sequences.reshape(heating_test_sequences.shape[0], -1)\n",
    "\n",
    "cooling_train_sequences = cooling_train_sequences.reshape(cooling_train_sequences.shape[0], -1)\n",
    "cooling_test_sequences = cooling_test_sequences.reshape(cooling_test_sequences.shape[0], -1)"
   ]
  },
  {
   "cell_type": "code",
   "execution_count": 38,
   "metadata": {},
   "outputs": [],
   "source": [
    "building_resstock_repeated_heating_train = np.tile(building_resstock, (heating_train_sequences.shape[0], 1))\n",
    "building_resstock_repeated_heating_test = np.tile(building_resstock, (heating_test_sequences.shape[0], 1))\n",
    "\n",
    "building_resstock_repeated_cooling_train = np.tile(building_resstock, (cooling_train_sequences.shape[0], 1))\n",
    "building_resstock_repeated_cooling_test = np.tile(building_resstock, (cooling_test_sequences.shape[0], 1))"
   ]
  },
  {
   "cell_type": "code",
   "execution_count": 39,
   "metadata": {},
   "outputs": [],
   "source": [
    "heating_train_sequences = np.concatenate((heating_train_sequences, building_resstock_repeated_heating_train), axis=1)\n",
    "heating_test_sequences = np.concatenate((heating_test_sequences, building_resstock_repeated_heating_test), axis=1)\n",
    "\n",
    "cooling_train_sequences = np.concatenate((cooling_train_sequences, building_resstock_repeated_cooling_train), axis=1)\n",
    "cooling_test_sequences = np.concatenate((cooling_test_sequences, building_resstock_repeated_cooling_test), axis=1)"
   ]
  },
  {
   "cell_type": "code",
   "execution_count": 40,
   "metadata": {},
   "outputs": [],
   "source": [
    "class TimeSeriesDataset(Dataset):\n",
    "    def __init__(self, sequences, labels):\n",
    "        self.sequences = sequences\n",
    "        self.labels = labels\n",
    "    \n",
    "    def __len__(self):\n",
    "        return len(self.sequences)\n",
    "    \n",
    "    def __getitem__(self, idx):\n",
    "        return torch.tensor(self.sequences[idx], dtype=torch.float32), torch.tensor(self.labels[idx], dtype=torch.float32)\n"
   ]
  },
  {
   "cell_type": "code",
   "execution_count": 41,
   "metadata": {},
   "outputs": [],
   "source": [
    "heating_train_dataset = TimeSeriesDataset(heating_train_sequences, heating_train_labels)\n",
    "heating_test_dataset = TimeSeriesDataset(heating_test_sequences, heating_test_labels)\n",
    "heating_train_loader = DataLoader(heating_train_dataset, batch_size=batch_size, shuffle=True)\n",
    "heating_test_loader = DataLoader(heating_test_dataset, batch_size=batch_size, shuffle=False)\n",
    "\n",
    "cooling_train_dataset = TimeSeriesDataset(cooling_train_sequences, cooling_train_labels)\n",
    "cooling_test_dataset = TimeSeriesDataset(cooling_test_sequences, cooling_test_labels)\n",
    "cooling_train_loader = DataLoader(cooling_train_dataset, batch_size=batch_size, shuffle=True)\n",
    "cooling_test_loader = DataLoader(cooling_test_dataset, batch_size=batch_size, shuffle=False)"
   ]
  },
  {
   "cell_type": "markdown",
   "metadata": {},
   "source": [
    "# Train and evaluate fns"
   ]
  },
  {
   "cell_type": "code",
   "execution_count": 42,
   "metadata": {},
   "outputs": [],
   "source": [
    "# Training function\n",
    "def train(model, train_loader, criterion, optimizer, num_epochs):\n",
    "    model.train()\n",
    "    for epoch in range(num_epochs):\n",
    "        running_loss = 0.0\n",
    "        for sequences, labels in train_loader:\n",
    "            # Zero gradients\n",
    "            optimizer.zero_grad()\n",
    "            \n",
    "            # Forward pass\n",
    "            outputs = model(sequences)\n",
    "            loss = criterion(outputs, labels)  # Unsqueeze labels to match output dim\n",
    "            \n",
    "            # Backward pass and optimization\n",
    "            loss.backward()\n",
    "            optimizer.step()\n",
    "            \n",
    "            running_loss += loss.item()\n",
    "        \n",
    "        print(f'Epoch {epoch+1}/{num_epochs}, Loss: {running_loss/len(train_loader):.4f}')"
   ]
  },
  {
   "cell_type": "code",
   "execution_count": 43,
   "metadata": {},
   "outputs": [],
   "source": [
    "# Predict\n",
    "def evaluate(model, test_loader):\n",
    "    model.eval()\n",
    "    predictions = []\n",
    "    actuals = []\n",
    "    with torch.no_grad():\n",
    "        for sequences, labels in test_loader:\n",
    "            outputs = model(sequences)\n",
    "            predictions.append(outputs.numpy())\n",
    "            actuals.append(labels.numpy())\n",
    "    return np.concatenate(predictions), np.concatenate(actuals)"
   ]
  },
  {
   "cell_type": "code",
   "execution_count": 44,
   "metadata": {},
   "outputs": [
    {
     "data": {
      "text/plain": [
       "69"
      ]
     },
     "execution_count": 44,
     "metadata": {},
     "output_type": "execute_result"
    }
   ],
   "source": [
    "len(heating_train_dataset[0][0])"
   ]
  },
  {
   "cell_type": "markdown",
   "metadata": {},
   "source": [
    "# MLP"
   ]
  },
  {
   "cell_type": "code",
   "execution_count": 45,
   "metadata": {},
   "outputs": [],
   "source": [
    "input_size = 69\n",
    "hidden_size_1 = 64\n",
    "hidden_size_2 = 32\n",
    "output_size = 1"
   ]
  },
  {
   "cell_type": "code",
   "execution_count": 46,
   "metadata": {},
   "outputs": [],
   "source": [
    "heating_model = MLPModel(\n",
    "    input_size, \n",
    "    hidden_size_1=hidden_size_1, \n",
    "    hidden_size_2=hidden_size_2,\n",
    "    output_size=output_size)"
   ]
  },
  {
   "cell_type": "code",
   "execution_count": 47,
   "metadata": {},
   "outputs": [],
   "source": [
    "# Loss and optimizer\n",
    "heating_criterion = nn.MSELoss()\n",
    "heating_optimizer = optim.Adam(heating_model.parameters(), lr=0.0001)"
   ]
  },
  {
   "cell_type": "markdown",
   "metadata": {},
   "source": [
    "## Heating"
   ]
  },
  {
   "cell_type": "code",
   "execution_count": 48,
   "metadata": {},
   "outputs": [
    {
     "name": "stderr",
     "output_type": "stream",
     "text": [
      "/Users/adrian/Documents/ICAI/TFG/Space-Conditioning-Electrification/.env/lib/python3.10/site-packages/torch/nn/modules/loss.py:610: UserWarning: Using a target size (torch.Size([64])) that is different to the input size (torch.Size([64, 1])). This will likely lead to incorrect results due to broadcasting. Please ensure they have the same size.\n",
      "  return F.mse_loss(input, target, reduction=self.reduction)\n",
      "/Users/adrian/Documents/ICAI/TFG/Space-Conditioning-Electrification/.env/lib/python3.10/site-packages/torch/nn/modules/loss.py:610: UserWarning: Using a target size (torch.Size([7])) that is different to the input size (torch.Size([7, 1])). This will likely lead to incorrect results due to broadcasting. Please ensure they have the same size.\n",
      "  return F.mse_loss(input, target, reduction=self.reduction)\n"
     ]
    },
    {
     "name": "stdout",
     "output_type": "stream",
     "text": [
      "Epoch 1/100, Loss: 3888.8142\n",
      "Epoch 2/100, Loss: 380.3283\n",
      "Epoch 3/100, Loss: 53.1345\n",
      "Epoch 4/100, Loss: 11.0784\n",
      "Epoch 5/100, Loss: 6.5604\n",
      "Epoch 6/100, Loss: 5.0145\n",
      "Epoch 7/100, Loss: 4.1072\n",
      "Epoch 8/100, Loss: 3.5672\n",
      "Epoch 9/100, Loss: 3.2449\n",
      "Epoch 10/100, Loss: 2.9977\n",
      "Epoch 11/100, Loss: 2.7616\n",
      "Epoch 12/100, Loss: 2.5536\n",
      "Epoch 13/100, Loss: 2.3607\n",
      "Epoch 14/100, Loss: 2.1757\n",
      "Epoch 15/100, Loss: 1.9715\n",
      "Epoch 16/100, Loss: 1.8027\n",
      "Epoch 17/100, Loss: 1.6786\n",
      "Epoch 18/100, Loss: 1.5325\n",
      "Epoch 19/100, Loss: 1.4108\n",
      "Epoch 20/100, Loss: 1.2867\n",
      "Epoch 21/100, Loss: 1.1768\n",
      "Epoch 22/100, Loss: 1.0807\n",
      "Epoch 23/100, Loss: 0.9763\n",
      "Epoch 24/100, Loss: 0.8888\n",
      "Epoch 25/100, Loss: 0.8187\n",
      "Epoch 26/100, Loss: 0.7213\n",
      "Epoch 27/100, Loss: 0.6416\n",
      "Epoch 28/100, Loss: 0.5891\n",
      "Epoch 29/100, Loss: 0.5051\n",
      "Epoch 30/100, Loss: 0.4556\n",
      "Epoch 31/100, Loss: 0.4128\n",
      "Epoch 32/100, Loss: 0.3692\n",
      "Epoch 33/100, Loss: 0.3371\n",
      "Epoch 34/100, Loss: 0.3059\n",
      "Epoch 35/100, Loss: 0.2927\n",
      "Epoch 36/100, Loss: 0.2674\n",
      "Epoch 37/100, Loss: 0.2468\n",
      "Epoch 38/100, Loss: 0.2226\n",
      "Epoch 39/100, Loss: 0.2096\n",
      "Epoch 40/100, Loss: 0.1953\n",
      "Epoch 41/100, Loss: 0.1848\n",
      "Epoch 42/100, Loss: 0.1770\n",
      "Epoch 43/100, Loss: 0.1632\n",
      "Epoch 44/100, Loss: 0.1620\n",
      "Epoch 45/100, Loss: 0.1538\n",
      "Epoch 46/100, Loss: 0.1463\n",
      "Epoch 47/100, Loss: 0.1372\n",
      "Epoch 48/100, Loss: 0.1367\n",
      "Epoch 49/100, Loss: 0.1306\n",
      "Epoch 50/100, Loss: 0.1252\n",
      "Epoch 51/100, Loss: 0.1220\n",
      "Epoch 52/100, Loss: 0.1163\n",
      "Epoch 53/100, Loss: 0.1144\n",
      "Epoch 54/100, Loss: 0.1140\n",
      "Epoch 55/100, Loss: 0.1180\n",
      "Epoch 56/100, Loss: 0.1045\n",
      "Epoch 57/100, Loss: 0.1055\n",
      "Epoch 58/100, Loss: 0.1024\n",
      "Epoch 59/100, Loss: 0.0958\n",
      "Epoch 60/100, Loss: 0.0970\n",
      "Epoch 61/100, Loss: 0.0931\n",
      "Epoch 62/100, Loss: 0.0895\n",
      "Epoch 63/100, Loss: 0.0917\n",
      "Epoch 64/100, Loss: 0.0914\n",
      "Epoch 65/100, Loss: 0.0835\n",
      "Epoch 66/100, Loss: 0.0838\n",
      "Epoch 67/100, Loss: 0.0790\n",
      "Epoch 68/100, Loss: 0.0829\n",
      "Epoch 69/100, Loss: 0.0817\n",
      "Epoch 70/100, Loss: 0.0759\n",
      "Epoch 71/100, Loss: 0.0749\n",
      "Epoch 72/100, Loss: 0.0738\n",
      "Epoch 73/100, Loss: 0.0711\n",
      "Epoch 74/100, Loss: 0.0720\n",
      "Epoch 75/100, Loss: 0.0754\n",
      "Epoch 76/100, Loss: 0.0681\n",
      "Epoch 77/100, Loss: 0.0649\n",
      "Epoch 78/100, Loss: 0.0653\n",
      "Epoch 79/100, Loss: 0.0634\n",
      "Epoch 80/100, Loss: 0.0664\n",
      "Epoch 81/100, Loss: 0.0654\n",
      "Epoch 82/100, Loss: 0.0615\n",
      "Epoch 83/100, Loss: 0.0611\n",
      "Epoch 84/100, Loss: 0.0573\n",
      "Epoch 85/100, Loss: 0.0622\n",
      "Epoch 86/100, Loss: 0.0646\n",
      "Epoch 87/100, Loss: 0.0605\n",
      "Epoch 88/100, Loss: 0.0561\n",
      "Epoch 89/100, Loss: 0.0557\n",
      "Epoch 90/100, Loss: 0.0529\n",
      "Epoch 91/100, Loss: 0.0525\n",
      "Epoch 92/100, Loss: 0.0524\n",
      "Epoch 93/100, Loss: 0.0494\n",
      "Epoch 94/100, Loss: 0.0510\n",
      "Epoch 95/100, Loss: 0.0485\n",
      "Epoch 96/100, Loss: 0.0481\n",
      "Epoch 97/100, Loss: 0.0473\n",
      "Epoch 98/100, Loss: 0.0451\n",
      "Epoch 99/100, Loss: 0.0455\n",
      "Epoch 100/100, Loss: 0.0471\n"
     ]
    }
   ],
   "source": [
    "num_epochs = 100\n",
    "train(heating_model, heating_train_loader, heating_criterion, heating_optimizer, num_epochs)"
   ]
  },
  {
   "cell_type": "code",
   "execution_count": 49,
   "metadata": {},
   "outputs": [],
   "source": [
    "# Predict\n",
    "heating_predictions, heating_actuals = evaluate(heating_model, heating_test_loader)"
   ]
  },
  {
   "cell_type": "code",
   "execution_count": 50,
   "metadata": {},
   "outputs": [
    {
     "data": {
      "image/png": "[encoded data removed]",
      "text/plain": [
       "<Figure size 1000x500 with 1 Axes>"
      ]
     },
     "metadata": {},
     "output_type": "display_data"
    }
   ],
   "source": [
    "# Plot train, test and predictions\n",
    "plt.figure(figsize=(10, 5))\n",
    "plt.plot(heating_train_timeseries.index, heating_train_timeseries[\"setpoint\"], label=\"Train\")\n",
    "plt.plot(heating_test_timeseries.index, heating_test_timeseries[\"setpoint\"], label=\"Test\")\n",
    "plt.plot(heating_test_timeseries.index[13:], heating_predictions, label=\"Predicted\")\n",
    "plt.title(\"Linear Regression Predictions\")\n",
    "plt.xlabel(\"Time Step\")\n",
    "plt.ylabel(\"Setpoint Value\")\n",
    "plt.legend()\n",
    "plt.xticks(rotation=45)\n",
    "plt.tight_layout()\n",
    "plt.show()"
   ]
  },
  {
   "cell_type": "markdown",
   "metadata": {},
   "source": [
    "## Cooling"
   ]
  },
  {
   "cell_type": "code",
   "execution_count": 51,
   "metadata": {},
   "outputs": [],
   "source": [
    "input_size = 69\n",
    "hidden_size_1 = 64\n",
    "hidden_size_2 = 32\n",
    "output_size = 1"
   ]
  },
  {
   "cell_type": "code",
   "execution_count": 52,
   "metadata": {},
   "outputs": [],
   "source": [
    "cooling_model = MLPModel(\n",
    "    input_size, \n",
    "    hidden_size_1=hidden_size_1, \n",
    "    hidden_size_2=hidden_size_2,\n",
    "    output_size=output_size)"
   ]
  },
  {
   "cell_type": "code",
   "execution_count": 53,
   "metadata": {},
   "outputs": [],
   "source": [
    "# Loss and optimizer\n",
    "cooling_criterion = nn.MSELoss()\n",
    "cooling_optimizer = optim.Adam(cooling_model.parameters(), lr=0.0001)"
   ]
  },
  {
   "cell_type": "code",
   "execution_count": 54,
   "metadata": {},
   "outputs": [
    {
     "name": "stderr",
     "output_type": "stream",
     "text": [
      "/Users/adrian/Documents/ICAI/TFG/Space-Conditioning-Electrification/.env/lib/python3.10/site-packages/torch/nn/modules/loss.py:610: UserWarning: Using a target size (torch.Size([44])) that is different to the input size (torch.Size([44, 1])). This will likely lead to incorrect results due to broadcasting. Please ensure they have the same size.\n",
      "  return F.mse_loss(input, target, reduction=self.reduction)\n"
     ]
    },
    {
     "name": "stdout",
     "output_type": "stream",
     "text": [
      "Epoch 1/100, Loss: 5404.6406\n",
      "Epoch 2/100, Loss: 319.5056\n",
      "Epoch 3/100, Loss: 102.6019\n",
      "Epoch 4/100, Loss: 47.0626\n",
      "Epoch 5/100, Loss: 30.7429\n",
      "Epoch 6/100, Loss: 21.7886\n",
      "Epoch 7/100, Loss: 16.0113\n",
      "Epoch 8/100, Loss: 12.7997\n",
      "Epoch 9/100, Loss: 10.6575\n",
      "Epoch 10/100, Loss: 9.2280\n",
      "Epoch 11/100, Loss: 8.0496\n",
      "Epoch 12/100, Loss: 7.2609\n",
      "Epoch 13/100, Loss: 6.6618\n",
      "Epoch 14/100, Loss: 6.1260\n",
      "Epoch 15/100, Loss: 5.6895\n",
      "Epoch 16/100, Loss: 5.3931\n",
      "Epoch 17/100, Loss: 5.0636\n",
      "Epoch 18/100, Loss: 4.8016\n",
      "Epoch 19/100, Loss: 4.5871\n",
      "Epoch 20/100, Loss: 4.3820\n",
      "Epoch 21/100, Loss: 4.2132\n",
      "Epoch 22/100, Loss: 4.0347\n",
      "Epoch 23/100, Loss: 3.8811\n",
      "Epoch 24/100, Loss: 3.7388\n",
      "Epoch 25/100, Loss: 3.5946\n",
      "Epoch 26/100, Loss: 3.4933\n",
      "Epoch 27/100, Loss: 3.3253\n",
      "Epoch 28/100, Loss: 3.2016\n",
      "Epoch 29/100, Loss: 3.1595\n",
      "Epoch 30/100, Loss: 3.0360\n",
      "Epoch 31/100, Loss: 2.9292\n",
      "Epoch 32/100, Loss: 2.8528\n",
      "Epoch 33/100, Loss: 2.7829\n",
      "Epoch 34/100, Loss: 2.6979\n",
      "Epoch 35/100, Loss: 2.6388\n",
      "Epoch 36/100, Loss: 2.5606\n",
      "Epoch 37/100, Loss: 2.4903\n",
      "Epoch 38/100, Loss: 2.4580\n",
      "Epoch 39/100, Loss: 2.3919\n",
      "Epoch 40/100, Loss: 2.3298\n",
      "Epoch 41/100, Loss: 2.2815\n",
      "Epoch 42/100, Loss: 2.2443\n",
      "Epoch 43/100, Loss: 2.2023\n",
      "Epoch 44/100, Loss: 2.1433\n",
      "Epoch 45/100, Loss: 2.1087\n",
      "Epoch 46/100, Loss: 2.0866\n",
      "Epoch 47/100, Loss: 2.0183\n",
      "Epoch 48/100, Loss: 2.0061\n",
      "Epoch 49/100, Loss: 1.9635\n",
      "Epoch 50/100, Loss: 1.9624\n",
      "Epoch 51/100, Loss: 1.8941\n",
      "Epoch 52/100, Loss: 1.8676\n",
      "Epoch 53/100, Loss: 1.8665\n",
      "Epoch 54/100, Loss: 1.8205\n",
      "Epoch 55/100, Loss: 1.8099\n",
      "Epoch 56/100, Loss: 1.7880\n",
      "Epoch 57/100, Loss: 1.7520\n",
      "Epoch 58/100, Loss: 1.7389\n",
      "Epoch 59/100, Loss: 1.7403\n",
      "Epoch 60/100, Loss: 1.6945\n",
      "Epoch 61/100, Loss: 1.6938\n",
      "Epoch 62/100, Loss: 1.6662\n",
      "Epoch 63/100, Loss: 1.6507\n",
      "Epoch 64/100, Loss: 1.6359\n",
      "Epoch 65/100, Loss: 1.6137\n",
      "Epoch 66/100, Loss: 1.5844\n",
      "Epoch 67/100, Loss: 1.5774\n",
      "Epoch 68/100, Loss: 1.5886\n",
      "Epoch 69/100, Loss: 1.5805\n",
      "Epoch 70/100, Loss: 1.5628\n",
      "Epoch 71/100, Loss: 1.5498\n",
      "Epoch 72/100, Loss: 1.5297\n",
      "Epoch 73/100, Loss: 1.4932\n",
      "Epoch 74/100, Loss: 1.4959\n",
      "Epoch 75/100, Loss: 1.4922\n",
      "Epoch 76/100, Loss: 1.5032\n",
      "Epoch 77/100, Loss: 1.4806\n",
      "Epoch 78/100, Loss: 1.4713\n",
      "Epoch 79/100, Loss: 1.4643\n",
      "Epoch 80/100, Loss: 1.4277\n",
      "Epoch 81/100, Loss: 1.4236\n",
      "Epoch 82/100, Loss: 1.4228\n",
      "Epoch 83/100, Loss: 1.4147\n",
      "Epoch 84/100, Loss: 1.4242\n",
      "Epoch 85/100, Loss: 1.3986\n",
      "Epoch 86/100, Loss: 1.3707\n",
      "Epoch 87/100, Loss: 1.3690\n",
      "Epoch 88/100, Loss: 1.3846\n",
      "Epoch 89/100, Loss: 1.3403\n",
      "Epoch 90/100, Loss: 1.3504\n",
      "Epoch 91/100, Loss: 1.3351\n",
      "Epoch 92/100, Loss: 1.3413\n",
      "Epoch 93/100, Loss: 1.3254\n",
      "Epoch 94/100, Loss: 1.2982\n",
      "Epoch 95/100, Loss: 1.2964\n",
      "Epoch 96/100, Loss: 1.2816\n",
      "Epoch 97/100, Loss: 1.3152\n",
      "Epoch 98/100, Loss: 1.2887\n",
      "Epoch 99/100, Loss: 1.2890\n",
      "Epoch 100/100, Loss: 1.3136\n"
     ]
    }
   ],
   "source": [
    "num_epochs = 100\n",
    "train(cooling_model, cooling_train_loader, cooling_criterion, cooling_optimizer, num_epochs)"
   ]
  },
  {
   "cell_type": "code",
   "execution_count": 55,
   "metadata": {},
   "outputs": [],
   "source": [
    "# Predict\n",
    "cooling_predictions, cooling_actuals = evaluate(cooling_model, cooling_test_loader)"
   ]
  },
  {
   "cell_type": "code",
   "execution_count": 56,
   "metadata": {},
   "outputs": [
    {
     "data": {
      "image/png": "[encoded data removed]",
      "text/plain": [
       "<Figure size 1000x500 with 1 Axes>"
      ]
     },
     "metadata": {},
     "output_type": "display_data"
    }
   ],
   "source": [
    "# Plot train, test and predictions\n",
    "plt.figure(figsize=(10, 5))\n",
    "plt.plot(cooling_train_timeseries.index, cooling_train_timeseries[\"setpoint\"], label=\"Train\")\n",
    "plt.plot(cooling_test_timeseries.index, cooling_test_timeseries[\"setpoint\"], label=\"Test\")\n",
    "plt.plot(cooling_test_timeseries.index[13:], cooling_predictions, label=\"Predicted\")\n",
    "plt.title(\"Linear Regression Predictions\")\n",
    "plt.xlabel(\"Time Step\")\n",
    "plt.ylabel(\"Setpoint Value\")\n",
    "plt.legend()\n",
    "plt.xticks(rotation=45)\n",
    "plt.tight_layout()\n",
    "plt.show()"
   ]
  },
  {
   "cell_type": "markdown",
   "metadata": {},
   "source": [
    "## Akaike"
   ]
  },
  {
   "cell_type": "code",
   "execution_count": 57,
   "metadata": {},
   "outputs": [],
   "source": [
    "def compute_aic(y_true, y_pred, num_params):\n",
    "    n = y_true.numel()\n",
    "    residuals = y_true - y_pred\n",
    "    rss = torch.sum(residuals ** 2).item()\n",
    "    sigma2 = rss / n\n",
    "    log_likelihood = -n/2 * (np.log(2 * np.pi * sigma2) + 1)\n",
    "    aic = 2 * num_params - 2 * log_likelihood\n",
    "    return aic"
   ]
  },
  {
   "cell_type": "code",
   "execution_count": 58,
   "metadata": {},
   "outputs": [],
   "source": [
    "heating_num_params = sum(p.numel() for p in heating_model.parameters() if p.requires_grad)"
   ]
  },
  {
   "cell_type": "code",
   "execution_count": 59,
   "metadata": {},
   "outputs": [],
   "source": [
    "heating_aic = compute_aic(\n",
    "    torch.tensor(heating_actuals), \n",
    "    torch.tensor(heating_predictions), \n",
    "    heating_num_params\n",
    ")"
   ]
  },
  {
   "cell_type": "code",
   "execution_count": 60,
   "metadata": {},
   "outputs": [
    {
     "data": {
      "text/plain": [
       "np.float64(19811.866910005945)"
      ]
     },
     "execution_count": 60,
     "metadata": {},
     "output_type": "execute_result"
    }
   ],
   "source": [
    "heating_aic"
   ]
  },
  {
   "cell_type": "code",
   "execution_count": 61,
   "metadata": {},
   "outputs": [
    {
     "data": {
      "text/plain": [
       "np.float64(20313.57816386445)"
      ]
     },
     "execution_count": 61,
     "metadata": {},
     "output_type": "execute_result"
    }
   ],
   "source": [
    "cooling_num_params = sum(p.numel() for p in cooling_model.parameters() if p.requires_grad)\n",
    "cooling_aic = compute_aic(\n",
    "    torch.tensor(cooling_actuals), \n",
    "    torch.tensor(cooling_predictions), \n",
    "    cooling_num_params\n",
    ")\n",
    "cooling_aic"
   ]
  },
  {
   "cell_type": "markdown",
   "metadata": {},
   "source": [
    "# ARIMA"
   ]
  },
  {
   "cell_type": "markdown",
   "metadata": {},
   "source": [
    "## Add lag to variables"
   ]
  },
  {
   "cell_type": "code",
   "execution_count": 62,
   "metadata": {},
   "outputs": [],
   "source": [
    "import warnings\n",
    "warnings.filterwarnings(\"ignore\")\n",
    "\n",
    "# Add lag of 1 to consumption, and create new temperature column with lag 1\n",
    "heating_exog_train[\"temperature_lag_1\"] = heating_exog_train[\"temperature\"].shift(1)\n",
    "heating_exog_train[\"consumption_lag_1\"] = heating_exog_train[\"consumption\"].shift(1)\n",
    "heating_exog_train.drop(columns=[\"consumption\"], inplace=True)\n",
    "heating_exog_train.bfill(inplace=True)\n",
    "\n",
    "heating_exog_test[\"temperature_lag_1\"] = heating_exog_test[\"temperature\"].shift(1)\n",
    "heating_exog_test[\"consumption_lag_1\"] = heating_exog_test[\"consumption\"].shift(1)\n",
    "heating_exog_test.drop(columns=[\"consumption\"], inplace=True)\n",
    "heating_exog_test.bfill(inplace=True)\n",
    "\n",
    "cooling_exog_train[\"temperature_lag_1\"] = cooling_exog_train[\"temperature\"].shift(1)\n",
    "cooling_exog_train[\"consumption_lag_1\"] = cooling_exog_train[\"consumption\"].shift(1)\n",
    "cooling_exog_train.drop(columns=[\"consumption\"], inplace=True)\n",
    "cooling_exog_train.bfill(inplace=True)\n",
    "\n",
    "cooling_exog_test[\"temperature_lag_1\"] = cooling_exog_test[\"temperature\"].shift(1)\n",
    "cooling_exog_test[\"consumption_lag_1\"] = cooling_exog_test[\"consumption\"].shift(1)\n",
    "cooling_exog_test.drop(columns=[\"consumption\"], inplace=True)\n",
    "cooling_exog_test.bfill(inplace=True)"
   ]
  },
  {
   "cell_type": "code",
   "execution_count": 63,
   "metadata": {},
   "outputs": [
    {
     "data": {
      "text/html": [
       "<div>\n",
       "<style scoped>\n",
       "    .dataframe tbody tr th:only-of-type {\n",
       "        vertical-align: middle;\n",
       "    }\n",
       "\n",
       "    .dataframe tbody tr th {\n",
       "        vertical-align: top;\n",
       "    }\n",
       "\n",
       "    .dataframe thead th {\n",
       "        text-align: right;\n",
       "    }\n",
       "</style>\n",
       "<table border=\"1\" class=\"dataframe\">\n",
       "  <thead>\n",
       "    <tr style=\"text-align: right;\">\n",
       "      <th></th>\n",
       "      <th>temperature</th>\n",
       "      <th>Direct Normal Radiation [W/m2]</th>\n",
       "      <th>temperature_lag_1</th>\n",
       "      <th>consumption_lag_1</th>\n",
       "    </tr>\n",
       "    <tr>\n",
       "      <th>timestamp</th>\n",
       "      <th></th>\n",
       "      <th></th>\n",
       "      <th></th>\n",
       "      <th></th>\n",
       "    </tr>\n",
       "  </thead>\n",
       "  <tbody>\n",
       "    <tr>\n",
       "      <th>2018-01-01 00:00:00</th>\n",
       "      <td>1.04</td>\n",
       "      <td>0.0</td>\n",
       "      <td>1.04</td>\n",
       "      <td>4.691970</td>\n",
       "    </tr>\n",
       "    <tr>\n",
       "      <th>2018-01-01 01:00:00</th>\n",
       "      <td>1.04</td>\n",
       "      <td>0.0</td>\n",
       "      <td>1.04</td>\n",
       "      <td>4.691970</td>\n",
       "    </tr>\n",
       "    <tr>\n",
       "      <th>2018-01-01 02:00:00</th>\n",
       "      <td>-0.04</td>\n",
       "      <td>0.0</td>\n",
       "      <td>1.04</td>\n",
       "      <td>5.008804</td>\n",
       "    </tr>\n",
       "    <tr>\n",
       "      <th>2018-01-01 03:00:00</th>\n",
       "      <td>-2.02</td>\n",
       "      <td>0.0</td>\n",
       "      <td>-0.04</td>\n",
       "      <td>4.799112</td>\n",
       "    </tr>\n",
       "    <tr>\n",
       "      <th>2018-01-01 04:00:00</th>\n",
       "      <td>-2.02</td>\n",
       "      <td>0.0</td>\n",
       "      <td>-2.02</td>\n",
       "      <td>4.963452</td>\n",
       "    </tr>\n",
       "  </tbody>\n",
       "</table>\n",
       "</div>"
      ],
      "text/plain": [
       "                     temperature  Direct Normal Radiation [W/m2]  \\\n",
       "timestamp                                                          \n",
       "2018-01-01 00:00:00         1.04                             0.0   \n",
       "2018-01-01 01:00:00         1.04                             0.0   \n",
       "2018-01-01 02:00:00        -0.04                             0.0   \n",
       "2018-01-01 03:00:00        -2.02                             0.0   \n",
       "2018-01-01 04:00:00        -2.02                             0.0   \n",
       "\n",
       "                     temperature_lag_1  consumption_lag_1  \n",
       "timestamp                                                  \n",
       "2018-01-01 00:00:00               1.04           4.691970  \n",
       "2018-01-01 01:00:00               1.04           4.691970  \n",
       "2018-01-01 02:00:00               1.04           5.008804  \n",
       "2018-01-01 03:00:00              -0.04           4.799112  \n",
       "2018-01-01 04:00:00              -2.02           4.963452  "
      ]
     },
     "execution_count": 63,
     "metadata": {},
     "output_type": "execute_result"
    }
   ],
   "source": [
    "heating_exog_train.head()"
   ]
  },
  {
   "cell_type": "markdown",
   "metadata": {},
   "source": [
    "## Heating"
   ]
  },
  {
   "cell_type": "code",
   "execution_count": 64,
   "metadata": {},
   "outputs": [],
   "source": [
    "# Make sure heating_endog_train and heating_exog_train have hourly frequency\n",
    "heating_endog_train = heating_endog_train.asfreq('h')\n",
    "heating_exog_train = heating_exog_train.asfreq('h')\n",
    "\n",
    "heating_endog_train.ffill(inplace=True)\n",
    "heating_exog_train.ffill(inplace=True)\n",
    "heating_endog_train.bfill(inplace=True)\n",
    "heating_exog_train.bfill(inplace=True)"
   ]
  },
  {
   "cell_type": "code",
   "execution_count": 65,
   "metadata": {},
   "outputs": [],
   "source": [
    "heating_arima_model = ARIMA(\n",
    "    endog=heating_endog_train,\n",
    "    exog=heating_exog_train,\n",
    "    order=(0, 0, 0),\n",
    "    freq=\"h\",\n",
    ")"
   ]
  },
  {
   "cell_type": "code",
   "execution_count": 66,
   "metadata": {},
   "outputs": [],
   "source": [
    "heating_arima_model_fit = heating_arima_model.fit()"
   ]
  },
  {
   "cell_type": "code",
   "execution_count": 67,
   "metadata": {},
   "outputs": [
    {
     "name": "stdout",
     "output_type": "stream",
     "text": [
      "                               SARIMAX Results                                \n",
      "==============================================================================\n",
      "Dep. Variable:               setpoint   No. Observations:                 7724\n",
      "Model:                          ARIMA   Log Likelihood               81827.955\n",
      "Date:                Wed, 04 Jun 2025   AIC                        -163643.910\n",
      "Time:                        11:41:28   BIC                        -163602.198\n",
      "Sample:                    01-01-2018   HQIC                       -163629.607\n",
      "                         - 11-18-2018                                         \n",
      "Covariance Type:                  opg                                         \n",
      "==================================================================================================\n",
      "                                     coef    std err          z      P>|z|      [0.025      0.975]\n",
      "--------------------------------------------------------------------------------------------------\n",
      "const                             76.0000   8.06e-23   9.42e+23      0.000      76.000      76.000\n",
      "temperature                    -9.034e-15   4.94e-21  -1.83e+06      0.000   -9.03e-15   -9.03e-15\n",
      "Direct Normal Radiation [W/m2]   1.98e-16   9.42e-21    2.1e+04      0.000    1.98e-16    1.98e-16\n",
      "temperature_lag_1               1.044e-14   5.04e-21   2.07e+06      0.000    1.04e-14    1.04e-14\n",
      "consumption_lag_1              -6.328e-14   2.25e-23  -2.81e+09      0.000   -6.33e-14   -6.33e-14\n",
      "sigma2                              1e-10   2.25e-11      4.435      0.000    5.58e-11    1.44e-10\n",
      "===================================================================================\n",
      "Ljung-Box (L1) (Q):                7207.04   Jarque-Bera (JB):              1163.47\n",
      "Prob(Q):                              0.00   Prob(JB):                         0.00\n",
      "Heteroskedasticity (H):               3.67   Skew:                             0.90\n",
      "Prob(H) (two-sided):                  0.00   Kurtosis:                         3.62\n",
      "===================================================================================\n",
      "\n",
      "Warnings:\n",
      "[1] Covariance matrix calculated using the outer product of gradients (complex-step).\n",
      "[2] Covariance matrix is singular or near-singular, with condition number 2.9e+39. Standard errors may be unstable.\n"
     ]
    }
   ],
   "source": [
    "print(heating_arima_model_fit.summary())"
   ]
  },
  {
   "cell_type": "code",
   "execution_count": 68,
   "metadata": {},
   "outputs": [
    {
     "data": {
      "image/png": "[encoded data removed]",
      "text/plain": [
       "<Figure size 1000x800 with 2 Axes>"
      ]
     },
     "metadata": {},
     "output_type": "display_data"
    }
   ],
   "source": [
    "# Plot ACF and PACF\n",
    "\n",
    "fig, ax = plt.subplots(2, 1, figsize=(10, 8))\n",
    "plot_acf(heating_arima_model_fit.resid, lags=50, ax=ax[0])\n",
    "plot_pacf(heating_arima_model_fit.resid, lags=50, ax=ax[1])\n",
    "plt.title(\"ACF and PACF\")\n",
    "plt.tight_layout()\n",
    "plt.show()"
   ]
  },
  {
   "cell_type": "code",
   "execution_count": 69,
   "metadata": {},
   "outputs": [],
   "source": [
    "# Predict\n",
    "predictions = heating_arima_model_fit.get_forecast(steps=len(heating_endog_test), exog=heating_exog_test)\n",
    "predicted_mean = predictions.predicted_mean\n",
    "predicted_conf_int = predictions.conf_int()\n",
    "lower_limits = predicted_conf_int.iloc[:, 0]\n",
    "upper_limits = predicted_conf_int.iloc[:, 1]\n",
    "predicted_mean = pd.Series(predicted_mean, index=heating_endog_test.index)"
   ]
  },
  {
   "cell_type": "code",
   "execution_count": 70,
   "metadata": {},
   "outputs": [
    {
     "data": {
      "image/png": "[encoded data removed]",
      "text/plain": [
       "<Figure size 1000x500 with 1 Axes>"
      ]
     },
     "metadata": {},
     "output_type": "display_data"
    }
   ],
   "source": [
    "# Plot predictions\n",
    "plt.figure(figsize=(10, 5))\n",
    "plt.plot(heating_endog_train.index, heating_endog_train[\"setpoint\"], label=\"Train\")\n",
    "plt.plot(heating_endog_test.index, heating_endog_test[\"setpoint\"], label=\"Test\")\n",
    "plt.plot(predicted_mean.index, predicted_mean, label=\"Predicted\")\n",
    "plt.title(\"ARIMA Predictions\")\n",
    "plt.xlabel(\"Date\")\n",
    "plt.ylabel(\"Setpoint Value\")\n",
    "plt.legend()\n",
    "plt.xticks(rotation=45)\n",
    "plt.tight_layout()\n",
    "plt.show()"
   ]
  },
  {
   "cell_type": "code",
   "execution_count": 71,
   "metadata": {},
   "outputs": [
    {
     "data": {
      "text/plain": [
       "const                             7.600000e+01\n",
       "temperature                      -9.034440e-15\n",
       "Direct Normal Radiation [W/m2]    1.979753e-16\n",
       "temperature_lag_1                 1.043610e-14\n",
       "consumption_lag_1                -6.328271e-14\n",
       "sigma2                            1.000000e-10\n",
       "dtype: float64"
      ]
     },
     "execution_count": 71,
     "metadata": {},
     "output_type": "execute_result"
    }
   ],
   "source": [
    "heating_arima_model_fit.params"
   ]
  },
  {
   "cell_type": "markdown",
   "metadata": {},
   "source": [
    "## Cooling"
   ]
  },
  {
   "cell_type": "code",
   "execution_count": 72,
   "metadata": {},
   "outputs": [],
   "source": [
    "# Make sure heating_endog_train and heating_exog_train have hourly frequency\n",
    "cooling_endog_train = cooling_endog_train.asfreq('h')\n",
    "cooling_exog_train = cooling_exog_train.asfreq('h')\n",
    "\n",
    "cooling_endog_train.ffill(inplace=True)\n",
    "cooling_exog_train.ffill(inplace=True)\n",
    "cooling_endog_train.bfill(inplace=True)\n",
    "cooling_exog_train.bfill(inplace=True)"
   ]
  },
  {
   "cell_type": "code",
   "execution_count": 73,
   "metadata": {},
   "outputs": [],
   "source": [
    "cooling_arima_model = ARIMA(\n",
    "    endog=cooling_endog_train,\n",
    "    exog=cooling_exog_train,\n",
    "    order=(1, 0, 0),\n",
    "    seasonal_order=(1, 0, 0, 24),\n",
    "    freq=\"h\",\n",
    ")"
   ]
  },
  {
   "cell_type": "code",
   "execution_count": 74,
   "metadata": {},
   "outputs": [],
   "source": [
    "cooling_arima_model_fit = cooling_arima_model.fit()"
   ]
  },
  {
   "cell_type": "code",
   "execution_count": 75,
   "metadata": {},
   "outputs": [
    {
     "name": "stdout",
     "output_type": "stream",
     "text": [
      "                                    SARIMAX Results                                     \n",
      "========================================================================================\n",
      "Dep. Variable:                         setpoint   No. Observations:                 2937\n",
      "Model:             ARIMA(1, 0, 0)x(1, 0, 0, 24)   Log Likelihood                8405.049\n",
      "Date:                          Wed, 04 Jun 2025   AIC                         -16794.097\n",
      "Time:                                  11:41:38   BIC                         -16746.216\n",
      "Sample:                              06-01-2018   HQIC                        -16776.856\n",
      "                                   - 10-01-2018                                         \n",
      "Covariance Type:                            opg                                         \n",
      "==================================================================================================\n",
      "                                     coef    std err          z      P>|z|      [0.025      0.975]\n",
      "--------------------------------------------------------------------------------------------------\n",
      "const                             69.5000      2.308     30.113      0.000      64.976      74.024\n",
      "temperature                        0.0023      0.000     19.700      0.000       0.002       0.003\n",
      "Direct Normal Radiation [W/m2] -7.174e-05   1.47e-06    -48.910      0.000   -7.46e-05   -6.89e-05\n",
      "temperature_lag_1                 -0.0024   8.98e-05    -26.894      0.000      -0.003      -0.002\n",
      "consumption_lag_1                 -0.1253      0.008    -15.511      0.000      -0.141      -0.109\n",
      "ar.L1                              0.9794      0.011     86.896      0.000       0.957       1.001\n",
      "ar.S.L24                           0.9961      0.000   5993.124      0.000       0.996       0.996\n",
      "sigma2                             0.0002   7.89e-06     25.246      0.000       0.000       0.000\n",
      "===================================================================================\n",
      "Ljung-Box (L1) (Q):                  20.98   Jarque-Bera (JB):             44632.62\n",
      "Prob(Q):                              0.00   Prob(JB):                         0.00\n",
      "Heteroskedasticity (H):               0.64   Skew:                            -0.15\n",
      "Prob(H) (two-sided):                  0.00   Kurtosis:                        22.10\n",
      "===================================================================================\n",
      "\n",
      "Warnings:\n",
      "[1] Covariance matrix calculated using the outer product of gradients (complex-step).\n"
     ]
    }
   ],
   "source": [
    "print(cooling_arima_model_fit.summary())"
   ]
  },
  {
   "cell_type": "code",
   "execution_count": 76,
   "metadata": {},
   "outputs": [
    {
     "data": {
      "image/png": "[encoded data removed]",
      "text/plain": [
       "<Figure size 1000x800 with 2 Axes>"
      ]
     },
     "metadata": {},
     "output_type": "display_data"
    }
   ],
   "source": [
    "# Plot ACF and PACF\n",
    "\n",
    "fig, ax = plt.subplots(2, 1, figsize=(10, 8))\n",
    "plot_acf(cooling_arima_model_fit.resid, lags=50, ax=ax[0])\n",
    "plot_pacf(cooling_arima_model_fit.resid, lags=50, ax=ax[1])\n",
    "plt.title(\"ACF and PACF\")\n",
    "plt.tight_layout()\n",
    "plt.show()"
   ]
  },
  {
   "cell_type": "code",
   "execution_count": 77,
   "metadata": {},
   "outputs": [],
   "source": [
    "# Predict\n",
    "predictions = cooling_arima_model_fit.get_forecast(steps=len(cooling_endog_test), exog=cooling_exog_test)\n",
    "predicted_mean = predictions.predicted_mean\n",
    "predicted_conf_int = predictions.conf_int()\n",
    "lower_limits = predicted_conf_int.iloc[:, 0]\n",
    "upper_limits = predicted_conf_int.iloc[:, 1]\n",
    "predicted_mean = pd.Series(predicted_mean, index=cooling_endog_test.index)"
   ]
  },
  {
   "cell_type": "code",
   "execution_count": 78,
   "metadata": {},
   "outputs": [
    {
     "data": {
      "image/png": "[encoded data removed]",
      "text/plain": [
       "<Figure size 1000x500 with 1 Axes>"
      ]
     },
     "metadata": {},
     "output_type": "display_data"
    }
   ],
   "source": [
    "# Plot predictions\n",
    "plt.figure(figsize=(10, 5))\n",
    "plt.plot(cooling_endog_train.index, cooling_endog_train[\"setpoint\"], label=\"Train\")\n",
    "plt.plot(cooling_endog_test.index, cooling_endog_test[\"setpoint\"], label=\"Test\")\n",
    "plt.plot(predicted_mean.index, predicted_mean, label=\"Predicted\")\n",
    "plt.title(\"ARIMA Predictions\")\n",
    "plt.xlabel(\"Date\")\n",
    "plt.ylabel(\"Setpoint Value\")\n",
    "plt.legend()\n",
    "plt.xticks(rotation=45)\n",
    "plt.tight_layout()\n",
    "plt.show()"
   ]
  },
  {
   "cell_type": "code",
   "execution_count": 79,
   "metadata": {},
   "outputs": [
    {
     "name": "stdout",
     "output_type": "stream",
     "text": [
      "const                             69.500000\n",
      "temperature                        0.002301\n",
      "Direct Normal Radiation [W/m2]    -0.000072\n",
      "temperature_lag_1                 -0.002414\n",
      "consumption_lag_1                 -0.125335\n",
      "ar.L1                              0.979393\n",
      "ar.S.L24                           0.996084\n",
      "sigma2                             0.000199\n",
      "dtype: float64\n"
     ]
    }
   ],
   "source": [
    "# Print arima parameters\n",
    "print(cooling_arima_model_fit.params)"
   ]
  },
  {
   "cell_type": "markdown",
   "metadata": {},
   "source": [
    "# Linear Regression"
   ]
  },
  {
   "cell_type": "markdown",
   "metadata": {},
   "source": [
    "## Heating"
   ]
  },
  {
   "cell_type": "code",
   "execution_count": 80,
   "metadata": {},
   "outputs": [],
   "source": [
    "heating_train = pd.merge(heating_endog_train, heating_exog_train, left_index=True, right_index=True)\n",
    "heating_test = pd.merge(heating_endog_test, heating_exog_test, left_index=True, right_index=True)"
   ]
  },
  {
   "cell_type": "code",
   "execution_count": 81,
   "metadata": {},
   "outputs": [],
   "source": [
    "# Set heating labels to the setpoint column\n",
    "heating_train_labels = heating_train[\"setpoint\"].values\n",
    "heating_test_labels = heating_test[\"setpoint\"].values"
   ]
  },
  {
   "cell_type": "code",
   "execution_count": 82,
   "metadata": {},
   "outputs": [],
   "source": [
    "# Shift setpoint so that each column has the value of the previous hour\n",
    "heating_train[\"setpoint\"] = heating_train[\"setpoint\"].shift(1)\n",
    "heating_test[\"setpoint\"] = heating_test[\"setpoint\"].shift(1)\n",
    "\n",
    "heating_train.ffill(inplace=True)\n",
    "heating_test.ffill(inplace=True)\n",
    "heating_train.bfill(inplace=True)\n",
    "heating_test.bfill(inplace=True)"
   ]
  },
  {
   "cell_type": "code",
   "execution_count": 83,
   "metadata": {},
   "outputs": [],
   "source": [
    "class LinearRegressionDataset(Dataset):\n",
    "    def __init__(self, data, labels):\n",
    "        self.data = data\n",
    "        self.labels = labels\n",
    "    \n",
    "    def __len__(self):\n",
    "        return len(self.data)\n",
    "    \n",
    "    def __getitem__(self, idx):\n",
    "        return torch.tensor(self.data[idx], dtype=torch.float32), torch.tensor(self.labels[idx], dtype=torch.float32)\n",
    "    \n",
    "    def convert_to_numpy(self):\n",
    "        return self.data"
   ]
  },
  {
   "cell_type": "code",
   "execution_count": 84,
   "metadata": {},
   "outputs": [],
   "source": [
    "heating_lr_dataset_train = LinearRegressionDataset(heating_train.values, heating_train_labels)\n",
    "heating_lr_dataset_test = LinearRegressionDataset(heating_test.values, heating_test_labels)"
   ]
  },
  {
   "cell_type": "code",
   "execution_count": 85,
   "metadata": {},
   "outputs": [],
   "source": [
    "heating_lr_dataloader_train = DataLoader(heating_lr_dataset_train, batch_size=batch_size, shuffle=True)\n",
    "heating_lr_dataloader_test = DataLoader(heating_lr_dataset_test, batch_size=batch_size, shuffle=False)"
   ]
  },
  {
   "cell_type": "code",
   "execution_count": 86,
   "metadata": {},
   "outputs": [],
   "source": [
    "lr_heating_model = LinearRegressionModel(input_size=heating_train.shape[1], output_size=1, bias=False)"
   ]
  },
  {
   "cell_type": "code",
   "execution_count": 87,
   "metadata": {},
   "outputs": [],
   "source": [
    "# Loss and optimizer\n",
    "heating_lr_criterion = nn.MSELoss()\n",
    "heating_lr_optimizer = optim.Adam(lr_heating_model.parameters(), lr=0.0001)"
   ]
  },
  {
   "cell_type": "code",
   "execution_count": 88,
   "metadata": {},
   "outputs": [
    {
     "name": "stdout",
     "output_type": "stream",
     "text": [
      "Epoch 1/300, Loss: 9364.1282\n",
      "Epoch 2/300, Loss: 8833.8022\n",
      "Epoch 3/300, Loss: 8315.4476\n",
      "Epoch 4/300, Loss: 7832.2785\n",
      "Epoch 5/300, Loss: 7367.1433\n",
      "Epoch 6/300, Loss: 6915.1403\n",
      "Epoch 7/300, Loss: 6492.4174\n",
      "Epoch 8/300, Loss: 6085.7010\n",
      "Epoch 9/300, Loss: 5700.2036\n",
      "Epoch 10/300, Loss: 5335.2069\n",
      "Epoch 11/300, Loss: 4984.2408\n",
      "Epoch 12/300, Loss: 4651.0885\n",
      "Epoch 13/300, Loss: 4337.7809\n",
      "Epoch 14/300, Loss: 4040.9872\n",
      "Epoch 15/300, Loss: 3755.2034\n",
      "Epoch 16/300, Loss: 3487.5537\n",
      "Epoch 17/300, Loss: 3233.0960\n",
      "Epoch 18/300, Loss: 2993.5322\n",
      "Epoch 19/300, Loss: 2767.4909\n",
      "Epoch 20/300, Loss: 2553.7027\n",
      "Epoch 21/300, Loss: 2352.3984\n",
      "Epoch 22/300, Loss: 2164.6796\n",
      "Epoch 23/300, Loss: 1987.0182\n",
      "Epoch 24/300, Loss: 1821.6242\n",
      "Epoch 25/300, Loss: 1666.3093\n",
      "Epoch 26/300, Loss: 1521.2130\n",
      "Epoch 27/300, Loss: 1386.5491\n",
      "Epoch 28/300, Loss: 1260.5700\n",
      "Epoch 29/300, Loss: 1145.0761\n",
      "Epoch 30/300, Loss: 1037.1408\n",
      "Epoch 31/300, Loss: 937.6376\n",
      "Epoch 32/300, Loss: 846.3936\n",
      "Epoch 33/300, Loss: 762.5911\n",
      "Epoch 34/300, Loss: 685.5483\n",
      "Epoch 35/300, Loss: 615.4513\n",
      "Epoch 36/300, Loss: 552.2175\n",
      "Epoch 37/300, Loss: 494.4608\n",
      "Epoch 38/300, Loss: 442.6746\n",
      "Epoch 39/300, Loss: 396.3107\n",
      "Epoch 40/300, Loss: 354.7570\n",
      "Epoch 41/300, Loss: 318.0748\n",
      "Epoch 42/300, Loss: 285.2175\n",
      "Epoch 43/300, Loss: 256.5386\n",
      "Epoch 44/300, Loss: 231.6039\n",
      "Epoch 45/300, Loss: 210.0901\n",
      "Epoch 46/300, Loss: 191.3725\n",
      "Epoch 47/300, Loss: 175.3948\n",
      "Epoch 48/300, Loss: 162.0164\n",
      "Epoch 49/300, Loss: 150.3807\n",
      "Epoch 50/300, Loss: 140.7847\n",
      "Epoch 51/300, Loss: 132.8730\n",
      "Epoch 52/300, Loss: 126.4870\n",
      "Epoch 53/300, Loss: 120.9643\n",
      "Epoch 54/300, Loss: 116.5698\n",
      "Epoch 55/300, Loss: 112.9494\n",
      "Epoch 56/300, Loss: 110.0683\n",
      "Epoch 57/300, Loss: 107.3752\n",
      "Epoch 58/300, Loss: 105.1440\n",
      "Epoch 59/300, Loss: 102.9565\n",
      "Epoch 60/300, Loss: 101.1610\n",
      "Epoch 61/300, Loss: 99.4419\n",
      "Epoch 62/300, Loss: 97.8773\n",
      "Epoch 63/300, Loss: 96.2375\n",
      "Epoch 64/300, Loss: 94.4213\n",
      "Epoch 65/300, Loss: 92.7364\n",
      "Epoch 66/300, Loss: 91.0837\n",
      "Epoch 67/300, Loss: 89.2355\n",
      "Epoch 68/300, Loss: 87.3907\n",
      "Epoch 69/300, Loss: 85.5705\n",
      "Epoch 70/300, Loss: 83.7310\n",
      "Epoch 71/300, Loss: 81.8278\n",
      "Epoch 72/300, Loss: 79.6457\n",
      "Epoch 73/300, Loss: 77.6862\n",
      "Epoch 74/300, Loss: 75.4944\n",
      "Epoch 75/300, Loss: 73.4401\n",
      "Epoch 76/300, Loss: 71.2787\n",
      "Epoch 77/300, Loss: 69.0865\n",
      "Epoch 78/300, Loss: 66.8487\n",
      "Epoch 79/300, Loss: 64.6576\n",
      "Epoch 80/300, Loss: 62.2326\n",
      "Epoch 81/300, Loss: 60.0564\n",
      "Epoch 82/300, Loss: 57.7488\n",
      "Epoch 83/300, Loss: 55.4416\n",
      "Epoch 84/300, Loss: 53.2447\n",
      "Epoch 85/300, Loss: 50.8934\n",
      "Epoch 86/300, Loss: 48.6209\n",
      "Epoch 87/300, Loss: 46.3835\n",
      "Epoch 88/300, Loss: 44.1889\n",
      "Epoch 89/300, Loss: 42.0324\n",
      "Epoch 90/300, Loss: 39.8510\n",
      "Epoch 91/300, Loss: 37.7133\n",
      "Epoch 92/300, Loss: 35.6647\n",
      "Epoch 93/300, Loss: 33.6605\n",
      "Epoch 94/300, Loss: 31.6590\n",
      "Epoch 95/300, Loss: 29.7249\n",
      "Epoch 96/300, Loss: 27.8648\n",
      "Epoch 97/300, Loss: 26.0600\n",
      "Epoch 98/300, Loss: 24.3104\n",
      "Epoch 99/300, Loss: 22.6139\n",
      "Epoch 100/300, Loss: 21.0078\n",
      "Epoch 101/300, Loss: 19.4337\n",
      "Epoch 102/300, Loss: 17.9724\n",
      "Epoch 103/300, Loss: 16.5516\n",
      "Epoch 104/300, Loss: 15.1928\n",
      "Epoch 105/300, Loss: 13.8988\n",
      "Epoch 106/300, Loss: 12.6923\n",
      "Epoch 107/300, Loss: 11.5612\n",
      "Epoch 108/300, Loss: 10.4630\n",
      "Epoch 109/300, Loss: 9.4462\n",
      "Epoch 110/300, Loss: 8.4944\n",
      "Epoch 111/300, Loss: 7.6249\n",
      "Epoch 112/300, Loss: 6.8052\n",
      "Epoch 113/300, Loss: 6.0471\n",
      "Epoch 114/300, Loss: 5.3553\n",
      "Epoch 115/300, Loss: 4.7191\n",
      "Epoch 116/300, Loss: 4.1387\n",
      "Epoch 117/300, Loss: 3.6063\n",
      "Epoch 118/300, Loss: 3.1307\n",
      "Epoch 119/300, Loss: 2.7058\n",
      "Epoch 120/300, Loss: 2.3184\n",
      "Epoch 121/300, Loss: 1.9800\n",
      "Epoch 122/300, Loss: 1.6813\n",
      "Epoch 123/300, Loss: 1.4207\n",
      "Epoch 124/300, Loss: 1.1943\n",
      "Epoch 125/300, Loss: 1.0024\n",
      "Epoch 126/300, Loss: 0.8374\n",
      "Epoch 127/300, Loss: 0.6989\n",
      "Epoch 128/300, Loss: 0.5836\n",
      "Epoch 129/300, Loss: 0.4909\n",
      "Epoch 130/300, Loss: 0.4137\n",
      "Epoch 131/300, Loss: 0.3531\n",
      "Epoch 132/300, Loss: 0.3050\n",
      "Epoch 133/300, Loss: 0.2681\n",
      "Epoch 134/300, Loss: 0.2396\n",
      "Epoch 135/300, Loss: 0.2189\n",
      "Epoch 136/300, Loss: 0.2036\n",
      "Epoch 137/300, Loss: 0.1916\n",
      "Epoch 138/300, Loss: 0.1838\n",
      "Epoch 139/300, Loss: 0.1800\n",
      "Epoch 140/300, Loss: 0.1748\n",
      "Epoch 141/300, Loss: 0.1719\n",
      "Epoch 142/300, Loss: 0.1711\n",
      "Epoch 143/300, Loss: 0.1692\n",
      "Epoch 144/300, Loss: 0.1682\n",
      "Epoch 145/300, Loss: 0.1673\n",
      "Epoch 146/300, Loss: 0.1663\n",
      "Epoch 147/300, Loss: 0.1664\n",
      "Epoch 148/300, Loss: 0.1647\n",
      "Epoch 149/300, Loss: 0.1645\n",
      "Epoch 150/300, Loss: 0.1647\n",
      "Epoch 151/300, Loss: 0.1634\n",
      "Epoch 152/300, Loss: 0.1622\n",
      "Epoch 153/300, Loss: 0.1615\n",
      "Epoch 154/300, Loss: 0.1613\n",
      "Epoch 155/300, Loss: 0.1601\n",
      "Epoch 156/300, Loss: 0.1595\n",
      "Epoch 157/300, Loss: 0.1597\n",
      "Epoch 158/300, Loss: 0.1569\n",
      "Epoch 159/300, Loss: 0.1567\n",
      "Epoch 160/300, Loss: 0.1559\n",
      "Epoch 161/300, Loss: 0.1546\n",
      "Epoch 162/300, Loss: 0.1535\n",
      "Epoch 163/300, Loss: 0.1526\n",
      "Epoch 164/300, Loss: 0.1512\n",
      "Epoch 165/300, Loss: 0.1509\n",
      "Epoch 166/300, Loss: 0.1503\n",
      "Epoch 167/300, Loss: 0.1476\n",
      "Epoch 168/300, Loss: 0.1474\n",
      "Epoch 169/300, Loss: 0.1463\n",
      "Epoch 170/300, Loss: 0.1451\n",
      "Epoch 171/300, Loss: 0.1442\n",
      "Epoch 172/300, Loss: 0.1427\n",
      "Epoch 173/300, Loss: 0.1414\n",
      "Epoch 174/300, Loss: 0.1411\n",
      "Epoch 175/300, Loss: 0.1395\n",
      "Epoch 176/300, Loss: 0.1379\n",
      "Epoch 177/300, Loss: 0.1370\n",
      "Epoch 178/300, Loss: 0.1352\n",
      "Epoch 179/300, Loss: 0.1333\n",
      "Epoch 180/300, Loss: 0.1331\n",
      "Epoch 181/300, Loss: 0.1318\n",
      "Epoch 182/300, Loss: 0.1307\n",
      "Epoch 183/300, Loss: 0.1298\n",
      "Epoch 184/300, Loss: 0.1281\n",
      "Epoch 185/300, Loss: 0.1268\n",
      "Epoch 186/300, Loss: 0.1261\n",
      "Epoch 187/300, Loss: 0.1244\n",
      "Epoch 188/300, Loss: 0.1236\n",
      "Epoch 189/300, Loss: 0.1220\n",
      "Epoch 190/300, Loss: 0.1207\n",
      "Epoch 191/300, Loss: 0.1194\n",
      "Epoch 192/300, Loss: 0.1184\n",
      "Epoch 193/300, Loss: 0.1170\n",
      "Epoch 194/300, Loss: 0.1167\n",
      "Epoch 195/300, Loss: 0.1160\n",
      "Epoch 196/300, Loss: 0.1136\n",
      "Epoch 197/300, Loss: 0.1121\n",
      "Epoch 198/300, Loss: 0.1108\n",
      "Epoch 199/300, Loss: 0.1104\n",
      "Epoch 200/300, Loss: 0.1088\n",
      "Epoch 201/300, Loss: 0.1076\n",
      "Epoch 202/300, Loss: 0.1064\n",
      "Epoch 203/300, Loss: 0.1052\n",
      "Epoch 204/300, Loss: 0.1045\n",
      "Epoch 205/300, Loss: 0.1031\n",
      "Epoch 206/300, Loss: 0.1016\n",
      "Epoch 207/300, Loss: 0.1006\n",
      "Epoch 208/300, Loss: 0.0999\n",
      "Epoch 209/300, Loss: 0.0985\n",
      "Epoch 210/300, Loss: 0.0971\n",
      "Epoch 211/300, Loss: 0.0961\n",
      "Epoch 212/300, Loss: 0.0948\n",
      "Epoch 213/300, Loss: 0.0939\n",
      "Epoch 214/300, Loss: 0.0931\n",
      "Epoch 215/300, Loss: 0.0923\n",
      "Epoch 216/300, Loss: 0.0906\n",
      "Epoch 217/300, Loss: 0.0893\n",
      "Epoch 218/300, Loss: 0.0886\n",
      "Epoch 219/300, Loss: 0.0883\n",
      "Epoch 220/300, Loss: 0.0865\n",
      "Epoch 221/300, Loss: 0.0854\n",
      "Epoch 222/300, Loss: 0.0846\n",
      "Epoch 223/300, Loss: 0.0834\n",
      "Epoch 224/300, Loss: 0.0823\n",
      "Epoch 225/300, Loss: 0.0815\n",
      "Epoch 226/300, Loss: 0.0799\n",
      "Epoch 227/300, Loss: 0.0799\n",
      "Epoch 228/300, Loss: 0.0783\n",
      "Epoch 229/300, Loss: 0.0772\n",
      "Epoch 230/300, Loss: 0.0761\n",
      "Epoch 231/300, Loss: 0.0754\n",
      "Epoch 232/300, Loss: 0.0741\n",
      "Epoch 233/300, Loss: 0.0732\n",
      "Epoch 234/300, Loss: 0.0724\n",
      "Epoch 235/300, Loss: 0.0715\n",
      "Epoch 236/300, Loss: 0.0709\n",
      "Epoch 237/300, Loss: 0.0698\n",
      "Epoch 238/300, Loss: 0.0687\n",
      "Epoch 239/300, Loss: 0.0678\n",
      "Epoch 240/300, Loss: 0.0666\n",
      "Epoch 241/300, Loss: 0.0667\n",
      "Epoch 242/300, Loss: 0.0651\n",
      "Epoch 243/300, Loss: 0.0652\n",
      "Epoch 244/300, Loss: 0.0635\n",
      "Epoch 245/300, Loss: 0.0627\n",
      "Epoch 246/300, Loss: 0.0617\n",
      "Epoch 247/300, Loss: 0.0608\n",
      "Epoch 248/300, Loss: 0.0601\n",
      "Epoch 249/300, Loss: 0.0590\n",
      "Epoch 250/300, Loss: 0.0587\n",
      "Epoch 251/300, Loss: 0.0578\n",
      "Epoch 252/300, Loss: 0.0571\n",
      "Epoch 253/300, Loss: 0.0556\n",
      "Epoch 254/300, Loss: 0.0552\n",
      "Epoch 255/300, Loss: 0.0544\n",
      "Epoch 256/300, Loss: 0.0537\n",
      "Epoch 257/300, Loss: 0.0527\n",
      "Epoch 258/300, Loss: 0.0521\n",
      "Epoch 259/300, Loss: 0.0512\n",
      "Epoch 260/300, Loss: 0.0506\n",
      "Epoch 261/300, Loss: 0.0495\n",
      "Epoch 262/300, Loss: 0.0493\n",
      "Epoch 263/300, Loss: 0.0482\n",
      "Epoch 264/300, Loss: 0.0474\n",
      "Epoch 265/300, Loss: 0.0472\n",
      "Epoch 266/300, Loss: 0.0456\n",
      "Epoch 267/300, Loss: 0.0453\n",
      "Epoch 268/300, Loss: 0.0444\n",
      "Epoch 269/300, Loss: 0.0442\n",
      "Epoch 270/300, Loss: 0.0430\n",
      "Epoch 271/300, Loss: 0.0427\n",
      "Epoch 272/300, Loss: 0.0419\n",
      "Epoch 273/300, Loss: 0.0412\n",
      "Epoch 274/300, Loss: 0.0407\n",
      "Epoch 275/300, Loss: 0.0397\n",
      "Epoch 276/300, Loss: 0.0392\n",
      "Epoch 277/300, Loss: 0.0386\n",
      "Epoch 278/300, Loss: 0.0379\n",
      "Epoch 279/300, Loss: 0.0374\n",
      "Epoch 280/300, Loss: 0.0372\n",
      "Epoch 281/300, Loss: 0.0362\n",
      "Epoch 282/300, Loss: 0.0355\n",
      "Epoch 283/300, Loss: 0.0347\n",
      "Epoch 284/300, Loss: 0.0340\n",
      "Epoch 285/300, Loss: 0.0338\n",
      "Epoch 286/300, Loss: 0.0330\n",
      "Epoch 287/300, Loss: 0.0324\n",
      "Epoch 288/300, Loss: 0.0325\n",
      "Epoch 289/300, Loss: 0.0314\n",
      "Epoch 290/300, Loss: 0.0307\n",
      "Epoch 291/300, Loss: 0.0304\n",
      "Epoch 292/300, Loss: 0.0298\n",
      "Epoch 293/300, Loss: 0.0295\n",
      "Epoch 294/300, Loss: 0.0284\n",
      "Epoch 295/300, Loss: 0.0280\n",
      "Epoch 296/300, Loss: 0.0281\n",
      "Epoch 297/300, Loss: 0.0275\n",
      "Epoch 298/300, Loss: 0.0264\n",
      "Epoch 299/300, Loss: 0.0260\n",
      "Epoch 300/300, Loss: 0.0256\n"
     ]
    }
   ],
   "source": [
    "num_epochs = 300\n",
    "train(lr_heating_model, heating_lr_dataloader_train, heating_lr_criterion, heating_lr_optimizer, num_epochs)"
   ]
  },
  {
   "cell_type": "code",
   "execution_count": 89,
   "metadata": {},
   "outputs": [],
   "source": [
    "# predict\n",
    "heating_lr_predictions, heating_lr_actuals = evaluate(lr_heating_model, heating_lr_dataloader_test)"
   ]
  },
  {
   "cell_type": "code",
   "execution_count": 90,
   "metadata": {},
   "outputs": [
    {
     "data": {
      "image/png": "[encoded data removed]",
      "text/plain": [
       "<Figure size 1000x500 with 1 Axes>"
      ]
     },
     "metadata": {},
     "output_type": "display_data"
    }
   ],
   "source": [
    "# plot predictions\n",
    "plt.figure(figsize=(10, 5))\n",
    "plt.plot(heating_train.index, heating_train[\"setpoint\"], label=\"Train\")\n",
    "plt.plot(heating_test.index, heating_test[\"setpoint\"], label=\"Test\")\n",
    "plt.plot(heating_test.index, heating_lr_predictions, label=\"Predicted\")\n",
    "plt.title(\"Linear Regression Predictions\")\n",
    "plt.xlabel(\"Date\")\n",
    "plt.ylabel(\"Setpoint Value\")\n",
    "plt.legend()\n",
    "plt.xticks(rotation=45)\n",
    "plt.tight_layout()\n",
    "plt.show()"
   ]
  },
  {
   "cell_type": "markdown",
   "metadata": {},
   "source": [
    "## Cooling"
   ]
  },
  {
   "cell_type": "code",
   "execution_count": 91,
   "metadata": {},
   "outputs": [],
   "source": [
    "cooling_train = pd.merge(cooling_endog_train, cooling_exog_train, left_index=True, right_index=True)\n",
    "cooling_test = pd.merge(cooling_endog_test, cooling_exog_test, left_index=True, right_index=True)"
   ]
  },
  {
   "cell_type": "code",
   "execution_count": 92,
   "metadata": {},
   "outputs": [],
   "source": [
    "cooling_train_labels = cooling_train[\"setpoint\"].values\n",
    "cooling_test_labels = cooling_test[\"setpoint\"].values"
   ]
  },
  {
   "cell_type": "code",
   "execution_count": 93,
   "metadata": {},
   "outputs": [],
   "source": [
    "cooling_train[\"setpoint\"] = cooling_train[\"setpoint\"].shift(1)\n",
    "cooling_test[\"setpoint\"] = cooling_test[\"setpoint\"].shift(1)\n",
    "cooling_train.ffill(inplace=True)\n",
    "cooling_test.ffill(inplace=True)\n",
    "cooling_train.bfill(inplace=True)\n",
    "cooling_test.bfill(inplace=True)"
   ]
  },
  {
   "cell_type": "code",
   "execution_count": 94,
   "metadata": {},
   "outputs": [],
   "source": [
    "cooling_lr_dataset_train = LinearRegressionDataset(cooling_train.values, cooling_train_labels)\n",
    "cooling_lr_dataset_test = LinearRegressionDataset(cooling_test.values, cooling_test_labels)"
   ]
  },
  {
   "cell_type": "code",
   "execution_count": 95,
   "metadata": {},
   "outputs": [],
   "source": [
    "cooling_lr_dataloader_train = DataLoader(cooling_lr_dataset_train, batch_size=batch_size, shuffle=True)\n",
    "cooling_lr_dataloader_test = DataLoader(cooling_lr_dataset_test, batch_size=batch_size, shuffle=False)"
   ]
  },
  {
   "cell_type": "code",
   "execution_count": 96,
   "metadata": {},
   "outputs": [],
   "source": [
    "lr_cooling_model = LinearRegressionModel(input_size=cooling_train.shape[1], output_size=1, bias=False)"
   ]
  },
  {
   "cell_type": "code",
   "execution_count": 97,
   "metadata": {},
   "outputs": [],
   "source": [
    "cooling_lr_criterion = nn.MSELoss()\n",
    "cooling_lr_optimizer = optim.Adam(lr_cooling_model.parameters(), lr=0.0001)"
   ]
  },
  {
   "cell_type": "code",
   "execution_count": 98,
   "metadata": {},
   "outputs": [
    {
     "name": "stdout",
     "output_type": "stream",
     "text": [
      "Epoch 1/550, Loss: 19525.3616\n",
      "Epoch 2/550, Loss: 18877.2739\n",
      "Epoch 3/550, Loss: 18249.3770\n",
      "Epoch 4/550, Loss: 17601.7451\n",
      "Epoch 5/550, Loss: 17005.9797\n",
      "Epoch 6/550, Loss: 16396.6800\n",
      "Epoch 7/550, Loss: 15836.5297\n",
      "Epoch 8/550, Loss: 15276.0615\n",
      "Epoch 9/550, Loss: 14735.6726\n",
      "Epoch 10/550, Loss: 14202.3339\n",
      "Epoch 11/550, Loss: 13688.9577\n",
      "Epoch 12/550, Loss: 13200.6236\n",
      "Epoch 13/550, Loss: 12699.0072\n",
      "Epoch 14/550, Loss: 12229.6139\n",
      "Epoch 15/550, Loss: 11765.9927\n",
      "Epoch 16/550, Loss: 11330.9064\n",
      "Epoch 17/550, Loss: 10894.4581\n",
      "Epoch 18/550, Loss: 10481.1845\n",
      "Epoch 19/550, Loss: 10064.5994\n",
      "Epoch 20/550, Loss: 9655.9617\n",
      "Epoch 21/550, Loss: 9284.1542\n",
      "Epoch 22/550, Loss: 8909.4894\n",
      "Epoch 23/550, Loss: 8546.2956\n",
      "Epoch 24/550, Loss: 8196.4101\n",
      "Epoch 25/550, Loss: 7864.3336\n",
      "Epoch 26/550, Loss: 7536.7161\n",
      "Epoch 27/550, Loss: 7225.0994\n",
      "Epoch 28/550, Loss: 6911.4502\n",
      "Epoch 29/550, Loss: 6609.7488\n",
      "Epoch 30/550, Loss: 6325.7125\n",
      "Epoch 31/550, Loss: 6043.4421\n",
      "Epoch 32/550, Loss: 5779.0076\n",
      "Epoch 33/550, Loss: 5517.5564\n",
      "Epoch 34/550, Loss: 5264.8851\n",
      "Epoch 35/550, Loss: 5023.8037\n",
      "Epoch 36/550, Loss: 4791.5588\n",
      "Epoch 37/550, Loss: 4572.7956\n",
      "Epoch 38/550, Loss: 4358.7556\n",
      "Epoch 39/550, Loss: 4150.2045\n",
      "Epoch 40/550, Loss: 3950.9388\n",
      "Epoch 41/550, Loss: 3755.3751\n",
      "Epoch 42/550, Loss: 3574.6739\n",
      "Epoch 43/550, Loss: 3395.9517\n",
      "Epoch 44/550, Loss: 3226.2625\n",
      "Epoch 45/550, Loss: 3061.7953\n",
      "Epoch 46/550, Loss: 2905.7701\n",
      "Epoch 47/550, Loss: 2754.5517\n",
      "Epoch 48/550, Loss: 2618.7994\n",
      "Epoch 49/550, Loss: 2478.9531\n",
      "Epoch 50/550, Loss: 2348.5583\n",
      "Epoch 51/550, Loss: 2220.9369\n",
      "Epoch 52/550, Loss: 2103.1661\n",
      "Epoch 53/550, Loss: 1990.2219\n",
      "Epoch 54/550, Loss: 1882.6077\n",
      "Epoch 55/550, Loss: 1779.2439\n",
      "Epoch 56/550, Loss: 1680.9868\n",
      "Epoch 57/550, Loss: 1587.5809\n",
      "Epoch 58/550, Loss: 1498.6462\n",
      "Epoch 59/550, Loss: 1414.5711\n",
      "Epoch 60/550, Loss: 1334.3142\n",
      "Epoch 61/550, Loss: 1260.1882\n",
      "Epoch 62/550, Loss: 1187.9039\n",
      "Epoch 63/550, Loss: 1120.7263\n",
      "Epoch 64/550, Loss: 1057.5462\n",
      "Epoch 65/550, Loss: 996.7580\n",
      "Epoch 66/550, Loss: 940.5358\n",
      "Epoch 67/550, Loss: 886.9924\n",
      "Epoch 68/550, Loss: 838.0561\n",
      "Epoch 69/550, Loss: 789.9329\n",
      "Epoch 70/550, Loss: 746.0000\n",
      "Epoch 71/550, Loss: 704.1545\n",
      "Epoch 72/550, Loss: 665.1125\n",
      "Epoch 73/550, Loss: 629.5227\n",
      "Epoch 74/550, Loss: 594.0844\n",
      "Epoch 75/550, Loss: 561.8118\n",
      "Epoch 76/550, Loss: 531.9660\n",
      "Epoch 77/550, Loss: 504.0659\n",
      "Epoch 78/550, Loss: 477.0316\n",
      "Epoch 79/550, Loss: 452.8375\n",
      "Epoch 80/550, Loss: 430.2471\n",
      "Epoch 81/550, Loss: 408.7533\n",
      "Epoch 82/550, Loss: 388.3608\n",
      "Epoch 83/550, Loss: 369.3846\n",
      "Epoch 84/550, Loss: 351.4157\n",
      "Epoch 85/550, Loss: 335.1038\n",
      "Epoch 86/550, Loss: 319.2328\n",
      "Epoch 87/550, Loss: 304.8446\n",
      "Epoch 88/550, Loss: 291.3787\n",
      "Epoch 89/550, Loss: 278.2525\n",
      "Epoch 90/550, Loss: 266.1800\n",
      "Epoch 91/550, Loss: 254.6872\n",
      "Epoch 92/550, Loss: 243.9118\n",
      "Epoch 93/550, Loss: 233.5409\n",
      "Epoch 94/550, Loss: 224.0150\n",
      "Epoch 95/550, Loss: 214.7885\n",
      "Epoch 96/550, Loss: 206.0390\n",
      "Epoch 97/550, Loss: 197.6278\n",
      "Epoch 98/550, Loss: 189.7536\n",
      "Epoch 99/550, Loss: 181.9300\n",
      "Epoch 100/550, Loss: 174.8651\n",
      "Epoch 101/550, Loss: 167.8610\n",
      "Epoch 102/550, Loss: 161.2155\n",
      "Epoch 103/550, Loss: 154.7984\n",
      "Epoch 104/550, Loss: 148.5692\n",
      "Epoch 105/550, Loss: 142.7184\n",
      "Epoch 106/550, Loss: 137.0204\n",
      "Epoch 107/550, Loss: 131.6034\n",
      "Epoch 108/550, Loss: 126.2918\n",
      "Epoch 109/550, Loss: 121.1832\n",
      "Epoch 110/550, Loss: 116.2463\n",
      "Epoch 111/550, Loss: 111.5489\n",
      "Epoch 112/550, Loss: 107.0713\n",
      "Epoch 113/550, Loss: 102.6678\n",
      "Epoch 114/550, Loss: 98.5291\n",
      "Epoch 115/550, Loss: 94.4249\n",
      "Epoch 116/550, Loss: 90.6046\n",
      "Epoch 117/550, Loss: 86.8546\n",
      "Epoch 118/550, Loss: 83.3292\n",
      "Epoch 119/550, Loss: 79.9606\n",
      "Epoch 120/550, Loss: 76.7388\n",
      "Epoch 121/550, Loss: 73.6546\n",
      "Epoch 122/550, Loss: 70.6887\n",
      "Epoch 123/550, Loss: 67.8499\n",
      "Epoch 124/550, Loss: 65.1638\n",
      "Epoch 125/550, Loss: 62.6349\n",
      "Epoch 126/550, Loss: 60.1441\n",
      "Epoch 127/550, Loss: 57.8786\n",
      "Epoch 128/550, Loss: 55.7977\n",
      "Epoch 129/550, Loss: 53.6616\n",
      "Epoch 130/550, Loss: 51.7249\n",
      "Epoch 131/550, Loss: 49.9797\n",
      "Epoch 132/550, Loss: 48.3217\n",
      "Epoch 133/550, Loss: 46.7223\n",
      "Epoch 134/550, Loss: 45.2282\n",
      "Epoch 135/550, Loss: 43.8232\n",
      "Epoch 136/550, Loss: 42.4715\n",
      "Epoch 137/550, Loss: 41.2728\n",
      "Epoch 138/550, Loss: 40.2301\n",
      "Epoch 139/550, Loss: 39.1190\n",
      "Epoch 140/550, Loss: 38.2065\n",
      "Epoch 141/550, Loss: 37.2881\n",
      "Epoch 142/550, Loss: 36.4478\n",
      "Epoch 143/550, Loss: 35.6709\n",
      "Epoch 144/550, Loss: 35.0014\n",
      "Epoch 145/550, Loss: 34.3656\n",
      "Epoch 146/550, Loss: 33.7890\n",
      "Epoch 147/550, Loss: 33.2665\n",
      "Epoch 148/550, Loss: 32.7549\n",
      "Epoch 149/550, Loss: 32.3208\n",
      "Epoch 150/550, Loss: 31.9707\n",
      "Epoch 151/550, Loss: 31.5409\n",
      "Epoch 152/550, Loss: 31.2224\n",
      "Epoch 153/550, Loss: 30.9677\n",
      "Epoch 154/550, Loss: 30.6971\n",
      "Epoch 155/550, Loss: 30.4738\n",
      "Epoch 156/550, Loss: 30.1962\n",
      "Epoch 157/550, Loss: 30.0133\n",
      "Epoch 158/550, Loss: 29.8522\n",
      "Epoch 159/550, Loss: 29.7040\n",
      "Epoch 160/550, Loss: 29.5190\n",
      "Epoch 161/550, Loss: 29.4015\n",
      "Epoch 162/550, Loss: 29.2313\n",
      "Epoch 163/550, Loss: 29.1758\n",
      "Epoch 164/550, Loss: 29.0918\n",
      "Epoch 165/550, Loss: 28.9796\n",
      "Epoch 166/550, Loss: 28.8303\n",
      "Epoch 167/550, Loss: 28.7362\n",
      "Epoch 168/550, Loss: 28.6814\n",
      "Epoch 169/550, Loss: 28.6209\n",
      "Epoch 170/550, Loss: 28.5527\n",
      "Epoch 171/550, Loss: 28.4749\n",
      "Epoch 172/550, Loss: 28.4610\n",
      "Epoch 173/550, Loss: 28.3527\n",
      "Epoch 174/550, Loss: 28.3054\n",
      "Epoch 175/550, Loss: 28.2701\n",
      "Epoch 176/550, Loss: 28.0982\n",
      "Epoch 177/550, Loss: 28.0732\n",
      "Epoch 178/550, Loss: 27.9588\n",
      "Epoch 179/550, Loss: 27.9395\n",
      "Epoch 180/550, Loss: 27.8761\n",
      "Epoch 181/550, Loss: 27.8036\n",
      "Epoch 182/550, Loss: 27.7391\n",
      "Epoch 183/550, Loss: 27.7009\n",
      "Epoch 184/550, Loss: 27.5719\n",
      "Epoch 185/550, Loss: 27.5105\n",
      "Epoch 186/550, Loss: 27.4278\n",
      "Epoch 187/550, Loss: 27.4054\n",
      "Epoch 188/550, Loss: 27.3071\n",
      "Epoch 189/550, Loss: 27.2567\n",
      "Epoch 190/550, Loss: 27.1715\n",
      "Epoch 191/550, Loss: 27.0900\n",
      "Epoch 192/550, Loss: 27.0142\n",
      "Epoch 193/550, Loss: 26.9019\n",
      "Epoch 194/550, Loss: 26.8207\n",
      "Epoch 195/550, Loss: 26.7873\n",
      "Epoch 196/550, Loss: 26.7108\n",
      "Epoch 197/550, Loss: 26.5948\n",
      "Epoch 198/550, Loss: 26.5350\n",
      "Epoch 199/550, Loss: 26.4056\n",
      "Epoch 200/550, Loss: 26.3410\n",
      "Epoch 201/550, Loss: 26.2422\n",
      "Epoch 202/550, Loss: 26.1759\n",
      "Epoch 203/550, Loss: 26.0887\n",
      "Epoch 204/550, Loss: 25.9824\n",
      "Epoch 205/550, Loss: 25.8626\n",
      "Epoch 206/550, Loss: 25.7330\n",
      "Epoch 207/550, Loss: 25.6768\n",
      "Epoch 208/550, Loss: 25.5882\n",
      "Epoch 209/550, Loss: 25.4423\n",
      "Epoch 210/550, Loss: 25.3469\n",
      "Epoch 211/550, Loss: 25.2495\n",
      "Epoch 212/550, Loss: 25.1157\n",
      "Epoch 213/550, Loss: 25.1085\n",
      "Epoch 214/550, Loss: 24.8967\n",
      "Epoch 215/550, Loss: 24.7764\n",
      "Epoch 216/550, Loss: 24.6991\n",
      "Epoch 217/550, Loss: 24.6073\n",
      "Epoch 218/550, Loss: 24.4778\n",
      "Epoch 219/550, Loss: 24.3608\n",
      "Epoch 220/550, Loss: 24.2835\n",
      "Epoch 221/550, Loss: 24.1090\n",
      "Epoch 222/550, Loss: 23.9570\n",
      "Epoch 223/550, Loss: 23.8580\n",
      "Epoch 224/550, Loss: 23.7718\n",
      "Epoch 225/550, Loss: 23.6559\n",
      "Epoch 226/550, Loss: 23.5245\n",
      "Epoch 227/550, Loss: 23.3986\n",
      "Epoch 228/550, Loss: 23.2337\n",
      "Epoch 229/550, Loss: 23.1247\n",
      "Epoch 230/550, Loss: 22.9944\n",
      "Epoch 231/550, Loss: 22.8552\n",
      "Epoch 232/550, Loss: 22.7186\n",
      "Epoch 233/550, Loss: 22.5431\n",
      "Epoch 234/550, Loss: 22.4361\n",
      "Epoch 235/550, Loss: 22.3228\n",
      "Epoch 236/550, Loss: 22.1266\n",
      "Epoch 237/550, Loss: 22.0348\n",
      "Epoch 238/550, Loss: 21.8874\n",
      "Epoch 239/550, Loss: 21.7499\n",
      "Epoch 240/550, Loss: 21.6225\n",
      "Epoch 241/550, Loss: 21.4273\n",
      "Epoch 242/550, Loss: 21.3458\n",
      "Epoch 243/550, Loss: 21.1684\n",
      "Epoch 244/550, Loss: 21.0411\n",
      "Epoch 245/550, Loss: 20.9246\n",
      "Epoch 246/550, Loss: 20.7432\n",
      "Epoch 247/550, Loss: 20.5885\n",
      "Epoch 248/550, Loss: 20.5169\n",
      "Epoch 249/550, Loss: 20.3095\n",
      "Epoch 250/550, Loss: 20.1879\n",
      "Epoch 251/550, Loss: 20.0211\n",
      "Epoch 252/550, Loss: 19.8813\n",
      "Epoch 253/550, Loss: 19.7233\n",
      "Epoch 254/550, Loss: 19.5664\n",
      "Epoch 255/550, Loss: 19.3777\n",
      "Epoch 256/550, Loss: 19.2457\n",
      "Epoch 257/550, Loss: 19.1186\n",
      "Epoch 258/550, Loss: 18.9675\n",
      "Epoch 259/550, Loss: 18.8409\n",
      "Epoch 260/550, Loss: 18.6525\n",
      "Epoch 261/550, Loss: 18.5337\n",
      "Epoch 262/550, Loss: 18.3786\n",
      "Epoch 263/550, Loss: 18.1857\n",
      "Epoch 264/550, Loss: 18.0632\n",
      "Epoch 265/550, Loss: 17.9151\n",
      "Epoch 266/550, Loss: 17.7550\n",
      "Epoch 267/550, Loss: 17.6130\n",
      "Epoch 268/550, Loss: 17.4652\n",
      "Epoch 269/550, Loss: 17.3399\n",
      "Epoch 270/550, Loss: 17.1651\n",
      "Epoch 271/550, Loss: 17.0003\n",
      "Epoch 272/550, Loss: 16.8813\n",
      "Epoch 273/550, Loss: 16.7086\n",
      "Epoch 274/550, Loss: 16.5690\n",
      "Epoch 275/550, Loss: 16.4560\n",
      "Epoch 276/550, Loss: 16.2720\n",
      "Epoch 277/550, Loss: 16.1429\n",
      "Epoch 278/550, Loss: 15.9697\n",
      "Epoch 279/550, Loss: 15.8388\n",
      "Epoch 280/550, Loss: 15.6733\n",
      "Epoch 281/550, Loss: 15.5041\n",
      "Epoch 282/550, Loss: 15.3827\n",
      "Epoch 283/550, Loss: 15.2124\n",
      "Epoch 284/550, Loss: 15.0710\n",
      "Epoch 285/550, Loss: 14.9614\n",
      "Epoch 286/550, Loss: 14.8015\n",
      "Epoch 287/550, Loss: 14.6821\n",
      "Epoch 288/550, Loss: 14.5329\n",
      "Epoch 289/550, Loss: 14.3686\n",
      "Epoch 290/550, Loss: 14.2358\n",
      "Epoch 291/550, Loss: 14.0696\n",
      "Epoch 292/550, Loss: 13.9681\n",
      "Epoch 293/550, Loss: 13.8206\n",
      "Epoch 294/550, Loss: 13.6985\n",
      "Epoch 295/550, Loss: 13.5569\n",
      "Epoch 296/550, Loss: 13.4191\n",
      "Epoch 297/550, Loss: 13.2746\n",
      "Epoch 298/550, Loss: 13.1328\n",
      "Epoch 299/550, Loss: 12.9855\n",
      "Epoch 300/550, Loss: 12.8550\n",
      "Epoch 301/550, Loss: 12.7280\n",
      "Epoch 302/550, Loss: 12.6101\n",
      "Epoch 303/550, Loss: 12.4636\n",
      "Epoch 304/550, Loss: 12.3440\n",
      "Epoch 305/550, Loss: 12.1854\n",
      "Epoch 306/550, Loss: 12.0240\n",
      "Epoch 307/550, Loss: 11.9660\n",
      "Epoch 308/550, Loss: 11.8174\n",
      "Epoch 309/550, Loss: 11.6942\n",
      "Epoch 310/550, Loss: 11.5649\n",
      "Epoch 311/550, Loss: 11.4515\n",
      "Epoch 312/550, Loss: 11.2845\n",
      "Epoch 313/550, Loss: 11.1823\n",
      "Epoch 314/550, Loss: 11.0334\n",
      "Epoch 315/550, Loss: 10.9403\n",
      "Epoch 316/550, Loss: 10.8186\n",
      "Epoch 317/550, Loss: 10.6976\n",
      "Epoch 318/550, Loss: 10.5790\n",
      "Epoch 319/550, Loss: 10.4562\n",
      "Epoch 320/550, Loss: 10.3351\n",
      "Epoch 321/550, Loss: 10.2165\n",
      "Epoch 322/550, Loss: 10.0861\n",
      "Epoch 323/550, Loss: 10.0030\n",
      "Epoch 324/550, Loss: 9.8515\n",
      "Epoch 325/550, Loss: 9.7383\n",
      "Epoch 326/550, Loss: 9.6378\n",
      "Epoch 327/550, Loss: 9.5265\n",
      "Epoch 328/550, Loss: 9.4157\n",
      "Epoch 329/550, Loss: 9.3107\n",
      "Epoch 330/550, Loss: 9.2099\n",
      "Epoch 331/550, Loss: 9.0866\n",
      "Epoch 332/550, Loss: 8.9633\n",
      "Epoch 333/550, Loss: 8.8575\n",
      "Epoch 334/550, Loss: 8.7469\n",
      "Epoch 335/550, Loss: 8.6611\n",
      "Epoch 336/550, Loss: 8.5509\n",
      "Epoch 337/550, Loss: 8.4471\n",
      "Epoch 338/550, Loss: 8.3389\n",
      "Epoch 339/550, Loss: 8.2359\n",
      "Epoch 340/550, Loss: 8.1578\n",
      "Epoch 341/550, Loss: 8.0358\n",
      "Epoch 342/550, Loss: 7.9401\n",
      "Epoch 343/550, Loss: 7.8209\n",
      "Epoch 344/550, Loss: 7.7332\n",
      "Epoch 345/550, Loss: 7.6645\n",
      "Epoch 346/550, Loss: 7.5674\n",
      "Epoch 347/550, Loss: 7.4377\n",
      "Epoch 348/550, Loss: 7.3624\n",
      "Epoch 349/550, Loss: 7.2600\n",
      "Epoch 350/550, Loss: 7.1738\n",
      "Epoch 351/550, Loss: 7.0690\n",
      "Epoch 352/550, Loss: 6.9733\n",
      "Epoch 353/550, Loss: 6.8959\n",
      "Epoch 354/550, Loss: 6.8017\n",
      "Epoch 355/550, Loss: 6.6961\n",
      "Epoch 356/550, Loss: 6.6243\n",
      "Epoch 357/550, Loss: 6.5438\n",
      "Epoch 358/550, Loss: 6.4494\n",
      "Epoch 359/550, Loss: 6.3668\n",
      "Epoch 360/550, Loss: 6.2787\n",
      "Epoch 361/550, Loss: 6.1832\n",
      "Epoch 362/550, Loss: 6.1058\n",
      "Epoch 363/550, Loss: 6.0424\n",
      "Epoch 364/550, Loss: 5.9613\n",
      "Epoch 365/550, Loss: 5.8860\n",
      "Epoch 366/550, Loss: 5.7931\n",
      "Epoch 367/550, Loss: 5.7063\n",
      "Epoch 368/550, Loss: 5.6614\n",
      "Epoch 369/550, Loss: 5.5779\n",
      "Epoch 370/550, Loss: 5.4948\n",
      "Epoch 371/550, Loss: 5.4193\n",
      "Epoch 372/550, Loss: 5.3325\n",
      "Epoch 373/550, Loss: 5.2666\n",
      "Epoch 374/550, Loss: 5.1699\n",
      "Epoch 375/550, Loss: 5.1300\n",
      "Epoch 376/550, Loss: 5.0631\n",
      "Epoch 377/550, Loss: 4.9828\n",
      "Epoch 378/550, Loss: 4.9434\n",
      "Epoch 379/550, Loss: 4.8524\n",
      "Epoch 380/550, Loss: 4.7969\n",
      "Epoch 381/550, Loss: 4.7256\n",
      "Epoch 382/550, Loss: 4.6573\n",
      "Epoch 383/550, Loss: 4.5913\n",
      "Epoch 384/550, Loss: 4.5236\n",
      "Epoch 385/550, Loss: 4.4652\n",
      "Epoch 386/550, Loss: 4.3962\n",
      "Epoch 387/550, Loss: 4.3445\n",
      "Epoch 388/550, Loss: 4.2843\n",
      "Epoch 389/550, Loss: 4.2265\n",
      "Epoch 390/550, Loss: 4.1634\n",
      "Epoch 391/550, Loss: 4.1014\n",
      "Epoch 392/550, Loss: 4.0771\n",
      "Epoch 393/550, Loss: 3.9989\n",
      "Epoch 394/550, Loss: 3.9427\n",
      "Epoch 395/550, Loss: 3.8820\n",
      "Epoch 396/550, Loss: 3.8231\n",
      "Epoch 397/550, Loss: 3.7830\n",
      "Epoch 398/550, Loss: 3.7422\n",
      "Epoch 399/550, Loss: 3.6921\n",
      "Epoch 400/550, Loss: 3.6179\n",
      "Epoch 401/550, Loss: 3.5857\n",
      "Epoch 402/550, Loss: 3.5310\n",
      "Epoch 403/550, Loss: 3.4845\n",
      "Epoch 404/550, Loss: 3.4307\n",
      "Epoch 405/550, Loss: 3.3888\n",
      "Epoch 406/550, Loss: 3.3332\n",
      "Epoch 407/550, Loss: 3.2911\n",
      "Epoch 408/550, Loss: 3.2645\n",
      "Epoch 409/550, Loss: 3.2192\n",
      "Epoch 410/550, Loss: 3.1709\n",
      "Epoch 411/550, Loss: 3.1243\n",
      "Epoch 412/550, Loss: 3.1065\n",
      "Epoch 413/550, Loss: 3.0605\n",
      "Epoch 414/550, Loss: 3.0226\n",
      "Epoch 415/550, Loss: 2.9838\n",
      "Epoch 416/550, Loss: 2.9431\n",
      "Epoch 417/550, Loss: 2.9120\n",
      "Epoch 418/550, Loss: 2.8728\n",
      "Epoch 419/550, Loss: 2.8258\n",
      "Epoch 420/550, Loss: 2.8097\n",
      "Epoch 421/550, Loss: 2.7686\n",
      "Epoch 422/550, Loss: 2.7341\n",
      "Epoch 423/550, Loss: 2.7000\n",
      "Epoch 424/550, Loss: 2.6640\n",
      "Epoch 425/550, Loss: 2.6269\n",
      "Epoch 426/550, Loss: 2.6105\n",
      "Epoch 427/550, Loss: 2.5694\n",
      "Epoch 428/550, Loss: 2.5512\n",
      "Epoch 429/550, Loss: 2.5151\n",
      "Epoch 430/550, Loss: 2.4892\n",
      "Epoch 431/550, Loss: 2.4729\n",
      "Epoch 432/550, Loss: 2.4342\n",
      "Epoch 433/550, Loss: 2.4008\n",
      "Epoch 434/550, Loss: 2.3746\n",
      "Epoch 435/550, Loss: 2.3686\n",
      "Epoch 436/550, Loss: 2.3271\n",
      "Epoch 437/550, Loss: 2.3060\n",
      "Epoch 438/550, Loss: 2.2806\n",
      "Epoch 439/550, Loss: 2.2570\n",
      "Epoch 440/550, Loss: 2.2358\n",
      "Epoch 441/550, Loss: 2.2193\n",
      "Epoch 442/550, Loss: 2.2027\n",
      "Epoch 443/550, Loss: 2.1622\n",
      "Epoch 444/550, Loss: 2.1570\n",
      "Epoch 445/550, Loss: 2.1334\n",
      "Epoch 446/550, Loss: 2.1262\n",
      "Epoch 447/550, Loss: 2.0997\n",
      "Epoch 448/550, Loss: 2.0844\n",
      "Epoch 449/550, Loss: 2.0532\n",
      "Epoch 450/550, Loss: 2.0400\n",
      "Epoch 451/550, Loss: 2.0271\n",
      "Epoch 452/550, Loss: 2.0146\n",
      "Epoch 453/550, Loss: 1.9998\n",
      "Epoch 454/550, Loss: 1.9681\n",
      "Epoch 455/550, Loss: 1.9607\n",
      "Epoch 456/550, Loss: 1.9506\n",
      "Epoch 457/550, Loss: 1.9333\n",
      "Epoch 458/550, Loss: 1.9298\n",
      "Epoch 459/550, Loss: 1.9145\n",
      "Epoch 460/550, Loss: 1.9005\n",
      "Epoch 461/550, Loss: 1.8876\n",
      "Epoch 462/550, Loss: 1.8820\n",
      "Epoch 463/550, Loss: 1.8661\n",
      "Epoch 464/550, Loss: 1.8566\n",
      "Epoch 465/550, Loss: 1.8477\n",
      "Epoch 466/550, Loss: 1.8332\n",
      "Epoch 467/550, Loss: 1.8254\n",
      "Epoch 468/550, Loss: 1.8216\n",
      "Epoch 469/550, Loss: 1.8020\n",
      "Epoch 470/550, Loss: 1.7997\n",
      "Epoch 471/550, Loss: 1.7904\n",
      "Epoch 472/550, Loss: 1.7756\n",
      "Epoch 473/550, Loss: 1.7718\n",
      "Epoch 474/550, Loss: 1.7638\n",
      "Epoch 475/550, Loss: 1.7615\n",
      "Epoch 476/550, Loss: 1.7455\n",
      "Epoch 477/550, Loss: 1.7435\n",
      "Epoch 478/550, Loss: 1.7417\n",
      "Epoch 479/550, Loss: 1.7340\n",
      "Epoch 480/550, Loss: 1.7265\n",
      "Epoch 481/550, Loss: 1.7188\n",
      "Epoch 482/550, Loss: 1.7085\n",
      "Epoch 483/550, Loss: 1.7139\n",
      "Epoch 484/550, Loss: 1.7030\n",
      "Epoch 485/550, Loss: 1.6916\n",
      "Epoch 486/550, Loss: 1.6990\n",
      "Epoch 487/550, Loss: 1.6849\n",
      "Epoch 488/550, Loss: 1.6891\n",
      "Epoch 489/550, Loss: 1.6715\n",
      "Epoch 490/550, Loss: 1.6780\n",
      "Epoch 491/550, Loss: 1.6833\n",
      "Epoch 492/550, Loss: 1.6662\n",
      "Epoch 493/550, Loss: 1.6688\n",
      "Epoch 494/550, Loss: 1.6593\n",
      "Epoch 495/550, Loss: 1.6630\n",
      "Epoch 496/550, Loss: 1.6549\n",
      "Epoch 497/550, Loss: 1.6576\n",
      "Epoch 498/550, Loss: 1.6522\n",
      "Epoch 499/550, Loss: 1.6576\n",
      "Epoch 500/550, Loss: 1.6492\n",
      "Epoch 501/550, Loss: 1.6406\n",
      "Epoch 502/550, Loss: 1.6446\n",
      "Epoch 503/550, Loss: 1.6446\n",
      "Epoch 504/550, Loss: 1.6402\n",
      "Epoch 505/550, Loss: 1.6402\n",
      "Epoch 506/550, Loss: 1.6375\n",
      "Epoch 507/550, Loss: 1.6320\n",
      "Epoch 508/550, Loss: 1.6388\n",
      "Epoch 509/550, Loss: 1.6399\n",
      "Epoch 510/550, Loss: 1.6320\n",
      "Epoch 511/550, Loss: 1.6271\n",
      "Epoch 512/550, Loss: 1.6298\n",
      "Epoch 513/550, Loss: 1.6233\n",
      "Epoch 514/550, Loss: 1.6348\n",
      "Epoch 515/550, Loss: 1.6227\n",
      "Epoch 516/550, Loss: 1.6270\n",
      "Epoch 517/550, Loss: 1.6215\n",
      "Epoch 518/550, Loss: 1.6153\n",
      "Epoch 519/550, Loss: 1.6152\n",
      "Epoch 520/550, Loss: 1.6146\n",
      "Epoch 521/550, Loss: 1.6190\n",
      "Epoch 522/550, Loss: 1.6204\n",
      "Epoch 523/550, Loss: 1.6114\n",
      "Epoch 524/550, Loss: 1.6190\n",
      "Epoch 525/550, Loss: 1.6102\n",
      "Epoch 526/550, Loss: 1.6145\n",
      "Epoch 527/550, Loss: 1.6095\n",
      "Epoch 528/550, Loss: 1.6138\n",
      "Epoch 529/550, Loss: 1.6094\n",
      "Epoch 530/550, Loss: 1.6143\n",
      "Epoch 531/550, Loss: 1.6127\n",
      "Epoch 532/550, Loss: 1.6114\n",
      "Epoch 533/550, Loss: 1.6044\n",
      "Epoch 534/550, Loss: 1.6096\n",
      "Epoch 535/550, Loss: 1.6065\n",
      "Epoch 536/550, Loss: 1.6013\n",
      "Epoch 537/550, Loss: 1.5951\n",
      "Epoch 538/550, Loss: 1.6043\n",
      "Epoch 539/550, Loss: 1.6019\n",
      "Epoch 540/550, Loss: 1.6065\n",
      "Epoch 541/550, Loss: 1.6060\n",
      "Epoch 542/550, Loss: 1.6005\n",
      "Epoch 543/550, Loss: 1.6094\n",
      "Epoch 544/550, Loss: 1.6049\n",
      "Epoch 545/550, Loss: 1.5999\n",
      "Epoch 546/550, Loss: 1.5946\n",
      "Epoch 547/550, Loss: 1.6023\n",
      "Epoch 548/550, Loss: 1.6040\n",
      "Epoch 549/550, Loss: 1.6001\n",
      "Epoch 550/550, Loss: 1.6041\n"
     ]
    }
   ],
   "source": [
    "num_epochs = 550\n",
    "train(lr_cooling_model, cooling_lr_dataloader_train, cooling_lr_criterion, cooling_lr_optimizer, num_epochs)"
   ]
  },
  {
   "cell_type": "code",
   "execution_count": 99,
   "metadata": {},
   "outputs": [],
   "source": [
    "# predict\n",
    "cooling_lr_predictions, cooling_lr_actuals = evaluate(lr_cooling_model, cooling_lr_dataloader_test)"
   ]
  },
  {
   "cell_type": "code",
   "execution_count": 100,
   "metadata": {},
   "outputs": [
    {
     "data": {
      "image/png": "[encoded data removed]",
      "text/plain": [
       "<Figure size 1000x500 with 1 Axes>"
      ]
     },
     "metadata": {},
     "output_type": "display_data"
    }
   ],
   "source": [
    "# plot predictions\n",
    "plt.figure(figsize=(10, 5))\n",
    "plt.plot(cooling_train.index, cooling_train[\"setpoint\"], label=\"Train\")\n",
    "plt.plot(cooling_test.index, cooling_test[\"setpoint\"], label=\"Test\")\n",
    "plt.plot(cooling_test.index, cooling_lr_predictions, label=\"Predicted\")\n",
    "plt.title(\"Linear Regression Predictions\")\n",
    "plt.xlabel(\"Date\")\n",
    "plt.ylabel(\"Setpoint Value\")\n",
    "plt.legend()\n",
    "plt.xticks(rotation=45)\n",
    "plt.tight_layout()\n",
    "plt.show()"
   ]
  },
  {
   "cell_type": "code",
   "execution_count": 101,
   "metadata": {},
   "outputs": [
    {
     "name": "stdout",
     "output_type": "stream",
     "text": [
      "0.9694594144821167\n",
      "-0.01657535322010517\n",
      "0.0012528563383966684\n",
      "0.04143008217215538\n",
      "1.950253963470459\n"
     ]
    }
   ],
   "source": [
    "for param in lr_cooling_model.parameters():\n",
    "    for num in param:\n",
    "        try:\n",
    "            for p in num:\n",
    "                print(p.item())\n",
    "        except:\n",
    "            print(num.item())"
   ]
  },
  {
   "cell_type": "code",
   "execution_count": 102,
   "metadata": {},
   "outputs": [
    {
     "data": {
      "text/html": [
       "<div>\n",
       "<style scoped>\n",
       "    .dataframe tbody tr th:only-of-type {\n",
       "        vertical-align: middle;\n",
       "    }\n",
       "\n",
       "    .dataframe tbody tr th {\n",
       "        vertical-align: top;\n",
       "    }\n",
       "\n",
       "    .dataframe thead th {\n",
       "        text-align: right;\n",
       "    }\n",
       "</style>\n",
       "<table border=\"1\" class=\"dataframe\">\n",
       "  <thead>\n",
       "    <tr style=\"text-align: right;\">\n",
       "      <th></th>\n",
       "      <th>setpoint</th>\n",
       "      <th>temperature</th>\n",
       "      <th>Direct Normal Radiation [W/m2]</th>\n",
       "      <th>temperature_lag_1</th>\n",
       "      <th>consumption_lag_1</th>\n",
       "    </tr>\n",
       "    <tr>\n",
       "      <th>timestamp</th>\n",
       "      <th></th>\n",
       "      <th></th>\n",
       "      <th></th>\n",
       "      <th></th>\n",
       "      <th></th>\n",
       "    </tr>\n",
       "  </thead>\n",
       "  <tbody>\n",
       "    <tr>\n",
       "      <th>2018-06-01 00:00:00</th>\n",
       "      <td>70.0</td>\n",
       "      <td>66.92</td>\n",
       "      <td>0.0</td>\n",
       "      <td>66.92</td>\n",
       "      <td>0.0</td>\n",
       "    </tr>\n",
       "    <tr>\n",
       "      <th>2018-06-01 01:00:00</th>\n",
       "      <td>70.0</td>\n",
       "      <td>66.02</td>\n",
       "      <td>0.0</td>\n",
       "      <td>66.92</td>\n",
       "      <td>0.0</td>\n",
       "    </tr>\n",
       "    <tr>\n",
       "      <th>2018-06-01 02:00:00</th>\n",
       "      <td>70.0</td>\n",
       "      <td>66.92</td>\n",
       "      <td>0.0</td>\n",
       "      <td>66.02</td>\n",
       "      <td>0.0</td>\n",
       "    </tr>\n",
       "    <tr>\n",
       "      <th>2018-06-01 03:00:00</th>\n",
       "      <td>70.0</td>\n",
       "      <td>66.92</td>\n",
       "      <td>0.0</td>\n",
       "      <td>66.92</td>\n",
       "      <td>0.0</td>\n",
       "    </tr>\n",
       "    <tr>\n",
       "      <th>2018-06-01 04:00:00</th>\n",
       "      <td>68.0</td>\n",
       "      <td>66.92</td>\n",
       "      <td>0.0</td>\n",
       "      <td>66.92</td>\n",
       "      <td>0.0</td>\n",
       "    </tr>\n",
       "  </tbody>\n",
       "</table>\n",
       "</div>"
      ],
      "text/plain": [
       "                     setpoint  temperature  Direct Normal Radiation [W/m2]  \\\n",
       "timestamp                                                                    \n",
       "2018-06-01 00:00:00      70.0        66.92                             0.0   \n",
       "2018-06-01 01:00:00      70.0        66.02                             0.0   \n",
       "2018-06-01 02:00:00      70.0        66.92                             0.0   \n",
       "2018-06-01 03:00:00      70.0        66.92                             0.0   \n",
       "2018-06-01 04:00:00      68.0        66.92                             0.0   \n",
       "\n",
       "                     temperature_lag_1  consumption_lag_1  \n",
       "timestamp                                                  \n",
       "2018-06-01 00:00:00              66.92                0.0  \n",
       "2018-06-01 01:00:00              66.92                0.0  \n",
       "2018-06-01 02:00:00              66.02                0.0  \n",
       "2018-06-01 03:00:00              66.92                0.0  \n",
       "2018-06-01 04:00:00              66.92                0.0  "
      ]
     },
     "execution_count": 102,
     "metadata": {},
     "output_type": "execute_result"
    }
   ],
   "source": [
    "cooling_train.head()"
   ]
  },
  {
   "cell_type": "markdown",
   "metadata": {},
   "source": [
    "### P-values"
   ]
  },
  {
   "cell_type": "code",
   "execution_count": 103,
   "metadata": {},
   "outputs": [],
   "source": [
    "# Get predictions on train set\n",
    "cooling_lr_train_predictions, cooling_lr_train_actuals = evaluate(lr_cooling_model, cooling_lr_dataloader_train)"
   ]
  },
  {
   "cell_type": "code",
   "execution_count": 104,
   "metadata": {},
   "outputs": [
    {
     "data": {
      "image/png": "[encoded data removed]",
      "text/plain": [
       "<Figure size 1000x500 with 1 Axes>"
      ]
     },
     "metadata": {},
     "output_type": "display_data"
    }
   ],
   "source": [
    "# plot predictions\n",
    "plt.figure(figsize=(10, 5))\n",
    "plt.plot(cooling_train.index, cooling_train[\"setpoint\"], label=\"Train\")\n",
    "plt.plot(cooling_test.index, cooling_test[\"setpoint\"], label=\"Test\")\n",
    "plt.plot(cooling_train.index, cooling_lr_train_predictions, label=\"Train Predicted\")\n",
    "plt.plot(cooling_test.index, cooling_lr_predictions, label=\"Test Predicted\")\n",
    "plt.title(\"Linear Regression Predictions\")\n",
    "plt.xlabel(\"Date\")\n",
    "plt.ylabel(\"Setpoint Value\")\n",
    "plt.legend()\n",
    "plt.xticks(rotation=45)\n",
    "plt.tight_layout()\n",
    "plt.show()"
   ]
  },
  {
   "cell_type": "code",
   "execution_count": 105,
   "metadata": {},
   "outputs": [],
   "source": [
    "cooling_p_values = get_pvalues(\n",
    "    lr_cooling_model, \n",
    "    cooling_lr_dataset_train, \n",
    "    cooling_lr_train_actuals, \n",
    "    cooling_lr_train_predictions\n",
    ")"
   ]
  },
  {
   "cell_type": "code",
   "execution_count": 106,
   "metadata": {},
   "outputs": [
    {
     "name": "stdout",
     "output_type": "stream",
     "text": [
      "setpoint:\n",
      "\t-   1.911107783136856e-08\n",
      "temperature:\n",
      "\t-   0.978840649124257\n",
      "Direct Normal Radiation [W/m2]:\n",
      "\t-   0.8219967862870152\n",
      "temperature_lag_1:\n",
      "\t-   0.9446348344792628\n",
      "consumption_lag_1:\n",
      "\t-   0.8843603629189778\n"
     ]
    }
   ],
   "source": [
    "for i, col in enumerate(cooling_train.columns):\n",
    "    print(col + \":\")\n",
    "    print(\"\\t-  \", cooling_p_values[i])"
   ]
  }
 ],
 "metadata": {
  "kernelspec": {
   "display_name": ".env",
   "language": "python",
   "name": "python3"
  },
  "language_info": {
   "codemirror_mode": {
    "name": "ipython",
    "version": 3
   },
   "file_extension": ".py",
   "mimetype": "text/x-python",
   "name": "python",
   "nbconvert_exporter": "python",
   "pygments_lexer": "ipython3",
   "version": "3.10.11"
  }
 },
 "nbformat": 4,
 "nbformat_minor": 2
}
