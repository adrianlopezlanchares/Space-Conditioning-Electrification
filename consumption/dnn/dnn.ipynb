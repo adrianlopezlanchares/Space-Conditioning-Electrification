{
 "cells": [
  {
   "cell_type": "code",
   "execution_count": 75,
   "metadata": {},
   "outputs": [],
   "source": [
    "import torch\n",
    "import torch.nn as nn\n",
    "import torch.nn.functional as F\n",
    "from torch.utils.tensorboard import SummaryWriter\n",
    "\n",
    "import pandas as pd\n",
    "import numpy as np\n",
    "import matplotlib.pyplot as plt\n",
    "\n",
    "from models import LSTMModel, MLPModel, LinearRegressionModel\n",
    "from dataset import Dataset"
   ]
  },
  {
   "cell_type": "markdown",
   "metadata": {},
   "source": [
    "# Load Data"
   ]
  },
  {
   "cell_type": "code",
   "execution_count": 76,
   "metadata": {},
   "outputs": [],
   "source": [
    "building_dataset_path = \"/Users/adrian/Library/Mobile Documents/com~apple~CloudDocs/Documents/ICAI/TFG/Code/data/consumption/MA_baseline_metadata_and_annual_results.parquet\"\n",
    "building_dataset = pd.read_parquet(building_dataset_path)"
   ]
  },
  {
   "cell_type": "code",
   "execution_count": 77,
   "metadata": {},
   "outputs": [
    {
     "name": "stderr",
     "output_type": "stream",
     "text": [
      "/var/folders/bw/4qyc6pj92bdb1bv22yhll2zw0000gn/T/ipykernel_41705/2507247055.py:8: FutureWarning: 'T' is deprecated and will be removed in a future version, please use 'min' instead.\n",
      "  weather_dataset = weather_dataset.resample('15T').ffill()\n"
     ]
    }
   ],
   "source": [
    "weather_dataset_path = \"/Users/adrian/Library/Mobile Documents/com~apple~CloudDocs/Documents/ICAI/TFG/Code/data/consumption/G2500170_2018.csv\"\n",
    "weather_dataset = pd.read_csv(weather_dataset_path)\n",
    "\n",
    "weather_dataset = weather_dataset.drop(columns=[\"Global Horizontal Radiation [W/m2]\", \"Diffuse Horizontal Radiation [W/m2]\"])\n",
    "weather_dataset['date'] = pd.to_datetime(weather_dataset['date_time'])\n",
    "weather_dataset = weather_dataset.set_index('date')\n",
    "weather_dataset = weather_dataset.drop(columns=[\"date_time\"])\n",
    "weather_dataset = weather_dataset.resample('15T').ffill()\n",
    "\n",
    "# Normalize weather data\n",
    "weather_dataset = (weather_dataset - weather_dataset.mean()) / weather_dataset.std()"
   ]
  },
  {
   "cell_type": "code",
   "execution_count": 78,
   "metadata": {},
   "outputs": [],
   "source": [
    "def get_idx_from_path(path: str) -> int:\n",
    "    idx = path.split(\"/\")[-1].split(\"_\")[0]\n",
    "    # Remove .parquet from the end\n",
    "    idx = idx[:-10]\n",
    "    return int(idx)\n",
    "\n",
    "paths = [\n",
    "    \"/Users/adrian/Library/Mobile Documents/com~apple~CloudDocs/Documents/ICAI/TFG/Code/data/consumption/10-0.parquet\",\n",
    "    \"/Users/adrian/Library/Mobile Documents/com~apple~CloudDocs/Documents/ICAI/TFG/Code/data/consumption/1000-0.parquet\",\n",
    "    # \"/Users/adrian/Library/Mobile Documents/com~apple~CloudDocs/Documents/ICAI/TFG/Code/data/consumption/10004-0.parquet\",\n",
    "    # \"/Users/adrian/Library/Mobile Documents/com~apple~CloudDocs/Documents/ICAI/TFG/Code/data/consumption/100001-0.parquet\",\n",
    "    # \"/Users/adrian/Library/Mobile Documents/com~apple~CloudDocs/Documents/ICAI/TFG/Code/data/consumption/100061-0.parquet\",\n",
    "]\n",
    "\n",
    "timeseries_dict = {}\n",
    "idxs = {}\n",
    "\n",
    "i = 1\n",
    "for path in paths:\n",
    "    building_timeseries = pd.read_parquet(path)\n",
    "    building_timeseries = building_timeseries.iloc[3:]\n",
    "\n",
    "    # Parse dates\n",
    "    building_timeseries['date'] = pd.to_datetime(building_timeseries['timestamp'])\n",
    "    building_timeseries = building_timeseries.set_index('date')\n",
    "    building_timeseries = building_timeseries.drop(columns=[\"timestamp\"])\n",
    "\n",
    "    timeseries_dict[i] = building_timeseries\n",
    "    idxs[i] = get_idx_from_path(path)\n",
    "    i += 1"
   ]
  },
  {
   "cell_type": "markdown",
   "metadata": {},
   "source": [
    "# Transform data"
   ]
  },
  {
   "cell_type": "code",
   "execution_count": 79,
   "metadata": {},
   "outputs": [],
   "source": [
    "def get_cols(building_data: pd.DataFrame, building_id: int) -> str:\n",
    "\n",
    "    try:\n",
    "        building = building_data.loc[building_id]\n",
    "    except:\n",
    "        raise ValueError(\"Building ID not found in the dataset\")\n",
    "\n",
    "    match building[\"in.heating_fuel\"]:\n",
    "        case  \"Natural Gas\":\n",
    "            return \"out.natural_gas.heating.energy_consumption\"\n",
    "        case \"Electricity\":\n",
    "            return \"out.electricity.heating.energy_consumption\"\n",
    "        case \"Fuel Oil\":\n",
    "            return \"out.fuel_oil.heating.energy_consumption\"\n",
    "        case \"Propane\":\n",
    "            return \"out.propane.heating.energy_consumption\"\n",
    "        case _:\n",
    "            return \"out.electricity.heating.energy_consumption\""
   ]
  },
  {
   "cell_type": "code",
   "execution_count": 80,
   "metadata": {},
   "outputs": [],
   "source": [
    "for num in timeseries_dict:\n",
    "    col = get_cols(building_dataset, idxs[num])\n",
    "    # Turn into a numpy array of shape (n, 1)\n",
    "    timeseries_dict[num] = timeseries_dict[num][col].values.reshape(-1, 1)"
   ]
  },
  {
   "cell_type": "code",
   "execution_count": 81,
   "metadata": {},
   "outputs": [],
   "source": [
    "# Turn weather data into list of numpy arrays\n",
    "weather_data = []\n",
    "for i in range(len(timeseries_dict[1])):\n",
    "    weather_data.append(weather_dataset.iloc[i].values)\n",
    "weather_data = np.array(weather_data)"
   ]
  },
  {
   "cell_type": "code",
   "execution_count": 82,
   "metadata": {},
   "outputs": [],
   "source": [
    "building_dataset = building_dataset[building_dataset[\"in.county\"] == \"G2500170\"]"
   ]
  },
  {
   "cell_type": "code",
   "execution_count": 83,
   "metadata": {},
   "outputs": [],
   "source": [
    "features_dict = {}\n",
    "\n",
    "for num in idxs:\n",
    "    try:\n",
    "        building = building_dataset[building_dataset.index == idxs[num]]\n",
    "        # Only keep columns that start by 'in.'\n",
    "        for col in building.columns:\n",
    "            if not col.startswith(\"in.\"):\n",
    "                building = building.drop(columns=[col])\n",
    "\n",
    "        features_dict[num] = building\n",
    "    except:\n",
    "        raise Exception(f\"Building with id {idxs[num]} not found in the dataset\")\n",
    "    \n",
    "# Turn all columns of each feature in feature dict into float64\n",
    "for num in features_dict:\n",
    "    for col in features_dict[num].columns:\n",
    "        try:\n",
    "            features_dict[num][col] = features_dict[num][col].astype(\"float64\")\n",
    "        except:\n",
    "            features_dict[num] = features_dict[num].drop(columns=[col])"
   ]
  },
  {
   "cell_type": "code",
   "execution_count": 84,
   "metadata": {},
   "outputs": [],
   "source": [
    "# Turn each feature dataframe into a list\n",
    "for num in features_dict:\n",
    "    features_dict[num] = features_dict[num].values.reshape(-1, 1)"
   ]
  },
  {
   "cell_type": "code",
   "execution_count": 85,
   "metadata": {},
   "outputs": [],
   "source": [
    "# Normalize each feature\n",
    "for num in features_dict:\n",
    "    features_dict[num] = (features_dict[num] - features_dict[num].mean()) / features_dict[num].std()"
   ]
  },
  {
   "cell_type": "code",
   "execution_count": 86,
   "metadata": {},
   "outputs": [],
   "source": [
    "def create_single_sequence(time_series, window_size):\n",
    "    X, y = [], []\n",
    "    for i in range(len(time_series) - window_size):\n",
    "        X.append(time_series[i:i+window_size])\n",
    "        y.append(time_series[i+window_size])\n",
    "    return np.array(X), np.array(y)"
   ]
  },
  {
   "cell_type": "code",
   "execution_count": 87,
   "metadata": {},
   "outputs": [],
   "source": [
    "def create_sequences(time_series, weather, exogenous, window_size):\n",
    "    sequences = []\n",
    "    labels = []\n",
    "    for i in range(len(time_series) - window_size):\n",
    "        # Combine time series + weather data\n",
    "        ts_weather_seq = np.hstack([time_series[i:i + window_size], weather[i:i + window_size]])  # Shape: (50, 6)\n",
    "        labels.append(time_series[i + window_size])\n",
    "        \n",
    "        exogenous = exogenous.reshape(1, -1)\n",
    "        exogenous_seq = np.repeat(exogenous, window_size, axis=0)\n",
    "        \n",
    "        # Combine everything (time series + weather + exogenous)\n",
    "        combined_seq = np.hstack([ts_weather_seq, exogenous_seq])  # Shape: (50, 31)\n",
    "        \n",
    "        sequences.append(combined_seq)\n",
    "    \n",
    "    return np.array(sequences), np.array(labels)\n"
   ]
  },
  {
   "cell_type": "code",
   "execution_count": 88,
   "metadata": {},
   "outputs": [],
   "source": [
    "num_previous_steps = 5"
   ]
  },
  {
   "cell_type": "code",
   "execution_count": 89,
   "metadata": {},
   "outputs": [
    {
     "data": {
      "image/png": "[encoded data removed]",
      "text/plain": [
       "<Figure size 640x480 with 1 Axes>"
      ]
     },
     "metadata": {},
     "output_type": "display_data"
    }
   ],
   "source": [
    "# plot timeseries\n",
    "plt.plot(timeseries_dict[1])\n",
    "plt.show()"
   ]
  },
  {
   "cell_type": "code",
   "execution_count": 90,
   "metadata": {},
   "outputs": [],
   "source": [
    "sequence_dict = {}\n",
    "label_dict = {}\n",
    "\n",
    "for num in timeseries_dict:\n",
    "    sequence_dict[num], label_dict[num] = create_sequences(timeseries_dict[num], weather_data, features_dict[num], num_previous_steps)"
   ]
  },
  {
   "cell_type": "code",
   "execution_count": 91,
   "metadata": {},
   "outputs": [],
   "source": [
    "train_data = sequence_dict[1][:int(0.8 * len(sequence_dict[1]))]\n",
    "test_data = sequence_dict[1][int(0.8 * len(sequence_dict[1])):]\n",
    "\n",
    "train_labels = label_dict[1][:int(0.8 * len(label_dict[1]))]\n",
    "test_labels = label_dict[1][int(0.8 * len(label_dict[1])):]\n"
   ]
  },
  {
   "cell_type": "code",
   "execution_count": 92,
   "metadata": {},
   "outputs": [],
   "source": [
    "time_series_seq, time_series_seq_labels = create_single_sequence(timeseries_dict[1], num_previous_steps)"
   ]
  },
  {
   "cell_type": "code",
   "execution_count": 93,
   "metadata": {},
   "outputs": [],
   "source": [
    "train_data_seq = time_series_seq[:int(0.8 * len(time_series_seq))]\n",
    "test_data_seq = time_series_seq[int(0.8 * len(time_series_seq)):]\n",
    "\n",
    "train_labels_seq = time_series_seq_labels[:int(0.8 * len(time_series_seq))]\n",
    "test_labels_seq = time_series_seq_labels[int(0.8 * len(time_series_seq)):]"
   ]
  },
  {
   "cell_type": "markdown",
   "metadata": {},
   "source": [
    "# Define LSTM model"
   ]
  },
  {
   "cell_type": "code",
   "execution_count": 94,
   "metadata": {},
   "outputs": [],
   "source": [
    "# Hyperparameters\n",
    "input_size = train_data.shape[2]  # Number of features (time series + exogenous variables)\n",
    "hidden_size = 50               # Number of LSTM units\n",
    "num_layers = 2                 # Number of LSTM layers\n",
    "output_size = 1                # Predicting one value (next time step)\n",
    "learning_rate = 0.00001\n",
    "num_epochs = 10\n",
    "batch_size = 64"
   ]
  },
  {
   "cell_type": "code",
   "execution_count": 95,
   "metadata": {},
   "outputs": [],
   "source": [
    "lstm_model = LSTMModel(input_size=input_size, hidden_size=hidden_size, num_layers=num_layers, output_size=output_size)"
   ]
  },
  {
   "cell_type": "code",
   "execution_count": 96,
   "metadata": {},
   "outputs": [],
   "source": [
    "critetion = nn.MSELoss()\n",
    "optimizer = torch.optim.Adam(lstm_model.parameters(), lr=learning_rate)"
   ]
  },
  {
   "cell_type": "code",
   "execution_count": 97,
   "metadata": {},
   "outputs": [],
   "source": [
    "device = torch.device('cuda' if torch.cuda.is_available() else 'cpu')\n",
    "device = torch.device('mps' if torch.backends.mps.is_available() else 'cpu')\n",
    "lstm_model.to(device)\n",
    "\n",
    "train_data, train_labels = torch.from_numpy(train_data).float().to(device), torch.from_numpy(train_labels).float().to(device)\n",
    "test_data, test_labels = torch.from_numpy(test_data).float().to(device), torch.from_numpy(test_labels).float().to(device)"
   ]
  },
  {
   "cell_type": "code",
   "execution_count": 98,
   "metadata": {},
   "outputs": [],
   "source": [
    "train_dataset = Dataset(train_data, train_labels)\n",
    "test_dataset = Dataset(test_data, test_labels)"
   ]
  },
  {
   "cell_type": "code",
   "execution_count": 99,
   "metadata": {},
   "outputs": [],
   "source": [
    "train_loader = torch.utils.data.DataLoader(dataset=train_dataset, batch_size=batch_size, shuffle=True)\n",
    "test_loader = torch.utils.data.DataLoader(dataset=test_dataset, batch_size=batch_size, shuffle=False)"
   ]
  },
  {
   "cell_type": "code",
   "execution_count": 100,
   "metadata": {},
   "outputs": [],
   "source": [
    "model_name = \"lstm_12\"\n",
    "writer = SummaryWriter(log_dir=f\"runs/lstm/{model_name}\")"
   ]
  },
  {
   "cell_type": "markdown",
   "metadata": {},
   "source": [
    "## Train LSTM model"
   ]
  },
  {
   "cell_type": "code",
   "execution_count": 101,
   "metadata": {},
   "outputs": [
    {
     "name": "stdout",
     "output_type": "stream",
     "text": [
      "Epoch 0, step 0, loss: 0.4012969434261322\n",
      "Epoch 0, step 100, loss: 0.7577839493751526\n",
      "Epoch 0, step 200, loss: 0.6587398648262024\n",
      "Epoch 0, step 300, loss: 1.236533761024475\n",
      "Epoch 0, step 400, loss: 0.5408700704574585\n",
      "Epoch 1, step 0, loss: 1.0971964597702026\n",
      "Epoch 1, step 100, loss: 0.9484731554985046\n",
      "Epoch 1, step 200, loss: 0.5282410979270935\n",
      "Epoch 1, step 300, loss: 0.44892382621765137\n",
      "Epoch 1, step 400, loss: 0.614561140537262\n",
      "Epoch 2, step 0, loss: 0.871871829032898\n",
      "Epoch 2, step 100, loss: 0.46827420592308044\n",
      "Epoch 2, step 200, loss: 0.29495668411254883\n",
      "Epoch 2, step 300, loss: 0.11288538575172424\n",
      "Epoch 2, step 400, loss: 0.2506687641143799\n",
      "Epoch 3, step 0, loss: 0.28943580389022827\n",
      "Epoch 3, step 100, loss: 0.09509081393480301\n",
      "Epoch 3, step 200, loss: 0.07691949605941772\n",
      "Epoch 3, step 300, loss: 0.29508572816848755\n",
      "Epoch 3, step 400, loss: 0.0551418662071228\n",
      "Epoch 4, step 0, loss: 0.039778124541044235\n",
      "Epoch 4, step 100, loss: 0.043167274445295334\n",
      "Epoch 4, step 200, loss: 0.09086362272500992\n",
      "Epoch 4, step 300, loss: 0.026197366416454315\n",
      "Epoch 4, step 400, loss: 0.04092510789632797\n",
      "Epoch 5, step 0, loss: 0.02964094839990139\n",
      "Epoch 5, step 100, loss: 0.23537230491638184\n",
      "Epoch 5, step 200, loss: 0.03407025709748268\n",
      "Epoch 5, step 300, loss: 0.08585327863693237\n",
      "Epoch 5, step 400, loss: 0.023778162896633148\n",
      "Epoch 6, step 0, loss: 0.06698879599571228\n",
      "Epoch 6, step 100, loss: 0.016553685069084167\n",
      "Epoch 6, step 200, loss: 0.06146804988384247\n",
      "Epoch 6, step 300, loss: 0.021936187520623207\n",
      "Epoch 6, step 400, loss: 0.03527486324310303\n",
      "Epoch 7, step 0, loss: 0.08741149306297302\n",
      "Epoch 7, step 100, loss: 0.02020995132625103\n",
      "Epoch 7, step 200, loss: 0.0263497456908226\n",
      "Epoch 7, step 300, loss: 0.03755512088537216\n",
      "Epoch 7, step 400, loss: 0.04570093750953674\n",
      "Epoch 8, step 0, loss: 0.1264461874961853\n",
      "Epoch 8, step 100, loss: 0.050969623029232025\n",
      "Epoch 8, step 200, loss: 0.028835924342274666\n",
      "Epoch 8, step 300, loss: 0.018117710947990417\n",
      "Epoch 8, step 400, loss: 0.019830044358968735\n",
      "Epoch 9, step 0, loss: 0.021499818190932274\n",
      "Epoch 9, step 100, loss: 0.016977757215499878\n",
      "Epoch 9, step 200, loss: 0.016366368159651756\n",
      "Epoch 9, step 300, loss: 0.03258855268359184\n",
      "Epoch 9, step 400, loss: 0.01955091580748558\n"
     ]
    }
   ],
   "source": [
    "# Training loop\n",
    "lstm_model.train()\n",
    "for epoch in range(num_epochs):\n",
    "    for i, data in enumerate(train_loader):\n",
    "        inputs, labels = data\n",
    "        inputs = inputs.to(device)\n",
    "        labels = labels.to(device)\n",
    "        # Forward pass\n",
    "        outputs = lstm_model(inputs)\n",
    "        loss = critetion(outputs, labels)\n",
    "        \n",
    "        # Backward pass\n",
    "        optimizer.zero_grad()\n",
    "        loss.backward()\n",
    "        optimizer.step()\n",
    "\n",
    "        if i % 100 == 0:\n",
    "            print(f\"Epoch {epoch}, step {i}, loss: {loss.item()}\")\n",
    "        \n",
    "        writer.add_scalar('training loss', loss.item(), epoch * len(train_loader) + i)"
   ]
  },
  {
   "cell_type": "code",
   "execution_count": 102,
   "metadata": {},
   "outputs": [
    {
     "name": "stdout",
     "output_type": "stream",
     "text": [
      "Test loss: 0.03003085194663568\n"
     ]
    }
   ],
   "source": [
    "test_loss = []\n",
    "\n",
    "for i, data in enumerate(test_loader):\n",
    "    inputs, labels = data\n",
    "    inputs = inputs.to(device)\n",
    "    labels = labels.to(device)\n",
    "    outputs = lstm_model(inputs)\n",
    "    loss = critetion(outputs, labels)\n",
    "    test_loss.append(loss.item())\n",
    "\n",
    "print(f\"Test loss: {np.mean(test_loss)}\")"
   ]
  },
  {
   "cell_type": "code",
   "execution_count": 103,
   "metadata": {},
   "outputs": [
    {
     "name": "stdout",
     "output_type": "stream",
     "text": [
      "1.0454648\n"
     ]
    }
   ],
   "source": [
    "print(np.mean(test_labels.cpu().numpy()))"
   ]
  },
  {
   "cell_type": "markdown",
   "metadata": {},
   "source": [
    "## Plot LSTM results"
   ]
  },
  {
   "cell_type": "code",
   "execution_count": 104,
   "metadata": {},
   "outputs": [],
   "source": [
    "# Get predictions\n",
    "predictions = []\n",
    "\n",
    "lstm_model.eval()\n",
    "with torch.no_grad():\n",
    "    for i, data in enumerate(test_loader):\n",
    "        inputs, labels = data\n",
    "        inputs = inputs.to(device)\n",
    "        labels = labels.to(device)\n",
    "        outputs = lstm_model(inputs)\n",
    "        predictions.append(outputs.cpu().numpy())\n",
    "\n",
    "    "
   ]
  },
  {
   "cell_type": "code",
   "execution_count": null,
   "metadata": {},
   "outputs": [],
   "source": [
    "# Get predictions by using the predicted values as input\n",
    "lstm_model.eval()\n",
    "predictions_2 = []\n",
    "\n",
    "with torch.no_grad():\n",
    "    initial_input = test_data[0].reshape(1, 5, 31)\n",
    "    for i in range(len(test_data)):\n",
    "        print(f\"Step {i}/{len(test_data)}           \", end=\"\\r\")\n",
    "        inputs = initial_input.float().to(device)\n",
    "        outputs = lstm_model(inputs)\n",
    "        predictions_2.append(outputs.cpu().numpy())\n",
    "        print(outputs.shape)\n",
    "        initial_input = torch.cat((initial_input[0][1:], outputs)).reshape(1, 5, 31)\n",
    "        print(initial_input)\n",
    "    "
   ]
  },
  {
   "cell_type": "code",
   "execution_count": 105,
   "metadata": {},
   "outputs": [
    {
     "data": {
      "image/png": "[encoded data removed]",
      "text/plain": [
       "<Figure size 640x480 with 1 Axes>"
      ]
     },
     "metadata": {},
     "output_type": "display_data"
    }
   ],
   "source": [
    "# Plot predictions\n",
    "plt.plot(test_labels.cpu().numpy(), label='True')\n",
    "plt.plot(np.concatenate(predictions), label='Predicted')\n",
    "plt.legend()\n",
    "plt.show()"
   ]
  },
  {
   "cell_type": "code",
   "execution_count": null,
   "metadata": {},
   "outputs": [],
   "source": [
    "# Plot predictions\n",
    "plt.plot(test_labels.cpu().numpy(), label='True')\n",
    "plt.plot(np.concatenate(predictions_2), label='Predicted')\n",
    "plt.legend()\n",
    "plt.show()"
   ]
  },
  {
   "cell_type": "markdown",
   "metadata": {},
   "source": [
    "# Define MLP model"
   ]
  },
  {
   "cell_type": "code",
   "execution_count": null,
   "metadata": {},
   "outputs": [],
   "source": [
    "train_data_reshape = train_data.reshape(train_data.shape[0], -1)\n",
    "test_data_reshape = test_data.reshape(test_data.shape[0], -1)"
   ]
  },
  {
   "cell_type": "code",
   "execution_count": null,
   "metadata": {},
   "outputs": [],
   "source": [
    "# Hyperparameters\n",
    "input_size = train_data_reshape.shape[1]  # Number of features (time series + exogenous variables)\n",
    "hidden_size_1 = 500\n",
    "hidden_size_2 = 100\n",
    "output_size = 1                # Predicting one value (next time step)\n",
    "learning_rate = 0.0001\n",
    "num_epochs = 100\n",
    "batch_size = 64"
   ]
  },
  {
   "cell_type": "code",
   "execution_count": null,
   "metadata": {},
   "outputs": [],
   "source": [
    "mlp_model = MLPModel(input_size=input_size, hidden_size=hidden_size, output_size=output_size)\n",
    "mlp_model.to(device)"
   ]
  },
  {
   "cell_type": "code",
   "execution_count": null,
   "metadata": {},
   "outputs": [],
   "source": [
    "train_dataset_reshape = Dataset(train_data_reshape, train_labels)\n",
    "test_dataset_reshape = Dataset(test_data_reshape, test_labels)"
   ]
  },
  {
   "cell_type": "code",
   "execution_count": null,
   "metadata": {},
   "outputs": [],
   "source": [
    "train_dataloader_reshape = torch.utils.data.DataLoader(dataset=train_dataset_reshape, batch_size=batch_size, shuffle=True)\n",
    "test_dataloader_reshape = torch.utils.data.DataLoader(dataset=test_dataset_reshape, batch_size=batch_size, shuffle=False)"
   ]
  },
  {
   "cell_type": "code",
   "execution_count": null,
   "metadata": {},
   "outputs": [],
   "source": [
    "model_name = \"mlp_2\"\n",
    "writer = SummaryWriter(log_dir=f\"runs/mlp/{model_name}\")"
   ]
  },
  {
   "cell_type": "markdown",
   "metadata": {},
   "source": [
    "## Train MLP model"
   ]
  },
  {
   "cell_type": "code",
   "execution_count": null,
   "metadata": {},
   "outputs": [],
   "source": [
    "# Train loop\n",
    "mlp_model.train()\n",
    "for epoch in range(num_epochs):\n",
    "    for i, data in enumerate(train_dataloader_reshape):\n",
    "        inputs, labels = data\n",
    "        inputs = inputs.to(device)\n",
    "        labels = labels.to(device)\n",
    "        # Forward pass\n",
    "        outputs = mlp_model(inputs)\n",
    "        loss = critetion(outputs, labels)\n",
    "        \n",
    "        # Backward pass\n",
    "        optimizer.zero_grad()\n",
    "        loss.backward()\n",
    "        optimizer.step()\n",
    "\n",
    "        if i % 100 == 0:\n",
    "            print(f\"Epoch {epoch}, step {i}, loss: {loss.item()}\")\n",
    "        \n",
    "        writer.add_scalar('training loss', loss.item(), epoch * len(train_dataloader_reshape) + i)"
   ]
  },
  {
   "cell_type": "code",
   "execution_count": null,
   "metadata": {},
   "outputs": [],
   "source": [
    "test_loss = []\n",
    "\n",
    "for i, data in enumerate(test_dataloader_reshape):\n",
    "    inputs, labels = data\n",
    "    inputs = inputs.to(device)\n",
    "    labels = labels.to(device)\n",
    "    outputs = mlp_model(inputs)\n",
    "    loss = critetion(outputs, labels)\n",
    "    test_loss.append(loss.item())\n",
    "\n",
    "print(f\"Test loss: {np.mean(test_loss)}\")"
   ]
  },
  {
   "cell_type": "code",
   "execution_count": null,
   "metadata": {},
   "outputs": [],
   "source": [
    "print(np.mean(test_labels.cpu().numpy()))"
   ]
  },
  {
   "cell_type": "markdown",
   "metadata": {},
   "source": [
    "# Define LinearRegression model"
   ]
  },
  {
   "cell_type": "code",
   "execution_count": 106,
   "metadata": {},
   "outputs": [],
   "source": [
    "train_data = train_data.reshape(train_data.shape[0], -1)\n",
    "test_data = test_data.reshape(test_data.shape[0], -1)"
   ]
  },
  {
   "cell_type": "code",
   "execution_count": 107,
   "metadata": {},
   "outputs": [
    {
     "name": "stdout",
     "output_type": "stream",
     "text": [
      "[[4.49746864]\n",
      " [4.49776171]\n",
      " [4.49805479]\n",
      " [4.50391621]\n",
      " [4.50860534]\n",
      " [4.49629636]\n",
      " [4.4857458 ]]\n"
     ]
    }
   ],
   "source": [
    "print(timeseries_dict[1][0:7])"
   ]
  },
  {
   "cell_type": "code",
   "execution_count": 73,
   "metadata": {},
   "outputs": [
    {
     "name": "stdout",
     "output_type": "stream",
     "text": [
      "[[-2.55861522 -1.01975894  1.71311317  1.05340563 -0.61346046]\n",
      " [-2.55861522 -1.01975894  1.71311317  1.05340563 -0.61346046]\n",
      " [-2.55861522 -1.01975894  1.71311317  1.05340563 -0.61346046]\n",
      " [-2.55861522 -1.01975894  1.71311317  1.05340563 -0.61346046]\n",
      " [-2.61402677 -1.02796486  1.49743178  0.94827724 -0.61346046]\n",
      " [-2.61402677 -1.02796486  1.49743178  0.94827724 -0.61346046]\n",
      " [-2.61402677 -1.02796486  1.49743178  0.94827724 -0.61346046]]\n"
     ]
    }
   ],
   "source": [
    "print(weather_data[0:7])"
   ]
  },
  {
   "cell_type": "code",
   "execution_count": 74,
   "metadata": {},
   "outputs": [
    {
     "name": "stdout",
     "output_type": "stream",
     "text": [
      "[[-0.18348394]\n",
      " [ 4.89879817]\n",
      " [-0.20679568]\n",
      " [-0.20683374]\n",
      " [-0.20683374]\n",
      " [-0.20682613]\n",
      " [-0.20673859]]\n"
     ]
    }
   ],
   "source": [
    "print(features_dict[1][0:7])"
   ]
  },
  {
   "cell_type": "code",
   "execution_count": 69,
   "metadata": {},
   "outputs": [
    {
     "name": "stdout",
     "output_type": "stream",
     "text": [
      "[ 4.49746864 -2.55861522 -1.01975894  1.71311317  1.05340563 -0.61346046\n",
      " -0.18348394]\n"
     ]
    }
   ],
   "source": [
    "print(train_data[0][0:7])"
   ]
  },
  {
   "cell_type": "code",
   "execution_count": 108,
   "metadata": {},
   "outputs": [],
   "source": [
    "train_dataset = Dataset(train_data, train_labels)\n",
    "test_dataset = Dataset(test_data, test_labels)\n",
    "\n",
    "train_loader = torch.utils.data.DataLoader(dataset=train_dataset, batch_size=batch_size, shuffle=True)\n",
    "test_loader = torch.utils.data.DataLoader(dataset=test_dataset, batch_size=batch_size, shuffle=False)"
   ]
  },
  {
   "cell_type": "code",
   "execution_count": 109,
   "metadata": {},
   "outputs": [],
   "source": [
    "# Hyperparams\n",
    "input_size = train_data.shape[1]\n",
    "output_size = 1\n",
    "learning_rate = 0.0001\n",
    "num_epochs = 10\n",
    "batch_size = 64"
   ]
  },
  {
   "cell_type": "code",
   "execution_count": 110,
   "metadata": {},
   "outputs": [],
   "source": [
    "lr_model = LinearRegressionModel(input_size=input_size, output_size=output_size)"
   ]
  },
  {
   "cell_type": "code",
   "execution_count": 111,
   "metadata": {},
   "outputs": [],
   "source": [
    "model_name = \"linear_regression_3\"\n",
    "writer = SummaryWriter(log_dir=f\"runs/linear_regression/{model_name}\")"
   ]
  },
  {
   "cell_type": "code",
   "execution_count": 112,
   "metadata": {},
   "outputs": [
    {
     "data": {
      "text/plain": [
       "LinearRegressionModel(\n",
       "  (fc): Linear(in_features=155, out_features=1, bias=True)\n",
       ")"
      ]
     },
     "execution_count": 112,
     "metadata": {},
     "output_type": "execute_result"
    }
   ],
   "source": [
    "device = torch.device('cuda' if torch.cuda.is_available() else 'cpu')\n",
    "device = torch.device('mps' if torch.backends.mps.is_available() else 'cpu')\n",
    "lr_model.to(device)"
   ]
  },
  {
   "cell_type": "code",
   "execution_count": 113,
   "metadata": {},
   "outputs": [],
   "source": [
    "criterion = nn.MSELoss()\n",
    "optimizer = torch.optim.Adam(lr_model.parameters(), lr=learning_rate)"
   ]
  },
  {
   "cell_type": "markdown",
   "metadata": {},
   "source": [
    "## Train LinearRegression Model"
   ]
  },
  {
   "cell_type": "code",
   "execution_count": 114,
   "metadata": {},
   "outputs": [
    {
     "name": "stdout",
     "output_type": "stream",
     "text": [
      "Epoch 0, step 0, loss: 0.7257458567619324\n",
      "Epoch 0, step 100, loss: 0.7394602298736572\n",
      "Epoch 0, step 200, loss: 0.5049541592597961\n",
      "Epoch 0, step 300, loss: 0.27460286021232605\n",
      "Epoch 0, step 400, loss: 0.2983663082122803\n",
      "Epoch 1, step 0, loss: 0.2898617386817932\n",
      "Epoch 1, step 100, loss: 0.17854291200637817\n",
      "Epoch 1, step 200, loss: 0.16366685926914215\n",
      "Epoch 1, step 300, loss: 0.14157244563102722\n",
      "Epoch 1, step 400, loss: 0.1411343216896057\n",
      "Epoch 2, step 0, loss: 0.09937235713005066\n",
      "Epoch 2, step 100, loss: 0.09774672240018845\n",
      "Epoch 2, step 200, loss: 0.07228530943393707\n",
      "Epoch 2, step 300, loss: 0.05182478576898575\n",
      "Epoch 2, step 400, loss: 0.12079565972089767\n",
      "Epoch 3, step 0, loss: 0.04641614109277725\n",
      "Epoch 3, step 100, loss: 0.050957292318344116\n",
      "Epoch 3, step 200, loss: 0.05374396964907646\n",
      "Epoch 3, step 300, loss: 0.053891293704509735\n",
      "Epoch 3, step 400, loss: 0.05276370793581009\n",
      "Epoch 4, step 0, loss: 0.04653846472501755\n",
      "Epoch 4, step 100, loss: 0.06677423417568207\n",
      "Epoch 4, step 200, loss: 0.05380606651306152\n",
      "Epoch 4, step 300, loss: 0.04205356538295746\n",
      "Epoch 4, step 400, loss: 0.04440817981958389\n",
      "Epoch 5, step 0, loss: 0.04135000705718994\n",
      "Epoch 5, step 100, loss: 0.03435228392481804\n",
      "Epoch 5, step 200, loss: 0.0365622341632843\n",
      "Epoch 5, step 300, loss: 0.03813439980149269\n",
      "Epoch 5, step 400, loss: 0.03824389725923538\n",
      "Epoch 6, step 0, loss: 0.021921351552009583\n",
      "Epoch 6, step 100, loss: 0.03244880214333534\n",
      "Epoch 6, step 200, loss: 0.034075599163770676\n",
      "Epoch 6, step 300, loss: 0.02584601752460003\n",
      "Epoch 6, step 400, loss: 0.03308519721031189\n",
      "Epoch 7, step 0, loss: 0.02529609203338623\n",
      "Epoch 7, step 100, loss: 0.018600188195705414\n",
      "Epoch 7, step 200, loss: 0.022041628137230873\n",
      "Epoch 7, step 300, loss: 0.019861647859215736\n",
      "Epoch 7, step 400, loss: 0.019151024520397186\n",
      "Epoch 8, step 0, loss: 0.021007928997278214\n",
      "Epoch 8, step 100, loss: 0.015565787442028522\n",
      "Epoch 8, step 200, loss: 0.01479259878396988\n",
      "Epoch 8, step 300, loss: 0.020193785429000854\n",
      "Epoch 8, step 400, loss: 0.012415063567459583\n",
      "Epoch 9, step 0, loss: 0.019687209278345108\n",
      "Epoch 9, step 100, loss: 0.014135384932160378\n",
      "Epoch 9, step 200, loss: 0.00922352634370327\n",
      "Epoch 9, step 300, loss: 0.011981502175331116\n",
      "Epoch 9, step 400, loss: 0.00951521284878254\n"
     ]
    }
   ],
   "source": [
    "# Train model\n",
    "lr_model.train()\n",
    "for epoch in range(num_epochs):\n",
    "    for i, data in enumerate(train_loader):\n",
    "        inputs, labels = data\n",
    "        inputs = inputs.float().to(device)\n",
    "        labels = labels.float().to(device)\n",
    "        # Forward pass\n",
    "        outputs = lr_model(inputs)\n",
    "        loss = criterion(outputs, labels)\n",
    "        \n",
    "        # Backward pass\n",
    "        optimizer.zero_grad()\n",
    "        loss.backward()\n",
    "        optimizer.step()\n",
    "\n",
    "        if i % 100 == 0:\n",
    "            print(f\"Epoch {epoch}, step {i}, loss: {loss.item()}\")\n",
    "        \n",
    "        writer.add_scalar('training loss', loss.item(), epoch * len(train_loader) + i)"
   ]
  },
  {
   "cell_type": "code",
   "execution_count": 118,
   "metadata": {},
   "outputs": [
    {
     "name": "stdout",
     "output_type": "stream",
     "text": [
      "Test loss: 0.013047203969273885\n"
     ]
    }
   ],
   "source": [
    "test_loss = []\n",
    "\n",
    "for i, data in enumerate(test_loader):\n",
    "    inputs, labels = data\n",
    "    inputs = inputs.float().to(device)\n",
    "    labels = labels.float().to(device)\n",
    "    outputs = lr_model(inputs)\n",
    "    loss = criterion(outputs, labels)\n",
    "    test_loss.append(loss.item())\n",
    "\n",
    "print(f\"Test loss: {np.mean(test_loss)}\")"
   ]
  },
  {
   "cell_type": "code",
   "execution_count": 117,
   "metadata": {},
   "outputs": [
    {
     "ename": "TypeError",
     "evalue": "mean() received an invalid combination of arguments - got (out=NoneType, dtype=NoneType, axis=NoneType, ), but expected one of:\n * (*, torch.dtype dtype = None)\n * (tuple of ints dim, bool keepdim = False, *, torch.dtype dtype = None)\n * (tuple of names dim, bool keepdim = False, *, torch.dtype dtype = None)\n",
     "output_type": "error",
     "traceback": [
      "\u001b[0;31m---------------------------------------------------------------------------\u001b[0m",
      "\u001b[0;31mTypeError\u001b[0m                                 Traceback (most recent call last)",
      "Cell \u001b[0;32mIn[117], line 1\u001b[0m\n\u001b[0;32m----> 1\u001b[0m \u001b[38;5;28mprint\u001b[39m(\u001b[43mnp\u001b[49m\u001b[38;5;241;43m.\u001b[39;49m\u001b[43mmean\u001b[49m\u001b[43m(\u001b[49m\u001b[43mtest_labels\u001b[49m\u001b[43m)\u001b[49m)\n",
      "File \u001b[0;32m~/Documents/ICAI/TFG/Code/.env/lib/python3.10/site-packages/numpy/_core/fromnumeric.py:3858\u001b[0m, in \u001b[0;36mmean\u001b[0;34m(a, axis, dtype, out, keepdims, where)\u001b[0m\n\u001b[1;32m   3856\u001b[0m         \u001b[38;5;28;01mpass\u001b[39;00m\n\u001b[1;32m   3857\u001b[0m     \u001b[38;5;28;01melse\u001b[39;00m:\n\u001b[0;32m-> 3858\u001b[0m         \u001b[38;5;28;01mreturn\u001b[39;00m \u001b[43mmean\u001b[49m\u001b[43m(\u001b[49m\u001b[43maxis\u001b[49m\u001b[38;5;241;43m=\u001b[39;49m\u001b[43maxis\u001b[49m\u001b[43m,\u001b[49m\u001b[43m \u001b[49m\u001b[43mdtype\u001b[49m\u001b[38;5;241;43m=\u001b[39;49m\u001b[43mdtype\u001b[49m\u001b[43m,\u001b[49m\u001b[43m \u001b[49m\u001b[43mout\u001b[49m\u001b[38;5;241;43m=\u001b[39;49m\u001b[43mout\u001b[49m\u001b[43m,\u001b[49m\u001b[43m \u001b[49m\u001b[38;5;241;43m*\u001b[39;49m\u001b[38;5;241;43m*\u001b[39;49m\u001b[43mkwargs\u001b[49m\u001b[43m)\u001b[49m\n\u001b[1;32m   3860\u001b[0m \u001b[38;5;28;01mreturn\u001b[39;00m _methods\u001b[38;5;241m.\u001b[39m_mean(a, axis\u001b[38;5;241m=\u001b[39maxis, dtype\u001b[38;5;241m=\u001b[39mdtype,\n\u001b[1;32m   3861\u001b[0m                       out\u001b[38;5;241m=\u001b[39mout, \u001b[38;5;241m*\u001b[39m\u001b[38;5;241m*\u001b[39mkwargs)\n",
      "\u001b[0;31mTypeError\u001b[0m: mean() received an invalid combination of arguments - got (out=NoneType, dtype=NoneType, axis=NoneType, ), but expected one of:\n * (*, torch.dtype dtype = None)\n * (tuple of ints dim, bool keepdim = False, *, torch.dtype dtype = None)\n * (tuple of names dim, bool keepdim = False, *, torch.dtype dtype = None)\n"
     ]
    }
   ],
   "source": [
    "print(np.mean(test_labels))"
   ]
  },
  {
   "cell_type": "markdown",
   "metadata": {},
   "source": [
    "## LinearRegression model predictions"
   ]
  },
  {
   "cell_type": "code",
   "execution_count": 119,
   "metadata": {},
   "outputs": [],
   "source": [
    "# Get predictions\n",
    "predictions = []\n",
    "\n",
    "lr_model.eval()\n",
    "with torch.no_grad():\n",
    "    for i, data in enumerate(test_loader):\n",
    "        inputs, labels = data\n",
    "        inputs = inputs.float().to(device)\n",
    "        labels = labels.float().to(device)\n",
    "        outputs = lr_model(inputs)\n",
    "        predictions.append(outputs.cpu().numpy())"
   ]
  },
  {
   "cell_type": "code",
   "execution_count": 121,
   "metadata": {},
   "outputs": [
    {
     "data": {
      "image/png": "[encoded data removed]",
      "text/plain": [
       "<Figure size 640x480 with 1 Axes>"
      ]
     },
     "metadata": {},
     "output_type": "display_data"
    }
   ],
   "source": [
    "# Plot predictions\n",
    "plt.plot(test_labels.cpu().numpy(), label='True')\n",
    "plt.plot(np.concatenate(predictions), label='Predicted')\n",
    "plt.legend()\n",
    "plt.show()"
   ]
  },
  {
   "cell_type": "code",
   "execution_count": 67,
   "metadata": {},
   "outputs": [
    {
     "name": "stdout",
     "output_type": "stream",
     "text": [
      "tensor([ 0.1098,  0.0425, -0.0403,  0.0005, -0.0060,  0.0024,  0.0110,  0.0122,\n",
      "        -0.0496,  0.0200, -0.0228,  0.0239, -0.0458, -0.0344, -0.0168,  0.0282,\n",
      "         0.0516,  0.0053,  0.0139, -0.0837,  0.0513, -0.0164,  0.0405,  0.0023,\n",
      "         0.0203, -0.0005, -0.0516,  0.0575, -0.0347,  0.0615, -0.0500,  0.2159,\n",
      "        -0.1030, -0.0091, -0.0255,  0.0046, -0.0119, -0.0497, -0.0092,  0.0568,\n",
      "        -0.0617,  0.0136, -0.0774,  0.0669, -0.0426, -0.0592,  0.0622,  0.0456,\n",
      "        -0.0374, -0.0492,  0.0576, -0.0090, -0.0231, -0.0203,  0.0489, -0.0750,\n",
      "         0.0440,  0.0499, -0.0027, -0.0120, -0.0539, -0.0284,  0.1981, -0.0380,\n",
      "         0.0011,  0.0349,  0.0221, -0.0283,  0.0026,  0.0018, -0.0131,  0.0233,\n",
      "        -0.0141,  0.0107, -0.0177,  0.0405,  0.0187,  0.0431,  0.0093,  0.0555,\n",
      "        -0.0537,  0.0161,  0.0348,  0.0019, -0.0497,  0.0591,  0.0619,  0.0097,\n",
      "         0.0450, -0.0251,  0.0243,  0.0449, -0.0524,  0.1642,  0.0340,  0.0269,\n",
      "         0.0189, -0.0322,  0.0355, -0.0214,  0.0115,  0.0628, -0.0277,  0.0678,\n",
      "         0.0207,  0.0409,  0.0471, -0.0812, -0.0386,  0.0487, -0.0044,  0.0011,\n",
      "        -0.0225,  0.0467,  0.0369, -0.0201, -0.0193, -0.0425, -0.0123, -0.0285,\n",
      "        -0.0790, -0.0467,  0.0664, -0.0096,  0.1763, -0.0333,  0.0007, -0.0267,\n",
      "         0.0181, -0.0226,  0.0276,  0.0034,  0.0034, -0.0569, -0.0633, -0.0776,\n",
      "        -0.0309, -0.0602, -0.0467,  0.0289,  0.0737, -0.0241,  0.0749,  0.0488,\n",
      "         0.0484,  0.0676,  0.0228, -0.0847, -0.0158,  0.0161,  0.0733,  0.0320,\n",
      "         0.0730, -0.0388, -0.0374], device='mps:0', grad_fn=<UnbindBackward0>)\n",
      "tensor(0.0174, device='mps:0', grad_fn=<UnbindBackward0>)\n",
      "2\n"
     ]
    }
   ],
   "source": [
    "i = 0\n",
    "for param in lr_model.parameters():\n",
    "    for weight in param:\n",
    "        print(weight)\n",
    "        i += 1\n",
    "print(i)"
   ]
  }
 ],
 "metadata": {
  "kernelspec": {
   "display_name": ".env",
   "language": "python",
   "name": "python3"
  },
  "language_info": {
   "codemirror_mode": {
    "name": "ipython",
    "version": 3
   },
   "file_extension": ".py",
   "mimetype": "text/x-python",
   "name": "python",
   "nbconvert_exporter": "python",
   "pygments_lexer": "ipython3",
   "version": "3.10.11"
  }
 },
 "nbformat": 4,
 "nbformat_minor": 2
}
