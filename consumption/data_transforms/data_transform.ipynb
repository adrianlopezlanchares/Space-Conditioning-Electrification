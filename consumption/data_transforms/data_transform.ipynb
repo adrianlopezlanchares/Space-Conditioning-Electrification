{
 "cells": [
  {
   "cell_type": "code",
   "execution_count": 91,
   "metadata": {},
   "outputs": [],
   "source": [
    "import pandas as pd\n",
    "import numpy as np\n",
    "import matplotlib.pyplot as plt"
   ]
  },
  {
   "cell_type": "code",
   "execution_count": 5,
   "metadata": {},
   "outputs": [],
   "source": [
    "building_data = pd.read_parquet(\"//Users/adrian/Documents/ICAI/TFG/Space-Conditioning-Electrification/data/consumption/MA_baseline_metadata_and_annual_results.parquet\")"
   ]
  },
  {
   "cell_type": "markdown",
   "metadata": {},
   "source": [
    "# Heating"
   ]
  },
  {
   "cell_type": "code",
   "execution_count": 11,
   "metadata": {},
   "outputs": [],
   "source": [
    "col_list = [\n",
    "    \"in.heating_setpoint\",\n",
    "    \"in.heating_setpoint_has_offset\",\n",
    "    \"in.heating_setpoint_offset_magnitude\",\n",
    "    \"in.heating_setpoint_offset_period\",\n",
    "]\n",
    "\n",
    "heating_data = building_data[col_list]"
   ]
  },
  {
   "cell_type": "code",
   "execution_count": 122,
   "metadata": {},
   "outputs": [],
   "source": [
    "def generate_building_schedule(building_id: int, heating_data: pd.DataFrame) -> np.ndarray:\n",
    "    \"\"\"Generates a building's heating setpoint offset schedule\n",
    "\n",
    "    Args:\n",
    "        building_id (int): ID of the building\n",
    "        heating_data (pd.DataFrame): Heating setpoint dataset\n",
    "\n",
    "    Returns:\n",
    "        np.ndarray: Building's heating schedule during the day (when to apply offset)\n",
    "    \"\"\"\n",
    "    building_data = heating_data[heating_data.index == building_id]\n",
    "\n",
    "    night_start = 22\n",
    "    night_end = 7\n",
    "\n",
    "    day_start = 9\n",
    "    day_end = 17\n",
    "\n",
    "    schedule = np.zeros(24)\n",
    "\n",
    "    if building_data[\"in.heating_setpoint_has_offset\"].item() == \"Yes\":\n",
    "        offset_magnitude = int(building_data[\"in.heating_setpoint_offset_magnitude\"].item().replace(\"F\", \"\"))\n",
    "        offset_period = building_data[\"in.heating_setpoint_offset_period\"].item()\n",
    "\n",
    "        if offset_period[-1] == \"h\":\n",
    "            offset_period_number = int(offset_period[-3:-1])\n",
    "        else:\n",
    "            offset_period_number = 0\n",
    "\n",
    "        \n",
    "\n",
    "        if \"Night\" in offset_period:\n",
    "            night_start += offset_period_number\n",
    "            night_end += offset_period_number\n",
    "\n",
    "            if night_start > night_end:\n",
    "                schedule[night_start:] = 1\n",
    "                schedule[:night_end] = 1\n",
    "            else:\n",
    "                schedule[night_start:night_end] = 1\n",
    "\n",
    "        if \"Day\" in offset_period:\n",
    "            day_start += offset_period_number\n",
    "            day_end += offset_period_number\n",
    "\n",
    "            if day_start > day_end:\n",
    "                schedule[day_start:] = 1\n",
    "                schedule[:day_end] = 1\n",
    "            else:\n",
    "                schedule[day_start:day_end] = 1\n",
    "\n",
    "        schedule *= offset_magnitude\n",
    "\n",
    "    return schedule\n"
   ]
  },
  {
   "cell_type": "code",
   "execution_count": 107,
   "metadata": {},
   "outputs": [],
   "source": [
    "def generate_building_setpoint_timeseries(building_id: int, heating_data: pd.DataFrame) -> pd.DataFrame:\n",
    "    \"\"\"Generates a building's heating setpoint timeseries\n",
    "\n",
    "    Args:\n",
    "        building_id (int): ID of the building\n",
    "        heating_data (pd.DataFrame): Heating setpoint dataset\n",
    "\n",
    "    Returns:\n",
    "        pd.DataFrame: Building's heating setpoint timeseries\n",
    "    \"\"\"\n",
    "    building_data = heating_data[heating_data.index == building_id]\n",
    "\n",
    "    # Generate empty timeseries for a full year (2018)\n",
    "    timeseries = pd.date_range(start=\"2018-01-01\", end=\"2018-12-31\", freq=\"h\")\n",
    "    timeseries = pd.DataFrame(timeseries, columns=[\"timestamp\"])\n",
    "    timeseries[\"setpoint\"] = int(building_data[\"in.heating_setpoint\"].item().replace(\"F\", \"\"))\n",
    "\n",
    "    schedule = generate_building_schedule(building_id, heating_data)\n",
    "\n",
    "    def apply_offset(row, schedule):\n",
    "        hour = row[\"timestamp\"].hour\n",
    "        return row[\"setpoint\"] + schedule[hour]\n",
    "    \n",
    "    timeseries[\"setpoint\"] = timeseries.apply(apply_offset, axis=1, schedule=schedule)\n",
    "\n",
    "    return timeseries\n",
    "\n",
    "    "
   ]
  },
  {
   "cell_type": "code",
   "execution_count": 123,
   "metadata": {},
   "outputs": [
    {
     "name": "stdout",
     "output_type": "stream",
     "text": [
      "Processing building 11706 / 11707           \r"
     ]
    }
   ],
   "source": [
    "full_timeseries_dataset = [None for _ in range(len(heating_data))]\n",
    "for i in range(len(heating_data)):\n",
    "    print(f\"Processing building {i}/{len(heating_data)}           \", end=\"\\r\")\n",
    "    full_timeseries_dataset[i] = generate_building_setpoint_timeseries(heating_data.index[i], heating_data)"
   ]
  }
 ],
 "metadata": {
  "kernelspec": {
   "display_name": ".env",
   "language": "python",
   "name": "python3"
  },
  "language_info": {
   "codemirror_mode": {
    "name": "ipython",
    "version": 3
   },
   "file_extension": ".py",
   "mimetype": "text/x-python",
   "name": "python",
   "nbconvert_exporter": "python",
   "pygments_lexer": "ipython3",
   "version": "3.10.11"
  }
 },
 "nbformat": 4,
 "nbformat_minor": 2
}
