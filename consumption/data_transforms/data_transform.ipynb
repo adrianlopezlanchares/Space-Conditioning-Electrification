{
 "cells": [
  {
   "cell_type": "code",
   "execution_count": 1,
   "metadata": {},
   "outputs": [],
   "source": [
    "import pandas as pd"
   ]
  },
  {
   "cell_type": "code",
   "execution_count": 5,
   "metadata": {},
   "outputs": [],
   "source": [
    "building_data = pd.read_parquet(\"//Users/adrian/Documents/ICAI/TFG/Space-Conditioning-Electrification/data/consumption/MA_baseline_metadata_and_annual_results.parquet\")"
   ]
  },
  {
   "cell_type": "markdown",
   "metadata": {},
   "source": [
    "# Heating"
   ]
  },
  {
   "cell_type": "code",
   "execution_count": 11,
   "metadata": {},
   "outputs": [],
   "source": [
    "col_list = [\n",
    "    \"in.heating_setpoint\",\n",
    "    \"in.heating_setpoint_has_offset\",\n",
    "    \"in.heating_setpoint_offset_magnitude\",\n",
    "    \"in.heating_setpoint_offset_period\",\n",
    "]\n",
    "\n",
    "heating_data = building_data[col_list]"
   ]
  },
  {
   "cell_type": "code",
   "execution_count": 20,
   "metadata": {},
   "outputs": [
    {
     "data": {
      "text/plain": [
       "in.heating_setpoint_offset_period\n",
       "None                 6627\n",
       "Night +5h             458\n",
       "Night -5h             442\n",
       "Night                 440\n",
       "Night +2h             435\n",
       "Night +1h             431\n",
       "Night +4h             421\n",
       "Night -4h             409\n",
       "Night +3h             404\n",
       "Night -1h             396\n",
       "Night -3h             392\n",
       "Night -2h             380\n",
       "Day and Night +5h      39\n",
       "Day and Night -2h      30\n",
       "Day and Night -5h      30\n",
       "Day and Night +4h      30\n",
       "Day and Night +2h      29\n",
       "Day and Night -3h      29\n",
       "Day and Night -4h      28\n",
       "Day and Night +1h      27\n",
       "Day and Night -1h      26\n",
       "Day and Night          26\n",
       "Day and Night +3h      22\n",
       "Day +4h                19\n",
       "Day -2h                19\n",
       "Day +3h                19\n",
       "Day -1h                16\n",
       "Day                    15\n",
       "Day +2h                13\n",
       "Day -4h                13\n",
       "Day +1h                12\n",
       "Day -3h                11\n",
       "Day +5h                10\n",
       "Day -5h                 9\n",
       "Name: count, dtype: int64"
      ]
     },
     "execution_count": 20,
     "metadata": {},
     "output_type": "execute_result"
    }
   ],
   "source": [
    "heating_data[\"in.heating_setpoint_offset_period\"].value_counts()"
   ]
  },
  {
   "cell_type": "code",
   "execution_count": null,
   "metadata": {},
   "outputs": [],
   "source": [
    "def generate_building_heating_timeseries(building_id: int, heating_data: pd.DataFrame) -> pd.DataFrame:\n",
    "    \"\"\"Generates a building's heating setpoint timeseries.\n",
    "\n",
    "    Args:\n",
    "        building_id (int): ID of the building\n",
    "        heating_data (pd.DataFrame): Full building dataset\n",
    "\n",
    "    Returns:\n",
    "        pd.DataFrame: Building heating setpoint timeseries\n",
    "    \"\"\"\n",
    "    building_data = heating_data[heating_data.index == building_id]\n",
    "\n",
    "    # Generate empty timeseries for a full year (2018)\n",
    "    timeseries = pd.date_range(start=\"2018-01-01\", end=\"2018-12-31\", freq=\"H\")\n",
    "    timeseries = pd.DataFrame(timeseries, columns=[\"timestamp\"])\n",
    "\n",
    "    timeseries[\"setpoint\"] = int(building_data[\"in.heating_setpoint\"][0:2])\n",
    "\n",
    "    # Change values between \n",
    "\n",
    "    if building_data[\"in.heating_setpoint_has_offset\"].values[0] == \"Yes\":\n"
   ]
  }
 ],
 "metadata": {
  "kernelspec": {
   "display_name": ".env",
   "language": "python",
   "name": "python3"
  },
  "language_info": {
   "codemirror_mode": {
    "name": "ipython",
    "version": 3
   },
   "file_extension": ".py",
   "mimetype": "text/x-python",
   "name": "python",
   "nbconvert_exporter": "python",
   "pygments_lexer": "ipython3",
   "version": "3.10.11"
  }
 },
 "nbformat": 4,
 "nbformat_minor": 2
}
