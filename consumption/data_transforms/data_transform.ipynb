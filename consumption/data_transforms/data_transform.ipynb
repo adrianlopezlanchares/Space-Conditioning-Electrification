{
 "cells": [
  {
   "cell_type": "code",
   "execution_count": 2,
   "metadata": {},
   "outputs": [],
   "source": [
    "import pandas as pd\n",
    "import numpy as np\n",
    "import matplotlib.pyplot as plt"
   ]
  },
  {
   "cell_type": "code",
   "execution_count": 3,
   "metadata": {},
   "outputs": [],
   "source": [
    "building_data = pd.read_parquet(\"//Users/adrian/Documents/ICAI/TFG/Space-Conditioning-Electrification/data/consumption/MA_baseline_metadata_and_annual_results.parquet\")"
   ]
  },
  {
   "cell_type": "markdown",
   "metadata": {},
   "source": [
    "# Heating"
   ]
  },
  {
   "cell_type": "code",
   "execution_count": 4,
   "metadata": {},
   "outputs": [],
   "source": [
    "col_list = [\n",
    "    \"in.heating_setpoint\",\n",
    "    \"in.heating_setpoint_has_offset\",\n",
    "    \"in.heating_setpoint_offset_magnitude\",\n",
    "    \"in.heating_setpoint_offset_period\",\n",
    "]\n",
    "\n",
    "heating_data = building_data[col_list]"
   ]
  },
  {
   "cell_type": "code",
   "execution_count": 6,
   "metadata": {},
   "outputs": [],
   "source": [
    "def generate_building_schedule(mode: str, building_id: int, building_data: pd.DataFrame) -> np.ndarray:\n",
    "    \"\"\"Generates a building's heating setpoint offset schedule\n",
    "\n",
    "    Args:\n",
    "        mode (str): Either heating or cooling\n",
    "        building_id (int): ID of the building\n",
    "        building_data (pd.DataFrame): Heating setpoint dataset\n",
    "\n",
    "    Returns:\n",
    "        np.ndarray: Building's heating schedule during the day (when to apply offset)\n",
    "    \"\"\"\n",
    "    building_data = building_data[building_data.index == building_id]\n",
    "\n",
    "    night_start = 22\n",
    "    night_end = 7\n",
    "\n",
    "    day_start = 9\n",
    "    day_end = 17\n",
    "\n",
    "    schedule = np.zeros(24)\n",
    "\n",
    "    has_offset = \"in.heating_setpoint_has_offset\" if mode == \"heating\" else \"in.cooling_setpoint_has_offset\"\n",
    "    offset_magnitude = \"in.heating_setpoint_offset_magnitude\" if mode == \"heating\" else \"in.cooling_setpoint_offset_magnitude\"\n",
    "    offset_period = \"in.heating_setpoint_offset_period\" if mode == \"heating\" else \"in.cooling_setpoint_offset_period\"\n",
    "\n",
    "    if building_data[has_offset].item() == \"Yes\":\n",
    "        offset_magnitude = int(building_data[offset_magnitude].item().replace(\"F\", \"\"))\n",
    "        offset_period = building_data[offset_period].item()\n",
    "\n",
    "        if offset_period[-1] == \"h\":\n",
    "            offset_period_number = int(offset_period[-3:-1])\n",
    "        else:\n",
    "            offset_period_number = 0\n",
    "\n",
    "        \n",
    "\n",
    "        if \"Night\" in offset_period:\n",
    "            night_start += offset_period_number\n",
    "            night_end += offset_period_number\n",
    "\n",
    "            if night_start > night_end:\n",
    "                schedule[night_start:] = 1\n",
    "                schedule[:night_end] = 1\n",
    "            else:\n",
    "                schedule[night_start:night_end] = 1\n",
    "\n",
    "        if \"Day\" in offset_period:\n",
    "            day_start += offset_period_number\n",
    "            day_end += offset_period_number\n",
    "\n",
    "            if day_start > day_end:\n",
    "                schedule[day_start:] = 1\n",
    "                schedule[:day_end] = 1\n",
    "            else:\n",
    "                schedule[day_start:day_end] = 1\n",
    "\n",
    "        schedule *= offset_magnitude\n",
    "\n",
    "    return schedule\n"
   ]
  },
  {
   "cell_type": "code",
   "execution_count": 7,
   "metadata": {},
   "outputs": [],
   "source": [
    "def generate_building_setpoint_timeseries(mode: str, building_id: int, building_data: pd.DataFrame) -> pd.DataFrame:\n",
    "    \"\"\"Generates a building's heating setpoint timeseries\n",
    "\n",
    "    Args:\n",
    "        mode (str): Either heating or cooling\n",
    "        building_id (int): ID of the building\n",
    "        building_data (pd.DataFrame): Heating setpoint dataset\n",
    "\n",
    "    Returns:\n",
    "        pd.DataFrame: Building's heating setpoint timeseries\n",
    "    \"\"\"\n",
    "    building_data = building_data[building_data.index == building_id]\n",
    "\n",
    "    setpoint = \"in.heating_setpoint\" if mode == \"heating\" else \"in.cooling_setpoint\"\n",
    "\n",
    "    # Generate empty timeseries for a full year (2018)\n",
    "    timeseries = pd.date_range(start=\"2018-01-01\", end=\"2018-12-31\", freq=\"h\")\n",
    "    timeseries = pd.DataFrame(timeseries, columns=[\"timestamp\"])\n",
    "    timeseries[\"setpoint\"] = int(building_data[setpoint].item().replace(\"F\", \"\"))\n",
    "\n",
    "    schedule = generate_building_schedule(mode, building_id, building_data)\n",
    "\n",
    "    def apply_offset(row, schedule):\n",
    "        hour = row[\"timestamp\"].hour\n",
    "        return row[\"setpoint\"] + schedule[hour]\n",
    "    \n",
    "    timeseries[\"setpoint\"] = timeseries.apply(apply_offset, axis=1, schedule=schedule)\n",
    "\n",
    "    return timeseries\n",
    "\n",
    "    "
   ]
  },
  {
   "cell_type": "code",
   "execution_count": 12,
   "metadata": {},
   "outputs": [
    {
     "name": "stdout",
     "output_type": "stream",
     "text": [
      "Processing building 11706/11707           \r"
     ]
    }
   ],
   "source": [
    "full_heating_timeseries_dataset = [None for _ in range(len(heating_data))]\n",
    "for i in range(len(heating_data)):\n",
    "    print(f\"Processing building {i}/{len(heating_data)}           \", end=\"\\r\")\n",
    "    full_heating_timeseries_dataset[i] = generate_building_setpoint_timeseries(\"heating\", heating_data.index[i], heating_data)"
   ]
  },
  {
   "cell_type": "markdown",
   "metadata": {},
   "source": [
    "# Cooling"
   ]
  },
  {
   "cell_type": "code",
   "execution_count": 9,
   "metadata": {},
   "outputs": [],
   "source": [
    "col_list = [\n",
    "    \"in.cooling_setpoint\",\n",
    "    \"in.cooling_setpoint_has_offset\",\n",
    "    \"in.cooling_setpoint_offset_magnitude\",\n",
    "    \"in.cooling_setpoint_offset_period\",\n",
    "]\n",
    "\n",
    "cooling_data = building_data[col_list]"
   ]
  },
  {
   "cell_type": "code",
   "execution_count": 10,
   "metadata": {},
   "outputs": [
    {
     "name": "stdout",
     "output_type": "stream",
     "text": [
      "Processing building 11706/11707           \r"
     ]
    }
   ],
   "source": [
    "full_cooling_timeseries_dataset = [None for _ in range(len(cooling_data))]\n",
    "for i in range(len(cooling_data)):\n",
    "    print(f\"Processing building {i}/{len(cooling_data)}           \", end=\"\\r\")\n",
    "    full_cooling_timeseries_dataset[i] = generate_building_setpoint_timeseries(\"cooling\", cooling_data.index[i], cooling_data)"
   ]
  },
  {
   "cell_type": "markdown",
   "metadata": {},
   "source": [
    "# Combine timeseries"
   ]
  },
  {
   "cell_type": "code",
   "execution_count": 13,
   "metadata": {},
   "outputs": [],
   "source": [
    "full_timeseries = full_heating_timeseries_dataset\n",
    "\n",
    "for i in range(len(full_cooling_timeseries_dataset)):\n",
    "    # Change values between June 1st and October 31st to cooling setpoints\n",
    "    full_timeseries[i].loc[\"2018-06-01\":\"2018-10-31\", \"setpoint\"] = full_cooling_timeseries_dataset[i].loc[\"2018-06-01\":\"2018-10-31\", \"setpoint\"]"
   ]
  },
  {
   "cell_type": "code",
   "execution_count": 20,
   "metadata": {},
   "outputs": [
    {
     "name": "stdout",
     "output_type": "stream",
     "text": [
      "setpoint\n",
      "67.0    8737\n",
      "Name: count, dtype: int64\n"
     ]
    }
   ],
   "source": [
    "timeseries_1 = full_timeseries[0]\n",
    "heating_1 = full_heating_timeseries_dataset[0]\n",
    "cooling_1 = full_cooling_timeseries_dataset[0]\n",
    "\n",
    "print(heating_1[\"setpoint\"].value_counts())"
   ]
  }
 ],
 "metadata": {
  "kernelspec": {
   "display_name": ".env",
   "language": "python",
   "name": "python3"
  },
  "language_info": {
   "codemirror_mode": {
    "name": "ipython",
    "version": 3
   },
   "file_extension": ".py",
   "mimetype": "text/x-python",
   "name": "python",
   "nbconvert_exporter": "python",
   "pygments_lexer": "ipython3",
   "version": "3.10.11"
  }
 },
 "nbformat": 4,
 "nbformat_minor": 2
}
